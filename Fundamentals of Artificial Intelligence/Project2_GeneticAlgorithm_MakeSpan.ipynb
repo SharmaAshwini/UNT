{
  "nbformat": 4,
  "nbformat_minor": 0,
  "metadata": {
    "colab": {
      "provenance": []
    },
    "kernelspec": {
      "name": "python3",
      "display_name": "Python 3"
    },
    "language_info": {
      "name": "python"
    }
  },
  "cells": [
    {
      "cell_type": "markdown",
      "source": [
        "# CSCE 5210 Fundamentals of AI Project - 2 (Genetic Algorithm)\n",
        "\n",
        "## Submitted by:\n",
        "Ashwini Sharma (<ashwinisharma@my.unt.edu>)\n"
      ],
      "metadata": {
        "id": "sWBIkx7LsjXg"
      }
    },
    {
      "cell_type": "code",
      "execution_count": null,
      "metadata": {
        "id": "hAH6J41kFxPO"
      },
      "outputs": [],
      "source": [
        "import random as rd\n",
        "import math\n",
        "import numpy as np\n",
        "from operator import itemgetter"
      ]
    },
    {
      "cell_type": "markdown",
      "source": [
        "### Question: R3"
      ],
      "metadata": {
        "id": "J83rZ0bcg6Oo"
      }
    },
    {
      "cell_type": "code",
      "source": [
        "##Example used in Project Document\n",
        "num_jobs = 5\n",
        "num_random_permut = 10\n",
        "num_machines = 2\n",
        "num_operations = 2"
      ],
      "metadata": {
        "id": "5xWNJz0KF4dq"
      },
      "execution_count": null,
      "outputs": []
    },
    {
      "cell_type": "code",
      "source": [
        "max_allowed_permutations = math.factorial(num_jobs)\n",
        "\n",
        "if max_allowed_permutations < num_random_permut:\n",
        "    print(\"max possible permutations without duplicates are: \" + str(math.factorial(num_jobs)) + \" current value: \" + str(num_random_permut))\n",
        "    print(\"stopping execution, please correct the value of num_random_permut variable\")\n",
        "    exit()\n",
        "\n",
        "\n",
        "init_list = list(range(1, (num_jobs+1)))"
      ],
      "metadata": {
        "id": "pSmjQdocF70g"
      },
      "execution_count": null,
      "outputs": []
    },
    {
      "cell_type": "code",
      "source": [
        "#job timings\n",
        "##in-class example\n",
        "job_oper_time_list = {}\n",
        "job_oper_time_list[1] = [3, 6]\n",
        "job_oper_time_list[2] = [10, 1]\n",
        "job_oper_time_list[3] = [3, 2]\n",
        "job_oper_time_list[4] = [2, 4]\n",
        "job_oper_time_list[5] = [8, 8]"
      ],
      "metadata": {
        "id": "trCM7-GCGAKB"
      },
      "execution_count": null,
      "outputs": []
    },
    {
      "cell_type": "code",
      "source": [
        "#Calculating Makespan\n",
        "def calculate_fitness(input_population):\n",
        "  initial_fitness = {}\n",
        "  makespan_list = []\n",
        "  machine_st_list = []\n",
        "  for cnt in range(num_machines):\n",
        "    machine_st_list.append(0)\n",
        "\n",
        "  for chromo in range(len(input_population)):\n",
        "    makespan_list = []\n",
        "    machine_st_list = [0] * len(machine_st_list)\n",
        "    chrosome_calc = input_population[chromo]\n",
        "    for jobs in range(1, (num_jobs+num_operations)):\n",
        "        i = 0\n",
        "        job_time = []\n",
        "        for operations in range(0, num_operations):\n",
        "            if jobs - i <= 0:\n",
        "                break\n",
        "            elif jobs - i > num_jobs:\n",
        "                i=i+1\n",
        "                continue\n",
        "            else:\n",
        "                picked_job = chrosome_calc[jobs - i - 1]\n",
        "                time_opr = job_oper_time_list[picked_job][i]\n",
        "                inc_last = time_opr + machine_st_list[operations]\n",
        "                job_time.append(inc_last)\n",
        "                i = i + 1\n",
        "                machine_st_list[operations] = time_opr + machine_st_list[operations]\n",
        "\n",
        "        for mch in range(1, num_machines):\n",
        "          machine_st_list[mch] = max(machine_st_list[0:mch+1])\n",
        "\n",
        "        makespan_list.append(job_time)\n",
        "\n",
        "    makespan_value = 0\n",
        "\n",
        "    makespan_value = makespan_list[-1]\n",
        "\n",
        "    initial_fitness[chromo] = makespan_value\n",
        "  return initial_fitness\n"
      ],
      "metadata": {
        "id": "r44vrAA0GLaA"
      },
      "execution_count": null,
      "outputs": []
    },
    {
      "cell_type": "code",
      "source": [
        "def selection_chromosomes(fitness_dict, k):\n",
        "  pick_chromosomes = dict(sorted(fitness_dict.items(), key = itemgetter(1))[:k])\n",
        "\n",
        "  init_crossover_list = list(pick_chromosomes.keys())\n",
        "  return pick_chromosomes, init_crossover_list"
      ],
      "metadata": {
        "id": "bea4bp5lHV3p"
      },
      "execution_count": null,
      "outputs": []
    },
    {
      "cell_type": "code",
      "source": [
        "def crossover_function(crossover_list, init_population, out_flag):\n",
        "  init_crossover_list = crossover_list\n",
        "  initial_population_list = init_population\n",
        "  lp_cnt = 0\n",
        "  children_list = []\n",
        "  for chr in range(len(init_crossover_list)):\n",
        "    for chr2 in range(chr+1, len(init_crossover_list)):\n",
        "        parent_1 = initial_population_list[init_crossover_list[chr]]\n",
        "        parent_2 = initial_population_list[init_crossover_list[chr2]]\n",
        "        length_list = len(parent_1)\n",
        "        upper_limit = math.ceil(length_list/3)\n",
        "        cut_slice = rd.randint(1, upper_limit)\n",
        "        child1 = []\n",
        "        child2 = []\n",
        "\n",
        "        for z in range(1, 3):\n",
        "            if z == 1:\n",
        "                lst1 = parent_1\n",
        "                lst2 = parent_2\n",
        "\n",
        "            else:\n",
        "                lst1 = parent_2\n",
        "                lst2 = parent_1\n",
        "\n",
        "            #dividing each parent in 3 lists\n",
        "            lst11 = lst1[:cut_slice]\n",
        "            lst12 = lst1[cut_slice:(length_list-cut_slice)]\n",
        "            lst13 = lst1[(length_list-cut_slice):]\n",
        "            lst21 = lst2[:cut_slice]\n",
        "            lst22 = lst2[cut_slice:(length_list-cut_slice)]\n",
        "            lst23 = lst2[(length_list-cut_slice):]\n",
        "            length_21_before = len(lst21)\n",
        "            length_22_before = len(lst22)\n",
        "            length_23_before = len(lst23)\n",
        "\n",
        "            #parent 1’s cross-section is removed from parent 2\n",
        "            for item in lst12:\n",
        "              lst21.remove(item) if item in lst21 else None\n",
        "              lst22.remove(item) if item in lst22 else None\n",
        "              lst23.remove(item) if item in lst23 else None\n",
        "\n",
        "            length_21_after = len(lst21)\n",
        "            length_22_after = len(lst22)\n",
        "            length_23_after = len(lst23)\n",
        "\n",
        "            #moving all holes to center\n",
        "            lst21.extend(lst22[:(length_21_before-length_21_after)])\n",
        "            del lst22[:(length_21_before-length_21_after)]\n",
        "\n",
        "            lst23[0:0] = lst22[:(length_23_before-length_23_after)]\n",
        "            del lst22[:(length_23_before-length_23_after)]\n",
        "\n",
        "            #Adding parent 1’s cross-section to holes (center list)\n",
        "            lst22 = lst12\n",
        "\n",
        "            #forming child with all 3 lists\n",
        "            lst_child = [*lst21, *lst22, *lst23]\n",
        "\n",
        "            #assigning children to 1 or 2\n",
        "            if z == 1:\n",
        "                child1 = lst_child\n",
        "            else:\n",
        "                child2 = lst_child\n",
        "        lp_cnt = lp_cnt + 1\n",
        "\n",
        "        if chr2 == 1 and out_flag ==1:\n",
        "          print('\\nDemo for crossover')\n",
        "          print(\"Slice: \" + str(cut_slice))\n",
        "          print(\"Parent 1: \" + str(parent_1))\n",
        "          print(\"Parent 2: \" + str(parent_2))\n",
        "          print(\"Child 1: \" + str(child1))\n",
        "          print(\"Child 2: \" + str(child2))\n",
        "\n",
        "\n",
        "        children_list.append(child1)\n",
        "        children_list.append(child2)\n",
        "\n",
        "  return children_list\n"
      ],
      "metadata": {
        "id": "IEh61ECjIJps"
      },
      "execution_count": null,
      "outputs": []
    },
    {
      "cell_type": "code",
      "source": [
        "#mutation:\n",
        "def mutation_function(children_mutation_list):\n",
        "  mutated_children_list = []\n",
        "  for x in range(len(children_mutation_list)):\n",
        "    child_list = children_mutation_list[x]\n",
        "    pos_1 = rd.randint(0, len(child_list)-1)\n",
        "    pos_2 = rd.randint(0, len(child_list)-1)\n",
        "    child_list[pos_1], child_list[pos_2] = child_list[pos_2], child_list[pos_1]\n",
        "    mutated_children_list.append(child_list)\n",
        "\n",
        "  return mutated_children_list"
      ],
      "metadata": {
        "id": "GVUBHpUgCVmY"
      },
      "execution_count": null,
      "outputs": []
    },
    {
      "cell_type": "code",
      "source": [
        "num_jobs = 5\n",
        "num_random_permut = 10\n",
        "num_machines = 2\n",
        "num_operations = 2\n",
        "generations = 100\n",
        "\n",
        "initial_population = []\n",
        "for p in range(num_random_permut):\n",
        "    initial_population.append(list(np.random.permutation(init_list)))\n",
        "\n",
        "print(\"initial population: \" + str(initial_population))\n",
        "print('\\nlength of initial population: ' + str(len(initial_population)))\n",
        "print('\\njob operation times: ' + str(job_oper_time_list))\n",
        "\n",
        "#calculating fitness of initial population:\n",
        "init_fit = calculate_fitness(initial_population)\n",
        "print('\\ninitial fitness calculations: ' + str(init_fit))\n",
        "\n",
        "#selection of 10 chromosomes:\n",
        "k=10\n",
        "\n",
        "cross_list_values, crossover_lst = selection_chromosomes(init_fit, k)\n",
        "print('\\ninitial crossover list with makespan: ' + str(cross_list_values))\n",
        "print('\\ninitial crossover list M(=10) Chromosomes (index number in population list): ' + str(crossover_lst))\n",
        "\n",
        "#Crossover & Mutation:\n",
        "children_population_cross = crossover_function(crossover_lst, initial_population, 1)\n",
        "\n",
        "print('\\nchildren population before mutation: ' + str(children_population_cross))\n",
        "\n",
        "children_population = mutation_function(children_population_cross)\n",
        "\n",
        "print('\\ninitial children population (after mutation): ' + str(children_population))\n",
        "\n",
        "initial_population.extend(children_population)\n"
      ],
      "metadata": {
        "colab": {
          "base_uri": "https://localhost:8080/"
        },
        "id": "fGquOfTKKmhi",
        "outputId": "c8e6fbee-282a-4945-c506-cdea27180733"
      },
      "execution_count": null,
      "outputs": [
        {
          "output_type": "stream",
          "name": "stdout",
          "text": [
            "initial population: [[2, 3, 4, 1, 5], [3, 4, 2, 5, 1], [5, 3, 4, 1, 2], [3, 4, 2, 5, 1], [2, 1, 4, 3, 5], [5, 2, 1, 4, 3], [5, 2, 1, 3, 4], [4, 3, 5, 1, 2], [1, 3, 2, 4, 5], [1, 5, 4, 2, 3]]\n",
            "\n",
            "length of initial population: 10\n",
            "\n",
            "job operation times: {1: [3, 6], 2: [10, 1], 3: [3, 2], 4: [2, 4], 5: [8, 8]}\n",
            "\n",
            "initial fitness calculations: {0: [34], 1: [37], 2: [29], 3: [37], 4: [34], 5: [33], 6: [33], 7: [28], 8: [34], 9: [28]}\n",
            "\n",
            "initial crossover list with makespan: {7: [28], 9: [28], 2: [29], 5: [33], 6: [33], 0: [34], 4: [34], 8: [34], 1: [37], 3: [37]}\n",
            "\n",
            "initial crossover list M(=10) Chromosomes (index number in population list): [7, 9, 2, 5, 6, 0, 4, 8, 1, 3]\n",
            "\n",
            "Demo for crossover\n",
            "Slice: 2\n",
            "Parent 1: [4, 3, 5, 1, 2]\n",
            "Parent 2: [1, 5, 4, 2, 3]\n",
            "Child 1: [1, 4, 5, 2, 3]\n",
            "Child 2: [3, 5, 4, 1, 2]\n",
            "\n",
            "children population before mutation: [[1, 4, 5, 2, 3], [3, 5, 4, 1, 2], [4, 3, 5, 1, 2], [5, 3, 4, 1, 2], [2, 3, 5, 1, 4], [3, 2, 1, 4, 5], [2, 1, 5, 3, 4], [4, 3, 1, 5, 2], [2, 3, 5, 4, 1], [3, 5, 4, 1, 2], [2, 1, 5, 4, 3], [3, 5, 4, 1, 2], [2, 3, 5, 1, 4], [5, 3, 2, 4, 1], [4, 3, 5, 1, 2], [3, 4, 2, 5, 1], [3, 4, 5, 2, 1], [4, 3, 2, 5, 1], [3, 5, 4, 2, 1], [5, 3, 4, 1, 2], [1, 5, 4, 2, 3], [5, 2, 1, 4, 3], [1, 5, 4, 2, 3], [5, 2, 1, 3, 4], [3, 5, 4, 2, 1], [5, 3, 4, 1, 2], [2, 1, 4, 3, 5], [1, 5, 4, 2, 3], [1, 3, 4, 2, 5], [1, 5, 2, 4, 3], [3, 2, 4, 5, 1], [1, 5, 2, 4, 3], [3, 5, 4, 2, 1], [1, 4, 2, 5, 3], [5, 2, 4, 1, 3], [5, 3, 1, 4, 2], [5, 2, 4, 1, 3], [5, 3, 1, 4, 2], [2, 3, 4, 1, 5], [5, 3, 4, 1, 2], [2, 1, 4, 3, 5], [5, 3, 4, 1, 2], [1, 3, 4, 2, 5], [5, 3, 2, 4, 1], [3, 2, 4, 5, 1], [5, 3, 2, 4, 1], [3, 2, 4, 5, 1], [5, 3, 2, 4, 1], [5, 2, 1, 3, 4], [5, 2, 1, 4, 3], [2, 3, 1, 4, 5], [5, 2, 4, 1, 3], [2, 4, 1, 3, 5], [5, 2, 4, 1, 3], [3, 2, 1, 4, 5], [5, 3, 2, 4, 1], [3, 2, 1, 4, 5], [1, 4, 2, 5, 3], [3, 4, 1, 2, 5], [5, 1, 2, 4, 3], [4, 2, 1, 3, 5], [5, 3, 4, 1, 2], [2, 4, 1, 3, 5], [5, 2, 4, 1, 3], [4, 2, 1, 3, 5], [5, 3, 2, 4, 1], [3, 4, 1, 2, 5], [5, 1, 2, 3, 4], [4, 2, 1, 3, 5], [1, 4, 2, 5, 3], [2, 1, 4, 3, 5], [2, 3, 4, 1, 5], [1, 3, 4, 2, 5], [3, 4, 2, 1, 5], [3, 2, 4, 5, 1], [3, 4, 2, 1, 5], [3, 2, 4, 5, 1], [3, 4, 2, 1, 5], [1, 3, 4, 2, 5], [1, 4, 2, 3, 5], [2, 1, 4, 3, 5], [1, 4, 2, 5, 3], [2, 1, 4, 3, 5], [1, 4, 2, 5, 3], [5, 3, 2, 4, 1], [1, 4, 2, 5, 3], [3, 4, 2, 5, 1], [1, 3, 2, 4, 5], [3, 4, 2, 5, 1], [3, 4, 2, 5, 1]]\n",
            "\n",
            "initial children population (after mutation): [[2, 4, 5, 1, 3], [3, 5, 4, 1, 2], [4, 2, 5, 1, 3], [5, 3, 4, 2, 1], [2, 1, 5, 3, 4], [3, 5, 1, 4, 2], [5, 1, 2, 3, 4], [4, 3, 1, 2, 5], [2, 3, 5, 4, 1], [3, 2, 4, 1, 5], [2, 3, 5, 4, 1], [3, 5, 4, 2, 1], [3, 2, 5, 1, 4], [5, 3, 2, 1, 4], [2, 3, 5, 1, 4], [3, 4, 2, 5, 1], [4, 3, 5, 2, 1], [4, 5, 2, 3, 1], [3, 1, 4, 2, 5], [5, 1, 4, 3, 2], [1, 4, 5, 2, 3], [5, 2, 4, 1, 3], [1, 5, 4, 3, 2], [5, 2, 3, 1, 4], [3, 2, 4, 5, 1], [5, 4, 3, 1, 2], [2, 1, 3, 4, 5], [5, 1, 4, 2, 3], [5, 3, 4, 2, 1], [1, 5, 2, 4, 3], [3, 5, 4, 2, 1], [1, 5, 3, 4, 2], [3, 5, 4, 2, 1], [1, 5, 2, 4, 3], [5, 1, 4, 2, 3], [5, 1, 3, 4, 2], [5, 2, 4, 1, 3], [2, 3, 1, 4, 5], [2, 3, 5, 1, 4], [5, 3, 4, 1, 2], [2, 1, 4, 3, 5], [5, 3, 4, 2, 1], [1, 3, 4, 5, 2], [1, 3, 2, 4, 5], [2, 3, 4, 5, 1], [5, 3, 2, 1, 4], [3, 2, 4, 1, 5], [5, 3, 2, 4, 1], [5, 1, 2, 3, 4], [5, 1, 2, 4, 3], [4, 3, 1, 2, 5], [5, 2, 4, 1, 3], [5, 4, 1, 3, 2], [5, 2, 4, 1, 3], [3, 2, 1, 5, 4], [5, 1, 2, 4, 3], [3, 2, 1, 4, 5], [1, 4, 2, 5, 3], [3, 2, 1, 4, 5], [3, 1, 2, 4, 5], [3, 2, 1, 4, 5], [5, 3, 4, 1, 2], [1, 4, 2, 3, 5], [5, 2, 3, 1, 4], [4, 3, 1, 2, 5], [5, 3, 1, 4, 2], [3, 5, 1, 2, 4], [5, 3, 2, 1, 4], [4, 2, 1, 3, 5], [1, 4, 3, 5, 2], [2, 1, 4, 3, 5], [3, 2, 4, 1, 5], [1, 3, 4, 2, 5], [1, 4, 2, 3, 5], [3, 2, 5, 4, 1], [3, 4, 2, 1, 5], [2, 3, 4, 5, 1], [4, 3, 2, 1, 5], [4, 3, 1, 2, 5], [1, 3, 2, 4, 5], [2, 1, 3, 4, 5], [1, 4, 5, 2, 3], [2, 1, 4, 3, 5], [1, 5, 2, 4, 3], [4, 3, 2, 5, 1], [1, 3, 2, 5, 4], [3, 4, 1, 5, 2], [1, 5, 2, 4, 3], [3, 4, 1, 5, 2], [1, 4, 2, 5, 3]]\n"
          ]
        }
      ]
    },
    {
      "cell_type": "code",
      "source": [
        "for loop_generation in range(generations-1):\n",
        "  ##print('\\nGeneration: ' + str(loop_generation + 2))\n",
        "  ##print(\"length of new population:\" + str(len(initial_population)))\n",
        "  #calculating fitness of new population:\n",
        "  new_fit = calculate_fitness(initial_population)\n",
        "\n",
        "  #selection of 10 chromosomes:\n",
        "  k=10\n",
        "  new_cross_values, new_crossover_lst = selection_chromosomes(new_fit, k)\n",
        "\n",
        "  #Crossover & Mutation:\n",
        "  new_children_population_cross = crossover_function(new_crossover_lst, initial_population, 0)\n",
        "\n",
        "  new_children_population = mutation_function(new_children_population_cross)\n",
        "\n",
        "  initial_population.extend(new_children_population)\n",
        "\n",
        "\n",
        "#Final Run:\n",
        "\n",
        "final_fit = calculate_fitness(initial_population)\n",
        "#selection of 10 chromosomes:\n",
        "k=10\n",
        "final_cross_values, final_crossover_lst = selection_chromosomes(final_fit, k)\n",
        "\n",
        "##print(\"Final run\")\n",
        "##print('\\nFinal choromosome fitness values: ' + str(final_cross_values))\n"
      ],
      "metadata": {
        "id": "_zyXyWdgNWQC"
      },
      "execution_count": null,
      "outputs": []
    },
    {
      "cell_type": "code",
      "source": [
        "max_job_key = max(final_fit, key = final_fit.get)\n",
        "min_job_key = min(final_fit, key = final_fit.get)\n",
        "\n",
        "print(\"min job key: \" + str(min_job_key) + \" value: \" + str(final_fit[min_job_key]))\n",
        "print(\"max job key: \" + str(max_job_key) + \" value: \" + str(final_fit[max_job_key]))\n",
        "print(\"Comparison between highest and worst fitness values: \")\n",
        "print(\"Highest fitness values is: \" + str(final_fit[min_job_key]) + \" whereas the worst performance is: \" + str(final_fit[max_job_key]))\n",
        "print(\"Which is a significant gain of: \" + str(round((final_fit[max_job_key][0] - final_fit[min_job_key][0])/final_fit[max_job_key][0],2)*100) + \"% (over worst fitness)\")\n",
        "\n",
        "r3_min = final_fit[min_job_key][0]\n",
        "r3_max = final_fit[max_job_key][0]"
      ],
      "metadata": {
        "colab": {
          "base_uri": "https://localhost:8080/"
        },
        "id": "B_seapBATTn4",
        "outputId": "f108acba-b45f-4143-e6f1-990a55b1e610"
      },
      "execution_count": null,
      "outputs": [
        {
          "output_type": "stream",
          "name": "stdout",
          "text": [
            "min job key: 32 value: [27]\n",
            "max job key: 18 value: [39]\n",
            "Comparison between highest and worst fitness values: \n",
            "Highest fitness values is: [27] whereas the worst performance is: [39]\n",
            "Which is a significant gain of: 31.0% (over worst fitness)\n"
          ]
        }
      ]
    },
    {
      "cell_type": "code",
      "source": [
        "import pandas as pd\n",
        "import matplotlib.pyplot as plt\n",
        "import numpy as np\n",
        "from matplotlib.patches import Patch\n",
        "\n",
        "machine_st_list = []\n",
        "for cnt in range(num_machines):\n",
        "  machine_st_list.append(0)\n",
        "\n",
        "tracker_list = []\n",
        "chrosome_calc = initial_population[min_job_key]\n",
        "for jobs in range(1, (num_jobs+num_operations)):\n",
        "  i = 0\n",
        "  for operations in range(0, num_operations):\n",
        "    if jobs - i <= 0:\n",
        "      break\n",
        "    elif jobs - i > num_jobs:\n",
        "      i=i+1\n",
        "      continue\n",
        "    else:\n",
        "      picked_job = chrosome_calc[jobs - i - 1]\n",
        "      time_opr = job_oper_time_list[picked_job][i]\n",
        "      i = i + 1\n",
        "      operation_num = \"opr_\" + str(operations+1)\n",
        "      task_val = str(picked_job)+\"_\"+(str(operations+1))\n",
        "      tracker_list.append([task_val, time_opr, machine_st_list[operations], operation_num])\n",
        "      machine_st_list[operations] = time_opr + machine_st_list[operations]\n",
        "\n",
        "  for mch in range(1, num_machines):\n",
        "    machine_st_list[mch] = max(machine_st_list[0:mch+1])\n",
        "\n",
        "end_time = max(machine_st_list)\n",
        "df = pd.DataFrame(tracker_list, columns = ['task','days_start_to_end','start_num', 'operation_num'])"
      ],
      "metadata": {
        "id": "d3R3v0I9NiGn"
      },
      "execution_count": null,
      "outputs": []
    },
    {
      "cell_type": "code",
      "source": [
        "machine_st_list = []\n",
        "for cnt in range(num_machines):\n",
        "  machine_st_list.append(0)\n",
        "\n",
        "tracker_list = []\n",
        "chrosome_calc = initial_population[max_job_key]\n",
        "for jobs in range(1, (num_jobs+num_operations)):\n",
        "  i = 0\n",
        "  for operations in range(0, num_operations):\n",
        "    if jobs - i <= 0:\n",
        "      break\n",
        "    elif jobs - i > num_jobs:\n",
        "      i=i+1\n",
        "      continue\n",
        "    else:\n",
        "      picked_job = chrosome_calc[jobs - i - 1]\n",
        "      time_opr = job_oper_time_list[picked_job][i]\n",
        "      i = i + 1\n",
        "      operation_num = \"opr_\" + str(operations+1)\n",
        "      task_val = str(picked_job)+\"_\"+(str(operations+1))\n",
        "      tracker_list.append([task_val, time_opr, machine_st_list[operations], operation_num])\n",
        "      machine_st_list[operations] = time_opr + machine_st_list[operations]\n",
        "\n",
        "  for mch in range(1, num_machines):\n",
        "    machine_st_list[mch] = max(machine_st_list[0:mch+1])\n",
        "\n",
        "end_time = max(machine_st_list)\n",
        "df_max = pd.DataFrame(tracker_list, columns = ['task','days_start_to_end','start_num', 'operation_num'])"
      ],
      "metadata": {
        "id": "mQ7bq5ixfTTe"
      },
      "execution_count": null,
      "outputs": []
    },
    {
      "cell_type": "code",
      "source": [
        "#reversing the order for plotting\n",
        "df = df.rename_axis('MyIdx').sort_values(by = ['MyIdx'], ascending = [False])\n",
        "df_max = df_max.rename_axis('MyIdx').sort_values(by = ['MyIdx'], ascending = [False])"
      ],
      "metadata": {
        "id": "onswTaV9WhXZ"
      },
      "execution_count": null,
      "outputs": []
    },
    {
      "cell_type": "code",
      "source": [
        "import pandas as pd\n",
        "import matplotlib.pyplot as plt\n",
        "import numpy as np\n",
        "from matplotlib.patches import Patch\n",
        "\n",
        "# create a column with the color for each department\n",
        "def color(row):\n",
        "    c_dict = {'opr_1':'#DF80FF', 'opr_2':'#FF80B2', 'opr_3':'#80FF97', 'opr_4':'#FAC200', 'opr_5':'#808EFF'}\n",
        "    return c_dict[row['operation_num']]\n",
        "df['color'] = df.apply(color, axis=1)\n",
        "\n",
        "df_max['color'] = df_max.apply(color, axis=1)\n",
        "\n",
        "fig, (ax1, ax2) = plt.subplots(1, 2, figsize=(25,10))\n",
        "\n",
        "ax1.barh(df.task, df.days_start_to_end, left=df.start_num, color=df.color)\n",
        "\n",
        "ax2.barh(df_max.task, df_max.days_start_to_end, left=df_max.start_num, color=df_max.color)\n",
        "\n",
        "##### LEGENDS #####\n",
        "c_dict = {'opr_1':'#DF80FF', 'opr_2':'#FF80B2', 'opr_3':'#80FF97', 'opr_4':'#FAC200', 'opr_5':'#808EFF'}\n",
        "legend_elements = [Patch(facecolor=c_dict[i], label=i)  for i in c_dict]\n",
        "plt.legend(handles=legend_elements)\n",
        "\n",
        "##### TICKS #####\n",
        "xticks_minor = np.arange(0, df.start_num.max()+1, 1)\n",
        "xticks_minor_mx = np.arange(0, df_max.start_num.max()+1, 1)\n",
        "ax1.set_xticks(xticks_minor, minor=True)\n",
        "ax2.set_xticks(xticks_minor_mx, minor=True)\n",
        "\n",
        "# grid lines\n",
        "ax1.set_axisbelow(True)\n",
        "ax1.xaxis.grid(color='w', linestyle='dashed', alpha=0.4, which='both')\n",
        "\n",
        "ax2.set_axisbelow(True)\n",
        "ax2.xaxis.grid(color='w', linestyle='dashed', alpha=0.4, which='both')\n",
        "\n",
        "ax1.set_title(\"Min Time = \" + str(df.start_num[df.index[0]] + df.days_start_to_end[df.index[0]]))\n",
        "ax2.set_title(\"Max Time = \" + str(df_max.start_num[df.index[0]] + df_max.days_start_to_end[df.index[0]]))\n",
        "plt.show()"
      ],
      "metadata": {
        "colab": {
          "base_uri": "https://localhost:8080/",
          "height": 559
        },
        "id": "YSpk1VCCeYdt",
        "outputId": "bae7dd11-3657-4000-a159-d3298bb1b7d2"
      },
      "execution_count": null,
      "outputs": [
        {
          "output_type": "display_data",
          "data": {
            "text/plain": [
              "<Figure size 1800x720 with 2 Axes>"
            ],
            "image/png": "[encoded data removed]"
          },
          "metadata": {
            "needs_background": "light"
          }
        }
      ]
    },
    {
      "cell_type": "markdown",
      "source": [
        "### Question: R4"
      ],
      "metadata": {
        "id": "7cBd3f-ueo2E"
      }
    },
    {
      "cell_type": "code",
      "source": [
        "##variable declaration\n",
        "num_jobs = 10\n",
        "num_random_permut = 300\n",
        "num_machines = 5\n",
        "num_operations = 3\n",
        "generations = 100\n",
        "\n",
        "max_allowed_permutations = math.factorial(num_jobs)\n",
        "\n",
        "if max_allowed_permutations < num_random_permut:\n",
        "    print(\"max possible permutations without duplicates are: \" + str(math.factorial(num_jobs)) + \" current value: \" + str(num_random_permut))\n",
        "    print(\"stopping execution, please correct the value of num_random_permut variable\")\n",
        "    exit()\n",
        "\n",
        "\n",
        "init_list = list(range(1, (num_jobs+1)))\n",
        "\n",
        "#job timings\n",
        "operation_time_min = 5\n",
        "operation_time_max = 50\n",
        "\n",
        "job_oper_time_list = {}\n",
        "\n",
        "for j in range(1, (num_jobs+1)):\n",
        "    job_time = []\n",
        "    for oper in range(1, (num_operations+1)):\n",
        "        job_time.append(rd.randint(operation_time_min, operation_time_max+1))\n",
        "\n",
        "    job_oper_time_list[j] = job_time\n",
        "\n",
        "\n",
        "initial_population = []\n",
        "for p in range(num_random_permut):\n",
        "    initial_population.append(list(np.random.permutation(init_list)))\n",
        "\n",
        "print(\"initial population: \" + str(initial_population))\n",
        "print('\\nlength of initial population: ' + str(len(initial_population)))\n",
        "print('\\njob operation times: ' + str(job_oper_time_list))\n",
        "\n",
        "#calculating fitness of initial population:\n",
        "init_fit = calculate_fitness(initial_population)\n",
        "print('\\ninitial fitness calculations: ' + str(init_fit))\n",
        "\n",
        "#selection of 10 chromosomes:\n",
        "k=10\n",
        "\n",
        "cross_list_values, crossover_lst = selection_chromosomes(init_fit, k)\n",
        "print('\\ninitial crossover list with makespan: ' + str(cross_list_values))\n",
        "print('\\ninitial crossover list M(=10) Chromosomes (index number in population list): ' + str(crossover_lst))\n",
        "\n",
        "#Crossover & Mutation:\n",
        "children_population_cross = crossover_function(crossover_lst, initial_population, 1)\n",
        "\n",
        "print('\\nchildren population before mutation: ' + str(children_population_cross))\n",
        "\n",
        "children_population = mutation_function(children_population_cross)\n",
        "\n",
        "print('\\ninitial children population (after mutation): ' + str(children_population))\n",
        "\n",
        "initial_population.extend(children_population)\n",
        "\n",
        "for loop_generation in range(generations-1):\n",
        "  ##print('\\nGeneration: ' + str(loop_generation + 2))\n",
        "  #calculating fitness of new population:\n",
        "  new_fit = calculate_fitness(initial_population)\n",
        "\n",
        "  #selection of 10 chromosomes:\n",
        "  k=10\n",
        "  new_cross_values, new_crossover_lst = selection_chromosomes(new_fit, k)\n",
        "\n",
        "  #Crossover & Mutation:\n",
        "  new_children_population_cross = crossover_function(new_crossover_lst, initial_population, 0)\n",
        "\n",
        "  new_children_population = mutation_function(new_children_population_cross)\n",
        "\n",
        "  initial_population.extend(new_children_population)\n",
        "\n",
        "\n",
        "#Final Run:\n",
        "\n",
        "final_fit = calculate_fitness(initial_population)\n",
        "#selection of 10 chromosomes:\n",
        "k=10\n",
        "final_cross_values, final_crossover_lst = selection_chromosomes(final_fit, k)\n",
        "\n",
        "#print(\"Final run\")\n",
        "print('\\nFinal choromosome fitness values: ' + str(final_cross_values))\n",
        "\n",
        "max_job_key = max(final_fit, key = final_fit.get)\n",
        "min_job_key = min(final_fit, key = final_fit.get)\n",
        "\n",
        "print(\"min job key: \" + str(min_job_key) + \" value: \" + str(final_fit[min_job_key]))\n",
        "print(\"max job key: \" + str(max_job_key) + \" value: \" + str(final_fit[max_job_key]))\n",
        "print(\"Comparison between highest and worst fitness values: \")\n",
        "print(\"Highest fitness values is: \" + str(final_fit[min_job_key]) + \" whereas the worst performance is: \" + str(final_fit[max_job_key]))\n",
        "print(\"Which is a significant gain of: \" + str(round((final_fit[max_job_key][0] - final_fit[min_job_key][0])/final_fit[max_job_key][0],2)*100) + \"% (over worst fitness)\")\n",
        "r4_min = final_fit[min_job_key][0]\n",
        "r4_max = final_fit[max_job_key][0]\n",
        "\n",
        "\n",
        "import pandas as pd\n",
        "import matplotlib.pyplot as plt\n",
        "import numpy as np\n",
        "from matplotlib.patches import Patch\n",
        "\n",
        "machine_st_list = []\n",
        "for cnt in range(num_machines):\n",
        "  machine_st_list.append(0)\n",
        "\n",
        "tracker_list = []\n",
        "chrosome_calc = initial_population[min_job_key]\n",
        "for jobs in range(1, (num_jobs+num_operations)):\n",
        "  i = 0\n",
        "  for operations in range(0, num_operations):\n",
        "    if jobs - i <= 0:\n",
        "      break\n",
        "    elif jobs - i > num_jobs:\n",
        "      i=i+1\n",
        "      continue\n",
        "    else:\n",
        "      picked_job = chrosome_calc[jobs - i - 1]\n",
        "      time_opr = job_oper_time_list[picked_job][i]\n",
        "      i = i + 1\n",
        "      operation_num = \"opr_\" + str(operations+1)\n",
        "      task_val = str(picked_job)+\"_\"+(str(operations+1))\n",
        "      tracker_list.append([task_val, time_opr, machine_st_list[operations], operation_num])\n",
        "      machine_st_list[operations] = time_opr + machine_st_list[operations]\n",
        "\n",
        "  for mch in range(1, num_machines):\n",
        "    machine_st_list[mch] = max(machine_st_list[0:mch+1])\n",
        "\n",
        "end_time = max(machine_st_list)\n",
        "df = pd.DataFrame(tracker_list, columns = ['task','days_start_to_end','start_num', 'operation_num'])\n",
        "\n",
        "\n",
        "machine_st_list = []\n",
        "for cnt in range(num_machines):\n",
        "  machine_st_list.append(0)\n",
        "\n",
        "tracker_list = []\n",
        "chrosome_calc = initial_population[max_job_key]\n",
        "for jobs in range(1, (num_jobs+num_operations)):\n",
        "  i = 0\n",
        "  for operations in range(0, num_operations):\n",
        "    if jobs - i <= 0:\n",
        "      break\n",
        "    elif jobs - i > num_jobs:\n",
        "      i=i+1\n",
        "      continue\n",
        "    else:\n",
        "      picked_job = chrosome_calc[jobs - i - 1]\n",
        "      time_opr = job_oper_time_list[picked_job][i]\n",
        "      i = i + 1\n",
        "      operation_num = \"opr_\" + str(operations+1)\n",
        "      task_val = str(picked_job)+\"_\"+(str(operations+1))\n",
        "      tracker_list.append([task_val, time_opr, machine_st_list[operations], operation_num])\n",
        "      machine_st_list[operations] = time_opr + machine_st_list[operations]\n",
        "\n",
        "  for mch in range(1, num_machines):\n",
        "    machine_st_list[mch] = max(machine_st_list[0:mch+1])\n",
        "\n",
        "end_time = max(machine_st_list)\n",
        "df_max = pd.DataFrame(tracker_list, columns = ['task','days_start_to_end','start_num', 'operation_num'])\n",
        "\n",
        "#reversing the order for plotting\n",
        "df = df.rename_axis('MyIdx').sort_values(by = ['MyIdx'], ascending = [False])\n",
        "df_max = df_max.rename_axis('MyIdx').sort_values(by = ['MyIdx'], ascending = [False])"
      ],
      "metadata": {
        "colab": {
          "base_uri": "https://localhost:8080/"
        },
        "id": "MmGxq04Aery4",
        "outputId": "119e8b18-f0c8-4934-d0fa-48518efd7c1d"
      },
      "execution_count": null,
      "outputs": [
        {
          "output_type": "stream",
          "name": "stdout",
          "text": [
            "initial population: [[6, 4, 10, 7, 1, 5, 9, 8, 3, 2], [8, 9, 5, 10, 7, 3, 1, 2, 4, 6], [2, 4, 1, 9, 5, 7, 6, 8, 3, 10], [1, 8, 6, 9, 10, 7, 5, 4, 2, 3], [10, 6, 2, 9, 5, 1, 3, 8, 4, 7], [2, 5, 1, 10, 9, 8, 3, 6, 7, 4], [9, 10, 4, 7, 3, 5, 1, 6, 8, 2], [5, 6, 10, 7, 8, 2, 3, 9, 4, 1], [2, 10, 3, 7, 1, 9, 8, 5, 6, 4], [8, 1, 3, 9, 5, 6, 4, 2, 10, 7], [9, 1, 7, 5, 10, 3, 6, 8, 4, 2], [2, 5, 9, 1, 6, 4, 7, 3, 10, 8], [7, 4, 3, 8, 5, 1, 2, 6, 9, 10], [1, 10, 5, 4, 8, 7, 3, 6, 9, 2], [1, 2, 10, 7, 3, 4, 9, 8, 5, 6], [3, 1, 4, 7, 2, 9, 6, 5, 10, 8], [5, 10, 3, 1, 2, 7, 8, 4, 6, 9], [2, 6, 8, 7, 4, 10, 5, 9, 3, 1], [3, 10, 5, 4, 6, 2, 7, 9, 1, 8], [1, 5, 2, 4, 8, 10, 3, 9, 6, 7], [5, 2, 7, 3, 4, 8, 6, 1, 10, 9], [3, 4, 7, 2, 8, 10, 1, 6, 9, 5], [6, 9, 1, 2, 3, 10, 8, 4, 5, 7], [7, 2, 3, 4, 10, 6, 1, 9, 8, 5], [3, 1, 4, 2, 8, 9, 6, 7, 10, 5], [10, 3, 8, 9, 2, 7, 4, 1, 5, 6], [5, 9, 1, 10, 4, 3, 2, 6, 7, 8], [5, 3, 8, 4, 1, 10, 9, 2, 6, 7], [5, 1, 9, 4, 8, 6, 7, 2, 10, 3], [1, 7, 8, 3, 9, 6, 5, 2, 10, 4], [9, 6, 3, 8, 5, 4, 7, 2, 10, 1], [2, 7, 4, 3, 10, 6, 9, 8, 1, 5], [9, 1, 4, 7, 5, 3, 2, 10, 6, 8], [3, 10, 9, 2, 6, 4, 5, 7, 8, 1], [4, 8, 10, 5, 1, 2, 6, 7, 9, 3], [9, 4, 1, 6, 8, 5, 2, 7, 10, 3], [5, 8, 2, 7, 1, 10, 9, 6, 3, 4], [6, 5, 8, 7, 3, 4, 9, 1, 10, 2], [5, 8, 10, 4, 7, 6, 3, 9, 1, 2], [4, 3, 10, 6, 7, 1, 8, 2, 9, 5], [1, 2, 10, 3, 9, 4, 8, 5, 6, 7], [5, 3, 9, 6, 2, 10, 7, 8, 1, 4], [2, 3, 8, 5, 10, 9, 7, 6, 1, 4], [3, 2, 9, 7, 4, 1, 8, 6, 10, 5], [5, 7, 8, 10, 4, 6, 9, 2, 1, 3], [9, 5, 2, 6, 10, 8, 7, 4, 3, 1], [5, 3, 2, 4, 8, 9, 7, 6, 10, 1], [9, 6, 7, 1, 2, 8, 4, 3, 5, 10], [9, 2, 7, 6, 1, 5, 4, 10, 8, 3], [8, 9, 10, 6, 4, 1, 2, 7, 3, 5], [7, 10, 1, 2, 8, 4, 9, 5, 3, 6], [1, 10, 5, 8, 3, 2, 7, 9, 6, 4], [7, 8, 6, 2, 10, 9, 4, 5, 3, 1], [2, 8, 10, 9, 5, 7, 4, 3, 1, 6], [9, 7, 1, 4, 2, 8, 3, 6, 10, 5], [10, 6, 8, 1, 2, 4, 7, 5, 9, 3], [7, 1, 4, 2, 3, 6, 8, 5, 10, 9], [7, 9, 2, 8, 5, 1, 3, 10, 4, 6], [10, 5, 7, 8, 6, 3, 2, 9, 1, 4], [7, 4, 10, 3, 1, 2, 9, 6, 8, 5], [9, 1, 6, 4, 8, 5, 10, 3, 2, 7], [5, 7, 9, 3, 4, 1, 2, 8, 10, 6], [1, 3, 5, 2, 9, 8, 6, 10, 7, 4], [5, 7, 4, 9, 2, 1, 10, 8, 3, 6], [1, 2, 6, 7, 8, 4, 3, 10, 9, 5], [10, 3, 7, 6, 8, 2, 9, 1, 5, 4], [4, 10, 1, 7, 8, 9, 5, 6, 2, 3], [3, 6, 2, 7, 5, 4, 1, 8, 9, 10], [9, 1, 3, 8, 2, 10, 4, 6, 5, 7], [2, 4, 3, 5, 6, 8, 10, 9, 1, 7], [9, 10, 7, 4, 2, 1, 5, 3, 6, 8], [6, 8, 10, 9, 1, 5, 4, 3, 7, 2], [3, 6, 2, 1, 8, 7, 5, 10, 9, 4], [4, 1, 5, 7, 8, 9, 2, 10, 6, 3], [7, 2, 8, 10, 6, 9, 3, 1, 5, 4], [1, 2, 6, 9, 3, 4, 10, 5, 7, 8], [5, 10, 1, 4, 7, 2, 9, 6, 8, 3], [2, 10, 3, 9, 5, 8, 4, 7, 6, 1], [6, 3, 1, 4, 8, 9, 5, 10, 2, 7], [7, 10, 2, 8, 3, 4, 1, 6, 9, 5], [4, 6, 5, 1, 3, 9, 7, 2, 8, 10], [3, 8, 7, 5, 1, 9, 6, 2, 4, 10], [2, 6, 8, 3, 4, 5, 7, 10, 9, 1], [2, 8, 10, 4, 1, 3, 7, 9, 6, 5], [9, 7, 2, 10, 6, 3, 5, 1, 4, 8], [9, 5, 3, 2, 8, 1, 10, 4, 6, 7], [8, 5, 3, 4, 1, 9, 10, 2, 6, 7], [5, 6, 7, 3, 10, 9, 4, 8, 2, 1], [3, 4, 9, 6, 1, 5, 2, 7, 10, 8], [1, 9, 3, 5, 10, 2, 8, 7, 4, 6], [4, 3, 10, 7, 1, 2, 9, 5, 6, 8], [8, 7, 6, 1, 4, 5, 10, 9, 2, 3], [5, 8, 1, 10, 9, 4, 6, 2, 7, 3], [1, 8, 2, 10, 4, 3, 7, 5, 6, 9], [7, 2, 4, 9, 1, 5, 6, 10, 8, 3], [9, 10, 6, 5, 8, 1, 3, 7, 4, 2], [5, 8, 9, 2, 3, 1, 4, 7, 10, 6], [10, 5, 3, 4, 1, 9, 2, 7, 6, 8], [9, 6, 5, 2, 4, 10, 3, 1, 8, 7], [2, 8, 9, 7, 1, 5, 10, 3, 4, 6], [8, 6, 9, 1, 5, 2, 10, 4, 3, 7], [3, 1, 2, 8, 5, 7, 4, 9, 10, 6], [6, 5, 2, 7, 1, 10, 9, 4, 8, 3], [9, 1, 6, 7, 2, 3, 4, 5, 8, 10], [7, 2, 9, 5, 4, 3, 8, 6, 10, 1], [5, 2, 7, 8, 10, 1, 6, 3, 9, 4], [3, 4, 8, 5, 9, 6, 1, 10, 2, 7], [9, 3, 1, 4, 5, 6, 10, 7, 8, 2], [4, 6, 3, 5, 7, 2, 1, 9, 8, 10], [3, 9, 7, 1, 6, 8, 4, 5, 2, 10], [8, 4, 1, 2, 7, 6, 9, 10, 5, 3], [5, 7, 4, 9, 8, 6, 2, 1, 3, 10], [6, 4, 9, 10, 8, 3, 1, 2, 5, 7], [6, 9, 4, 2, 8, 3, 5, 1, 7, 10], [10, 9, 6, 5, 3, 8, 2, 7, 1, 4], [2, 6, 4, 9, 8, 5, 1, 10, 7, 3], [3, 1, 9, 6, 7, 10, 5, 4, 2, 8], [5, 4, 9, 8, 1, 10, 6, 7, 3, 2], [5, 6, 7, 4, 8, 2, 3, 9, 10, 1], [9, 2, 5, 10, 6, 3, 1, 4, 7, 8], [7, 6, 4, 5, 8, 1, 2, 10, 9, 3], [4, 2, 6, 7, 1, 9, 3, 8, 10, 5], [2, 6, 3, 8, 1, 7, 9, 4, 5, 10], [4, 2, 10, 5, 1, 6, 7, 8, 3, 9], [5, 2, 10, 4, 1, 3, 7, 9, 8, 6], [6, 5, 9, 8, 7, 10, 2, 4, 3, 1], [2, 6, 3, 7, 5, 4, 10, 9, 8, 1], [7, 1, 4, 5, 8, 9, 10, 3, 2, 6], [10, 8, 2, 7, 4, 6, 1, 9, 3, 5], [8, 9, 5, 2, 1, 6, 4, 7, 10, 3], [9, 4, 10, 3, 6, 1, 5, 2, 7, 8], [6, 4, 7, 2, 1, 8, 3, 5, 9, 10], [9, 1, 2, 4, 3, 10, 5, 6, 8, 7], [7, 5, 1, 10, 3, 4, 2, 9, 8, 6], [3, 2, 1, 7, 5, 6, 9, 4, 8, 10], [4, 9, 8, 2, 5, 7, 1, 10, 3, 6], [10, 1, 4, 3, 8, 9, 6, 7, 5, 2], [7, 4, 6, 10, 2, 1, 3, 5, 8, 9], [9, 3, 8, 5, 10, 2, 1, 7, 4, 6], [3, 2, 1, 8, 7, 6, 4, 10, 5, 9], [7, 10, 1, 5, 2, 3, 8, 6, 4, 9], [7, 9, 8, 3, 2, 4, 5, 1, 6, 10], [4, 1, 5, 7, 6, 3, 10, 9, 8, 2], [5, 7, 9, 4, 10, 2, 6, 3, 8, 1], [6, 4, 9, 5, 3, 1, 2, 8, 10, 7], [7, 3, 6, 2, 5, 9, 8, 4, 1, 10], [6, 3, 8, 1, 5, 2, 4, 7, 9, 10], [10, 3, 4, 1, 2, 7, 9, 8, 5, 6], [8, 4, 5, 10, 3, 2, 1, 6, 9, 7], [3, 4, 8, 10, 2, 6, 1, 7, 9, 5], [8, 5, 2, 7, 3, 1, 6, 4, 9, 10], [10, 8, 3, 9, 4, 5, 1, 6, 2, 7], [1, 9, 6, 8, 7, 10, 2, 5, 4, 3], [10, 5, 7, 2, 1, 8, 9, 3, 4, 6], [9, 4, 1, 3, 10, 5, 8, 6, 7, 2], [8, 3, 9, 10, 5, 6, 4, 7, 2, 1], [3, 2, 8, 10, 5, 1, 4, 9, 6, 7], [7, 6, 8, 2, 1, 3, 5, 4, 9, 10], [1, 6, 5, 4, 3, 2, 7, 8, 10, 9], [1, 10, 5, 8, 2, 9, 7, 3, 4, 6], [5, 10, 8, 6, 1, 4, 7, 9, 2, 3], [9, 3, 4, 10, 6, 5, 2, 8, 7, 1], [2, 8, 5, 7, 3, 1, 6, 10, 4, 9], [2, 3, 10, 7, 6, 4, 1, 5, 9, 8], [6, 3, 4, 8, 10, 2, 9, 5, 7, 1], [3, 9, 8, 10, 5, 1, 2, 7, 6, 4], [5, 4, 3, 10, 9, 8, 1, 6, 7, 2], [7, 9, 2, 5, 4, 10, 6, 1, 8, 3], [2, 1, 8, 9, 4, 7, 6, 10, 5, 3], [7, 3, 6, 8, 4, 2, 5, 9, 10, 1], [6, 7, 1, 2, 9, 8, 4, 3, 5, 10], [10, 3, 8, 6, 4, 5, 2, 9, 1, 7], [2, 1, 7, 10, 8, 3, 4, 9, 5, 6], [9, 7, 1, 8, 5, 4, 6, 2, 3, 10], [10, 4, 6, 8, 9, 3, 2, 7, 1, 5], [8, 7, 3, 1, 2, 6, 10, 5, 4, 9], [4, 7, 9, 1, 2, 3, 10, 6, 5, 8], [5, 1, 7, 4, 6, 2, 9, 10, 3, 8], [3, 4, 10, 6, 8, 2, 7, 9, 1, 5], [10, 7, 6, 2, 8, 3, 1, 5, 4, 9], [3, 9, 7, 10, 1, 8, 6, 4, 2, 5], [8, 1, 3, 4, 2, 10, 6, 5, 9, 7], [1, 4, 5, 10, 3, 6, 2, 9, 7, 8], [3, 6, 1, 2, 8, 10, 5, 7, 4, 9], [6, 8, 9, 2, 3, 7, 5, 1, 10, 4], [5, 4, 8, 9, 1, 2, 6, 3, 10, 7], [9, 1, 5, 8, 7, 3, 10, 4, 6, 2], [1, 3, 9, 8, 10, 7, 5, 2, 6, 4], [2, 7, 10, 1, 5, 4, 8, 9, 3, 6], [5, 4, 1, 6, 7, 10, 3, 9, 8, 2], [1, 3, 10, 7, 9, 4, 8, 2, 6, 5], [9, 7, 3, 5, 2, 8, 10, 6, 1, 4], [8, 4, 5, 10, 9, 1, 3, 2, 6, 7], [8, 3, 9, 10, 4, 6, 1, 5, 7, 2], [6, 2, 8, 9, 10, 5, 7, 4, 3, 1], [3, 10, 2, 9, 1, 8, 6, 7, 5, 4], [3, 8, 2, 6, 10, 1, 4, 7, 9, 5], [2, 4, 7, 9, 5, 8, 10, 1, 3, 6], [7, 3, 2, 4, 10, 9, 6, 5, 1, 8], [2, 5, 1, 6, 3, 4, 8, 9, 10, 7], [7, 6, 2, 10, 8, 5, 9, 1, 4, 3], [9, 2, 10, 6, 8, 5, 4, 3, 7, 1], [1, 9, 3, 7, 4, 8, 2, 5, 6, 10], [2, 10, 4, 5, 7, 1, 9, 6, 3, 8], [8, 1, 9, 5, 10, 7, 4, 6, 2, 3], [2, 1, 8, 3, 10, 6, 9, 7, 5, 4], [9, 4, 8, 10, 2, 5, 1, 6, 3, 7], [6, 3, 2, 5, 7, 9, 8, 10, 1, 4], [2, 8, 6, 1, 4, 3, 7, 5, 9, 10], [4, 9, 10, 6, 1, 2, 7, 8, 3, 5], [6, 3, 5, 9, 1, 8, 10, 4, 2, 7], [9, 8, 4, 7, 1, 5, 6, 2, 10, 3], [4, 5, 7, 8, 10, 6, 9, 2, 3, 1], [5, 9, 6, 7, 8, 4, 10, 1, 2, 3], [5, 10, 4, 8, 2, 7, 1, 3, 9, 6], [5, 1, 8, 9, 10, 7, 4, 2, 3, 6], [1, 6, 2, 5, 8, 3, 4, 9, 10, 7], [9, 1, 6, 5, 4, 10, 3, 7, 8, 2], [10, 8, 5, 3, 4, 1, 7, 9, 6, 2], [10, 7, 1, 6, 9, 2, 5, 4, 8, 3], [7, 3, 8, 5, 1, 2, 4, 6, 9, 10], [7, 8, 3, 6, 10, 2, 1, 9, 4, 5], [7, 1, 9, 8, 10, 5, 6, 4, 3, 2], [5, 9, 2, 4, 7, 10, 3, 6, 8, 1], [8, 7, 1, 10, 5, 9, 3, 4, 6, 2], [4, 7, 3, 10, 9, 1, 8, 5, 2, 6], [9, 3, 7, 4, 8, 10, 5, 2, 1, 6], [3, 4, 9, 10, 6, 7, 2, 8, 5, 1], [7, 3, 1, 9, 10, 2, 8, 5, 4, 6], [3, 10, 7, 2, 8, 4, 6, 5, 1, 9], [10, 9, 5, 8, 6, 2, 3, 7, 1, 4], [6, 2, 3, 1, 7, 8, 5, 4, 10, 9], [9, 5, 6, 2, 4, 1, 7, 3, 8, 10], [8, 6, 4, 10, 9, 1, 2, 7, 3, 5], [7, 2, 6, 8, 9, 3, 4, 10, 1, 5], [2, 7, 4, 3, 9, 1, 8, 6, 10, 5], [4, 1, 2, 6, 8, 3, 10, 5, 7, 9], [9, 4, 3, 1, 7, 8, 5, 6, 2, 10], [4, 10, 7, 3, 6, 8, 5, 9, 2, 1], [2, 1, 6, 3, 7, 10, 9, 4, 8, 5], [8, 3, 7, 10, 6, 4, 9, 5, 1, 2], [10, 9, 7, 6, 3, 4, 1, 8, 2, 5], [10, 6, 9, 3, 4, 1, 7, 2, 8, 5], [5, 9, 6, 4, 3, 8, 2, 7, 1, 10], [8, 5, 10, 6, 1, 3, 4, 2, 7, 9], [10, 4, 5, 7, 2, 9, 8, 3, 6, 1], [1, 7, 6, 4, 2, 3, 5, 8, 9, 10], [10, 5, 4, 8, 1, 9, 6, 7, 3, 2], [10, 9, 6, 2, 4, 3, 5, 8, 1, 7], [5, 7, 6, 8, 4, 2, 10, 1, 9, 3], [4, 5, 7, 9, 10, 6, 1, 2, 8, 3], [4, 7, 9, 5, 1, 10, 3, 2, 6, 8], [7, 1, 2, 6, 5, 10, 3, 8, 4, 9], [6, 5, 3, 1, 10, 9, 7, 4, 8, 2], [8, 10, 7, 4, 2, 1, 5, 6, 3, 9], [1, 3, 5, 7, 10, 2, 8, 4, 9, 6], [3, 2, 10, 5, 4, 6, 7, 8, 9, 1], [6, 3, 4, 5, 8, 2, 7, 9, 10, 1], [9, 6, 3, 1, 2, 8, 4, 7, 5, 10], [7, 3, 8, 2, 6, 4, 10, 1, 9, 5], [2, 5, 8, 6, 7, 1, 10, 9, 3, 4], [6, 10, 4, 3, 9, 8, 7, 1, 2, 5], [10, 5, 8, 3, 6, 7, 1, 9, 4, 2], [5, 2, 1, 10, 7, 3, 6, 4, 8, 9], [3, 5, 9, 7, 6, 2, 10, 8, 4, 1], [2, 5, 6, 8, 7, 10, 9, 3, 1, 4], [1, 6, 2, 10, 7, 5, 8, 9, 3, 4], [5, 4, 6, 10, 8, 3, 2, 9, 1, 7], [3, 8, 2, 4, 10, 7, 6, 1, 5, 9], [8, 1, 10, 6, 4, 7, 3, 5, 9, 2], [10, 8, 5, 3, 9, 4, 2, 1, 6, 7], [5, 1, 6, 8, 2, 7, 3, 4, 9, 10], [4, 1, 5, 2, 8, 3, 10, 9, 7, 6], [10, 8, 3, 1, 5, 9, 4, 7, 6, 2], [2, 6, 1, 5, 10, 8, 9, 4, 7, 3], [5, 9, 4, 8, 10, 2, 7, 6, 3, 1], [9, 4, 8, 5, 3, 6, 2, 7, 1, 10], [5, 7, 4, 1, 3, 2, 8, 10, 6, 9], [8, 4, 3, 6, 7, 5, 9, 2, 1, 10], [4, 10, 6, 7, 9, 8, 5, 2, 3, 1], [4, 6, 10, 1, 9, 3, 2, 7, 8, 5], [8, 7, 3, 4, 10, 1, 5, 9, 2, 6], [5, 10, 1, 8, 4, 2, 9, 6, 3, 7], [5, 4, 9, 3, 8, 7, 1, 6, 2, 10], [8, 4, 6, 3, 9, 2, 1, 10, 5, 7], [1, 7, 5, 2, 3, 8, 9, 4, 10, 6], [3, 9, 5, 4, 1, 8, 2, 6, 10, 7], [9, 8, 5, 6, 1, 7, 4, 10, 3, 2], [9, 2, 1, 4, 8, 5, 7, 3, 10, 6], [9, 6, 4, 2, 8, 5, 1, 10, 7, 3], [5, 9, 8, 7, 10, 4, 1, 6, 2, 3], [3, 4, 8, 7, 10, 5, 2, 9, 1, 6], [10, 1, 7, 3, 4, 2, 9, 5, 6, 8], [8, 10, 2, 6, 5, 7, 9, 3, 4, 1], [10, 9, 5, 8, 6, 2, 4, 3, 1, 7], [1, 5, 7, 6, 8, 4, 10, 2, 9, 3], [8, 1, 7, 10, 5, 2, 3, 9, 4, 6], [1, 8, 9, 6, 7, 5, 2, 4, 10, 3], [1, 3, 5, 2, 6, 4, 10, 7, 9, 8], [8, 2, 9, 4, 3, 1, 5, 6, 10, 7]]\n",
            "\n",
            "length of initial population: 300\n",
            "\n",
            "job operation times: {1: [32, 36, 39], 2: [37, 31, 45], 3: [29, 5, 47], 4: [30, 42, 9], 5: [47, 48, 5], 6: [11, 33, 47], 7: [49, 45, 46], 8: [28, 40, 17], 9: [19, 25, 42], 10: [20, 12, 12]}\n",
            "\n",
            "initial fitness calculations: {0: [415], 1: [441], 2: [433], 3: [436], 4: [396], 5: [427], 6: [427], 7: [438], 8: [418], 9: [412], 10: [403], 11: [435], 12: [452], 13: [501], 14: [432], 15: [399], 16: [463], 17: [441], 18: [455], 19: [451], 20: [447], 21: [406], 22: [397], 23: [403], 24: [387], 25: [433], 26: [424], 27: [453], 28: [468], 29: [396], 30: [411], 31: [395], 32: [411], 33: [419], 34: [475], 35: [429], 36: [453], 37: [431], 38: [500], 39: [383], 40: [423], 41: [404], 42: [415], 43: [395], 44: [488], 45: [416], 46: [440], 47: [354], 48: [425], 49: [398], 50: [427], 51: [440], 52: [416], 53: [433], 54: [395], 55: [421], 56: [418], 57: [428], 58: [463], 59: [403], 60: [412], 61: [445], 62: [405], 63: [457], 64: [378], 65: [407], 66: [461], 67: [418], 68: [409], 69: [428], 70: [406], 71: [403], 72: [369], 73: [461], 74: [403], 75: [382], 76: [474], 77: [459], 78: [397], 79: [404], 80: [437], 81: [431], 82: [420], 83: [424], 84: [395], 85: [419], 86: [443], 87: [432], 88: [394], 89: [428], 90: [414], 91: [452], 92: [468], 93: [442], 94: [432], 95: [407], 96: [447], 97: [440], 98: [393], 99: [413], 100: [400], 101: [435], 102: [408], 103: [371], 104: [418], 105: [450], 106: [445], 107: [412], 108: [412], 109: [429], 110: [429], 111: [471], 112: [393], 113: [388], 114: [379], 115: [442], 116: [395], 117: [474], 118: [471], 119: [401], 120: [478], 121: [403], 122: [377], 123: [456], 124: [454], 125: [414], 126: [415], 127: [478], 128: [434], 129: [434], 130: [382], 131: [390], 132: [426], 133: [438], 134: [411], 135: [452], 136: [406], 137: [423], 138: [428], 139: [422], 140: [434], 141: [421], 142: [459], 143: [446], 144: [393], 145: [415], 146: [413], 147: [435], 148: [457], 149: [408], 150: [448], 151: [434], 152: [400], 153: [453], 154: [436], 155: [441], 156: [447], 157: [408], 158: [409], 159: [454], 160: [483], 161: [414], 162: [448], 163: [423], 164: [400], 165: [413], 166: [441], 167: [437], 168: [414], 169: [411], 170: [369], 171: [443], 172: [420], 173: [463], 174: [414], 175: [414], 176: [424], 177: [461], 178: [394], 179: [416], 180: [389], 181: [401], 182: [426], 183: [407], 184: [367], 185: [480], 186: [437], 187: [404], 188: [476], 189: [468], 190: [410], 191: [403], 192: [461], 193: [421], 194: [397], 195: [395], 196: [389], 197: [455], 198: [403], 199: [427], 200: [420], 201: [403], 202: [427], 203: [466], 204: [454], 205: [378], 206: [444], 207: [383], 208: [396], 209: [397], 210: [412], 211: [442], 212: [476], 213: [459], 214: [486], 215: [465], 216: [395], 217: [398], 218: [460], 219: [433], 220: [444], 221: [403], 222: [436], 223: [446], 224: [439], 225: [426], 226: [446], 227: [410], 228: [431], 229: [454], 230: [440], 231: [412], 232: [423], 233: [404], 234: [403], 235: [395], 236: [416], 237: [429], 238: [432], 239: [378], 240: [431], 241: [388], 242: [362], 243: [424], 244: [443], 245: [474], 246: [404], 247: [499], 248: [408], 249: [472], 250: [466], 251: [440], 252: [408], 253: [410], 254: [468], 255: [441], 256: [447], 257: [420], 258: [358], 259: [403], 260: [447], 261: [366], 262: [447], 263: [438], 264: [427], 265: [445], 266: [407], 267: [465], 268: [422], 269: [421], 270: [423], 271: [436], 272: [444], 273: [454], 274: [442], 275: [469], 276: [420], 277: [468], 278: [405], 279: [437], 280: [405], 281: [442], 282: [483], 283: [457], 284: [426], 285: [426], 286: [442], 287: [420], 288: [451], 289: [424], 290: [473], 291: [455], 292: [408], 293: [425], 294: [440], 295: [465], 296: [445], 297: [403], 298: [424], 299: [408]}\n",
            "\n",
            "initial crossover list with makespan: {47: [354], 258: [358], 242: [362], 261: [366], 184: [367], 72: [369], 170: [369], 103: [371], 122: [377], 64: [378]}\n",
            "\n",
            "initial crossover list M(=10) Chromosomes (index number in population list): [47, 258, 242, 261, 184, 72, 170, 103, 122, 64]\n",
            "\n",
            "Demo for crossover\n",
            "Slice: 1\n",
            "Parent 1: [9, 6, 7, 1, 2, 8, 4, 3, 5, 10]\n",
            "Parent 2: [9, 6, 3, 1, 2, 8, 4, 7, 5, 10]\n",
            "Child 1: [9, 6, 7, 1, 2, 8, 4, 3, 5, 10]\n",
            "Child 2: [9, 6, 3, 1, 2, 8, 4, 7, 5, 10]\n",
            "\n",
            "children population before mutation: [[9, 6, 7, 1, 2, 8, 4, 3, 5, 10], [9, 6, 3, 1, 2, 8, 4, 7, 5, 10], [10, 6, 9, 3, 2, 8, 4, 1, 7, 5], [9, 6, 7, 2, 4, 1, 8, 3, 5, 10], [6, 10, 4, 3, 2, 8, 9, 7, 1, 5], [6, 7, 1, 2, 9, 8, 4, 3, 5, 10], [6, 9, 3, 1, 2, 8, 4, 7, 5, 10], [9, 6, 1, 2, 3, 7, 5, 8, 4, 10], [6, 5, 7, 1, 2, 8, 4, 3, 10, 9], [9, 6, 2, 1, 8, 7, 5, 10, 4, 3], [6, 7, 9, 1, 2, 8, 4, 3, 5, 10], [6, 7, 1, 2, 9, 8, 4, 3, 5, 10], [9, 6, 7, 1, 2, 8, 4, 3, 5, 10], [9, 1, 6, 7, 2, 3, 4, 5, 8, 10], [6, 3, 1, 7, 2, 8, 9, 4, 5, 10], [9, 6, 2, 8, 1, 7, 4, 3, 5, 10], [10, 6, 7, 1, 2, 8, 4, 3, 5, 9], [1, 2, 6, 7, 8, 4, 3, 10, 9, 5], [10, 6, 9, 3, 2, 8, 4, 1, 7, 5], [9, 6, 3, 2, 4, 1, 8, 7, 5, 10], [6, 10, 3, 1, 2, 8, 4, 7, 9, 5], [6, 2, 4, 3, 9, 8, 7, 1, 5, 10], [6, 9, 3, 1, 2, 8, 4, 7, 5, 10], [6, 8, 9, 2, 3, 7, 5, 1, 4, 10], [3, 6, 7, 1, 2, 8, 4, 5, 10, 9], [9, 6, 3, 1, 8, 7, 5, 2, 4, 10], [6, 7, 9, 1, 2, 8, 4, 3, 5, 10], [6, 3, 1, 2, 9, 8, 4, 7, 5, 10], [9, 1, 6, 7, 2, 8, 3, 4, 5, 10], [9, 6, 1, 8, 2, 3, 4, 7, 5, 10], [6, 9, 3, 1, 2, 8, 4, 7, 5, 10], [6, 2, 3, 8, 1, 7, 9, 4, 5, 10], [6, 10, 3, 1, 2, 8, 4, 7, 9, 5], [9, 1, 6, 7, 8, 4, 3, 10, 2, 5], [6, 10, 9, 3, 4, 1, 7, 8, 2, 5], [10, 6, 4, 3, 9, 8, 7, 1, 2, 5], [6, 8, 9, 3, 4, 1, 7, 2, 5, 10], [10, 6, 9, 2, 3, 7, 5, 4, 1, 8], [6, 8, 9, 3, 4, 1, 7, 2, 5, 10], [6, 9, 2, 1, 8, 7, 5, 10, 3, 4], [6, 7, 2, 9, 4, 1, 8, 3, 5, 10], [10, 6, 3, 4, 9, 8, 1, 7, 2, 5], [5, 6, 9, 3, 4, 1, 7, 2, 8, 10], [10, 1, 6, 7, 2, 3, 4, 5, 8, 9], [5, 6, 9, 3, 4, 1, 7, 2, 8, 10], [10, 6, 3, 8, 1, 7, 9, 4, 5, 2], [2, 6, 7, 8, 4, 1, 3, 10, 9, 5], [10, 6, 9, 3, 8, 4, 1, 7, 2, 5], [6, 10, 4, 3, 9, 8, 7, 1, 2, 5], [6, 8, 9, 2, 3, 7, 5, 1, 10, 4], [6, 10, 4, 3, 9, 8, 7, 1, 2, 5], [4, 6, 2, 1, 8, 7, 5, 10, 9, 3], [6, 10, 4, 3, 9, 8, 7, 1, 2, 5], [6, 7, 1, 2, 9, 8, 4, 3, 5, 10], [1, 6, 7, 2, 9, 8, 3, 4, 5, 10], [6, 10, 4, 9, 2, 3, 8, 7, 1, 5], [2, 6, 3, 1, 9, 8, 7, 4, 5, 10], [6, 10, 4, 3, 1, 7, 9, 8, 2, 5], [2, 6, 4, 3, 9, 8, 7, 1, 10, 5], [9, 1, 6, 7, 8, 4, 3, 10, 2, 5], [6, 8, 9, 2, 3, 7, 5, 1, 10, 4], [6, 9, 2, 1, 8, 7, 5, 10, 3, 4], [6, 8, 9, 2, 3, 7, 5, 1, 10, 4], [6, 7, 1, 2, 9, 8, 4, 3, 5, 10], [6, 4, 9, 2, 3, 7, 5, 1, 8, 10], [8, 9, 6, 7, 2, 3, 4, 5, 1, 10], [6, 8, 9, 2, 3, 7, 5, 1, 10, 4], [2, 6, 3, 8, 1, 7, 9, 4, 5, 10], [6, 8, 9, 2, 3, 7, 5, 1, 10, 4], [5, 2, 6, 7, 8, 4, 3, 10, 9, 1], [4, 6, 2, 1, 8, 7, 5, 10, 9, 3], [6, 7, 1, 2, 9, 8, 4, 3, 5, 10], [9, 6, 2, 1, 8, 7, 5, 10, 3, 4], [1, 8, 6, 7, 2, 3, 4, 5, 10, 9], [2, 6, 3, 1, 8, 7, 9, 4, 5, 10], [3, 6, 2, 8, 1, 7, 5, 10, 9, 4], [4, 6, 2, 1, 8, 7, 5, 10, 9, 3], [1, 2, 6, 7, 8, 4, 3, 10, 9, 5], [1, 6, 7, 2, 9, 8, 3, 4, 5, 10], [6, 7, 1, 9, 2, 3, 8, 4, 5, 10], [2, 6, 3, 1, 9, 8, 7, 4, 5, 10], [6, 2, 9, 8, 1, 7, 4, 3, 5, 10], [1, 2, 6, 7, 9, 8, 4, 3, 10, 5], [6, 7, 1, 2, 8, 4, 9, 3, 5, 10], [6, 8, 1, 7, 2, 3, 9, 4, 5, 10], [9, 6, 2, 3, 1, 7, 4, 5, 8, 10], [1, 8, 6, 7, 2, 3, 4, 5, 10, 9], [9, 1, 6, 7, 8, 4, 3, 10, 2, 5], [2, 6, 4, 8, 1, 7, 9, 3, 10, 5], [2, 6, 1, 7, 8, 4, 3, 9, 5, 10]]\n",
            "\n",
            "initial children population (after mutation): [[9, 6, 7, 1, 2, 5, 4, 3, 8, 10], [9, 6, 4, 1, 2, 8, 3, 7, 5, 10], [10, 6, 9, 4, 2, 8, 3, 1, 7, 5], [5, 6, 7, 2, 4, 1, 8, 3, 9, 10], [9, 10, 4, 3, 2, 8, 6, 7, 1, 5], [8, 7, 1, 2, 9, 6, 4, 3, 5, 10], [6, 9, 3, 1, 2, 8, 7, 4, 5, 10], [2, 6, 1, 9, 3, 7, 5, 8, 4, 10], [6, 7, 5, 1, 2, 8, 4, 3, 10, 9], [9, 6, 2, 1, 3, 7, 5, 10, 4, 8], [6, 7, 9, 1, 3, 8, 4, 2, 5, 10], [1, 7, 6, 2, 9, 8, 4, 3, 5, 10], [9, 6, 7, 1, 10, 8, 4, 3, 5, 2], [9, 1, 6, 7, 2, 3, 5, 4, 8, 10], [6, 3, 1, 9, 2, 8, 7, 4, 5, 10], [9, 6, 2, 3, 1, 7, 4, 8, 5, 10], [10, 6, 7, 1, 2, 4, 8, 3, 5, 9], [1, 2, 10, 7, 8, 4, 3, 6, 9, 5], [10, 6, 9, 2, 3, 8, 4, 1, 7, 5], [5, 6, 3, 2, 4, 1, 8, 7, 9, 10], [6, 10, 3, 1, 5, 8, 4, 7, 9, 2], [4, 2, 6, 3, 9, 8, 7, 1, 5, 10], [6, 9, 3, 2, 1, 8, 4, 7, 5, 10], [6, 1, 9, 2, 3, 7, 5, 8, 4, 10], [3, 2, 7, 1, 6, 8, 4, 5, 10, 9], [4, 6, 3, 1, 8, 7, 5, 2, 9, 10], [6, 2, 9, 1, 7, 8, 4, 3, 5, 10], [6, 3, 1, 4, 9, 8, 2, 7, 5, 10], [9, 1, 6, 7, 2, 4, 3, 8, 5, 10], [9, 6, 1, 8, 2, 5, 4, 7, 3, 10], [6, 9, 3, 1, 2, 8, 4, 7, 5, 10], [6, 2, 3, 8, 1, 7, 9, 4, 5, 10], [6, 10, 3, 7, 2, 8, 4, 1, 9, 5], [9, 6, 1, 7, 8, 4, 3, 10, 2, 5], [6, 10, 9, 3, 8, 1, 7, 4, 2, 5], [9, 6, 4, 3, 10, 8, 7, 1, 2, 5], [6, 8, 9, 3, 4, 1, 7, 2, 5, 10], [10, 2, 9, 6, 3, 7, 5, 4, 1, 8], [6, 8, 9, 10, 4, 1, 7, 2, 5, 3], [6, 9, 2, 4, 8, 7, 5, 10, 3, 1], [6, 7, 2, 9, 8, 1, 4, 3, 5, 10], [10, 6, 3, 7, 9, 8, 1, 4, 2, 5], [5, 6, 3, 9, 4, 1, 7, 2, 8, 10], [10, 5, 6, 7, 2, 3, 4, 1, 8, 9], [7, 6, 9, 3, 4, 1, 5, 2, 8, 10], [10, 6, 3, 8, 1, 7, 9, 4, 2, 5], [2, 6, 5, 8, 4, 1, 3, 10, 9, 7], [10, 6, 9, 4, 8, 3, 1, 7, 2, 5], [6, 10, 4, 3, 9, 8, 5, 1, 2, 7], [6, 8, 3, 2, 9, 7, 5, 1, 10, 4], [6, 10, 8, 3, 9, 4, 7, 1, 2, 5], [4, 6, 2, 1, 8, 7, 9, 10, 5, 3], [6, 9, 4, 3, 10, 8, 7, 1, 2, 5], [3, 7, 1, 2, 9, 8, 4, 6, 5, 10], [4, 6, 7, 2, 9, 8, 3, 1, 5, 10], [6, 10, 4, 7, 2, 3, 8, 9, 1, 5], [2, 6, 3, 1, 9, 5, 7, 4, 8, 10], [6, 10, 1, 3, 4, 7, 9, 8, 2, 5], [2, 6, 4, 3, 7, 8, 9, 1, 10, 5], [9, 1, 6, 7, 8, 4, 2, 10, 3, 5], [6, 5, 9, 2, 3, 7, 8, 1, 10, 4], [6, 9, 2, 4, 8, 7, 5, 10, 3, 1], [6, 8, 7, 2, 3, 9, 5, 1, 10, 4], [6, 7, 4, 2, 9, 8, 1, 3, 5, 10], [6, 4, 9, 2, 3, 7, 5, 8, 1, 10], [8, 9, 10, 7, 2, 3, 4, 5, 1, 6], [6, 8, 1, 2, 3, 7, 5, 9, 10, 4], [10, 6, 3, 8, 1, 7, 9, 4, 5, 2], [6, 8, 5, 2, 3, 7, 9, 1, 10, 4], [5, 2, 6, 7, 8, 4, 3, 10, 9, 1], [4, 6, 1, 2, 8, 7, 5, 10, 9, 3], [6, 7, 1, 2, 9, 3, 4, 8, 5, 10], [9, 6, 2, 1, 8, 7, 5, 10, 3, 4], [1, 8, 6, 3, 2, 7, 4, 5, 10, 9], [2, 6, 4, 1, 8, 7, 9, 3, 5, 10], [3, 6, 7, 8, 1, 2, 5, 10, 9, 4], [4, 6, 2, 1, 8, 7, 9, 10, 5, 3], [3, 2, 6, 7, 8, 4, 1, 10, 9, 5], [1, 5, 7, 2, 9, 8, 3, 4, 6, 10], [6, 4, 1, 9, 2, 3, 8, 7, 5, 10], [2, 6, 3, 5, 9, 8, 7, 4, 1, 10], [6, 2, 9, 8, 1, 7, 4, 3, 5, 10], [5, 2, 6, 7, 9, 8, 4, 3, 10, 1], [6, 9, 1, 2, 8, 4, 7, 3, 5, 10], [6, 8, 7, 1, 2, 3, 9, 4, 5, 10], [9, 6, 2, 3, 7, 1, 4, 5, 8, 10], [1, 2, 6, 7, 8, 3, 4, 5, 10, 9], [9, 1, 6, 7, 8, 3, 4, 10, 2, 5], [2, 6, 4, 8, 1, 7, 5, 3, 10, 9], [3, 6, 1, 7, 8, 4, 2, 9, 5, 10]]\n",
            "\n",
            "Final choromosome fitness values: {501: [353], 536: [353], 592: [353], 681: [353], 706: [353], 766: [353], 768: [353], 776: [353], 790: [353], 840: [353]}\n",
            "min job key: 501 value: [353]\n",
            "max job key: 13 value: [501]\n",
            "Comparison between highest and worst fitness values: \n",
            "Highest fitness values is: [353] whereas the worst performance is: [501]\n",
            "Which is a significant gain of: 30.0% (over worst fitness)\n"
          ]
        }
      ]
    },
    {
      "cell_type": "code",
      "source": [
        "import pandas as pd\n",
        "import matplotlib.pyplot as plt\n",
        "import numpy as np\n",
        "from matplotlib.patches import Patch\n",
        "\n",
        "# create a column with the color for each department\n",
        "def color(row):\n",
        "    c_dict = {'opr_1':'#DF80FF', 'opr_2':'#FF80B2', 'opr_3':'#80FF97', 'opr_4':'#FAC200', 'opr_5':'#808EFF'}\n",
        "    return c_dict[row['operation_num']]\n",
        "df['color'] = df.apply(color, axis=1)\n",
        "\n",
        "df_max['color'] = df_max.apply(color, axis=1)\n",
        "\n",
        "fig, (ax1, ax2) = plt.subplots(1, 2, figsize=(25,10))\n",
        "\n",
        "ax1.barh(df.task, df.days_start_to_end, left=df.start_num, color=df.color)\n",
        "\n",
        "ax2.barh(df_max.task, df_max.days_start_to_end, left=df_max.start_num, color=df_max.color)\n",
        "\n",
        "##### LEGENDS #####\n",
        "c_dict = {'opr_1':'#DF80FF', 'opr_2':'#FF80B2', 'opr_3':'#80FF97', 'opr_4':'#FAC200', 'opr_5':'#808EFF'}\n",
        "legend_elements = [Patch(facecolor=c_dict[i], label=i)  for i in c_dict]\n",
        "plt.legend(handles=legend_elements)\n",
        "\n",
        "##### TICKS #####\n",
        "xticks_minor = np.arange(0, df.start_num.max()+1, 1)\n",
        "xticks_minor_mx = np.arange(0, df_max.start_num.max()+1, 1)\n",
        "ax1.set_xticks(xticks_minor, minor=True)\n",
        "ax2.set_xticks(xticks_minor_mx, minor=True)\n",
        "\n",
        "# grid lines\n",
        "ax1.set_axisbelow(True)\n",
        "ax1.xaxis.grid(color='w', linestyle='dashed', alpha=0.4, which='both')\n",
        "\n",
        "ax2.set_axisbelow(True)\n",
        "ax2.xaxis.grid(color='w', linestyle='dashed', alpha=0.4, which='both')\n",
        "\n",
        "ax1.set_title(\"Min Time = \" + str(df.start_num[df.index[0]] + df.days_start_to_end[df.index[0]]))\n",
        "ax2.set_title(\"Max Time = \" + str(df_max.start_num[df.index[0]] + df_max.days_start_to_end[df.index[0]]))\n",
        "plt.show()"
      ],
      "metadata": {
        "colab": {
          "base_uri": "https://localhost:8080/",
          "height": 557
        },
        "id": "DnbcPCqZiu7B",
        "outputId": "40bb3061-6e7a-4167-c7b9-1bfece7834c4"
      },
      "execution_count": null,
      "outputs": [
        {
          "output_type": "display_data",
          "data": {
            "text/plain": [
              "<Figure size 1800x720 with 2 Axes>"
            ],
            "image/png": "[encoded data removed]"
          },
          "metadata": {
            "needs_background": "light"
          }
        }
      ]
    },
    {
      "cell_type": "markdown",
      "source": [
        "### Question: R5"
      ],
      "metadata": {
        "id": "FsWlqdPSesF4"
      }
    },
    {
      "cell_type": "code",
      "source": [
        "#Calculating Makespan\n",
        "def calculate_fitness_less_mach(input_population):\n",
        "  initial_fitness = {}\n",
        "  makespan_list = []\n",
        "  machine_st_list = []\n",
        "  for cnt in range(num_machines):\n",
        "    machine_st_list.append(0)\n",
        "\n",
        "  for chromo in range(len(input_population)):\n",
        "    makespan_list = []\n",
        "    machine_st_list = [0] * len(machine_st_list)\n",
        "    chrosome_calc = input_population[chromo]\n",
        "    for jobs in range(1, (num_jobs+num_operations)):\n",
        "        i = 0\n",
        "        job_time = []\n",
        "        lp = jobs%num_machines\n",
        "        if jobs%num_machines == 0:\n",
        "          lp = num_machines\n",
        "        for operations in range(0, num_operations):\n",
        "            if jobs - i <= 0:\n",
        "                break\n",
        "            elif jobs - i > num_jobs:\n",
        "                i=i+1\n",
        "                continue\n",
        "            else:\n",
        "              z = 0\n",
        "              if num_operations>num_machines and jobs > num_machines and i == 0 and lp == 1:\n",
        "                z = num_machines\n",
        "                for x in range(num_operations):\n",
        "                  for y in range(num_machines):\n",
        "                    incr = num_machines - y - 1\n",
        "                    picked_job = chrosome_calc[jobs - num_machines + incr - 1]\n",
        "                    opr = num_machines + 1 + x - incr\n",
        "                    if opr <= num_operations:\n",
        "                      mch = opr%num_machines\n",
        "                      if mch == 0:\n",
        "                        mch = num_machines\n",
        "                      time_opr = job_oper_time_list[picked_job][opr-1]\n",
        "                      inc_last = time_opr + machine_st_list[mch-1]\n",
        "                      job_time.append(inc_last)\n",
        "                      machine_st_list[mch-1] = time_opr + machine_st_list[mch-1]\n",
        "\n",
        "\n",
        "              picked_job = chrosome_calc[jobs - i - 1]\n",
        "              time_opr = job_oper_time_list[picked_job][i]\n",
        "              mch = (operations+1)%num_machines\n",
        "              if mch == 0:\n",
        "                mch = num_machines\n",
        "              inc_last = time_opr + machine_st_list[mch-1]\n",
        "              job_time.append(inc_last)\n",
        "              i = i + 1 + z\n",
        "              machine_st_list[mch-1] = time_opr + machine_st_list[mch-1]\n",
        "              if (num_operations>num_machines and i>num_machines-1) or (num_operations>num_machines and i==lp):\n",
        "                break\n",
        "\n",
        "        for mch in range(1, num_machines):\n",
        "          machine_st_list[mch] = max(machine_st_list[0:mch+1])\n",
        "\n",
        "        makespan_list.append(job_time)\n",
        "\n",
        "    makespan_value = 0\n",
        "    makespan_value = makespan_list[-1]\n",
        "    initial_fitness[chromo] = makespan_value\n",
        "  return initial_fitness\n"
      ],
      "metadata": {
        "id": "mZ0BCJqyehA6"
      },
      "execution_count": null,
      "outputs": []
    },
    {
      "cell_type": "code",
      "source": [
        "#Calculating Makespan\n",
        "def calculate_single_fitness_df(input_job):\n",
        "  r_r_machine_num = 0\n",
        "  tracker_list = []\n",
        "  chrosome_calc = input_job\n",
        "  machine_st_list = []\n",
        "  for cnt in range(num_machines):\n",
        "    machine_st_list.append(0)\n",
        "\n",
        "  for jobs in range(1, (num_jobs+num_operations)):\n",
        "    i = 0\n",
        "    lp = jobs%num_machines\n",
        "    if jobs%num_machines == 0:\n",
        "      lp = num_machines\n",
        "    for operations in range(0, num_operations):\n",
        "      if jobs - i <= 0:\n",
        "        break\n",
        "      elif jobs - i > num_jobs:\n",
        "        i=i+1\n",
        "        continue\n",
        "      else:\n",
        "        z = 0\n",
        "        operation_num = ''\n",
        "        if num_operations>num_machines and jobs > num_machines and i == 0 and lp == 1:\n",
        "          z = num_machines\n",
        "          for x in range(num_operations):\n",
        "            for y in range(num_machines):\n",
        "              incr = num_machines - y - 1\n",
        "              picked_job = chrosome_calc[jobs - num_machines + incr - 1]\n",
        "              opr = num_machines + 1 + x - incr\n",
        "              operation_num = \"opr_\" + str(opr)\n",
        "              task_val = str(picked_job)+\"_\"+(str(opr))\n",
        "              if opr <= num_operations:\n",
        "                mch = opr%num_machines\n",
        "                if mch == 0:\n",
        "                  mch = num_machines\n",
        "                time_opr = job_oper_time_list[picked_job][opr-1]\n",
        "                r_r_machine_num = mch\n",
        "                ##print(\"[task_val, time_opr, machine_st_list[mch-1], operation_num]\" + \", \", str(task_val) + \", \" + str(time_opr) + \", \" + str(machine_st_list[mch-1]) + \", \" + str(operation_num))\n",
        "                tracker_list.append([task_val, time_opr, machine_st_list[mch-1], operation_num])\n",
        "                machine_st_list[mch-1] = time_opr + machine_st_list[mch-1]\n",
        "\n",
        "\n",
        "        picked_job = chrosome_calc[jobs - i - 1]\n",
        "        time_opr = job_oper_time_list[picked_job][i]\n",
        "        operation_num = \"opr_\" + str(operations+1)\n",
        "        task_val = str(picked_job)+\"_\"+(str(operations+1))\n",
        "        r_r_machine_num = operations%num_machines\n",
        "        mch = (operations+1)%num_machines\n",
        "        if mch == 0:\n",
        "          mch = num_machines\n",
        "        inc_last = time_opr + machine_st_list[mch-1]\n",
        "        i = i + 1 + z\n",
        "        ##print(\"[task_val, time_opr, machine_st_list[mch-1], operation_num]\" + \", \" + str(task_val) + \", \" + str(time_opr) + \", \" + str(machine_st_list[mch-1]) + \", \" + str(operation_num))\n",
        "        tracker_list.append([task_val, time_opr, machine_st_list[r_r_machine_num], operation_num])\n",
        "        machine_st_list[mch-1] = time_opr + machine_st_list[mch-1]\n",
        "        if (num_operations>num_machines and i>num_machines-1) or (num_operations>num_machines and i==lp):\n",
        "          break\n",
        "\n",
        "    for mch in range(1, num_machines):\n",
        "      machine_st_list[mch] = max(machine_st_list[0:mch+1])\n",
        "\n",
        "  end_time = max(machine_st_list)\n",
        "  df = pd.DataFrame(tracker_list, columns = ['task','days_start_to_end','start_num', 'operation_num'])\n",
        "  return df\n"
      ],
      "metadata": {
        "id": "kU0bSkMluxql"
      },
      "execution_count": null,
      "outputs": []
    },
    {
      "cell_type": "code",
      "source": [
        "##variable declaration\n",
        "num_jobs = 10\n",
        "num_random_permut = 300\n",
        "num_machines = 3\n",
        "num_operations = 5\n",
        "generations = 100\n",
        "\n",
        "max_allowed_permutations = math.factorial(num_jobs)\n",
        "\n",
        "if max_allowed_permutations < num_random_permut:\n",
        "    print(\"max possible permutations without duplicates are: \" + str(math.factorial(num_jobs)) + \" current value: \" + str(num_random_permut))\n",
        "    print(\"stopping execution, please correct the value of num_random_permut variable\")\n",
        "    exit()\n",
        "\n",
        "\n",
        "init_list = list(range(1, (num_jobs+1)))\n",
        "\n",
        "#job timings\n",
        "operation_time_min = 5\n",
        "operation_time_max = 50\n",
        "\n",
        "job_oper_time_list = {}\n",
        "\n",
        "for j in range(1, (num_jobs+1)):\n",
        "    job_time = []\n",
        "    for oper in range(1, (num_operations+1)):\n",
        "        job_time.append(rd.randint(operation_time_min, operation_time_max+1))\n",
        "\n",
        "    job_oper_time_list[j] = job_time\n",
        "\n",
        "initial_population = []\n",
        "for p in range(num_random_permut):\n",
        "    initial_population.append(list(np.random.permutation(init_list)))\n",
        "\n",
        "print(\"initial population: \" + str(initial_population))\n",
        "print('\\nlength of initial population: ' + str(len(initial_population)))\n",
        "print('\\njob operation times: ' + str(job_oper_time_list))\n",
        "\n",
        "#calculating fitness of initial population:\n",
        "init_fit = calculate_fitness_less_mach(initial_population)\n",
        "print('\\ninitial fitness calculations: ' + str(init_fit))\n",
        "\n",
        "#selection of 10 chromosomes:\n",
        "k=10\n",
        "\n",
        "cross_list_values, crossover_lst = selection_chromosomes(init_fit, k)\n",
        "print('\\ninitial crossover list with makespan: ' + str(cross_list_values))\n",
        "print('\\ninitial crossover list M(=10) Chromosomes (index number in population list): ' + str(crossover_lst))\n",
        "\n",
        "#Crossover & Mutation:\n",
        "children_population_cross = crossover_function(crossover_lst, initial_population, 1)\n",
        "\n",
        "print('\\nchildren population before mutation: ' + str(children_population_cross))\n",
        "\n",
        "children_population = mutation_function(children_population_cross)\n",
        "\n",
        "print('\\ninitial children population (after mutation): ' + str(children_population))\n",
        "\n",
        "initial_population.extend(children_population)\n",
        "\n",
        "for loop_generation in range(generations-1):\n",
        "  ##print('\\nGeneration: ' + str(loop_generation + 2))\n",
        "  ##print(\"length of new population:\" + str(len(initial_population)))\n",
        "  #calculating fitness of new population:\n",
        "  new_fit = calculate_fitness_less_mach(initial_population)\n",
        "\n",
        "  #selection of 10 chromosomes:\n",
        "  k=10\n",
        "  new_cross_values, new_crossover_lst = selection_chromosomes(new_fit, k)\n",
        "\n",
        "  #Crossover & Mutation:\n",
        "  new_children_population_cross = crossover_function(new_crossover_lst, initial_population, 0)\n",
        "\n",
        "  new_children_population = mutation_function(new_children_population_cross)\n",
        "\n",
        "  initial_population.extend(new_children_population)\n",
        "\n",
        "\n",
        "#Final Run:\n",
        "\n",
        "final_fit = calculate_fitness_less_mach(initial_population)\n",
        "#selection of 10 chromosomes:\n",
        "k=10\n",
        "final_cross_values, final_crossover_lst = selection_chromosomes(final_fit, k)\n",
        "\n",
        "##print(\"Final run\")\n",
        "##print('\\nFinal choromosome fitness values: ' + str(final_cross_values))\n",
        "\n",
        "max_job_key = max(final_fit, key = final_fit.get)\n",
        "min_job_key = min(final_fit, key = final_fit.get)\n",
        "\n",
        "print(\"min job key: \" + str(min_job_key) + \" value: \" + str(final_fit[min_job_key]))\n",
        "print(\"max job key: \" + str(max_job_key) + \" value: \" + str(final_fit[max_job_key]))\n",
        "print(\"Comparison between highest and worst fitness values: \")\n",
        "print(\"Highest fitness values is: \" + str(final_fit[min_job_key]) + \" whereas the worst performance is: \" + str(final_fit[max_job_key]))\n",
        "print(\"Which is a significant gain of: \" + str(round((final_fit[max_job_key][0] - final_fit[min_job_key][0])/final_fit[max_job_key][0],2)*100) + \"% (over worst fitness)\")\n",
        "\n",
        "r5_min = final_fit[min_job_key][0]\n",
        "r5_max = final_fit[max_job_key][0]\n"
      ],
      "metadata": {
        "colab": {
          "base_uri": "https://localhost:8080/"
        },
        "id": "FJ38INCHeuKo",
        "outputId": "ec387c82-5f5d-4cd6-d405-64a027a0fc7e"
      },
      "execution_count": null,
      "outputs": [
        {
          "output_type": "stream",
          "name": "stdout",
          "text": [
            "initial population: [[3, 9, 2, 5, 4, 8, 6, 10, 7, 1], [6, 2, 9, 8, 7, 3, 4, 10, 1, 5], [5, 2, 3, 9, 4, 8, 10, 6, 1, 7], [7, 3, 5, 4, 1, 6, 10, 9, 2, 8], [1, 5, 10, 9, 2, 3, 6, 7, 8, 4], [4, 1, 3, 8, 5, 6, 7, 10, 2, 9], [7, 9, 4, 6, 8, 10, 3, 2, 5, 1], [2, 10, 6, 9, 5, 1, 3, 8, 4, 7], [4, 2, 6, 9, 8, 3, 7, 5, 10, 1], [2, 6, 10, 7, 9, 3, 5, 8, 1, 4], [4, 1, 8, 9, 3, 7, 10, 5, 2, 6], [6, 2, 7, 5, 4, 8, 3, 10, 1, 9], [10, 9, 5, 2, 3, 4, 7, 8, 1, 6], [1, 6, 8, 5, 4, 7, 2, 3, 10, 9], [7, 10, 3, 6, 8, 2, 1, 4, 5, 9], [2, 10, 7, 4, 3, 6, 5, 9, 8, 1], [5, 9, 3, 2, 10, 4, 8, 6, 1, 7], [6, 4, 9, 1, 7, 2, 8, 3, 10, 5], [7, 9, 6, 1, 2, 3, 4, 10, 8, 5], [10, 6, 7, 4, 9, 2, 5, 1, 8, 3], [9, 10, 6, 4, 3, 2, 7, 1, 8, 5], [2, 8, 1, 6, 10, 4, 7, 5, 9, 3], [9, 5, 3, 4, 7, 2, 6, 10, 1, 8], [2, 1, 5, 6, 4, 3, 10, 9, 8, 7], [6, 8, 10, 5, 7, 4, 2, 3, 1, 9], [10, 9, 5, 1, 4, 3, 8, 6, 7, 2], [8, 7, 10, 4, 3, 5, 2, 1, 9, 6], [10, 5, 1, 8, 4, 2, 6, 9, 7, 3], [9, 6, 2, 1, 7, 4, 3, 5, 8, 10], [10, 8, 3, 5, 7, 9, 6, 1, 4, 2], [10, 9, 6, 7, 1, 5, 3, 8, 4, 2], [3, 9, 8, 4, 6, 2, 10, 1, 7, 5], [9, 6, 5, 7, 4, 10, 3, 8, 1, 2], [4, 10, 3, 6, 9, 7, 8, 2, 1, 5], [5, 2, 8, 9, 4, 3, 10, 1, 7, 6], [4, 5, 9, 8, 1, 6, 7, 3, 2, 10], [4, 2, 5, 6, 1, 10, 7, 9, 8, 3], [3, 9, 4, 10, 7, 2, 1, 6, 5, 8], [4, 3, 6, 2, 1, 9, 10, 5, 8, 7], [2, 1, 9, 6, 4, 7, 3, 8, 10, 5], [4, 9, 6, 10, 2, 3, 5, 1, 7, 8], [2, 4, 7, 1, 9, 8, 10, 6, 3, 5], [2, 3, 6, 5, 10, 7, 1, 4, 9, 8], [10, 8, 6, 2, 4, 9, 3, 7, 5, 1], [9, 1, 5, 10, 4, 3, 8, 6, 7, 2], [3, 6, 8, 7, 1, 9, 4, 10, 5, 2], [8, 7, 3, 1, 4, 6, 10, 9, 5, 2], [6, 2, 8, 1, 4, 9, 7, 3, 10, 5], [2, 1, 10, 3, 8, 6, 5, 7, 9, 4], [6, 3, 4, 5, 9, 2, 10, 8, 7, 1], [5, 9, 3, 2, 7, 1, 8, 6, 10, 4], [5, 1, 6, 3, 9, 2, 7, 8, 10, 4], [1, 3, 7, 6, 2, 10, 4, 9, 5, 8], [3, 8, 6, 7, 1, 4, 9, 5, 2, 10], [5, 9, 3, 7, 4, 2, 1, 8, 6, 10], [7, 4, 6, 10, 2, 9, 8, 3, 5, 1], [6, 8, 4, 5, 1, 2, 3, 10, 9, 7], [6, 8, 4, 7, 5, 3, 1, 10, 2, 9], [5, 2, 9, 10, 1, 6, 3, 4, 8, 7], [9, 3, 5, 1, 4, 7, 2, 10, 8, 6], [8, 6, 3, 1, 7, 9, 10, 5, 2, 4], [7, 8, 2, 5, 9, 4, 10, 1, 6, 3], [6, 7, 2, 3, 8, 4, 9, 10, 5, 1], [2, 8, 5, 7, 4, 1, 3, 6, 9, 10], [2, 3, 7, 6, 5, 9, 10, 4, 1, 8], [3, 1, 9, 8, 4, 6, 7, 10, 2, 5], [3, 7, 1, 8, 10, 5, 9, 6, 4, 2], [9, 3, 8, 10, 1, 7, 6, 2, 4, 5], [2, 5, 4, 6, 8, 1, 10, 9, 3, 7], [4, 5, 8, 9, 2, 7, 10, 6, 1, 3], [1, 6, 9, 5, 7, 3, 10, 4, 8, 2], [1, 6, 4, 2, 3, 9, 5, 10, 7, 8], [5, 9, 3, 8, 6, 7, 1, 10, 2, 4], [1, 8, 2, 6, 9, 10, 5, 3, 7, 4], [7, 6, 3, 9, 4, 8, 2, 10, 5, 1], [6, 1, 9, 3, 2, 4, 5, 10, 8, 7], [8, 3, 5, 1, 6, 4, 2, 10, 7, 9], [10, 5, 8, 4, 9, 3, 6, 2, 1, 7], [6, 7, 1, 8, 5, 9, 10, 2, 3, 4], [7, 8, 1, 3, 9, 5, 4, 6, 2, 10], [5, 2, 1, 8, 10, 9, 7, 4, 3, 6], [1, 10, 7, 6, 5, 8, 3, 2, 9, 4], [10, 1, 6, 9, 2, 4, 7, 3, 5, 8], [9, 4, 6, 1, 8, 2, 3, 5, 7, 10], [7, 6, 4, 3, 2, 5, 8, 1, 10, 9], [3, 5, 4, 1, 10, 2, 9, 8, 6, 7], [9, 2, 7, 10, 8, 5, 1, 6, 3, 4], [8, 4, 10, 6, 1, 7, 3, 2, 9, 5], [1, 6, 8, 10, 4, 5, 3, 9, 7, 2], [9, 1, 6, 8, 2, 4, 7, 10, 3, 5], [7, 8, 10, 9, 4, 6, 1, 5, 3, 2], [10, 9, 8, 7, 3, 4, 1, 5, 2, 6], [2, 9, 5, 10, 3, 4, 8, 6, 7, 1], [5, 1, 8, 4, 3, 2, 7, 10, 6, 9], [9, 4, 1, 5, 6, 3, 8, 10, 2, 7], [9, 4, 10, 7, 3, 8, 1, 2, 6, 5], [1, 2, 10, 8, 6, 7, 5, 9, 4, 3], [2, 4, 1, 9, 10, 8, 7, 3, 5, 6], [9, 3, 6, 4, 10, 7, 5, 2, 1, 8], [9, 8, 7, 1, 6, 4, 2, 10, 5, 3], [9, 5, 4, 8, 7, 3, 1, 2, 10, 6], [8, 2, 4, 7, 5, 1, 9, 3, 10, 6], [3, 6, 8, 2, 10, 9, 4, 1, 7, 5], [4, 1, 8, 9, 7, 2, 5, 6, 10, 3], [7, 9, 3, 5, 8, 1, 4, 6, 10, 2], [2, 6, 3, 5, 8, 4, 7, 1, 10, 9], [7, 2, 5, 9, 3, 10, 1, 4, 6, 8], [9, 3, 4, 10, 6, 8, 7, 5, 1, 2], [2, 7, 5, 3, 1, 10, 4, 6, 9, 8], [6, 10, 5, 7, 1, 8, 3, 4, 9, 2], [2, 3, 4, 1, 6, 9, 8, 5, 7, 10], [7, 6, 3, 8, 10, 4, 5, 9, 2, 1], [10, 2, 8, 6, 3, 4, 7, 5, 9, 1], [7, 5, 10, 4, 2, 8, 6, 9, 3, 1], [7, 2, 5, 10, 1, 9, 4, 8, 6, 3], [1, 3, 5, 7, 4, 10, 8, 2, 9, 6], [5, 10, 2, 6, 7, 4, 3, 8, 9, 1], [10, 6, 1, 8, 3, 2, 4, 5, 9, 7], [1, 2, 4, 9, 5, 8, 7, 6, 10, 3], [8, 1, 6, 7, 10, 3, 4, 5, 9, 2], [6, 2, 1, 7, 9, 4, 10, 5, 8, 3], [5, 6, 10, 4, 2, 7, 1, 8, 3, 9], [5, 6, 2, 8, 7, 10, 3, 9, 4, 1], [1, 4, 6, 5, 8, 10, 9, 3, 7, 2], [7, 10, 2, 8, 4, 6, 1, 5, 9, 3], [10, 3, 1, 7, 6, 2, 8, 9, 4, 5], [3, 2, 6, 9, 7, 5, 1, 8, 4, 10], [6, 2, 7, 8, 1, 5, 4, 10, 9, 3], [9, 4, 3, 7, 1, 2, 10, 6, 5, 8], [8, 9, 3, 7, 6, 10, 2, 4, 1, 5], [1, 3, 7, 2, 8, 4, 10, 6, 9, 5], [6, 10, 2, 3, 8, 9, 1, 4, 5, 7], [9, 3, 2, 5, 1, 8, 10, 6, 7, 4], [1, 4, 9, 10, 5, 8, 6, 3, 7, 2], [3, 10, 9, 6, 8, 1, 5, 4, 7, 2], [7, 9, 3, 4, 1, 5, 6, 2, 8, 10], [8, 1, 6, 7, 4, 2, 9, 10, 5, 3], [2, 5, 8, 3, 7, 9, 10, 6, 1, 4], [4, 6, 9, 5, 7, 3, 2, 8, 10, 1], [6, 1, 8, 7, 10, 9, 4, 5, 2, 3], [8, 9, 1, 7, 5, 2, 10, 3, 4, 6], [4, 5, 8, 10, 9, 1, 6, 3, 7, 2], [8, 7, 5, 1, 2, 6, 4, 10, 9, 3], [8, 10, 5, 6, 7, 4, 2, 3, 1, 9], [6, 3, 9, 8, 5, 2, 1, 7, 4, 10], [1, 4, 6, 10, 7, 9, 2, 8, 5, 3], [10, 5, 7, 6, 1, 8, 4, 2, 9, 3], [8, 3, 10, 2, 4, 5, 6, 9, 7, 1], [4, 9, 1, 5, 10, 2, 3, 6, 7, 8], [10, 7, 9, 6, 4, 5, 1, 3, 2, 8], [2, 1, 9, 7, 3, 8, 10, 5, 6, 4], [8, 1, 6, 4, 5, 9, 3, 2, 7, 10], [2, 8, 1, 4, 6, 10, 5, 7, 3, 9], [4, 9, 6, 2, 3, 8, 10, 7, 5, 1], [8, 10, 4, 6, 9, 3, 2, 1, 7, 5], [5, 10, 1, 8, 7, 3, 2, 6, 4, 9], [9, 1, 6, 8, 7, 5, 3, 4, 10, 2], [10, 4, 9, 5, 7, 2, 3, 6, 8, 1], [1, 9, 8, 5, 3, 6, 2, 4, 10, 7], [5, 2, 10, 6, 9, 7, 1, 4, 8, 3], [10, 6, 9, 8, 5, 7, 2, 4, 1, 3], [6, 5, 8, 3, 4, 2, 7, 9, 1, 10], [5, 2, 6, 10, 7, 1, 3, 9, 8, 4], [6, 5, 9, 1, 4, 2, 7, 10, 3, 8], [9, 4, 5, 6, 8, 3, 7, 2, 10, 1], [3, 2, 10, 7, 5, 6, 1, 4, 9, 8], [8, 4, 6, 9, 5, 7, 3, 2, 10, 1], [7, 1, 4, 10, 8, 2, 3, 9, 6, 5], [2, 9, 6, 4, 1, 8, 7, 3, 10, 5], [8, 3, 6, 1, 2, 4, 7, 5, 10, 9], [6, 7, 10, 8, 9, 1, 5, 4, 3, 2], [7, 1, 9, 5, 2, 6, 3, 8, 10, 4], [10, 4, 1, 8, 6, 2, 7, 3, 9, 5], [8, 3, 4, 9, 6, 7, 5, 10, 2, 1], [8, 4, 5, 7, 9, 3, 2, 1, 10, 6], [4, 9, 8, 2, 6, 7, 5, 10, 3, 1], [7, 2, 5, 1, 9, 6, 3, 10, 4, 8], [8, 7, 3, 4, 10, 5, 9, 2, 6, 1], [10, 2, 7, 5, 3, 4, 9, 6, 8, 1], [3, 7, 5, 8, 4, 10, 2, 1, 9, 6], [8, 5, 7, 10, 1, 6, 4, 9, 2, 3], [7, 2, 10, 3, 6, 8, 4, 9, 5, 1], [3, 10, 2, 1, 4, 6, 9, 5, 8, 7], [2, 9, 4, 7, 8, 6, 3, 5, 10, 1], [7, 6, 5, 3, 10, 2, 8, 9, 4, 1], [3, 7, 1, 10, 4, 5, 8, 9, 6, 2], [3, 10, 9, 1, 8, 2, 5, 4, 7, 6], [5, 2, 4, 8, 1, 10, 7, 6, 9, 3], [9, 6, 3, 10, 4, 5, 1, 2, 8, 7], [3, 7, 2, 4, 5, 6, 10, 8, 1, 9], [10, 3, 4, 2, 9, 7, 8, 5, 1, 6], [4, 8, 6, 9, 1, 2, 5, 10, 3, 7], [6, 2, 10, 8, 9, 1, 4, 7, 5, 3], [6, 9, 8, 4, 7, 5, 2, 10, 3, 1], [8, 6, 10, 3, 4, 7, 1, 5, 2, 9], [6, 10, 7, 1, 8, 9, 3, 5, 4, 2], [2, 9, 3, 10, 1, 7, 5, 6, 8, 4], [8, 3, 5, 2, 4, 10, 9, 1, 7, 6], [2, 10, 9, 4, 7, 5, 6, 1, 3, 8], [8, 1, 4, 5, 6, 7, 10, 3, 9, 2], [6, 8, 3, 10, 4, 7, 2, 1, 9, 5], [3, 5, 2, 1, 6, 4, 9, 7, 10, 8], [3, 6, 8, 7, 9, 1, 2, 10, 5, 4], [5, 8, 6, 10, 1, 7, 4, 2, 9, 3], [2, 4, 8, 3, 7, 5, 10, 1, 6, 9], [10, 2, 1, 9, 7, 4, 6, 5, 8, 3], [2, 5, 4, 7, 10, 1, 9, 6, 3, 8], [4, 9, 10, 2, 8, 6, 1, 5, 3, 7], [10, 2, 1, 6, 7, 3, 8, 5, 4, 9], [5, 3, 2, 6, 10, 7, 9, 1, 8, 4], [6, 10, 1, 5, 4, 7, 8, 9, 2, 3], [10, 3, 5, 6, 2, 7, 4, 8, 1, 9], [3, 2, 9, 10, 6, 7, 1, 8, 5, 4], [9, 1, 2, 8, 5, 7, 10, 4, 6, 3], [6, 7, 10, 9, 8, 4, 5, 2, 3, 1], [3, 6, 7, 8, 5, 1, 9, 10, 2, 4], [5, 2, 9, 8, 3, 1, 4, 7, 6, 10], [10, 6, 1, 7, 5, 4, 2, 8, 9, 3], [3, 10, 8, 9, 6, 2, 1, 7, 4, 5], [4, 2, 5, 7, 1, 6, 8, 3, 10, 9], [8, 4, 5, 10, 7, 3, 1, 9, 6, 2], [10, 1, 3, 6, 9, 7, 2, 4, 8, 5], [2, 7, 10, 4, 6, 3, 5, 8, 9, 1], [9, 1, 7, 4, 3, 8, 6, 10, 2, 5], [1, 3, 6, 4, 2, 8, 7, 10, 5, 9], [7, 8, 4, 1, 10, 5, 3, 6, 9, 2], [6, 10, 2, 9, 5, 1, 3, 8, 4, 7], [5, 1, 7, 3, 9, 10, 6, 2, 4, 8], [4, 2, 9, 5, 10, 6, 3, 1, 7, 8], [6, 8, 1, 2, 9, 10, 3, 5, 7, 4], [7, 3, 10, 2, 4, 6, 5, 9, 8, 1], [7, 1, 5, 2, 3, 9, 4, 8, 6, 10], [1, 9, 7, 10, 2, 3, 6, 8, 5, 4], [7, 5, 8, 4, 6, 3, 1, 9, 10, 2], [2, 6, 1, 4, 5, 10, 3, 7, 9, 8], [1, 6, 4, 10, 7, 2, 3, 5, 9, 8], [7, 3, 5, 10, 2, 8, 6, 9, 4, 1], [2, 8, 7, 6, 1, 10, 3, 9, 5, 4], [3, 9, 2, 8, 10, 7, 1, 5, 4, 6], [1, 6, 3, 2, 9, 4, 10, 7, 8, 5], [6, 2, 3, 9, 1, 5, 10, 4, 7, 8], [5, 6, 9, 8, 2, 4, 3, 7, 10, 1], [4, 5, 1, 9, 2, 10, 6, 7, 3, 8], [1, 2, 5, 4, 7, 10, 6, 8, 3, 9], [8, 9, 1, 10, 7, 6, 5, 3, 2, 4], [2, 5, 6, 4, 3, 1, 9, 7, 8, 10], [9, 6, 7, 4, 1, 5, 3, 10, 2, 8], [6, 9, 7, 3, 5, 1, 10, 8, 4, 2], [3, 4, 5, 10, 9, 7, 1, 8, 6, 2], [7, 9, 8, 1, 5, 4, 3, 10, 2, 6], [9, 3, 2, 8, 6, 5, 10, 4, 7, 1], [3, 7, 6, 8, 5, 10, 9, 1, 4, 2], [10, 6, 7, 3, 4, 1, 8, 2, 9, 5], [5, 10, 2, 6, 4, 1, 3, 8, 7, 9], [7, 9, 1, 2, 10, 3, 8, 6, 4, 5], [7, 2, 3, 1, 10, 6, 4, 5, 9, 8], [9, 4, 2, 7, 1, 8, 10, 3, 5, 6], [10, 5, 2, 3, 8, 4, 9, 1, 6, 7], [7, 3, 8, 5, 2, 1, 4, 10, 6, 9], [5, 3, 8, 10, 1, 9, 2, 7, 4, 6], [9, 1, 5, 3, 2, 8, 7, 6, 4, 10], [5, 3, 9, 7, 2, 8, 10, 4, 1, 6], [5, 8, 9, 3, 6, 1, 7, 4, 2, 10], [8, 6, 9, 5, 1, 7, 3, 4, 2, 10], [7, 5, 6, 10, 2, 8, 9, 1, 3, 4], [9, 5, 3, 7, 4, 8, 10, 2, 6, 1], [3, 10, 6, 1, 7, 5, 8, 9, 4, 2], [6, 5, 9, 7, 3, 10, 8, 2, 4, 1], [6, 3, 1, 5, 2, 4, 8, 10, 7, 9], [9, 8, 6, 10, 5, 3, 4, 7, 2, 1], [1, 3, 9, 4, 7, 6, 5, 10, 8, 2], [4, 1, 8, 9, 10, 2, 5, 6, 7, 3], [3, 1, 9, 8, 2, 4, 10, 6, 5, 7], [9, 8, 2, 7, 10, 1, 6, 5, 3, 4], [9, 1, 6, 3, 10, 7, 4, 2, 5, 8], [10, 2, 7, 8, 5, 4, 6, 1, 3, 9], [5, 1, 7, 3, 8, 2, 6, 4, 9, 10], [7, 9, 10, 5, 3, 2, 1, 4, 6, 8], [8, 7, 4, 9, 6, 3, 2, 1, 5, 10], [1, 4, 10, 7, 6, 9, 3, 8, 5, 2], [10, 1, 6, 9, 2, 7, 5, 3, 4, 8], [3, 1, 4, 10, 8, 5, 9, 2, 7, 6], [5, 3, 2, 6, 8, 10, 4, 7, 1, 9], [10, 9, 3, 5, 6, 8, 2, 7, 4, 1], [7, 5, 4, 9, 3, 8, 10, 2, 6, 1], [8, 2, 6, 4, 9, 7, 1, 5, 3, 10], [8, 3, 1, 6, 4, 2, 10, 9, 5, 7], [1, 2, 10, 8, 9, 7, 3, 4, 5, 6], [10, 3, 7, 1, 9, 4, 8, 5, 2, 6], [10, 7, 8, 2, 3, 9, 1, 6, 4, 5], [6, 8, 7, 1, 5, 10, 2, 4, 3, 9], [9, 3, 5, 8, 4, 2, 6, 10, 7, 1], [6, 8, 5, 10, 3, 9, 1, 4, 2, 7], [3, 5, 8, 1, 9, 7, 10, 4, 6, 2], [7, 5, 9, 8, 2, 3, 10, 1, 4, 6], [7, 1, 5, 4, 2, 9, 10, 3, 8, 6], [3, 2, 8, 6, 7, 9, 5, 1, 10, 4], [2, 4, 5, 8, 9, 10, 7, 6, 1, 3], [3, 7, 5, 8, 2, 1, 6, 9, 10, 4], [7, 8, 3, 9, 6, 5, 10, 1, 4, 2]]\n",
            "\n",
            "length of initial population: 300\n",
            "\n",
            "job operation times: {1: [36, 40, 36, 35, 8], 2: [26, 37, 26, 37, 24], 3: [7, 39, 41, 29, 21], 4: [23, 37, 22, 7, 29], 5: [12, 26, 19, 40, 20], 6: [25, 40, 51, 24, 38], 7: [49, 46, 9, 43, 14], 8: [39, 38, 26, 35, 33], 9: [51, 5, 25, 34, 42], 10: [20, 13, 31, 49, 19]}\n",
            "\n",
            "initial fitness calculations: {0: [634], 1: [641], 2: [638], 3: [657], 4: [707], 5: [663], 6: [641], 7: [653], 8: [634], 9: [680], 10: [675], 11: [663], 12: [676], 13: [663], 14: [663], 15: [663], 16: [638], 17: [641], 18: [646], 19: [667], 20: [647], 21: [652], 22: [657], 23: [638], 24: [663], 25: [686], 26: [675], 27: [684], 28: [640], 29: [686], 30: [683], 31: [641], 32: [645], 33: [641], 34: [675], 35: [640], 36: [660], 37: [657], 38: [638], 39: [657], 40: [657], 41: [663], 42: [657], 43: [634], 44: [666], 45: [645], 46: [645], 47: [641], 48: [680], 49: [634], 50: [685], 51: [680], 52: [657], 53: [640], 54: [640], 55: [652], 56: [638], 57: [663], 58: [658], 59: [675], 60: [680], 61: [661], 62: [634], 63: [640], 64: [657], 65: [645], 66: [717], 67: [703], 68: [638], 69: [652], 70: [647], 71: [657], 72: [680], 73: [680], 74: [634], 75: [638], 76: [663], 77: [654], 78: [680], 79: [670], 80: [727], 81: [686], 82: [672], 83: [640], 84: [663], 85: [662], 86: [723], 87: [641], 88: [645], 89: [651], 90: [710], 91: [696], 92: [635], 93: [663], 94: [638], 95: [657], 96: [692], 97: [685], 98: [657], 99: [678], 100: [675], 101: [675], 102: [641], 103: [654], 104: [670], 105: [663], 106: [696], 107: [645], 108: [668], 109: [648], 110: [640], 111: [634], 112: [636], 113: [667], 114: [732], 115: [675], 116: [648], 117: [639], 118: [654], 119: [645], 120: [652], 121: [663], 122: [657], 123: [645], 124: [679], 125: [680], 126: [640], 127: [652], 128: [657], 129: [652], 130: [641], 131: [638], 132: [680], 133: [665], 134: [645], 135: [640], 136: [652], 137: [680], 138: [634], 139: [696], 140: [693], 141: [665], 142: [652], 143: [663], 144: [640], 145: [662], 146: [669], 147: [637], 148: [657], 149: [701], 150: [681], 151: [640], 152: [663], 153: [634], 154: [641], 155: [685], 156: [651], 157: [655], 158: [650], 159: [694], 160: [682], 161: [640], 162: [693], 163: [657], 164: [638], 165: [657], 166: [634], 167: [669], 168: [641], 169: [663], 170: [692], 171: [680], 172: [641], 173: [634], 174: [675], 175: [640], 176: [676], 177: [659], 178: [657], 179: [675], 180: [699], 181: [647], 182: [638], 183: [634], 184: [663], 185: [679], 186: [675], 187: [653], 188: [640], 189: [663], 190: [675], 191: [638], 192: [678], 193: [639], 194: [663], 195: [680], 196: [689], 197: [675], 198: [681], 199: [645], 200: [641], 201: [657], 202: [680], 203: [667], 204: [663], 205: [726], 206: [704], 207: [638], 208: [665], 209: [680], 210: [675], 211: [663], 212: [680], 213: [703], 214: [694], 215: [680], 216: [654], 217: [652], 218: [656], 219: [663], 220: [654], 221: [685], 222: [663], 223: [685], 224: [663], 225: [645], 226: [653], 227: [706], 228: [657], 229: [680], 230: [640], 231: [671], 232: [702], 233: [645], 234: [657], 235: [657], 236: [679], 237: [680], 238: [693], 239: [641], 240: [657], 241: [634], 242: [673], 243: [663], 244: [689], 245: [640], 246: [657], 247: [661], 248: [658], 249: [678], 250: [634], 251: [676], 252: [641], 253: [663], 254: [716], 255: [657], 256: [675], 257: [639], 258: [663], 259: [690], 260: [666], 261: [675], 262: [640], 263: [649], 264: [702], 265: [638], 266: [684], 267: [668], 268: [663], 269: [654], 270: [645], 271: [656], 272: [645], 273: [729], 274: [669], 275: [679], 276: [640], 277: [696], 278: [640], 279: [645], 280: [684], 281: [675], 282: [663], 283: [638], 284: [634], 285: [640], 286: [638], 287: [727], 288: [679], 289: [693], 290: [667], 291: [634], 292: [638], 293: [677], 294: [684], 295: [675], 296: [680], 297: [668], 298: [680], 299: [651]}\n",
            "\n",
            "initial crossover list with makespan: {0: [634], 8: [634], 43: [634], 49: [634], 62: [634], 74: [634], 111: [634], 138: [634], 153: [634], 166: [634]}\n",
            "\n",
            "initial crossover list M(=10) Chromosomes (index number in population list): [0, 8, 43, 49, 62, 74, 111, 138, 153, 166]\n",
            "\n",
            "Demo for crossover\n",
            "Slice: 1\n",
            "Parent 1: [3, 9, 2, 5, 4, 8, 6, 10, 7, 1]\n",
            "Parent 2: [4, 2, 6, 9, 8, 3, 7, 5, 10, 1]\n",
            "Child 1: [3, 9, 2, 5, 4, 8, 6, 10, 7, 1]\n",
            "Child 2: [4, 2, 6, 9, 8, 3, 7, 5, 10, 1]\n",
            "\n",
            "children population before mutation: [[3, 9, 2, 5, 4, 8, 6, 10, 7, 1], [4, 2, 6, 9, 8, 3, 7, 5, 10, 1], [10, 6, 2, 9, 4, 8, 3, 7, 5, 1], [3, 2, 5, 8, 4, 9, 6, 10, 7, 1], [6, 3, 5, 9, 4, 8, 2, 10, 7, 1], [3, 5, 4, 8, 9, 2, 6, 10, 7, 1], [6, 7, 2, 3, 4, 8, 9, 10, 5, 1], [3, 9, 2, 5, 8, 4, 6, 10, 7, 1], [7, 3, 9, 5, 4, 8, 6, 2, 10, 1], [3, 5, 6, 9, 4, 8, 2, 10, 7, 1], [7, 3, 10, 5, 4, 8, 6, 9, 2, 1], [3, 9, 2, 8, 10, 4, 5, 6, 7, 1], [9, 7, 3, 5, 4, 8, 6, 2, 10, 1], [9, 4, 8, 5, 7, 3, 2, 6, 10, 1], [9, 6, 2, 3, 4, 8, 10, 7, 5, 1], [9, 2, 5, 4, 3, 8, 6, 10, 7, 1], [9, 7, 2, 5, 4, 8, 6, 10, 3, 1], [4, 8, 6, 9, 5, 7, 3, 2, 10, 1], [10, 6, 2, 9, 8, 3, 7, 4, 5, 1], [6, 8, 7, 2, 4, 9, 3, 5, 10, 1], [4, 2, 6, 9, 8, 3, 7, 5, 10, 1], [6, 3, 4, 5, 9, 2, 10, 8, 7, 1], [6, 2, 4, 9, 8, 3, 7, 10, 5, 1], [2, 6, 7, 3, 8, 4, 9, 5, 10, 1], [4, 2, 6, 9, 8, 3, 7, 5, 10, 1], [6, 7, 3, 9, 4, 8, 2, 10, 5, 1], [7, 6, 10, 4, 8, 3, 5, 9, 2, 1], [2, 6, 9, 8, 10, 4, 3, 7, 5, 1], [4, 6, 5, 9, 8, 3, 7, 2, 10, 1], [4, 6, 9, 5, 7, 3, 2, 8, 10, 1], [4, 2, 6, 9, 8, 3, 7, 5, 10, 1], [4, 9, 6, 2, 3, 8, 10, 7, 5, 1], [4, 2, 6, 9, 8, 3, 7, 5, 10, 1], [8, 4, 6, 9, 5, 7, 3, 2, 10, 1], [10, 8, 6, 2, 4, 9, 3, 7, 5, 1], [6, 3, 4, 5, 9, 2, 10, 8, 7, 1], [8, 10, 6, 2, 4, 9, 3, 7, 5, 1], [6, 7, 2, 3, 8, 4, 9, 10, 5, 1], [8, 10, 6, 2, 4, 9, 3, 7, 5, 1], [6, 7, 3, 9, 4, 8, 2, 10, 5, 1], [7, 6, 8, 2, 4, 9, 3, 10, 5, 1], [6, 2, 9, 8, 10, 4, 5, 3, 7, 1], [10, 8, 6, 2, 4, 9, 3, 7, 5, 1], [4, 6, 9, 5, 7, 3, 2, 8, 10, 1], [6, 2, 3, 8, 4, 9, 10, 7, 5, 1], [10, 6, 2, 4, 3, 8, 9, 7, 5, 1], [8, 6, 5, 2, 4, 9, 3, 7, 10, 1], [10, 8, 6, 9, 5, 7, 3, 2, 4, 1], [6, 7, 4, 5, 9, 2, 10, 8, 3, 1], [6, 5, 2, 3, 8, 4, 9, 10, 7, 1], [7, 6, 3, 5, 9, 2, 10, 4, 8, 1], [6, 3, 5, 9, 4, 8, 2, 10, 7, 1], [7, 6, 3, 8, 9, 2, 10, 4, 5, 1], [6, 3, 5, 9, 10, 4, 2, 8, 7, 1], [6, 3, 4, 5, 9, 2, 10, 8, 7, 1], [4, 6, 9, 5, 7, 3, 2, 8, 10, 1], [4, 6, 3, 5, 9, 2, 10, 8, 7, 1], [6, 4, 5, 2, 3, 8, 10, 9, 7, 1], [8, 4, 6, 5, 9, 2, 7, 3, 10, 1], [6, 3, 4, 9, 5, 7, 2, 10, 8, 1], [7, 6, 2, 3, 8, 4, 9, 10, 5, 1], [6, 7, 3, 9, 4, 8, 2, 10, 5, 1], [6, 7, 2, 3, 8, 4, 9, 10, 5, 1], [7, 6, 3, 8, 10, 4, 5, 9, 2, 1], [6, 9, 5, 7, 8, 4, 3, 2, 10, 1], [6, 2, 8, 4, 7, 3, 9, 10, 5, 1], [6, 2, 10, 3, 8, 4, 9, 7, 5, 1], [6, 7, 4, 2, 3, 8, 10, 9, 5, 1], [6, 7, 2, 3, 8, 4, 9, 10, 5, 1], [8, 4, 6, 9, 5, 7, 3, 2, 10, 1], [7, 6, 3, 9, 4, 8, 2, 10, 5, 1], [7, 6, 3, 8, 10, 4, 5, 9, 2, 1], [6, 9, 5, 7, 4, 8, 3, 2, 10, 1], [6, 9, 4, 8, 7, 3, 2, 10, 5, 1], [7, 6, 3, 9, 4, 8, 2, 10, 5, 1], [4, 9, 6, 2, 3, 8, 10, 7, 5, 1], [6, 5, 7, 9, 4, 8, 2, 3, 10, 1], [6, 4, 8, 9, 5, 7, 3, 2, 10, 1], [6, 7, 3, 8, 10, 4, 5, 9, 2, 1], [6, 10, 9, 5, 7, 3, 2, 8, 4, 1], [6, 2, 3, 8, 10, 4, 5, 9, 7, 1], [4, 5, 6, 2, 3, 8, 10, 7, 9, 1], [8, 6, 9, 5, 10, 4, 7, 3, 2, 1], [6, 3, 8, 10, 5, 7, 4, 9, 2, 1], [4, 9, 6, 2, 7, 3, 8, 10, 5, 1], [4, 6, 9, 5, 3, 8, 7, 2, 10, 1], [4, 6, 9, 5, 7, 3, 2, 8, 10, 1], [4, 8, 6, 9, 5, 7, 3, 2, 10, 1], [4, 9, 6, 2, 3, 8, 10, 7, 5, 1], [8, 4, 6, 9, 5, 7, 3, 2, 10, 1]]\n",
            "\n",
            "initial children population (after mutation): [[3, 9, 2, 5, 4, 6, 8, 10, 7, 1], [5, 2, 6, 9, 8, 3, 7, 4, 10, 1], [3, 6, 2, 9, 4, 8, 10, 7, 5, 1], [7, 2, 5, 8, 4, 9, 6, 10, 3, 1], [6, 3, 5, 9, 4, 8, 7, 10, 2, 1], [3, 6, 4, 8, 9, 2, 5, 10, 7, 1], [6, 7, 2, 3, 4, 8, 5, 10, 9, 1], [3, 9, 5, 2, 8, 4, 6, 10, 7, 1], [7, 3, 10, 5, 4, 8, 6, 2, 9, 1], [3, 5, 1, 9, 4, 8, 2, 10, 7, 6], [7, 3, 2, 5, 4, 8, 6, 9, 10, 1], [3, 8, 2, 9, 10, 4, 5, 6, 7, 1], [3, 7, 9, 5, 4, 8, 6, 2, 10, 1], [9, 4, 8, 5, 7, 3, 1, 6, 10, 2], [9, 6, 10, 3, 4, 8, 2, 7, 5, 1], [9, 2, 7, 4, 3, 8, 6, 10, 5, 1], [9, 10, 2, 5, 4, 8, 6, 7, 3, 1], [4, 3, 6, 9, 5, 7, 8, 2, 10, 1], [10, 1, 2, 9, 8, 3, 7, 4, 5, 6], [3, 8, 7, 2, 4, 9, 6, 5, 10, 1], [4, 2, 3, 9, 8, 6, 7, 5, 10, 1], [6, 3, 9, 5, 4, 2, 10, 8, 7, 1], [6, 2, 4, 9, 8, 3, 7, 10, 5, 1], [2, 6, 7, 9, 8, 4, 3, 5, 10, 1], [4, 2, 6, 9, 8, 3, 1, 5, 10, 7], [6, 7, 5, 9, 4, 8, 2, 10, 3, 1], [10, 6, 7, 4, 8, 3, 5, 9, 2, 1], [8, 6, 9, 2, 10, 4, 3, 7, 5, 1], [3, 6, 5, 9, 8, 4, 7, 2, 10, 1], [4, 6, 9, 5, 7, 8, 2, 3, 10, 1], [4, 2, 6, 9, 3, 8, 7, 5, 10, 1], [4, 9, 6, 1, 3, 8, 10, 7, 5, 2], [4, 2, 1, 9, 8, 3, 7, 5, 10, 6], [8, 4, 6, 9, 5, 3, 7, 2, 10, 1], [10, 8, 6, 3, 4, 9, 2, 7, 5, 1], [6, 3, 4, 5, 9, 8, 10, 2, 7, 1], [8, 10, 6, 2, 4, 9, 5, 7, 3, 1], [6, 3, 2, 7, 8, 4, 9, 10, 5, 1], [8, 10, 3, 2, 4, 9, 6, 7, 5, 1], [6, 10, 3, 9, 4, 8, 2, 7, 5, 1], [9, 6, 8, 2, 4, 7, 3, 10, 5, 1], [3, 2, 9, 8, 10, 4, 5, 6, 7, 1], [10, 8, 6, 2, 4, 9, 3, 7, 5, 1], [3, 6, 9, 5, 7, 4, 2, 8, 10, 1], [6, 2, 3, 8, 4, 9, 10, 7, 5, 1], [10, 6, 2, 3, 4, 8, 9, 7, 5, 1], [8, 6, 5, 2, 3, 9, 4, 7, 10, 1], [10, 4, 6, 9, 5, 7, 3, 2, 8, 1], [6, 7, 4, 5, 9, 3, 10, 8, 2, 1], [6, 7, 2, 3, 8, 4, 9, 10, 5, 1], [7, 6, 3, 5, 9, 8, 10, 4, 2, 1], [6, 3, 5, 1, 4, 8, 2, 10, 7, 9], [7, 6, 3, 8, 9, 4, 10, 2, 5, 1], [6, 3, 5, 4, 10, 9, 2, 8, 7, 1], [6, 3, 4, 5, 9, 2, 10, 8, 7, 1], [4, 6, 10, 5, 7, 3, 2, 8, 9, 1], [4, 3, 6, 5, 9, 2, 10, 8, 7, 1], [6, 4, 3, 2, 5, 8, 10, 9, 7, 1], [8, 4, 6, 5, 9, 2, 7, 3, 10, 1], [6, 3, 4, 9, 5, 7, 2, 10, 8, 1], [7, 6, 2, 3, 5, 4, 9, 10, 8, 1], [6, 7, 3, 9, 4, 8, 2, 1, 5, 10], [6, 7, 2, 8, 3, 4, 9, 10, 5, 1], [7, 6, 3, 8, 10, 4, 5, 1, 2, 9], [6, 9, 5, 7, 8, 4, 3, 2, 10, 1], [6, 2, 8, 4, 7, 1, 9, 10, 5, 3], [6, 2, 9, 3, 8, 4, 10, 7, 5, 1], [6, 7, 4, 2, 5, 8, 10, 9, 3, 1], [6, 7, 2, 3, 8, 4, 9, 10, 5, 1], [8, 4, 6, 9, 5, 1, 3, 2, 10, 7], [7, 6, 3, 10, 4, 8, 2, 9, 5, 1], [1, 6, 3, 8, 10, 4, 5, 9, 2, 7], [3, 9, 5, 7, 4, 8, 6, 2, 10, 1], [6, 10, 4, 8, 7, 3, 2, 9, 5, 1], [7, 6, 3, 9, 4, 8, 2, 1, 5, 10], [4, 9, 6, 2, 8, 3, 10, 7, 5, 1], [10, 5, 7, 9, 4, 8, 2, 3, 6, 1], [6, 3, 8, 9, 5, 7, 4, 2, 10, 1], [6, 9, 3, 8, 10, 4, 5, 7, 2, 1], [6, 10, 9, 5, 7, 3, 2, 1, 4, 8], [6, 2, 3, 8, 10, 4, 5, 9, 7, 1], [4, 5, 6, 3, 2, 8, 10, 7, 9, 1], [8, 6, 9, 1, 10, 4, 7, 3, 2, 5], [6, 1, 8, 10, 5, 7, 4, 9, 2, 3], [6, 9, 4, 2, 7, 3, 8, 10, 5, 1], [4, 6, 9, 5, 3, 8, 7, 10, 2, 1], [4, 6, 9, 5, 7, 3, 1, 8, 10, 2], [5, 8, 6, 9, 4, 7, 3, 2, 10, 1], [4, 9, 6, 2, 3, 8, 10, 5, 7, 1], [8, 4, 2, 9, 5, 7, 3, 6, 10, 1]]\n",
            "min job key: 0 value: [634]\n",
            "max job key: 114 value: [732]\n",
            "Comparison between highest and worst fitness values: \n",
            "Highest fitness values is: [634] whereas the worst performance is: [732]\n",
            "Which is a significant gain of: 13.0% (over worst fitness)\n"
          ]
        }
      ]
    },
    {
      "cell_type": "code",
      "source": [
        "import pandas as pd\n",
        "\n",
        "chrosome_calc = initial_population[min_job_key]\n",
        "df = calculate_single_fitness_df(chrosome_calc)\n",
        "\n",
        "chrosome_calc = initial_population[max_job_key]\n",
        "df_max = calculate_single_fitness_df(chrosome_calc)\n",
        "\n",
        "#reversing the order for plotting\n",
        "df = df.rename_axis('MyIdx').sort_values(by = ['MyIdx'], ascending = [False])\n",
        "df_max = df_max.rename_axis('MyIdx').sort_values(by = ['MyIdx'], ascending = [False])\n",
        "##print(df)\n",
        "##print(df_max)"
      ],
      "metadata": {
        "id": "PO1RMlGgzWb2"
      },
      "execution_count": null,
      "outputs": []
    },
    {
      "cell_type": "code",
      "source": [
        "import pandas as pd\n",
        "import matplotlib.pyplot as plt\n",
        "import numpy as np\n",
        "from matplotlib.patches import Patch\n",
        "\n",
        "# create a column with the color for each department\n",
        "def color(row):\n",
        "    c_dict = {'opr_1':'#DF80FF', 'opr_2':'#FF80B2', 'opr_3':'#80FF97', 'opr_4':'#FAC200', 'opr_5':'#808EFF'}\n",
        "    return c_dict[row['operation_num']]\n",
        "\n",
        "df['color'] = df.apply(color, axis=1)\n",
        "\n",
        "df_max['color'] = df_max.apply(color, axis=1)\n",
        "\n",
        "fig, (ax1, ax2) = plt.subplots(1, 2, figsize=(25,10))\n",
        "\n",
        "ax1.barh(df.task, df.days_start_to_end, left=df.start_num, color=df.color)\n",
        "\n",
        "ax2.barh(df_max.task, df_max.days_start_to_end, left=df_max.start_num, color=df_max.color)\n",
        "\n",
        "##### LEGENDS #####\n",
        "c_dict = {'opr_1':'#DF80FF', 'opr_2':'#FF80B2', 'opr_3':'#80FF97', 'opr_4':'#FAC200', 'opr_5':'#808EFF'}\n",
        "legend_elements = [Patch(facecolor=c_dict[i], label=i)  for i in c_dict]\n",
        "plt.legend(handles=legend_elements)\n",
        "\n",
        "##### TICKS #####\n",
        "xticks_minor = np.arange(0, df.start_num.max()+1, 1)\n",
        "xticks_minor_mx = np.arange(0, df_max.start_num.max()+1, 1)\n",
        "ax1.set_xticks(xticks_minor, minor=True)\n",
        "ax2.set_xticks(xticks_minor_mx, minor=True)\n",
        "\n",
        "# grid lines\n",
        "ax1.set_axisbelow(True)\n",
        "ax1.xaxis.grid(color='w', linestyle='dashed', alpha=0.4, which='both')\n",
        "\n",
        "ax2.set_axisbelow(True)\n",
        "ax2.xaxis.grid(color='w', linestyle='dashed', alpha=0.4, which='both')\n",
        "\n",
        "ax1.set_title(\"Min Time = \" + str(df.start_num[df.index[0]] + df.days_start_to_end[df.index[0]]))\n",
        "ax2.set_title(\"Max Time = \" + str(df_max.start_num[df.index[0]] + df_max.days_start_to_end[df.index[0]]))\n",
        "plt.show()"
      ],
      "metadata": {
        "id": "ga0TOi2ViwfH",
        "colab": {
          "base_uri": "https://localhost:8080/",
          "height": 557
        },
        "outputId": "41dd4253-a4b3-487a-bd33-a5a358f1a30e"
      },
      "execution_count": null,
      "outputs": [
        {
          "output_type": "display_data",
          "data": {
            "text/plain": [
              "<Figure size 1800x720 with 2 Axes>"
            ],
            "image/png": "[encoded data removed]"
          },
          "metadata": {
            "needs_background": "light"
          }
        }
      ]
    },
    {
      "cell_type": "markdown",
      "source": [
        "### Answers for R3, R4, R5"
      ],
      "metadata": {
        "id": "M8DxKmw6yeDY"
      }
    },
    {
      "cell_type": "code",
      "source": [
        "print(\"Comparison between highest and worst fitness values for R3: \")\n",
        "print(\"Highest fitness values is: \" + str(r3_min) + \" whereas the worst performance is: \" + str(r3_max))\n",
        "print(\"Which is a significant gain of: \" + str(round((r3_max - r3_min)/r3_max,2)*100) + \"% (over worst fitness)\")\n",
        "\n",
        "\n",
        "print('\\nComparison between highest and worst fitness values for R4: ')\n",
        "print(\"Highest fitness values is: \" + str(r4_min) + \" whereas the worst performance is: \" + str(r4_max))\n",
        "print(\"Which is a significant gain of: \" + str(round((r4_max - r4_min)/r4_max,2)*100) + \"% (over worst fitness)\")\n",
        "\n",
        "\n",
        "print('\\nComparison between highest and worst fitness values for R5: ')\n",
        "print(\"Highest fitness values is: \" + str(r5_min) + \" whereas the worst performance is: \" + str(r5_max))\n",
        "print(\"Which is a significant gain of: \" + str(round((r5_max - r5_min)/r5_max,2)*100) + \"% (over worst fitness)\")\n"
      ],
      "metadata": {
        "colab": {
          "base_uri": "https://localhost:8080/"
        },
        "id": "IlwThXYmzANi",
        "outputId": "a9757433-55c7-4904-b3fc-4da1e7a21280"
      },
      "execution_count": null,
      "outputs": [
        {
          "output_type": "stream",
          "name": "stdout",
          "text": [
            "Comparison between highest and worst fitness values for R3: \n",
            "Highest fitness values is: 27 whereas the worst performance is: 39\n",
            "Which is a significant gain of: 31.0% (over worst fitness)\n",
            "\n",
            "Comparison between highest and worst fitness values for R4: \n",
            "Highest fitness values is: 353 whereas the worst performance is: 501\n",
            "Which is a significant gain of: 30.0% (over worst fitness)\n",
            "\n",
            "Comparison between highest and worst fitness values for R5: \n",
            "Highest fitness values is: 634 whereas the worst performance is: 732\n",
            "Which is a significant gain of: 13.0% (over worst fitness)\n"
          ]
        }
      ]
    },
    {
      "cell_type": "markdown",
      "source": [
        "### Question: R6"
      ],
      "metadata": {
        "id": "bO5T8efpEl0p"
      }
    },
    {
      "cell_type": "markdown",
      "source": [
        "R6: Reflect in at most 3 paragraphs the level of success that your GA achieved in this project."
      ],
      "metadata": {
        "id": "0dln2Vl4EsLz"
      }
    },
    {
      "cell_type": "markdown",
      "source": [
        "In this project, we have worked upon 3 different scenarios:\n",
        "\n",
        "\n",
        "*   Scenario 1: 5 jobs, 2 operations & 2 machines (permutations: 10)\n",
        "*   Scenario 2: 10 jobs, 3 operations & 5 machines (permutations: 300)\n",
        "*   Scenario 3: 10 jobs, 5 operations & 3 machines (permutations: 300)\n",
        "\n",
        "In scenario 1, where #operations and # machines were equal, the highested fitness value is 27 and max value is 39, which is around 30% gain. In scenario 2, where #machines are more than #operations due to which not all machines were occupied. The gain we got using GA was significant. Each generation reflected the gain and withing few (10-20) generation optimization was achieved.\n",
        "\n",
        "Scenario 3 had more operations than machines, because of which the completion time was more as jobs took time to complete. Used round robin to allocate machines to jobs and some jobs had to wait for long as machines were occupied. Still GA optimized the fitness value i.e. makespan with a good margin from initial population. In all the scenarios, GA optimized the fitness value with each generation hence it's really useful for optimization problems.\n",
        "\n",
        "\n"
      ],
      "metadata": {
        "id": "1w7_FESCo-Wh"
      }
    }
  ]
}