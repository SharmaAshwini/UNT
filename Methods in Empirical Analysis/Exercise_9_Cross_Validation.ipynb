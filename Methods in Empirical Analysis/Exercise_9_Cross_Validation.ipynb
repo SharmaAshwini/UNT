{
  "nbformat": 4,
  "nbformat_minor": 0,
  "metadata": {
    "colab": {
      "provenance": [],
      "include_colab_link": true
    },
    "kernelspec": {
      "name": "python3",
      "display_name": "Python 3"
    },
    "language_info": {
      "name": "python"
    }
  },
  "cells": [
    {
      "cell_type": "markdown",
      "metadata": {
        "id": "view-in-github",
        "colab_type": "text"
      },
      "source": [
        "<a href=\"https://colab.research.google.com/github/SharmaAshwini/UNT/blob/main/Methods%20in%20Empirical%20Analysis/Exercise_9_Cross_Validation.ipynb\" target=\"_parent\"><img src=\"https://colab.research.google.com/assets/colab-badge.svg\" alt=\"Open In Colab\"/></a>"
      ]
    },
    {
      "cell_type": "markdown",
      "source": [
        "#**ICE-9** Cross Validation"
      ],
      "metadata": {
        "id": "syPdvBkdEatJ"
      }
    },
    {
      "cell_type": "markdown",
      "source": [
        "###**INSTRUCTIONS**\n",
        "#####Provide your observation/summary for all tutorials and tasks. Marks will be deducted for those who dont write the summary.\n",
        "#####Print this file as pdf and submit both pdf and .ipynb file(No screenshots). Not submitting any of these files will impact their grades."
      ],
      "metadata": {
        "id": "RkEIHCuTIJi_"
      }
    },
    {
      "cell_type": "markdown",
      "source": [
        "###Tutorial"
      ],
      "metadata": {
        "id": "MuJ48q_LESwM"
      }
    },
    {
      "cell_type": "code",
      "source": [
        "!gdown '1hH9SJLOwZKNrzHhqGgFD4NmE9JDx2mYx'"
      ],
      "metadata": {
        "colab": {
          "base_uri": "https://localhost:8080/"
        },
        "id": "-rUf1SDdKm3m",
        "outputId": "d99e5d20-0f7e-4a5d-eb36-d0909d652788"
      },
      "execution_count": null,
      "outputs": [
        {
          "output_type": "stream",
          "name": "stdout",
          "text": [
            "Downloading...\n",
            "From: https://drive.google.com/uc?id=1hH9SJLOwZKNrzHhqGgFD4NmE9JDx2mYx\n",
            "To: /content/income_evaluation.csv\n",
            "\r  0% 0.00/3.81M [00:00<?, ?B/s]\r100% 3.81M/3.81M [00:00<00:00, 70.4MB/s]\n"
          ]
        }
      ]
    },
    {
      "cell_type": "markdown",
      "source": [
        "####Performing EDA on the dataset"
      ],
      "metadata": {
        "id": "-DBYokRwzaXm"
      }
    },
    {
      "cell_type": "code",
      "execution_count": null,
      "metadata": {
        "id": "f0WBxr4HJ3Zn"
      },
      "outputs": [],
      "source": [
        "import pandas as pd\n",
        "import numpy as np\n",
        "import time\n",
        "from sklearn.model_selection import KFold, StratifiedKFold, cross_val_score, LeaveOneOut,\\\n",
        "RepeatedKFold, train_test_split\n",
        "from sklearn.preprocessing import OneHotEncoder, RobustScaler\n",
        "from sklearn.compose import ColumnTransformer\n",
        "from sklearn.pipeline import Pipeline\n",
        "from sklearn.ensemble import RandomForestClassifier"
      ]
    },
    {
      "cell_type": "code",
      "source": [
        "df = pd.read_csv('income_evaluation.csv', na_values=' ?')\n",
        "df.head()"
      ],
      "metadata": {
        "colab": {
          "base_uri": "https://localhost:8080/",
          "height": 310
        },
        "id": "FLY0pc2nJ5x6",
        "outputId": "6e228eaf-20a0-43f2-9e4c-d16ebe1aec7e"
      },
      "execution_count": null,
      "outputs": [
        {
          "output_type": "execute_result",
          "data": {
            "text/plain": [
              "   age          workclass   fnlwgt   education   education-num  \\\n",
              "0   39          State-gov    77516   Bachelors              13   \n",
              "1   50   Self-emp-not-inc    83311   Bachelors              13   \n",
              "2   38            Private   215646     HS-grad               9   \n",
              "3   53            Private   234721        11th               7   \n",
              "4   28            Private   338409   Bachelors              13   \n",
              "\n",
              "        marital-status          occupation    relationship    race      sex  \\\n",
              "0        Never-married        Adm-clerical   Not-in-family   White     Male   \n",
              "1   Married-civ-spouse     Exec-managerial         Husband   White     Male   \n",
              "2             Divorced   Handlers-cleaners   Not-in-family   White     Male   \n",
              "3   Married-civ-spouse   Handlers-cleaners         Husband   Black     Male   \n",
              "4   Married-civ-spouse      Prof-specialty            Wife   Black   Female   \n",
              "\n",
              "    capital-gain   capital-loss   hours-per-week  native-country  income  \n",
              "0           2174              0               40   United-States   <=50K  \n",
              "1              0              0               13   United-States   <=50K  \n",
              "2              0              0               40   United-States   <=50K  \n",
              "3              0              0               40   United-States   <=50K  \n",
              "4              0              0               40            Cuba   <=50K  "
            ],
            "text/html": [
              "\n",
              "  <div id=\"df-43914578-9988-4b0f-bb96-70c2ebc2ad9d\" class=\"colab-df-container\">\n",
              "    <div>\n",
              "<style scoped>\n",
              "    .dataframe tbody tr th:only-of-type {\n",
              "        vertical-align: middle;\n",
              "    }\n",
              "\n",
              "    .dataframe tbody tr th {\n",
              "        vertical-align: top;\n",
              "    }\n",
              "\n",
              "    .dataframe thead th {\n",
              "        text-align: right;\n",
              "    }\n",
              "</style>\n",
              "<table border=\"1\" class=\"dataframe\">\n",
              "  <thead>\n",
              "    <tr style=\"text-align: right;\">\n",
              "      <th></th>\n",
              "      <th>age</th>\n",
              "      <th>workclass</th>\n",
              "      <th>fnlwgt</th>\n",
              "      <th>education</th>\n",
              "      <th>education-num</th>\n",
              "      <th>marital-status</th>\n",
              "      <th>occupation</th>\n",
              "      <th>relationship</th>\n",
              "      <th>race</th>\n",
              "      <th>sex</th>\n",
              "      <th>capital-gain</th>\n",
              "      <th>capital-loss</th>\n",
              "      <th>hours-per-week</th>\n",
              "      <th>native-country</th>\n",
              "      <th>income</th>\n",
              "    </tr>\n",
              "  </thead>\n",
              "  <tbody>\n",
              "    <tr>\n",
              "      <th>0</th>\n",
              "      <td>39</td>\n",
              "      <td>State-gov</td>\n",
              "      <td>77516</td>\n",
              "      <td>Bachelors</td>\n",
              "      <td>13</td>\n",
              "      <td>Never-married</td>\n",
              "      <td>Adm-clerical</td>\n",
              "      <td>Not-in-family</td>\n",
              "      <td>White</td>\n",
              "      <td>Male</td>\n",
              "      <td>2174</td>\n",
              "      <td>0</td>\n",
              "      <td>40</td>\n",
              "      <td>United-States</td>\n",
              "      <td>&lt;=50K</td>\n",
              "    </tr>\n",
              "    <tr>\n",
              "      <th>1</th>\n",
              "      <td>50</td>\n",
              "      <td>Self-emp-not-inc</td>\n",
              "      <td>83311</td>\n",
              "      <td>Bachelors</td>\n",
              "      <td>13</td>\n",
              "      <td>Married-civ-spouse</td>\n",
              "      <td>Exec-managerial</td>\n",
              "      <td>Husband</td>\n",
              "      <td>White</td>\n",
              "      <td>Male</td>\n",
              "      <td>0</td>\n",
              "      <td>0</td>\n",
              "      <td>13</td>\n",
              "      <td>United-States</td>\n",
              "      <td>&lt;=50K</td>\n",
              "    </tr>\n",
              "    <tr>\n",
              "      <th>2</th>\n",
              "      <td>38</td>\n",
              "      <td>Private</td>\n",
              "      <td>215646</td>\n",
              "      <td>HS-grad</td>\n",
              "      <td>9</td>\n",
              "      <td>Divorced</td>\n",
              "      <td>Handlers-cleaners</td>\n",
              "      <td>Not-in-family</td>\n",
              "      <td>White</td>\n",
              "      <td>Male</td>\n",
              "      <td>0</td>\n",
              "      <td>0</td>\n",
              "      <td>40</td>\n",
              "      <td>United-States</td>\n",
              "      <td>&lt;=50K</td>\n",
              "    </tr>\n",
              "    <tr>\n",
              "      <th>3</th>\n",
              "      <td>53</td>\n",
              "      <td>Private</td>\n",
              "      <td>234721</td>\n",
              "      <td>11th</td>\n",
              "      <td>7</td>\n",
              "      <td>Married-civ-spouse</td>\n",
              "      <td>Handlers-cleaners</td>\n",
              "      <td>Husband</td>\n",
              "      <td>Black</td>\n",
              "      <td>Male</td>\n",
              "      <td>0</td>\n",
              "      <td>0</td>\n",
              "      <td>40</td>\n",
              "      <td>United-States</td>\n",
              "      <td>&lt;=50K</td>\n",
              "    </tr>\n",
              "    <tr>\n",
              "      <th>4</th>\n",
              "      <td>28</td>\n",
              "      <td>Private</td>\n",
              "      <td>338409</td>\n",
              "      <td>Bachelors</td>\n",
              "      <td>13</td>\n",
              "      <td>Married-civ-spouse</td>\n",
              "      <td>Prof-specialty</td>\n",
              "      <td>Wife</td>\n",
              "      <td>Black</td>\n",
              "      <td>Female</td>\n",
              "      <td>0</td>\n",
              "      <td>0</td>\n",
              "      <td>40</td>\n",
              "      <td>Cuba</td>\n",
              "      <td>&lt;=50K</td>\n",
              "    </tr>\n",
              "  </tbody>\n",
              "</table>\n",
              "</div>\n",
              "    <div class=\"colab-df-buttons\">\n",
              "\n",
              "  <div class=\"colab-df-container\">\n",
              "    <button class=\"colab-df-convert\" onclick=\"convertToInteractive('df-43914578-9988-4b0f-bb96-70c2ebc2ad9d')\"\n",
              "            title=\"Convert this dataframe to an interactive table.\"\n",
              "            style=\"display:none;\">\n",
              "\n",
              "  <svg xmlns=\"http://www.w3.org/2000/svg\" height=\"24px\" viewBox=\"0 -960 960 960\">\n",
              "    <path d=\"M120-120v-720h720v720H120Zm60-500h600v-160H180v160Zm220 220h160v-160H400v160Zm0 220h160v-160H400v160ZM180-400h160v-160H180v160Zm440 0h160v-160H620v160ZM180-180h160v-160H180v160Zm440 0h160v-160H620v160Z\"/>\n",
              "  </svg>\n",
              "    </button>\n",
              "\n",
              "  <style>\n",
              "    .colab-df-container {\n",
              "      display:flex;\n",
              "      gap: 12px;\n",
              "    }\n",
              "\n",
              "    .colab-df-convert {\n",
              "      background-color: #E8F0FE;\n",
              "      border: none;\n",
              "      border-radius: 50%;\n",
              "      cursor: pointer;\n",
              "      display: none;\n",
              "      fill: #1967D2;\n",
              "      height: 32px;\n",
              "      padding: 0 0 0 0;\n",
              "      width: 32px;\n",
              "    }\n",
              "\n",
              "    .colab-df-convert:hover {\n",
              "      background-color: #E2EBFA;\n",
              "      box-shadow: 0px 1px 2px rgba(60, 64, 67, 0.3), 0px 1px 3px 1px rgba(60, 64, 67, 0.15);\n",
              "      fill: #174EA6;\n",
              "    }\n",
              "\n",
              "    .colab-df-buttons div {\n",
              "      margin-bottom: 4px;\n",
              "    }\n",
              "\n",
              "    [theme=dark] .colab-df-convert {\n",
              "      background-color: #3B4455;\n",
              "      fill: #D2E3FC;\n",
              "    }\n",
              "\n",
              "    [theme=dark] .colab-df-convert:hover {\n",
              "      background-color: #434B5C;\n",
              "      box-shadow: 0px 1px 3px 1px rgba(0, 0, 0, 0.15);\n",
              "      filter: drop-shadow(0px 1px 2px rgba(0, 0, 0, 0.3));\n",
              "      fill: #FFFFFF;\n",
              "    }\n",
              "  </style>\n",
              "\n",
              "    <script>\n",
              "      const buttonEl =\n",
              "        document.querySelector('#df-43914578-9988-4b0f-bb96-70c2ebc2ad9d button.colab-df-convert');\n",
              "      buttonEl.style.display =\n",
              "        google.colab.kernel.accessAllowed ? 'block' : 'none';\n",
              "\n",
              "      async function convertToInteractive(key) {\n",
              "        const element = document.querySelector('#df-43914578-9988-4b0f-bb96-70c2ebc2ad9d');\n",
              "        const dataTable =\n",
              "          await google.colab.kernel.invokeFunction('convertToInteractive',\n",
              "                                                    [key], {});\n",
              "        if (!dataTable) return;\n",
              "\n",
              "        const docLinkHtml = 'Like what you see? Visit the ' +\n",
              "          '<a target=\"_blank\" href=https://colab.research.google.com/notebooks/data_table.ipynb>data table notebook</a>'\n",
              "          + ' to learn more about interactive tables.';\n",
              "        element.innerHTML = '';\n",
              "        dataTable['output_type'] = 'display_data';\n",
              "        await google.colab.output.renderOutput(dataTable, element);\n",
              "        const docLink = document.createElement('div');\n",
              "        docLink.innerHTML = docLinkHtml;\n",
              "        element.appendChild(docLink);\n",
              "      }\n",
              "    </script>\n",
              "  </div>\n",
              "\n",
              "\n",
              "<div id=\"df-ca44a06a-9296-43a5-8529-cdea61c0c6a4\">\n",
              "  <button class=\"colab-df-quickchart\" onclick=\"quickchart('df-ca44a06a-9296-43a5-8529-cdea61c0c6a4')\"\n",
              "            title=\"Suggest charts\"\n",
              "            style=\"display:none;\">\n",
              "\n",
              "<svg xmlns=\"http://www.w3.org/2000/svg\" height=\"24px\"viewBox=\"0 0 24 24\"\n",
              "     width=\"24px\">\n",
              "    <g>\n",
              "        <path d=\"M19 3H5c-1.1 0-2 .9-2 2v14c0 1.1.9 2 2 2h14c1.1 0 2-.9 2-2V5c0-1.1-.9-2-2-2zM9 17H7v-7h2v7zm4 0h-2V7h2v10zm4 0h-2v-4h2v4z\"/>\n",
              "    </g>\n",
              "</svg>\n",
              "  </button>\n",
              "\n",
              "<style>\n",
              "  .colab-df-quickchart {\n",
              "      --bg-color: #E8F0FE;\n",
              "      --fill-color: #1967D2;\n",
              "      --hover-bg-color: #E2EBFA;\n",
              "      --hover-fill-color: #174EA6;\n",
              "      --disabled-fill-color: #AAA;\n",
              "      --disabled-bg-color: #DDD;\n",
              "  }\n",
              "\n",
              "  [theme=dark] .colab-df-quickchart {\n",
              "      --bg-color: #3B4455;\n",
              "      --fill-color: #D2E3FC;\n",
              "      --hover-bg-color: #434B5C;\n",
              "      --hover-fill-color: #FFFFFF;\n",
              "      --disabled-bg-color: #3B4455;\n",
              "      --disabled-fill-color: #666;\n",
              "  }\n",
              "\n",
              "  .colab-df-quickchart {\n",
              "    background-color: var(--bg-color);\n",
              "    border: none;\n",
              "    border-radius: 50%;\n",
              "    cursor: pointer;\n",
              "    display: none;\n",
              "    fill: var(--fill-color);\n",
              "    height: 32px;\n",
              "    padding: 0;\n",
              "    width: 32px;\n",
              "  }\n",
              "\n",
              "  .colab-df-quickchart:hover {\n",
              "    background-color: var(--hover-bg-color);\n",
              "    box-shadow: 0 1px 2px rgba(60, 64, 67, 0.3), 0 1px 3px 1px rgba(60, 64, 67, 0.15);\n",
              "    fill: var(--button-hover-fill-color);\n",
              "  }\n",
              "\n",
              "  .colab-df-quickchart-complete:disabled,\n",
              "  .colab-df-quickchart-complete:disabled:hover {\n",
              "    background-color: var(--disabled-bg-color);\n",
              "    fill: var(--disabled-fill-color);\n",
              "    box-shadow: none;\n",
              "  }\n",
              "\n",
              "  .colab-df-spinner {\n",
              "    border: 2px solid var(--fill-color);\n",
              "    border-color: transparent;\n",
              "    border-bottom-color: var(--fill-color);\n",
              "    animation:\n",
              "      spin 1s steps(1) infinite;\n",
              "  }\n",
              "\n",
              "  @keyframes spin {\n",
              "    0% {\n",
              "      border-color: transparent;\n",
              "      border-bottom-color: var(--fill-color);\n",
              "      border-left-color: var(--fill-color);\n",
              "    }\n",
              "    20% {\n",
              "      border-color: transparent;\n",
              "      border-left-color: var(--fill-color);\n",
              "      border-top-color: var(--fill-color);\n",
              "    }\n",
              "    30% {\n",
              "      border-color: transparent;\n",
              "      border-left-color: var(--fill-color);\n",
              "      border-top-color: var(--fill-color);\n",
              "      border-right-color: var(--fill-color);\n",
              "    }\n",
              "    40% {\n",
              "      border-color: transparent;\n",
              "      border-right-color: var(--fill-color);\n",
              "      border-top-color: var(--fill-color);\n",
              "    }\n",
              "    60% {\n",
              "      border-color: transparent;\n",
              "      border-right-color: var(--fill-color);\n",
              "    }\n",
              "    80% {\n",
              "      border-color: transparent;\n",
              "      border-right-color: var(--fill-color);\n",
              "      border-bottom-color: var(--fill-color);\n",
              "    }\n",
              "    90% {\n",
              "      border-color: transparent;\n",
              "      border-bottom-color: var(--fill-color);\n",
              "    }\n",
              "  }\n",
              "</style>\n",
              "\n",
              "  <script>\n",
              "    async function quickchart(key) {\n",
              "      const quickchartButtonEl =\n",
              "        document.querySelector('#' + key + ' button');\n",
              "      quickchartButtonEl.disabled = true;  // To prevent multiple clicks.\n",
              "      quickchartButtonEl.classList.add('colab-df-spinner');\n",
              "      try {\n",
              "        const charts = await google.colab.kernel.invokeFunction(\n",
              "            'suggestCharts', [key], {});\n",
              "      } catch (error) {\n",
              "        console.error('Error during call to suggestCharts:', error);\n",
              "      }\n",
              "      quickchartButtonEl.classList.remove('colab-df-spinner');\n",
              "      quickchartButtonEl.classList.add('colab-df-quickchart-complete');\n",
              "    }\n",
              "    (() => {\n",
              "      let quickchartButtonEl =\n",
              "        document.querySelector('#df-ca44a06a-9296-43a5-8529-cdea61c0c6a4 button');\n",
              "      quickchartButtonEl.style.display =\n",
              "        google.colab.kernel.accessAllowed ? 'block' : 'none';\n",
              "    })();\n",
              "  </script>\n",
              "</div>\n",
              "    </div>\n",
              "  </div>\n"
            ]
          },
          "metadata": {},
          "execution_count": 3
        }
      ]
    },
    {
      "cell_type": "code",
      "source": [
        "df.isna().sum()"
      ],
      "metadata": {
        "colab": {
          "base_uri": "https://localhost:8080/"
        },
        "id": "Opmq8MfgJ50r",
        "outputId": "7c4a32e0-8445-4f68-83fc-ae94d17c9034"
      },
      "execution_count": null,
      "outputs": [
        {
          "output_type": "execute_result",
          "data": {
            "text/plain": [
              "age                   0\n",
              " workclass         1836\n",
              " fnlwgt               0\n",
              " education            0\n",
              " education-num        0\n",
              " marital-status       0\n",
              " occupation        1843\n",
              " relationship         0\n",
              " race                 0\n",
              " sex                  0\n",
              " capital-gain         0\n",
              " capital-loss         0\n",
              " hours-per-week       0\n",
              " native-country     583\n",
              " income               0\n",
              "dtype: int64"
            ]
          },
          "metadata": {},
          "execution_count": 4
        }
      ]
    },
    {
      "cell_type": "code",
      "source": [
        "df.fillna('missing', inplace=True)"
      ],
      "metadata": {
        "id": "dC6duLvxJ538"
      },
      "execution_count": null,
      "outputs": []
    },
    {
      "cell_type": "code",
      "source": [
        "df.isna().sum()"
      ],
      "metadata": {
        "colab": {
          "base_uri": "https://localhost:8080/"
        },
        "id": "KK2XfOWxJ56t",
        "outputId": "9e277a89-d3c6-44cb-a08d-f608768ddd1e"
      },
      "execution_count": null,
      "outputs": [
        {
          "output_type": "execute_result",
          "data": {
            "text/plain": [
              "age                0\n",
              " workclass         0\n",
              " fnlwgt            0\n",
              " education         0\n",
              " education-num     0\n",
              " marital-status    0\n",
              " occupation        0\n",
              " relationship      0\n",
              " race              0\n",
              " sex               0\n",
              " capital-gain      0\n",
              " capital-loss      0\n",
              " hours-per-week    0\n",
              " native-country    0\n",
              " income            0\n",
              "dtype: int64"
            ]
          },
          "metadata": {},
          "execution_count": 6
        }
      ]
    },
    {
      "cell_type": "code",
      "source": [
        "X = df.drop(' income', axis=1)\n",
        "y = df[' income']"
      ],
      "metadata": {
        "id": "VsCuP5UrJ59V"
      },
      "execution_count": null,
      "outputs": []
    },
    {
      "cell_type": "code",
      "source": [
        "X.shape"
      ],
      "metadata": {
        "colab": {
          "base_uri": "https://localhost:8080/"
        },
        "id": "Z9lk7S3AJ6Ab",
        "outputId": "c4cefbf7-e07c-4385-b513-a2bdee59a7a8"
      },
      "execution_count": null,
      "outputs": [
        {
          "output_type": "execute_result",
          "data": {
            "text/plain": [
              "(32561, 14)"
            ]
          },
          "metadata": {},
          "execution_count": 8
        }
      ]
    },
    {
      "cell_type": "code",
      "source": [
        "y.value_counts()"
      ],
      "metadata": {
        "colab": {
          "base_uri": "https://localhost:8080/"
        },
        "id": "C7LQINSYJ6DS",
        "outputId": "94d55b1f-253b-42a4-d060-f889431a2959"
      },
      "execution_count": null,
      "outputs": [
        {
          "output_type": "execute_result",
          "data": {
            "text/plain": [
              " <=50K    24720\n",
              " >50K      7841\n",
              "Name:  income, dtype: int64"
            ]
          },
          "metadata": {},
          "execution_count": 9
        }
      ]
    },
    {
      "cell_type": "markdown",
      "source": [
        "###1. KFold Cross Validation"
      ],
      "metadata": {
        "id": "JjTYmmVKzx7H"
      }
    },
    {
      "cell_type": "code",
      "source": [
        "kf = KFold(n_splits=5)"
      ],
      "metadata": {
        "id": "_SUK7VFjJ6Gt"
      },
      "execution_count": null,
      "outputs": []
    },
    {
      "cell_type": "code",
      "source": [
        "32561/5"
      ],
      "metadata": {
        "colab": {
          "base_uri": "https://localhost:8080/"
        },
        "id": "ek1AnswaKJm2",
        "outputId": "f5c89ccc-4a6b-47bc-f010-e24e2ea330fb"
      },
      "execution_count": null,
      "outputs": [
        {
          "output_type": "execute_result",
          "data": {
            "text/plain": [
              "6512.2"
            ]
          },
          "metadata": {},
          "execution_count": 11
        }
      ]
    },
    {
      "cell_type": "code",
      "source": [
        "6512*4"
      ],
      "metadata": {
        "colab": {
          "base_uri": "https://localhost:8080/"
        },
        "id": "ak7s3gT7KJps",
        "outputId": "75909547-0c50-4ca8-a828-d53b5d4e6d36"
      },
      "execution_count": null,
      "outputs": [
        {
          "output_type": "execute_result",
          "data": {
            "text/plain": [
              "26048"
            ]
          },
          "metadata": {},
          "execution_count": 12
        }
      ]
    },
    {
      "cell_type": "code",
      "source": [
        "i = 1\n",
        "for train_set, test_set in kf.split(X=X):\n",
        "    print(\"iteration \", i)\n",
        "    print(train_set, \" having :\" , len(train_set))\n",
        "    print(test_set, \" having :\" , len(test_set))\n",
        "    print(\"-------------------------\")\n",
        "    i += 1"
      ],
      "metadata": {
        "colab": {
          "base_uri": "https://localhost:8080/"
        },
        "id": "_mDRCDtLKJtH",
        "outputId": "3f2b37e9-d8b5-4dc3-aaaa-59d066dec793"
      },
      "execution_count": null,
      "outputs": [
        {
          "output_type": "stream",
          "name": "stdout",
          "text": [
            "iteration  1\n",
            "[ 6513  6514  6515 ... 32558 32559 32560]  having : 26048\n",
            "[   0    1    2 ... 6510 6511 6512]  having : 6513\n",
            "-------------------------\n",
            "iteration  2\n",
            "[    0     1     2 ... 32558 32559 32560]  having : 26049\n",
            "[ 6513  6514  6515 ... 13022 13023 13024]  having : 6512\n",
            "-------------------------\n",
            "iteration  3\n",
            "[    0     1     2 ... 32558 32559 32560]  having : 26049\n",
            "[13025 13026 13027 ... 19534 19535 19536]  having : 6512\n",
            "-------------------------\n",
            "iteration  4\n",
            "[    0     1     2 ... 32558 32559 32560]  having : 26049\n",
            "[19537 19538 19539 ... 26046 26047 26048]  having : 6512\n",
            "-------------------------\n",
            "iteration  5\n",
            "[    0     1     2 ... 26046 26047 26048]  having : 26049\n",
            "[26049 26050 26051 ... 32558 32559 32560]  having : 6512\n",
            "-------------------------\n"
          ]
        }
      ]
    },
    {
      "cell_type": "code",
      "source": [
        "num_cols = X.select_dtypes(include=np.number).columns\n",
        "num_cols"
      ],
      "metadata": {
        "colab": {
          "base_uri": "https://localhost:8080/"
        },
        "id": "J2K7HxdyKJwn",
        "outputId": "b6cc01bb-3d8d-4a57-95ea-76ac9da89c10"
      },
      "execution_count": null,
      "outputs": [
        {
          "output_type": "execute_result",
          "data": {
            "text/plain": [
              "Index(['age', ' fnlwgt', ' education-num', ' capital-gain', ' capital-loss',\n",
              "       ' hours-per-week'],\n",
              "      dtype='object')"
            ]
          },
          "metadata": {},
          "execution_count": 14
        }
      ]
    },
    {
      "cell_type": "code",
      "source": [
        "cat_cols = X.select_dtypes(exclude=np.number).columns\n",
        "cat_cols"
      ],
      "metadata": {
        "colab": {
          "base_uri": "https://localhost:8080/"
        },
        "id": "e43PGB1ILCCL",
        "outputId": "d10a4560-a0c1-4f64-80a9-c960b3cf5e1c"
      },
      "execution_count": null,
      "outputs": [
        {
          "output_type": "execute_result",
          "data": {
            "text/plain": [
              "Index([' workclass', ' education', ' marital-status', ' occupation',\n",
              "       ' relationship', ' race', ' sex', ' native-country'],\n",
              "      dtype='object')"
            ]
          },
          "metadata": {},
          "execution_count": 15
        }
      ]
    },
    {
      "cell_type": "code",
      "source": [
        "ct = ColumnTransformer([\n",
        "    ('rob', RobustScaler(), num_cols),\n",
        "    ('ohe', OneHotEncoder(sparse_output=False, handle_unknown='ignore'), cat_cols)\n",
        "])"
      ],
      "metadata": {
        "id": "MXrihDDKLEaQ"
      },
      "execution_count": null,
      "outputs": []
    },
    {
      "cell_type": "code",
      "source": [
        "pipe = Pipeline([\n",
        "    ('ct_step', ct),\n",
        "    ('model', RandomForestClassifier(n_estimators=10, random_state=0))\n",
        "])"
      ],
      "metadata": {
        "id": "YCicd4G4LGld"
      },
      "execution_count": null,
      "outputs": []
    },
    {
      "cell_type": "code",
      "source": [
        "X.loc[6513:].head()"
      ],
      "metadata": {
        "colab": {
          "base_uri": "https://localhost:8080/",
          "height": 310
        },
        "id": "yfcpuONoLK8B",
        "outputId": "344c80be-ec2b-4e27-8cd3-6b1c8364be5d"
      },
      "execution_count": null,
      "outputs": [
        {
          "output_type": "execute_result",
          "data": {
            "text/plain": [
              "      age      workclass   fnlwgt      education   education-num  \\\n",
              "6513   29        Private   280344      Bachelors              13   \n",
              "6514   45        Private   202496      Bachelors              13   \n",
              "6515   61   Self-emp-inc   134768   Some-college              10   \n",
              "6516   40        Private   175686   Some-college              10   \n",
              "6517   24        Private   194748        HS-grad               9   \n",
              "\n",
              "           marital-status          occupation    relationship    race  \\\n",
              "6513   Married-civ-spouse               Sales         Husband   White   \n",
              "6514   Married-civ-spouse   Handlers-cleaners         Husband   White   \n",
              "6515   Married-civ-spouse               Sales         Husband   White   \n",
              "6516             Divorced        Adm-clerical       Unmarried   White   \n",
              "6517        Never-married    Transport-moving   Not-in-family   White   \n",
              "\n",
              "          sex   capital-gain   capital-loss   hours-per-week  native-country  \n",
              "6513     Male              0              0               40   United-States  \n",
              "6514     Male              0              0               37   United-States  \n",
              "6515     Male              0              0               40   United-States  \n",
              "6516   Female              0              0               40   United-States  \n",
              "6517   Female              0              0               49   United-States  "
            ],
            "text/html": [
              "\n",
              "  <div id=\"df-0aec8862-df2d-4528-8ae0-770e116dfcfb\" class=\"colab-df-container\">\n",
              "    <div>\n",
              "<style scoped>\n",
              "    .dataframe tbody tr th:only-of-type {\n",
              "        vertical-align: middle;\n",
              "    }\n",
              "\n",
              "    .dataframe tbody tr th {\n",
              "        vertical-align: top;\n",
              "    }\n",
              "\n",
              "    .dataframe thead th {\n",
              "        text-align: right;\n",
              "    }\n",
              "</style>\n",
              "<table border=\"1\" class=\"dataframe\">\n",
              "  <thead>\n",
              "    <tr style=\"text-align: right;\">\n",
              "      <th></th>\n",
              "      <th>age</th>\n",
              "      <th>workclass</th>\n",
              "      <th>fnlwgt</th>\n",
              "      <th>education</th>\n",
              "      <th>education-num</th>\n",
              "      <th>marital-status</th>\n",
              "      <th>occupation</th>\n",
              "      <th>relationship</th>\n",
              "      <th>race</th>\n",
              "      <th>sex</th>\n",
              "      <th>capital-gain</th>\n",
              "      <th>capital-loss</th>\n",
              "      <th>hours-per-week</th>\n",
              "      <th>native-country</th>\n",
              "    </tr>\n",
              "  </thead>\n",
              "  <tbody>\n",
              "    <tr>\n",
              "      <th>6513</th>\n",
              "      <td>29</td>\n",
              "      <td>Private</td>\n",
              "      <td>280344</td>\n",
              "      <td>Bachelors</td>\n",
              "      <td>13</td>\n",
              "      <td>Married-civ-spouse</td>\n",
              "      <td>Sales</td>\n",
              "      <td>Husband</td>\n",
              "      <td>White</td>\n",
              "      <td>Male</td>\n",
              "      <td>0</td>\n",
              "      <td>0</td>\n",
              "      <td>40</td>\n",
              "      <td>United-States</td>\n",
              "    </tr>\n",
              "    <tr>\n",
              "      <th>6514</th>\n",
              "      <td>45</td>\n",
              "      <td>Private</td>\n",
              "      <td>202496</td>\n",
              "      <td>Bachelors</td>\n",
              "      <td>13</td>\n",
              "      <td>Married-civ-spouse</td>\n",
              "      <td>Handlers-cleaners</td>\n",
              "      <td>Husband</td>\n",
              "      <td>White</td>\n",
              "      <td>Male</td>\n",
              "      <td>0</td>\n",
              "      <td>0</td>\n",
              "      <td>37</td>\n",
              "      <td>United-States</td>\n",
              "    </tr>\n",
              "    <tr>\n",
              "      <th>6515</th>\n",
              "      <td>61</td>\n",
              "      <td>Self-emp-inc</td>\n",
              "      <td>134768</td>\n",
              "      <td>Some-college</td>\n",
              "      <td>10</td>\n",
              "      <td>Married-civ-spouse</td>\n",
              "      <td>Sales</td>\n",
              "      <td>Husband</td>\n",
              "      <td>White</td>\n",
              "      <td>Male</td>\n",
              "      <td>0</td>\n",
              "      <td>0</td>\n",
              "      <td>40</td>\n",
              "      <td>United-States</td>\n",
              "    </tr>\n",
              "    <tr>\n",
              "      <th>6516</th>\n",
              "      <td>40</td>\n",
              "      <td>Private</td>\n",
              "      <td>175686</td>\n",
              "      <td>Some-college</td>\n",
              "      <td>10</td>\n",
              "      <td>Divorced</td>\n",
              "      <td>Adm-clerical</td>\n",
              "      <td>Unmarried</td>\n",
              "      <td>White</td>\n",
              "      <td>Female</td>\n",
              "      <td>0</td>\n",
              "      <td>0</td>\n",
              "      <td>40</td>\n",
              "      <td>United-States</td>\n",
              "    </tr>\n",
              "    <tr>\n",
              "      <th>6517</th>\n",
              "      <td>24</td>\n",
              "      <td>Private</td>\n",
              "      <td>194748</td>\n",
              "      <td>HS-grad</td>\n",
              "      <td>9</td>\n",
              "      <td>Never-married</td>\n",
              "      <td>Transport-moving</td>\n",
              "      <td>Not-in-family</td>\n",
              "      <td>White</td>\n",
              "      <td>Female</td>\n",
              "      <td>0</td>\n",
              "      <td>0</td>\n",
              "      <td>49</td>\n",
              "      <td>United-States</td>\n",
              "    </tr>\n",
              "  </tbody>\n",
              "</table>\n",
              "</div>\n",
              "    <div class=\"colab-df-buttons\">\n",
              "\n",
              "  <div class=\"colab-df-container\">\n",
              "    <button class=\"colab-df-convert\" onclick=\"convertToInteractive('df-0aec8862-df2d-4528-8ae0-770e116dfcfb')\"\n",
              "            title=\"Convert this dataframe to an interactive table.\"\n",
              "            style=\"display:none;\">\n",
              "\n",
              "  <svg xmlns=\"http://www.w3.org/2000/svg\" height=\"24px\" viewBox=\"0 -960 960 960\">\n",
              "    <path d=\"M120-120v-720h720v720H120Zm60-500h600v-160H180v160Zm220 220h160v-160H400v160Zm0 220h160v-160H400v160ZM180-400h160v-160H180v160Zm440 0h160v-160H620v160ZM180-180h160v-160H180v160Zm440 0h160v-160H620v160Z\"/>\n",
              "  </svg>\n",
              "    </button>\n",
              "\n",
              "  <style>\n",
              "    .colab-df-container {\n",
              "      display:flex;\n",
              "      gap: 12px;\n",
              "    }\n",
              "\n",
              "    .colab-df-convert {\n",
              "      background-color: #E8F0FE;\n",
              "      border: none;\n",
              "      border-radius: 50%;\n",
              "      cursor: pointer;\n",
              "      display: none;\n",
              "      fill: #1967D2;\n",
              "      height: 32px;\n",
              "      padding: 0 0 0 0;\n",
              "      width: 32px;\n",
              "    }\n",
              "\n",
              "    .colab-df-convert:hover {\n",
              "      background-color: #E2EBFA;\n",
              "      box-shadow: 0px 1px 2px rgba(60, 64, 67, 0.3), 0px 1px 3px 1px rgba(60, 64, 67, 0.15);\n",
              "      fill: #174EA6;\n",
              "    }\n",
              "\n",
              "    .colab-df-buttons div {\n",
              "      margin-bottom: 4px;\n",
              "    }\n",
              "\n",
              "    [theme=dark] .colab-df-convert {\n",
              "      background-color: #3B4455;\n",
              "      fill: #D2E3FC;\n",
              "    }\n",
              "\n",
              "    [theme=dark] .colab-df-convert:hover {\n",
              "      background-color: #434B5C;\n",
              "      box-shadow: 0px 1px 3px 1px rgba(0, 0, 0, 0.15);\n",
              "      filter: drop-shadow(0px 1px 2px rgba(0, 0, 0, 0.3));\n",
              "      fill: #FFFFFF;\n",
              "    }\n",
              "  </style>\n",
              "\n",
              "    <script>\n",
              "      const buttonEl =\n",
              "        document.querySelector('#df-0aec8862-df2d-4528-8ae0-770e116dfcfb button.colab-df-convert');\n",
              "      buttonEl.style.display =\n",
              "        google.colab.kernel.accessAllowed ? 'block' : 'none';\n",
              "\n",
              "      async function convertToInteractive(key) {\n",
              "        const element = document.querySelector('#df-0aec8862-df2d-4528-8ae0-770e116dfcfb');\n",
              "        const dataTable =\n",
              "          await google.colab.kernel.invokeFunction('convertToInteractive',\n",
              "                                                    [key], {});\n",
              "        if (!dataTable) return;\n",
              "\n",
              "        const docLinkHtml = 'Like what you see? Visit the ' +\n",
              "          '<a target=\"_blank\" href=https://colab.research.google.com/notebooks/data_table.ipynb>data table notebook</a>'\n",
              "          + ' to learn more about interactive tables.';\n",
              "        element.innerHTML = '';\n",
              "        dataTable['output_type'] = 'display_data';\n",
              "        await google.colab.output.renderOutput(dataTable, element);\n",
              "        const docLink = document.createElement('div');\n",
              "        docLink.innerHTML = docLinkHtml;\n",
              "        element.appendChild(docLink);\n",
              "      }\n",
              "    </script>\n",
              "  </div>\n",
              "\n",
              "\n",
              "<div id=\"df-c9acae6f-efe0-442f-b7a3-970d2c356332\">\n",
              "  <button class=\"colab-df-quickchart\" onclick=\"quickchart('df-c9acae6f-efe0-442f-b7a3-970d2c356332')\"\n",
              "            title=\"Suggest charts\"\n",
              "            style=\"display:none;\">\n",
              "\n",
              "<svg xmlns=\"http://www.w3.org/2000/svg\" height=\"24px\"viewBox=\"0 0 24 24\"\n",
              "     width=\"24px\">\n",
              "    <g>\n",
              "        <path d=\"M19 3H5c-1.1 0-2 .9-2 2v14c0 1.1.9 2 2 2h14c1.1 0 2-.9 2-2V5c0-1.1-.9-2-2-2zM9 17H7v-7h2v7zm4 0h-2V7h2v10zm4 0h-2v-4h2v4z\"/>\n",
              "    </g>\n",
              "</svg>\n",
              "  </button>\n",
              "\n",
              "<style>\n",
              "  .colab-df-quickchart {\n",
              "      --bg-color: #E8F0FE;\n",
              "      --fill-color: #1967D2;\n",
              "      --hover-bg-color: #E2EBFA;\n",
              "      --hover-fill-color: #174EA6;\n",
              "      --disabled-fill-color: #AAA;\n",
              "      --disabled-bg-color: #DDD;\n",
              "  }\n",
              "\n",
              "  [theme=dark] .colab-df-quickchart {\n",
              "      --bg-color: #3B4455;\n",
              "      --fill-color: #D2E3FC;\n",
              "      --hover-bg-color: #434B5C;\n",
              "      --hover-fill-color: #FFFFFF;\n",
              "      --disabled-bg-color: #3B4455;\n",
              "      --disabled-fill-color: #666;\n",
              "  }\n",
              "\n",
              "  .colab-df-quickchart {\n",
              "    background-color: var(--bg-color);\n",
              "    border: none;\n",
              "    border-radius: 50%;\n",
              "    cursor: pointer;\n",
              "    display: none;\n",
              "    fill: var(--fill-color);\n",
              "    height: 32px;\n",
              "    padding: 0;\n",
              "    width: 32px;\n",
              "  }\n",
              "\n",
              "  .colab-df-quickchart:hover {\n",
              "    background-color: var(--hover-bg-color);\n",
              "    box-shadow: 0 1px 2px rgba(60, 64, 67, 0.3), 0 1px 3px 1px rgba(60, 64, 67, 0.15);\n",
              "    fill: var(--button-hover-fill-color);\n",
              "  }\n",
              "\n",
              "  .colab-df-quickchart-complete:disabled,\n",
              "  .colab-df-quickchart-complete:disabled:hover {\n",
              "    background-color: var(--disabled-bg-color);\n",
              "    fill: var(--disabled-fill-color);\n",
              "    box-shadow: none;\n",
              "  }\n",
              "\n",
              "  .colab-df-spinner {\n",
              "    border: 2px solid var(--fill-color);\n",
              "    border-color: transparent;\n",
              "    border-bottom-color: var(--fill-color);\n",
              "    animation:\n",
              "      spin 1s steps(1) infinite;\n",
              "  }\n",
              "\n",
              "  @keyframes spin {\n",
              "    0% {\n",
              "      border-color: transparent;\n",
              "      border-bottom-color: var(--fill-color);\n",
              "      border-left-color: var(--fill-color);\n",
              "    }\n",
              "    20% {\n",
              "      border-color: transparent;\n",
              "      border-left-color: var(--fill-color);\n",
              "      border-top-color: var(--fill-color);\n",
              "    }\n",
              "    30% {\n",
              "      border-color: transparent;\n",
              "      border-left-color: var(--fill-color);\n",
              "      border-top-color: var(--fill-color);\n",
              "      border-right-color: var(--fill-color);\n",
              "    }\n",
              "    40% {\n",
              "      border-color: transparent;\n",
              "      border-right-color: var(--fill-color);\n",
              "      border-top-color: var(--fill-color);\n",
              "    }\n",
              "    60% {\n",
              "      border-color: transparent;\n",
              "      border-right-color: var(--fill-color);\n",
              "    }\n",
              "    80% {\n",
              "      border-color: transparent;\n",
              "      border-right-color: var(--fill-color);\n",
              "      border-bottom-color: var(--fill-color);\n",
              "    }\n",
              "    90% {\n",
              "      border-color: transparent;\n",
              "      border-bottom-color: var(--fill-color);\n",
              "    }\n",
              "  }\n",
              "</style>\n",
              "\n",
              "  <script>\n",
              "    async function quickchart(key) {\n",
              "      const quickchartButtonEl =\n",
              "        document.querySelector('#' + key + ' button');\n",
              "      quickchartButtonEl.disabled = true;  // To prevent multiple clicks.\n",
              "      quickchartButtonEl.classList.add('colab-df-spinner');\n",
              "      try {\n",
              "        const charts = await google.colab.kernel.invokeFunction(\n",
              "            'suggestCharts', [key], {});\n",
              "      } catch (error) {\n",
              "        console.error('Error during call to suggestCharts:', error);\n",
              "      }\n",
              "      quickchartButtonEl.classList.remove('colab-df-spinner');\n",
              "      quickchartButtonEl.classList.add('colab-df-quickchart-complete');\n",
              "    }\n",
              "    (() => {\n",
              "      let quickchartButtonEl =\n",
              "        document.querySelector('#df-c9acae6f-efe0-442f-b7a3-970d2c356332 button');\n",
              "      quickchartButtonEl.style.display =\n",
              "        google.colab.kernel.accessAllowed ? 'block' : 'none';\n",
              "    })();\n",
              "  </script>\n",
              "</div>\n",
              "    </div>\n",
              "  </div>\n"
            ]
          },
          "metadata": {},
          "execution_count": 18
        }
      ]
    },
    {
      "cell_type": "code",
      "source": [
        "scores = []\n",
        "i = 1\n",
        "for train_set, test_set in kf.split(X):\n",
        "    pipe.fit(X.loc[train_set], y[train_set])\n",
        "    sco = pipe.score(X.loc[test_set], y[test_set])\n",
        "    scores.append(sco)\n",
        "    print(\"iteration \", i)\n",
        "    i += 1"
      ],
      "metadata": {
        "colab": {
          "base_uri": "https://localhost:8080/"
        },
        "id": "hX2fdS1HLLiP",
        "outputId": "ce83ce39-cc85-4d8d-d844-f61e5e0110a8"
      },
      "execution_count": null,
      "outputs": [
        {
          "output_type": "stream",
          "name": "stdout",
          "text": [
            "iteration  1\n",
            "iteration  2\n",
            "iteration  3\n",
            "iteration  4\n",
            "iteration  5\n"
          ]
        }
      ]
    },
    {
      "cell_type": "code",
      "source": [
        "np.array(scores)"
      ],
      "metadata": {
        "colab": {
          "base_uri": "https://localhost:8080/"
        },
        "id": "TBV_0ZTLLOQ-",
        "outputId": "d5becccf-a0bb-484e-9aa3-35a6c868ca81"
      },
      "execution_count": null,
      "outputs": [
        {
          "output_type": "execute_result",
          "data": {
            "text/plain": [
              "array([0.84784278, 0.84520885, 0.84613022, 0.84858722, 0.85165848])"
            ]
          },
          "metadata": {},
          "execution_count": 20
        }
      ]
    },
    {
      "cell_type": "code",
      "source": [
        "np.array(scores).mean()"
      ],
      "metadata": {
        "colab": {
          "base_uri": "https://localhost:8080/"
        },
        "id": "W8uicv0yLOT1",
        "outputId": "b0992f24-82f1-4294-c036-f2bd7ecd0261"
      },
      "execution_count": null,
      "outputs": [
        {
          "output_type": "execute_result",
          "data": {
            "text/plain": [
              "0.8478855085142512"
            ]
          },
          "metadata": {},
          "execution_count": 21
        }
      ]
    },
    {
      "cell_type": "code",
      "source": [
        "np.array(scores).std()"
      ],
      "metadata": {
        "colab": {
          "base_uri": "https://localhost:8080/"
        },
        "id": "C3qRsQ6GLOWt",
        "outputId": "b07946d1-4d51-4d4b-b205-516b81faf8fd"
      },
      "execution_count": null,
      "outputs": [
        {
          "output_type": "execute_result",
          "data": {
            "text/plain": [
              "0.0022349531977626388"
            ]
          },
          "metadata": {},
          "execution_count": 22
        }
      ]
    },
    {
      "cell_type": "markdown",
      "source": [
        "###2. Stratified KFold Cross Validation"
      ],
      "metadata": {
        "id": "Uu8_Kg-zz820"
      }
    },
    {
      "cell_type": "code",
      "source": [
        "y.value_counts()"
      ],
      "metadata": {
        "colab": {
          "base_uri": "https://localhost:8080/"
        },
        "id": "0agbHSwDLOaG",
        "outputId": "5e2b137c-1438-44c7-f441-9f47fa36e8d3"
      },
      "execution_count": null,
      "outputs": [
        {
          "output_type": "execute_result",
          "data": {
            "text/plain": [
              " <=50K    24720\n",
              " >50K      7841\n",
              "Name:  income, dtype: int64"
            ]
          },
          "metadata": {},
          "execution_count": 23
        }
      ]
    },
    {
      "cell_type": "code",
      "source": [
        "7841/5"
      ],
      "metadata": {
        "colab": {
          "base_uri": "https://localhost:8080/"
        },
        "id": "CRgKpEUoLXrq",
        "outputId": "5f2e108a-d7dd-4440-f90f-765d9b573a44"
      },
      "execution_count": null,
      "outputs": [
        {
          "output_type": "execute_result",
          "data": {
            "text/plain": [
              "1568.2"
            ]
          },
          "metadata": {},
          "execution_count": 24
        }
      ]
    },
    {
      "cell_type": "code",
      "source": [
        "24720/5"
      ],
      "metadata": {
        "colab": {
          "base_uri": "https://localhost:8080/"
        },
        "id": "r4RF46U8LaED",
        "outputId": "34aecc24-ed55-4e64-db22-9d74f8decaf3"
      },
      "execution_count": null,
      "outputs": [
        {
          "output_type": "execute_result",
          "data": {
            "text/plain": [
              "4944.0"
            ]
          },
          "metadata": {},
          "execution_count": 25
        }
      ]
    },
    {
      "cell_type": "code",
      "source": [
        "4944*4"
      ],
      "metadata": {
        "colab": {
          "base_uri": "https://localhost:8080/"
        },
        "id": "YqgcdmOkLcAM",
        "outputId": "a8d0e00d-fa00-4d87-d9aa-5db7de7faf97"
      },
      "execution_count": null,
      "outputs": [
        {
          "output_type": "execute_result",
          "data": {
            "text/plain": [
              "19776"
            ]
          },
          "metadata": {},
          "execution_count": 26
        }
      ]
    },
    {
      "cell_type": "code",
      "source": [
        "skf = StratifiedKFold(n_splits=5)"
      ],
      "metadata": {
        "id": "OJixPmiILeBT"
      },
      "execution_count": null,
      "outputs": []
    },
    {
      "cell_type": "code",
      "source": [
        "scores_skf = []\n",
        "i = 1\n",
        "for train_set, test_set in skf.split(X, y):\n",
        "    pipe.fit(X.loc[train_set], y[train_set])\n",
        "    sco = pipe.score(X.loc[test_set], y[test_set])\n",
        "    scores_skf.append(sco)\n",
        "    print(\"iteration \", i)\n",
        "    i += 1"
      ],
      "metadata": {
        "colab": {
          "base_uri": "https://localhost:8080/"
        },
        "id": "oi9wwmQbLgU_",
        "outputId": "fff64d61-3f9d-466c-9a34-e67ec02639e2"
      },
      "execution_count": null,
      "outputs": [
        {
          "output_type": "stream",
          "name": "stdout",
          "text": [
            "iteration  1\n",
            "iteration  2\n",
            "iteration  3\n",
            "iteration  4\n",
            "iteration  5\n"
          ]
        }
      ]
    },
    {
      "cell_type": "code",
      "source": [
        "scores_skf"
      ],
      "metadata": {
        "colab": {
          "base_uri": "https://localhost:8080/"
        },
        "id": "RpQVlPk9Liqr",
        "outputId": "747a3b14-2159-44d8-ca06-0f4f784b1cf6"
      },
      "execution_count": null,
      "outputs": [
        {
          "output_type": "execute_result",
          "data": {
            "text/plain": [
              "[0.8473821587594043,\n",
              " 0.8432125307125307,\n",
              " 0.8421375921375921,\n",
              " 0.8425982800982801,\n",
              " 0.8536547911547911]"
            ]
          },
          "metadata": {},
          "execution_count": 29
        }
      ]
    },
    {
      "cell_type": "code",
      "source": [
        "i = 1\n",
        "for train_set, test_set in skf.split(X=X, y=y):\n",
        "    print(\"iteration \", i)\n",
        "    print(train_set, \" having :\" , len(train_set))\n",
        "    print(test_set, \" having :\" , len(test_set))\n",
        "    print()\n",
        "    print(\"y train counts: \\n\", y[train_set].value_counts())\n",
        "    print(\"y test counts: \\n\", y[test_set].value_counts())\n",
        "    print(\"-------------------------\")\n",
        "    i += 1"
      ],
      "metadata": {
        "colab": {
          "base_uri": "https://localhost:8080/"
        },
        "id": "GjN8S9ibLk-3",
        "outputId": "3ca56b35-312e-44c8-f2ff-7ddf58aa05fe"
      },
      "execution_count": null,
      "outputs": [
        {
          "output_type": "stream",
          "name": "stdout",
          "text": [
            "iteration  1\n",
            "[ 6499  6500  6512 ... 32558 32559 32560]  having : 26048\n",
            "[   0    1    2 ... 6514 6515 6516]  having : 6513\n",
            "\n",
            "y train counts: \n",
            "  <=50K    19776\n",
            " >50K      6272\n",
            "Name:  income, dtype: int64\n",
            "y test counts: \n",
            "  <=50K    4944\n",
            " >50K     1569\n",
            "Name:  income, dtype: int64\n",
            "-------------------------\n",
            "iteration  2\n",
            "[    0     1     2 ... 32558 32559 32560]  having : 26049\n",
            "[ 6499  6500  6512 ... 13121 13123 13125]  having : 6512\n",
            "\n",
            "y train counts: \n",
            "  <=50K    19776\n",
            " >50K      6273\n",
            "Name:  income, dtype: int64\n",
            "y test counts: \n",
            "  <=50K    4944\n",
            " >50K     1568\n",
            "Name:  income, dtype: int64\n",
            "-------------------------\n",
            "iteration  3\n",
            "[    0     1     2 ... 32558 32559 32560]  having : 26049\n",
            "[12997 12999 13000 ... 19727 19729 19733]  having : 6512\n",
            "\n",
            "y train counts: \n",
            "  <=50K    19776\n",
            " >50K      6273\n",
            "Name:  income, dtype: int64\n",
            "y test counts: \n",
            "  <=50K    4944\n",
            " >50K     1568\n",
            "Name:  income, dtype: int64\n",
            "-------------------------\n",
            "iteration  4\n",
            "[    0     1     2 ... 32558 32559 32560]  having : 26049\n",
            "[19482 19484 19485 ... 26161 26168 26170]  having : 6512\n",
            "\n",
            "y train counts: \n",
            "  <=50K    19776\n",
            " >50K      6273\n",
            "Name:  income, dtype: int64\n",
            "y test counts: \n",
            "  <=50K    4944\n",
            " >50K     1568\n",
            "Name:  income, dtype: int64\n",
            "-------------------------\n",
            "iteration  5\n",
            "[    0     1     2 ... 26161 26168 26170]  having : 26049\n",
            "[26005 26006 26007 ... 32558 32559 32560]  having : 6512\n",
            "\n",
            "y train counts: \n",
            "  <=50K    19776\n",
            " >50K      6273\n",
            "Name:  income, dtype: int64\n",
            "y test counts: \n",
            "  <=50K    4944\n",
            " >50K     1568\n",
            "Name:  income, dtype: int64\n",
            "-------------------------\n"
          ]
        }
      ]
    },
    {
      "cell_type": "code",
      "source": [
        "result_kf = cross_val_score(estimator=pipe, X=X, y=y, scoring='accuracy', cv=5)"
      ],
      "metadata": {
        "id": "aBn52oQzLnpt"
      },
      "execution_count": null,
      "outputs": []
    },
    {
      "cell_type": "code",
      "source": [
        "result_kf"
      ],
      "metadata": {
        "colab": {
          "base_uri": "https://localhost:8080/"
        },
        "id": "Rwn9eHbKLqn6",
        "outputId": "c70aa6e9-15a9-44d4-f275-c28f65332074"
      },
      "execution_count": null,
      "outputs": [
        {
          "output_type": "execute_result",
          "data": {
            "text/plain": [
              "array([0.84738216, 0.84321253, 0.84213759, 0.84259828, 0.85365479])"
            ]
          },
          "metadata": {},
          "execution_count": 32
        }
      ]
    },
    {
      "cell_type": "markdown",
      "source": [
        "###3. Leave one out Cross Validation"
      ],
      "metadata": {
        "id": "dgX_PSMq0IeS"
      }
    },
    {
      "cell_type": "code",
      "source": [
        "start = time.time()\n",
        "result_kf10 = cross_val_score(estimator=pipe, X=X, y=y, scoring='accuracy', cv=KFold(n_splits=10))\n",
        "result_kf10\n",
        "print(\"time taken: \", time.time()-start)"
      ],
      "metadata": {
        "colab": {
          "base_uri": "https://localhost:8080/"
        },
        "id": "zQ3ySDMoLtqT",
        "outputId": "13ec5030-2661-4921-8c77-590eefff4d5e"
      },
      "execution_count": null,
      "outputs": [
        {
          "output_type": "stream",
          "name": "stdout",
          "text": [
            "time taken:  5.636351108551025\n"
          ]
        }
      ]
    },
    {
      "cell_type": "code",
      "source": [
        "result_kf10"
      ],
      "metadata": {
        "colab": {
          "base_uri": "https://localhost:8080/"
        },
        "id": "lqDuvu23Lv93",
        "outputId": "78542fcc-09d2-4acc-be71-cf31be9bd58c"
      },
      "execution_count": null,
      "outputs": [
        {
          "output_type": "execute_result",
          "data": {
            "text/plain": [
              "array([0.83880872, 0.85165848, 0.84981572, 0.84367322, 0.85135135,\n",
              "       0.84613022, 0.84520885, 0.84797297, 0.8544226 , 0.84459459])"
            ]
          },
          "metadata": {},
          "execution_count": 34
        }
      ]
    },
    {
      "cell_type": "code",
      "source": [
        "start = time.time()\n",
        "result_loocv = cross_val_score(estimator=pipe, X=X.head(100), y=y.head(100),\n",
        "                               scoring='accuracy', cv=LeaveOneOut())\n",
        "print(\"time taken: \", time.time()-start)"
      ],
      "metadata": {
        "colab": {
          "base_uri": "https://localhost:8080/"
        },
        "id": "Ddi84wYyMAXf",
        "outputId": "c23dbddd-86b2-46c4-fd7b-d9ff3955a8d6"
      },
      "execution_count": null,
      "outputs": [
        {
          "output_type": "stream",
          "name": "stdout",
          "text": [
            "time taken:  3.4439473152160645\n"
          ]
        }
      ]
    },
    {
      "cell_type": "code",
      "source": [
        "32531/100"
      ],
      "metadata": {
        "colab": {
          "base_uri": "https://localhost:8080/"
        },
        "id": "fEuh0y0bMKby",
        "outputId": "946f4d87-2ea9-49d0-ca57-ca99a1bc4e4a"
      },
      "execution_count": null,
      "outputs": [
        {
          "output_type": "execute_result",
          "data": {
            "text/plain": [
              "325.31"
            ]
          },
          "metadata": {},
          "execution_count": 36
        }
      ]
    },
    {
      "cell_type": "code",
      "source": [
        "325*8"
      ],
      "metadata": {
        "colab": {
          "base_uri": "https://localhost:8080/"
        },
        "id": "3WIQrAJiMM7q",
        "outputId": "e6911b48-6825-43c5-a589-9917d9dadfb2"
      },
      "execution_count": null,
      "outputs": [
        {
          "output_type": "execute_result",
          "data": {
            "text/plain": [
              "2600"
            ]
          },
          "metadata": {},
          "execution_count": 37
        }
      ]
    },
    {
      "cell_type": "code",
      "source": [
        "325*8/60"
      ],
      "metadata": {
        "colab": {
          "base_uri": "https://localhost:8080/"
        },
        "id": "1kV51lSuMPpU",
        "outputId": "b9301687-4a0f-4c30-ba22-2b5ef9bd0f39"
      },
      "execution_count": null,
      "outputs": [
        {
          "output_type": "execute_result",
          "data": {
            "text/plain": [
              "43.333333333333336"
            ]
          },
          "metadata": {},
          "execution_count": 38
        }
      ]
    },
    {
      "cell_type": "code",
      "source": [
        "result_loocv"
      ],
      "metadata": {
        "colab": {
          "base_uri": "https://localhost:8080/"
        },
        "id": "8myXkifIMSpU",
        "outputId": "e1d83566-a245-40b3-f494-8049ecf67338"
      },
      "execution_count": null,
      "outputs": [
        {
          "output_type": "execute_result",
          "data": {
            "text/plain": [
              "array([1., 1., 1., 1., 1., 1., 1., 0., 0., 0., 0., 0., 1., 1., 0., 1., 1.,\n",
              "       1., 1., 0., 1., 1., 1., 1., 1., 1., 1., 1., 1., 1., 1., 1., 1., 1.,\n",
              "       0., 1., 1., 1., 0., 1., 1., 1., 1., 1., 1., 0., 1., 1., 1., 1., 1.,\n",
              "       1., 1., 0., 1., 0., 1., 1., 1., 1., 1., 1., 1., 0., 1., 1., 1., 0.,\n",
              "       0., 1., 1., 1., 0., 1., 1., 1., 1., 1., 1., 1., 1., 1., 1., 1., 0.,\n",
              "       1., 0., 1., 1., 1., 1., 1., 1., 1., 0., 1., 1., 0., 1., 1.])"
            ]
          },
          "metadata": {},
          "execution_count": 39
        }
      ]
    },
    {
      "cell_type": "code",
      "source": [
        "result_loocv.mean()"
      ],
      "metadata": {
        "colab": {
          "base_uri": "https://localhost:8080/"
        },
        "id": "ButtxrtFMXG7",
        "outputId": "5cb3cb90-bc6d-453d-c067-33b5f14e7392"
      },
      "execution_count": null,
      "outputs": [
        {
          "output_type": "execute_result",
          "data": {
            "text/plain": [
              "0.8"
            ]
          },
          "metadata": {},
          "execution_count": 40
        }
      ]
    },
    {
      "cell_type": "markdown",
      "source": [
        "###4. Repeated KFold Cross Validation"
      ],
      "metadata": {
        "id": "O6o8DZW30TjL"
      }
    },
    {
      "cell_type": "code",
      "source": [
        "start = time.time()\n",
        "result_rkf = cross_val_score(estimator=pipe, X=X, y=y, scoring='accuracy',\n",
        "                              cv=RepeatedKFold(n_splits=5, n_repeats=5))\n",
        "result_rkf\n",
        "print(\"time taken: \", time.time()-start)"
      ],
      "metadata": {
        "colab": {
          "base_uri": "https://localhost:8080/"
        },
        "id": "j-vZg6OfMmi_",
        "outputId": "36024d08-fd71-4321-bbdd-70958bd36132"
      },
      "execution_count": null,
      "outputs": [
        {
          "output_type": "stream",
          "name": "stdout",
          "text": [
            "time taken:  14.659301042556763\n"
          ]
        }
      ]
    },
    {
      "cell_type": "code",
      "source": [
        "result_rkf"
      ],
      "metadata": {
        "colab": {
          "base_uri": "https://localhost:8080/"
        },
        "id": "TtfLfbJYMrLU",
        "outputId": "f7849377-7fac-4432-f4ec-bcbdd002f7a8"
      },
      "execution_count": null,
      "outputs": [
        {
          "output_type": "execute_result",
          "data": {
            "text/plain": [
              "array([0.85337018, 0.84874079, 0.84674447, 0.84336609, 0.8495086 ,\n",
              "       0.85521265, 0.84643735, 0.84920147, 0.84305897, 0.85135135,\n",
              "       0.84692154, 0.84520885, 0.85150491, 0.84474816, 0.85242629,\n",
              "       0.84385076, 0.85165848, 0.84136978, 0.84689803, 0.85304054,\n",
              "       0.84538615, 0.85488329, 0.85027641, 0.83952703, 0.85626536])"
            ]
          },
          "metadata": {},
          "execution_count": 42
        }
      ]
    },
    {
      "cell_type": "markdown",
      "source": [
        "###5. Performing Cross validation on a training set, and then verifying our results on a seperate testset to generalize our results."
      ],
      "metadata": {
        "id": "bUHaPOl80hnr"
      }
    },
    {
      "cell_type": "code",
      "source": [
        "X_train, X_test, y_train, y_test = train_test_split(X, y, test_size=0.2, random_state=0)"
      ],
      "metadata": {
        "id": "8LjvrLiPMtS4"
      },
      "execution_count": null,
      "outputs": []
    },
    {
      "cell_type": "code",
      "source": [
        "start = time.time()\n",
        "result_tts = cross_val_score(estimator=pipe, X=X_train, y=y_train,\n",
        "                              scoring='accuracy', cv=KFold(n_splits=5))\n",
        "print(\"time taken: \", time.time()-start)"
      ],
      "metadata": {
        "colab": {
          "base_uri": "https://localhost:8080/"
        },
        "id": "pcEbqWamMx5R",
        "outputId": "5bca7c9f-c9a9-41f9-9931-4287e537bdb2"
      },
      "execution_count": null,
      "outputs": [
        {
          "output_type": "stream",
          "name": "stdout",
          "text": [
            "time taken:  2.8047659397125244\n"
          ]
        }
      ]
    },
    {
      "cell_type": "code",
      "source": [
        "result_tts"
      ],
      "metadata": {
        "colab": {
          "base_uri": "https://localhost:8080/"
        },
        "id": "7qAyhI9zMz6E",
        "outputId": "f3a7424c-4bdb-437c-cf57-75ab1d93b0f6"
      },
      "execution_count": null,
      "outputs": [
        {
          "output_type": "execute_result",
          "data": {
            "text/plain": [
              "array([0.85547025, 0.84702495, 0.84184261, 0.84661163, 0.84968324])"
            ]
          },
          "metadata": {},
          "execution_count": 45
        }
      ]
    },
    {
      "cell_type": "code",
      "source": [
        "pipe.fit(X_train, y_train)"
      ],
      "metadata": {
        "colab": {
          "base_uri": "https://localhost:8080/",
          "height": 192
        },
        "id": "b-D6dsAtM2NY",
        "outputId": "7b2547b0-26b4-40cb-c710-36bf75674003"
      },
      "execution_count": null,
      "outputs": [
        {
          "output_type": "execute_result",
          "data": {
            "text/plain": [
              "Pipeline(steps=[('ct_step',\n",
              "                 ColumnTransformer(transformers=[('rob', RobustScaler(),\n",
              "                                                  Index(['age', ' fnlwgt', ' education-num', ' capital-gain', ' capital-loss',\n",
              "       ' hours-per-week'],\n",
              "      dtype='object')),\n",
              "                                                 ('ohe',\n",
              "                                                  OneHotEncoder(handle_unknown='ignore',\n",
              "                                                                sparse_output=False),\n",
              "                                                  Index([' workclass', ' education', ' marital-status', ' occupation',\n",
              "       ' relationship', ' race', ' sex', ' native-country'],\n",
              "      dtype='object'))])),\n",
              "                ('model',\n",
              "                 RandomForestClassifier(n_estimators=10, random_state=0))])"
            ],
            "text/html": [
              "<style>#sk-container-id-1 {color: black;background-color: white;}#sk-container-id-1 pre{padding: 0;}#sk-container-id-1 div.sk-toggleable {background-color: white;}#sk-container-id-1 label.sk-toggleable__label {cursor: pointer;display: block;width: 100%;margin-bottom: 0;padding: 0.3em;box-sizing: border-box;text-align: center;}#sk-container-id-1 label.sk-toggleable__label-arrow:before {content: \"▸\";float: left;margin-right: 0.25em;color: #696969;}#sk-container-id-1 label.sk-toggleable__label-arrow:hover:before {color: black;}#sk-container-id-1 div.sk-estimator:hover label.sk-toggleable__label-arrow:before {color: black;}#sk-container-id-1 div.sk-toggleable__content {max-height: 0;max-width: 0;overflow: hidden;text-align: left;background-color: #f0f8ff;}#sk-container-id-1 div.sk-toggleable__content pre {margin: 0.2em;color: black;border-radius: 0.25em;background-color: #f0f8ff;}#sk-container-id-1 input.sk-toggleable__control:checked~div.sk-toggleable__content {max-height: 200px;max-width: 100%;overflow: auto;}#sk-container-id-1 input.sk-toggleable__control:checked~label.sk-toggleable__label-arrow:before {content: \"▾\";}#sk-container-id-1 div.sk-estimator input.sk-toggleable__control:checked~label.sk-toggleable__label {background-color: #d4ebff;}#sk-container-id-1 div.sk-label input.sk-toggleable__control:checked~label.sk-toggleable__label {background-color: #d4ebff;}#sk-container-id-1 input.sk-hidden--visually {border: 0;clip: rect(1px 1px 1px 1px);clip: rect(1px, 1px, 1px, 1px);height: 1px;margin: -1px;overflow: hidden;padding: 0;position: absolute;width: 1px;}#sk-container-id-1 div.sk-estimator {font-family: monospace;background-color: #f0f8ff;border: 1px dotted black;border-radius: 0.25em;box-sizing: border-box;margin-bottom: 0.5em;}#sk-container-id-1 div.sk-estimator:hover {background-color: #d4ebff;}#sk-container-id-1 div.sk-parallel-item::after {content: \"\";width: 100%;border-bottom: 1px solid gray;flex-grow: 1;}#sk-container-id-1 div.sk-label:hover label.sk-toggleable__label {background-color: #d4ebff;}#sk-container-id-1 div.sk-serial::before {content: \"\";position: absolute;border-left: 1px solid gray;box-sizing: border-box;top: 0;bottom: 0;left: 50%;z-index: 0;}#sk-container-id-1 div.sk-serial {display: flex;flex-direction: column;align-items: center;background-color: white;padding-right: 0.2em;padding-left: 0.2em;position: relative;}#sk-container-id-1 div.sk-item {position: relative;z-index: 1;}#sk-container-id-1 div.sk-parallel {display: flex;align-items: stretch;justify-content: center;background-color: white;position: relative;}#sk-container-id-1 div.sk-item::before, #sk-container-id-1 div.sk-parallel-item::before {content: \"\";position: absolute;border-left: 1px solid gray;box-sizing: border-box;top: 0;bottom: 0;left: 50%;z-index: -1;}#sk-container-id-1 div.sk-parallel-item {display: flex;flex-direction: column;z-index: 1;position: relative;background-color: white;}#sk-container-id-1 div.sk-parallel-item:first-child::after {align-self: flex-end;width: 50%;}#sk-container-id-1 div.sk-parallel-item:last-child::after {align-self: flex-start;width: 50%;}#sk-container-id-1 div.sk-parallel-item:only-child::after {width: 0;}#sk-container-id-1 div.sk-dashed-wrapped {border: 1px dashed gray;margin: 0 0.4em 0.5em 0.4em;box-sizing: border-box;padding-bottom: 0.4em;background-color: white;}#sk-container-id-1 div.sk-label label {font-family: monospace;font-weight: bold;display: inline-block;line-height: 1.2em;}#sk-container-id-1 div.sk-label-container {text-align: center;}#sk-container-id-1 div.sk-container {/* jupyter's `normalize.less` sets `[hidden] { display: none; }` but bootstrap.min.css set `[hidden] { display: none !important; }` so we also need the `!important` here to be able to override the default hidden behavior on the sphinx rendered scikit-learn.org. See: https://github.com/scikit-learn/scikit-learn/issues/21755 */display: inline-block !important;position: relative;}#sk-container-id-1 div.sk-text-repr-fallback {display: none;}</style><div id=\"sk-container-id-1\" class=\"sk-top-container\"><div class=\"sk-text-repr-fallback\"><pre>Pipeline(steps=[(&#x27;ct_step&#x27;,\n",
              "                 ColumnTransformer(transformers=[(&#x27;rob&#x27;, RobustScaler(),\n",
              "                                                  Index([&#x27;age&#x27;, &#x27; fnlwgt&#x27;, &#x27; education-num&#x27;, &#x27; capital-gain&#x27;, &#x27; capital-loss&#x27;,\n",
              "       &#x27; hours-per-week&#x27;],\n",
              "      dtype=&#x27;object&#x27;)),\n",
              "                                                 (&#x27;ohe&#x27;,\n",
              "                                                  OneHotEncoder(handle_unknown=&#x27;ignore&#x27;,\n",
              "                                                                sparse_output=False),\n",
              "                                                  Index([&#x27; workclass&#x27;, &#x27; education&#x27;, &#x27; marital-status&#x27;, &#x27; occupation&#x27;,\n",
              "       &#x27; relationship&#x27;, &#x27; race&#x27;, &#x27; sex&#x27;, &#x27; native-country&#x27;],\n",
              "      dtype=&#x27;object&#x27;))])),\n",
              "                (&#x27;model&#x27;,\n",
              "                 RandomForestClassifier(n_estimators=10, random_state=0))])</pre><b>In a Jupyter environment, please rerun this cell to show the HTML representation or trust the notebook. <br />On GitHub, the HTML representation is unable to render, please try loading this page with nbviewer.org.</b></div><div class=\"sk-container\" hidden><div class=\"sk-item sk-dashed-wrapped\"><div class=\"sk-label-container\"><div class=\"sk-label sk-toggleable\"><input class=\"sk-toggleable__control sk-hidden--visually\" id=\"sk-estimator-id-1\" type=\"checkbox\" ><label for=\"sk-estimator-id-1\" class=\"sk-toggleable__label sk-toggleable__label-arrow\">Pipeline</label><div class=\"sk-toggleable__content\"><pre>Pipeline(steps=[(&#x27;ct_step&#x27;,\n",
              "                 ColumnTransformer(transformers=[(&#x27;rob&#x27;, RobustScaler(),\n",
              "                                                  Index([&#x27;age&#x27;, &#x27; fnlwgt&#x27;, &#x27; education-num&#x27;, &#x27; capital-gain&#x27;, &#x27; capital-loss&#x27;,\n",
              "       &#x27; hours-per-week&#x27;],\n",
              "      dtype=&#x27;object&#x27;)),\n",
              "                                                 (&#x27;ohe&#x27;,\n",
              "                                                  OneHotEncoder(handle_unknown=&#x27;ignore&#x27;,\n",
              "                                                                sparse_output=False),\n",
              "                                                  Index([&#x27; workclass&#x27;, &#x27; education&#x27;, &#x27; marital-status&#x27;, &#x27; occupation&#x27;,\n",
              "       &#x27; relationship&#x27;, &#x27; race&#x27;, &#x27; sex&#x27;, &#x27; native-country&#x27;],\n",
              "      dtype=&#x27;object&#x27;))])),\n",
              "                (&#x27;model&#x27;,\n",
              "                 RandomForestClassifier(n_estimators=10, random_state=0))])</pre></div></div></div><div class=\"sk-serial\"><div class=\"sk-item sk-dashed-wrapped\"><div class=\"sk-label-container\"><div class=\"sk-label sk-toggleable\"><input class=\"sk-toggleable__control sk-hidden--visually\" id=\"sk-estimator-id-2\" type=\"checkbox\" ><label for=\"sk-estimator-id-2\" class=\"sk-toggleable__label sk-toggleable__label-arrow\">ct_step: ColumnTransformer</label><div class=\"sk-toggleable__content\"><pre>ColumnTransformer(transformers=[(&#x27;rob&#x27;, RobustScaler(),\n",
              "                                 Index([&#x27;age&#x27;, &#x27; fnlwgt&#x27;, &#x27; education-num&#x27;, &#x27; capital-gain&#x27;, &#x27; capital-loss&#x27;,\n",
              "       &#x27; hours-per-week&#x27;],\n",
              "      dtype=&#x27;object&#x27;)),\n",
              "                                (&#x27;ohe&#x27;,\n",
              "                                 OneHotEncoder(handle_unknown=&#x27;ignore&#x27;,\n",
              "                                               sparse_output=False),\n",
              "                                 Index([&#x27; workclass&#x27;, &#x27; education&#x27;, &#x27; marital-status&#x27;, &#x27; occupation&#x27;,\n",
              "       &#x27; relationship&#x27;, &#x27; race&#x27;, &#x27; sex&#x27;, &#x27; native-country&#x27;],\n",
              "      dtype=&#x27;object&#x27;))])</pre></div></div></div><div class=\"sk-parallel\"><div class=\"sk-parallel-item\"><div class=\"sk-item\"><div class=\"sk-label-container\"><div class=\"sk-label sk-toggleable\"><input class=\"sk-toggleable__control sk-hidden--visually\" id=\"sk-estimator-id-3\" type=\"checkbox\" ><label for=\"sk-estimator-id-3\" class=\"sk-toggleable__label sk-toggleable__label-arrow\">rob</label><div class=\"sk-toggleable__content\"><pre>Index([&#x27;age&#x27;, &#x27; fnlwgt&#x27;, &#x27; education-num&#x27;, &#x27; capital-gain&#x27;, &#x27; capital-loss&#x27;,\n",
              "       &#x27; hours-per-week&#x27;],\n",
              "      dtype=&#x27;object&#x27;)</pre></div></div></div><div class=\"sk-serial\"><div class=\"sk-item\"><div class=\"sk-estimator sk-toggleable\"><input class=\"sk-toggleable__control sk-hidden--visually\" id=\"sk-estimator-id-4\" type=\"checkbox\" ><label for=\"sk-estimator-id-4\" class=\"sk-toggleable__label sk-toggleable__label-arrow\">RobustScaler</label><div class=\"sk-toggleable__content\"><pre>RobustScaler()</pre></div></div></div></div></div></div><div class=\"sk-parallel-item\"><div class=\"sk-item\"><div class=\"sk-label-container\"><div class=\"sk-label sk-toggleable\"><input class=\"sk-toggleable__control sk-hidden--visually\" id=\"sk-estimator-id-5\" type=\"checkbox\" ><label for=\"sk-estimator-id-5\" class=\"sk-toggleable__label sk-toggleable__label-arrow\">ohe</label><div class=\"sk-toggleable__content\"><pre>Index([&#x27; workclass&#x27;, &#x27; education&#x27;, &#x27; marital-status&#x27;, &#x27; occupation&#x27;,\n",
              "       &#x27; relationship&#x27;, &#x27; race&#x27;, &#x27; sex&#x27;, &#x27; native-country&#x27;],\n",
              "      dtype=&#x27;object&#x27;)</pre></div></div></div><div class=\"sk-serial\"><div class=\"sk-item\"><div class=\"sk-estimator sk-toggleable\"><input class=\"sk-toggleable__control sk-hidden--visually\" id=\"sk-estimator-id-6\" type=\"checkbox\" ><label for=\"sk-estimator-id-6\" class=\"sk-toggleable__label sk-toggleable__label-arrow\">OneHotEncoder</label><div class=\"sk-toggleable__content\"><pre>OneHotEncoder(handle_unknown=&#x27;ignore&#x27;, sparse_output=False)</pre></div></div></div></div></div></div></div></div><div class=\"sk-item\"><div class=\"sk-estimator sk-toggleable\"><input class=\"sk-toggleable__control sk-hidden--visually\" id=\"sk-estimator-id-7\" type=\"checkbox\" ><label for=\"sk-estimator-id-7\" class=\"sk-toggleable__label sk-toggleable__label-arrow\">RandomForestClassifier</label><div class=\"sk-toggleable__content\"><pre>RandomForestClassifier(n_estimators=10, random_state=0)</pre></div></div></div></div></div></div></div>"
            ]
          },
          "metadata": {},
          "execution_count": 46
        }
      ]
    },
    {
      "cell_type": "code",
      "source": [
        "pipe.score(X_test, y_test)"
      ],
      "metadata": {
        "colab": {
          "base_uri": "https://localhost:8080/"
        },
        "id": "7xoTatK3M4os",
        "outputId": "3a2f99cb-a37e-4453-9575-9e2442e9f8b1"
      },
      "execution_count": null,
      "outputs": [
        {
          "output_type": "execute_result",
          "data": {
            "text/plain": [
              "0.8446184553968985"
            ]
          },
          "metadata": {},
          "execution_count": 47
        }
      ]
    },
    {
      "cell_type": "code",
      "source": [
        "cross_val_score(estimator=pipe, X=X_train, y=y_train,\n",
        "                              scoring='kemfi', cv=KFold(n_splits=5))"
      ],
      "metadata": {
        "colab": {
          "base_uri": "https://localhost:8080/",
          "height": 453
        },
        "id": "jum7LEMRM61K",
        "outputId": "e84ebc62-18fd-42a3-9c67-5839511212fe"
      },
      "execution_count": null,
      "outputs": [
        {
          "output_type": "error",
          "ename": "ValueError",
          "evalue": "ignored",
          "traceback": [
            "\u001b[0;31m---------------------------------------------------------------------------\u001b[0m",
            "\u001b[0;31mKeyError\u001b[0m                                  Traceback (most recent call last)",
            "\u001b[0;32m/usr/local/lib/python3.10/dist-packages/sklearn/metrics/_scorer.py\u001b[0m in \u001b[0;36mget_scorer\u001b[0;34m(scoring)\u001b[0m\n\u001b[1;32m    429\u001b[0m         \u001b[0;32mtry\u001b[0m\u001b[0;34m:\u001b[0m\u001b[0;34m\u001b[0m\u001b[0;34m\u001b[0m\u001b[0m\n\u001b[0;32m--> 430\u001b[0;31m             \u001b[0mscorer\u001b[0m \u001b[0;34m=\u001b[0m \u001b[0mcopy\u001b[0m\u001b[0;34m.\u001b[0m\u001b[0mdeepcopy\u001b[0m\u001b[0;34m(\u001b[0m\u001b[0m_SCORERS\u001b[0m\u001b[0;34m[\u001b[0m\u001b[0mscoring\u001b[0m\u001b[0;34m]\u001b[0m\u001b[0;34m)\u001b[0m\u001b[0;34m\u001b[0m\u001b[0;34m\u001b[0m\u001b[0m\n\u001b[0m\u001b[1;32m    431\u001b[0m         \u001b[0;32mexcept\u001b[0m \u001b[0mKeyError\u001b[0m\u001b[0;34m:\u001b[0m\u001b[0;34m\u001b[0m\u001b[0;34m\u001b[0m\u001b[0m\n",
            "\u001b[0;31mKeyError\u001b[0m: 'kemfi'",
            "\nDuring handling of the above exception, another exception occurred:\n",
            "\u001b[0;31mValueError\u001b[0m                                Traceback (most recent call last)",
            "\u001b[0;32m<ipython-input-48-a29b32682d48>\u001b[0m in \u001b[0;36m<cell line: 1>\u001b[0;34m()\u001b[0m\n\u001b[0;32m----> 1\u001b[0;31m cross_val_score(estimator=pipe, X=X_train, y=y_train,\n\u001b[0m\u001b[1;32m      2\u001b[0m                               scoring='kemfi', cv=KFold(n_splits=5))\n",
            "\u001b[0;32m/usr/local/lib/python3.10/dist-packages/sklearn/model_selection/_validation.py\u001b[0m in \u001b[0;36mcross_val_score\u001b[0;34m(estimator, X, y, groups, scoring, cv, n_jobs, verbose, fit_params, pre_dispatch, error_score)\u001b[0m\n\u001b[1;32m    511\u001b[0m     \"\"\"\n\u001b[1;32m    512\u001b[0m     \u001b[0;31m# To ensure multimetric format is not supported\u001b[0m\u001b[0;34m\u001b[0m\u001b[0;34m\u001b[0m\u001b[0m\n\u001b[0;32m--> 513\u001b[0;31m     \u001b[0mscorer\u001b[0m \u001b[0;34m=\u001b[0m \u001b[0mcheck_scoring\u001b[0m\u001b[0;34m(\u001b[0m\u001b[0mestimator\u001b[0m\u001b[0;34m,\u001b[0m \u001b[0mscoring\u001b[0m\u001b[0;34m=\u001b[0m\u001b[0mscoring\u001b[0m\u001b[0;34m)\u001b[0m\u001b[0;34m\u001b[0m\u001b[0;34m\u001b[0m\u001b[0m\n\u001b[0m\u001b[1;32m    514\u001b[0m \u001b[0;34m\u001b[0m\u001b[0m\n\u001b[1;32m    515\u001b[0m     cv_results = cross_validate(\n",
            "\u001b[0;32m/usr/local/lib/python3.10/dist-packages/sklearn/metrics/_scorer.py\u001b[0m in \u001b[0;36mcheck_scoring\u001b[0;34m(estimator, scoring, allow_none)\u001b[0m\n\u001b[1;32m    477\u001b[0m         )\n\u001b[1;32m    478\u001b[0m     \u001b[0;32mif\u001b[0m \u001b[0misinstance\u001b[0m\u001b[0;34m(\u001b[0m\u001b[0mscoring\u001b[0m\u001b[0;34m,\u001b[0m \u001b[0mstr\u001b[0m\u001b[0;34m)\u001b[0m\u001b[0;34m:\u001b[0m\u001b[0;34m\u001b[0m\u001b[0;34m\u001b[0m\u001b[0m\n\u001b[0;32m--> 479\u001b[0;31m         \u001b[0;32mreturn\u001b[0m \u001b[0mget_scorer\u001b[0m\u001b[0;34m(\u001b[0m\u001b[0mscoring\u001b[0m\u001b[0;34m)\u001b[0m\u001b[0;34m\u001b[0m\u001b[0;34m\u001b[0m\u001b[0m\n\u001b[0m\u001b[1;32m    480\u001b[0m     \u001b[0;32melif\u001b[0m \u001b[0mcallable\u001b[0m\u001b[0;34m(\u001b[0m\u001b[0mscoring\u001b[0m\u001b[0;34m)\u001b[0m\u001b[0;34m:\u001b[0m\u001b[0;34m\u001b[0m\u001b[0;34m\u001b[0m\u001b[0m\n\u001b[1;32m    481\u001b[0m         \u001b[0;31m# Heuristic to ensure user has not passed a metric\u001b[0m\u001b[0;34m\u001b[0m\u001b[0;34m\u001b[0m\u001b[0m\n",
            "\u001b[0;32m/usr/local/lib/python3.10/dist-packages/sklearn/metrics/_scorer.py\u001b[0m in \u001b[0;36mget_scorer\u001b[0;34m(scoring)\u001b[0m\n\u001b[1;32m    430\u001b[0m             \u001b[0mscorer\u001b[0m \u001b[0;34m=\u001b[0m \u001b[0mcopy\u001b[0m\u001b[0;34m.\u001b[0m\u001b[0mdeepcopy\u001b[0m\u001b[0;34m(\u001b[0m\u001b[0m_SCORERS\u001b[0m\u001b[0;34m[\u001b[0m\u001b[0mscoring\u001b[0m\u001b[0;34m]\u001b[0m\u001b[0;34m)\u001b[0m\u001b[0;34m\u001b[0m\u001b[0;34m\u001b[0m\u001b[0m\n\u001b[1;32m    431\u001b[0m         \u001b[0;32mexcept\u001b[0m \u001b[0mKeyError\u001b[0m\u001b[0;34m:\u001b[0m\u001b[0;34m\u001b[0m\u001b[0;34m\u001b[0m\u001b[0m\n\u001b[0;32m--> 432\u001b[0;31m             raise ValueError(\n\u001b[0m\u001b[1;32m    433\u001b[0m                 \u001b[0;34m\"%r is not a valid scoring value. \"\u001b[0m\u001b[0;34m\u001b[0m\u001b[0;34m\u001b[0m\u001b[0m\n\u001b[1;32m    434\u001b[0m                 \u001b[0;34m\"Use sklearn.metrics.get_scorer_names() \"\u001b[0m\u001b[0;34m\u001b[0m\u001b[0;34m\u001b[0m\u001b[0m\n",
            "\u001b[0;31mValueError\u001b[0m: 'kemfi' is not a valid scoring value. Use sklearn.metrics.get_scorer_names() to get valid options."
          ]
        }
      ]
    },
    {
      "cell_type": "code",
      "source": [
        "import sklearn\n",
        "sorted(sklearn.metrics.SCORERS.keys())"
      ],
      "metadata": {
        "colab": {
          "base_uri": "https://localhost:8080/"
        },
        "id": "8cTfyRsDPguG",
        "outputId": "9bd2004c-2dd7-48c9-cb13-c6bd00d6dce9"
      },
      "execution_count": null,
      "outputs": [
        {
          "output_type": "execute_result",
          "data": {
            "text/plain": [
              "['accuracy',\n",
              " 'adjusted_mutual_info_score',\n",
              " 'adjusted_rand_score',\n",
              " 'average_precision',\n",
              " 'balanced_accuracy',\n",
              " 'completeness_score',\n",
              " 'explained_variance',\n",
              " 'f1',\n",
              " 'f1_macro',\n",
              " 'f1_micro',\n",
              " 'f1_samples',\n",
              " 'f1_weighted',\n",
              " 'fowlkes_mallows_score',\n",
              " 'homogeneity_score',\n",
              " 'jaccard',\n",
              " 'jaccard_macro',\n",
              " 'jaccard_micro',\n",
              " 'jaccard_samples',\n",
              " 'jaccard_weighted',\n",
              " 'matthews_corrcoef',\n",
              " 'max_error',\n",
              " 'mutual_info_score',\n",
              " 'neg_brier_score',\n",
              " 'neg_log_loss',\n",
              " 'neg_mean_absolute_error',\n",
              " 'neg_mean_absolute_percentage_error',\n",
              " 'neg_mean_gamma_deviance',\n",
              " 'neg_mean_poisson_deviance',\n",
              " 'neg_mean_squared_error',\n",
              " 'neg_mean_squared_log_error',\n",
              " 'neg_median_absolute_error',\n",
              " 'neg_negative_likelihood_ratio',\n",
              " 'neg_root_mean_squared_error',\n",
              " 'normalized_mutual_info_score',\n",
              " 'positive_likelihood_ratio',\n",
              " 'precision',\n",
              " 'precision_macro',\n",
              " 'precision_micro',\n",
              " 'precision_samples',\n",
              " 'precision_weighted',\n",
              " 'r2',\n",
              " 'rand_score',\n",
              " 'recall',\n",
              " 'recall_macro',\n",
              " 'recall_micro',\n",
              " 'recall_samples',\n",
              " 'recall_weighted',\n",
              " 'roc_auc',\n",
              " 'roc_auc_ovo',\n",
              " 'roc_auc_ovo_weighted',\n",
              " 'roc_auc_ovr',\n",
              " 'roc_auc_ovr_weighted',\n",
              " 'top_k_accuracy',\n",
              " 'v_measure_score']"
            ]
          },
          "metadata": {},
          "execution_count": 49
        }
      ]
    },
    {
      "cell_type": "code",
      "source": [
        "cross_val_score(estimator=pipe, X=X_train, y=y_train,\n",
        "                              scoring='roc_auc', cv=KFold(n_splits=5))"
      ],
      "metadata": {
        "colab": {
          "base_uri": "https://localhost:8080/"
        },
        "id": "ZRbuH57sP-9p",
        "outputId": "fc8d1253-f21a-42aa-952f-01ade0cc4d5e"
      },
      "execution_count": null,
      "outputs": [
        {
          "output_type": "execute_result",
          "data": {
            "text/plain": [
              "array([0.88177155, 0.8888249 , 0.87771091, 0.87869971, 0.87865483])"
            ]
          },
          "metadata": {},
          "execution_count": 50
        }
      ]
    },
    {
      "cell_type": "code",
      "source": [
        "cross_val_score(estimator=pipe, X=X_train, y=y_train,\n",
        "                              scoring='f1_macro', cv=KFold(n_splits=5))"
      ],
      "metadata": {
        "colab": {
          "base_uri": "https://localhost:8080/"
        },
        "id": "xutsuGDNP-jV",
        "outputId": "fcd4c6ea-ac11-4c33-dfab-8b251a3ebc93"
      },
      "execution_count": null,
      "outputs": [
        {
          "output_type": "execute_result",
          "data": {
            "text/plain": [
              "array([0.78226195, 0.77633413, 0.76646049, 0.77123849, 0.77799755])"
            ]
          },
          "metadata": {},
          "execution_count": 51
        }
      ]
    },
    {
      "cell_type": "markdown",
      "source": [
        "###Write your observations of the above tutorial here.**(5%)**"
      ],
      "metadata": {
        "id": "X90efSZeFMAS"
      }
    },
    {
      "cell_type": "markdown",
      "source": [
        "**Observations:**\n",
        "\n",
        "In this tutorial we have covered cross validation techniques using an income evaluation dataset with predicted value as income divided into 2 ranges (<= and > 50k), which makes it a classification problem.\n",
        "\n",
        "In EDA we checked for null values and replaced them with 'missing' if found any.\n",
        "\n",
        "I have learnt how to divide columns based on datatype (numeric and non-numeric) which is important to implement encoding and scaling for relevant features.\n",
        "\n",
        "One hot encoding and scaling (robust) has also been used in this tutorial, which is important to massage data and make it ready for ML models to learn these features.\n",
        "\n",
        "This tutorial covers different validation techniques including k-fold, stratified k-fold, repeated k-fold and leave one out cross validation.\n",
        "\n",
        "Classifier which we have used here is, random forest in a pipeline setup.\n",
        "\n",
        "In the first set, we have used k-fold cross validation with 5 splits on our dataset, followed by OHE on categorical columns and robust scaling on numerical columns. Then mentioned column transformation and random forest model were used in a pipelined setup for each split (total 5) producing an average accuracy score of 85%.\n",
        "\n",
        "In the next set, we have used Stratified k-fold cross validation which is similar to k-fold except equal distribution of observations from all predicted classes. For example, in this case we have 2 classes which we need to predict, <= and > 50k, so we consider an equal ratio of samples from both the classes for training and testing using CV. Rest of the setup is the same with random forest classifier generating around 85% accuracy score.\n",
        "\n",
        "Third setup covers leave one out cross validation and clearly conveys how costly this technique is w.r.t. to computational time. Where k-fold takes around 7 seconds for the whole dataset, loocv takes more than 3 seconds for only 100 rows.\n",
        "\n",
        "Next section talks about Repeated k-fold cv which is an extension to k-fold using number of splits as well as having a parameter doing repetition on those splits (n_repeats i.e. 5). In this case 5 splits with 5 repeats generating 25 test scenarios followed by the same ML model generating a similar accuracy score.\n",
        "\n",
        "In the last set, we use k-fold cross validation on the training set followed by testing on a different test set, hence, using all three splits train, validation and test. First we split the dataset in train and test, followed by k-fold on the training set. Using the same pipe with ohe and scaling for column transformation and random forest model for classification with accuracy as measure. Also, I tried other scoring metrics like roc_auc and f1_macro.\n"
      ],
      "metadata": {
        "id": "OPoDY_S0xDuC"
      }
    },
    {
      "cell_type": "markdown",
      "source": [
        "###**Task-1(40%)**\n",
        "#####Perform cross validation on the tutorial given using the dataset attached.After you are successful in executing and fixing the issues with the current version use dataset of your choice and execute it again."
      ],
      "metadata": {
        "id": "3MeXpwhSK9Lr"
      }
    },
    {
      "cell_type": "code",
      "source": [
        "!gdown '1zweAahm7OUCQ2y8pgwc5FrGqW9oV6Tbx'"
      ],
      "metadata": {
        "colab": {
          "base_uri": "https://localhost:8080/"
        },
        "id": "os_iYFZ3TNWv",
        "outputId": "0407ac4e-2127-48c2-8bdb-de323ee561de"
      },
      "execution_count": null,
      "outputs": [
        {
          "output_type": "stream",
          "name": "stdout",
          "text": [
            "Downloading...\n",
            "From: https://drive.google.com/uc?id=1zweAahm7OUCQ2y8pgwc5FrGqW9oV6Tbx\n",
            "To: /content/healthcare-dataset-stroke-data.csv\n",
            "\r  0% 0.00/317k [00:00<?, ?B/s]\r100% 317k/317k [00:00<00:00, 17.1MB/s]\n"
          ]
        }
      ]
    },
    {
      "cell_type": "code",
      "source": [
        "import pandas as pd\n",
        "import numpy as np\n",
        "import time\n",
        "from sklearn.model_selection import KFold, StratifiedKFold, cross_val_score, LeaveOneOut,\\\n",
        "RepeatedKFold, train_test_split\n",
        "from sklearn.preprocessing import OneHotEncoder, RobustScaler\n",
        "from sklearn.compose import ColumnTransformer\n",
        "from sklearn.pipeline import Pipeline\n",
        "from sklearn.ensemble import RandomForestClassifier\n",
        "\n",
        "df = pd.read_csv('healthcare-dataset-stroke-data.csv', na_values=' ?')\n",
        "df.head()"
      ],
      "metadata": {
        "colab": {
          "base_uri": "https://localhost:8080/",
          "height": 206
        },
        "id": "guf5-qyXTViO",
        "outputId": "d0880d78-ae1f-4fe7-98c6-316e892bd6df"
      },
      "execution_count": null,
      "outputs": [
        {
          "output_type": "execute_result",
          "data": {
            "text/plain": [
              "      id  gender   age  hypertension  heart_disease ever_married  \\\n",
              "0   9046    Male  67.0             0              1          Yes   \n",
              "1  51676  Female  61.0             0              0          Yes   \n",
              "2  31112    Male  80.0             0              1          Yes   \n",
              "3  60182  Female  49.0             0              0          Yes   \n",
              "4   1665  Female  79.0             1              0          Yes   \n",
              "\n",
              "       work_type Residence_type  avg_glucose_level   bmi   smoking_status  \\\n",
              "0        Private          Urban             228.69  36.6  formerly smoked   \n",
              "1  Self-employed          Rural             202.21   NaN     never smoked   \n",
              "2        Private          Rural             105.92  32.5     never smoked   \n",
              "3        Private          Urban             171.23  34.4           smokes   \n",
              "4  Self-employed          Rural             174.12  24.0     never smoked   \n",
              "\n",
              "   stroke  \n",
              "0       1  \n",
              "1       1  \n",
              "2       1  \n",
              "3       1  \n",
              "4       1  "
            ],
            "text/html": [
              "\n",
              "  <div id=\"df-3c63037d-dbc1-450f-87a0-c58778111387\" class=\"colab-df-container\">\n",
              "    <div>\n",
              "<style scoped>\n",
              "    .dataframe tbody tr th:only-of-type {\n",
              "        vertical-align: middle;\n",
              "    }\n",
              "\n",
              "    .dataframe tbody tr th {\n",
              "        vertical-align: top;\n",
              "    }\n",
              "\n",
              "    .dataframe thead th {\n",
              "        text-align: right;\n",
              "    }\n",
              "</style>\n",
              "<table border=\"1\" class=\"dataframe\">\n",
              "  <thead>\n",
              "    <tr style=\"text-align: right;\">\n",
              "      <th></th>\n",
              "      <th>id</th>\n",
              "      <th>gender</th>\n",
              "      <th>age</th>\n",
              "      <th>hypertension</th>\n",
              "      <th>heart_disease</th>\n",
              "      <th>ever_married</th>\n",
              "      <th>work_type</th>\n",
              "      <th>Residence_type</th>\n",
              "      <th>avg_glucose_level</th>\n",
              "      <th>bmi</th>\n",
              "      <th>smoking_status</th>\n",
              "      <th>stroke</th>\n",
              "    </tr>\n",
              "  </thead>\n",
              "  <tbody>\n",
              "    <tr>\n",
              "      <th>0</th>\n",
              "      <td>9046</td>\n",
              "      <td>Male</td>\n",
              "      <td>67.0</td>\n",
              "      <td>0</td>\n",
              "      <td>1</td>\n",
              "      <td>Yes</td>\n",
              "      <td>Private</td>\n",
              "      <td>Urban</td>\n",
              "      <td>228.69</td>\n",
              "      <td>36.6</td>\n",
              "      <td>formerly smoked</td>\n",
              "      <td>1</td>\n",
              "    </tr>\n",
              "    <tr>\n",
              "      <th>1</th>\n",
              "      <td>51676</td>\n",
              "      <td>Female</td>\n",
              "      <td>61.0</td>\n",
              "      <td>0</td>\n",
              "      <td>0</td>\n",
              "      <td>Yes</td>\n",
              "      <td>Self-employed</td>\n",
              "      <td>Rural</td>\n",
              "      <td>202.21</td>\n",
              "      <td>NaN</td>\n",
              "      <td>never smoked</td>\n",
              "      <td>1</td>\n",
              "    </tr>\n",
              "    <tr>\n",
              "      <th>2</th>\n",
              "      <td>31112</td>\n",
              "      <td>Male</td>\n",
              "      <td>80.0</td>\n",
              "      <td>0</td>\n",
              "      <td>1</td>\n",
              "      <td>Yes</td>\n",
              "      <td>Private</td>\n",
              "      <td>Rural</td>\n",
              "      <td>105.92</td>\n",
              "      <td>32.5</td>\n",
              "      <td>never smoked</td>\n",
              "      <td>1</td>\n",
              "    </tr>\n",
              "    <tr>\n",
              "      <th>3</th>\n",
              "      <td>60182</td>\n",
              "      <td>Female</td>\n",
              "      <td>49.0</td>\n",
              "      <td>0</td>\n",
              "      <td>0</td>\n",
              "      <td>Yes</td>\n",
              "      <td>Private</td>\n",
              "      <td>Urban</td>\n",
              "      <td>171.23</td>\n",
              "      <td>34.4</td>\n",
              "      <td>smokes</td>\n",
              "      <td>1</td>\n",
              "    </tr>\n",
              "    <tr>\n",
              "      <th>4</th>\n",
              "      <td>1665</td>\n",
              "      <td>Female</td>\n",
              "      <td>79.0</td>\n",
              "      <td>1</td>\n",
              "      <td>0</td>\n",
              "      <td>Yes</td>\n",
              "      <td>Self-employed</td>\n",
              "      <td>Rural</td>\n",
              "      <td>174.12</td>\n",
              "      <td>24.0</td>\n",
              "      <td>never smoked</td>\n",
              "      <td>1</td>\n",
              "    </tr>\n",
              "  </tbody>\n",
              "</table>\n",
              "</div>\n",
              "    <div class=\"colab-df-buttons\">\n",
              "\n",
              "  <div class=\"colab-df-container\">\n",
              "    <button class=\"colab-df-convert\" onclick=\"convertToInteractive('df-3c63037d-dbc1-450f-87a0-c58778111387')\"\n",
              "            title=\"Convert this dataframe to an interactive table.\"\n",
              "            style=\"display:none;\">\n",
              "\n",
              "  <svg xmlns=\"http://www.w3.org/2000/svg\" height=\"24px\" viewBox=\"0 -960 960 960\">\n",
              "    <path d=\"M120-120v-720h720v720H120Zm60-500h600v-160H180v160Zm220 220h160v-160H400v160Zm0 220h160v-160H400v160ZM180-400h160v-160H180v160Zm440 0h160v-160H620v160ZM180-180h160v-160H180v160Zm440 0h160v-160H620v160Z\"/>\n",
              "  </svg>\n",
              "    </button>\n",
              "\n",
              "  <style>\n",
              "    .colab-df-container {\n",
              "      display:flex;\n",
              "      gap: 12px;\n",
              "    }\n",
              "\n",
              "    .colab-df-convert {\n",
              "      background-color: #E8F0FE;\n",
              "      border: none;\n",
              "      border-radius: 50%;\n",
              "      cursor: pointer;\n",
              "      display: none;\n",
              "      fill: #1967D2;\n",
              "      height: 32px;\n",
              "      padding: 0 0 0 0;\n",
              "      width: 32px;\n",
              "    }\n",
              "\n",
              "    .colab-df-convert:hover {\n",
              "      background-color: #E2EBFA;\n",
              "      box-shadow: 0px 1px 2px rgba(60, 64, 67, 0.3), 0px 1px 3px 1px rgba(60, 64, 67, 0.15);\n",
              "      fill: #174EA6;\n",
              "    }\n",
              "\n",
              "    .colab-df-buttons div {\n",
              "      margin-bottom: 4px;\n",
              "    }\n",
              "\n",
              "    [theme=dark] .colab-df-convert {\n",
              "      background-color: #3B4455;\n",
              "      fill: #D2E3FC;\n",
              "    }\n",
              "\n",
              "    [theme=dark] .colab-df-convert:hover {\n",
              "      background-color: #434B5C;\n",
              "      box-shadow: 0px 1px 3px 1px rgba(0, 0, 0, 0.15);\n",
              "      filter: drop-shadow(0px 1px 2px rgba(0, 0, 0, 0.3));\n",
              "      fill: #FFFFFF;\n",
              "    }\n",
              "  </style>\n",
              "\n",
              "    <script>\n",
              "      const buttonEl =\n",
              "        document.querySelector('#df-3c63037d-dbc1-450f-87a0-c58778111387 button.colab-df-convert');\n",
              "      buttonEl.style.display =\n",
              "        google.colab.kernel.accessAllowed ? 'block' : 'none';\n",
              "\n",
              "      async function convertToInteractive(key) {\n",
              "        const element = document.querySelector('#df-3c63037d-dbc1-450f-87a0-c58778111387');\n",
              "        const dataTable =\n",
              "          await google.colab.kernel.invokeFunction('convertToInteractive',\n",
              "                                                    [key], {});\n",
              "        if (!dataTable) return;\n",
              "\n",
              "        const docLinkHtml = 'Like what you see? Visit the ' +\n",
              "          '<a target=\"_blank\" href=https://colab.research.google.com/notebooks/data_table.ipynb>data table notebook</a>'\n",
              "          + ' to learn more about interactive tables.';\n",
              "        element.innerHTML = '';\n",
              "        dataTable['output_type'] = 'display_data';\n",
              "        await google.colab.output.renderOutput(dataTable, element);\n",
              "        const docLink = document.createElement('div');\n",
              "        docLink.innerHTML = docLinkHtml;\n",
              "        element.appendChild(docLink);\n",
              "      }\n",
              "    </script>\n",
              "  </div>\n",
              "\n",
              "\n",
              "<div id=\"df-0abb5c9a-4e89-4ecd-8838-c6f4c92282fb\">\n",
              "  <button class=\"colab-df-quickchart\" onclick=\"quickchart('df-0abb5c9a-4e89-4ecd-8838-c6f4c92282fb')\"\n",
              "            title=\"Suggest charts\"\n",
              "            style=\"display:none;\">\n",
              "\n",
              "<svg xmlns=\"http://www.w3.org/2000/svg\" height=\"24px\"viewBox=\"0 0 24 24\"\n",
              "     width=\"24px\">\n",
              "    <g>\n",
              "        <path d=\"M19 3H5c-1.1 0-2 .9-2 2v14c0 1.1.9 2 2 2h14c1.1 0 2-.9 2-2V5c0-1.1-.9-2-2-2zM9 17H7v-7h2v7zm4 0h-2V7h2v10zm4 0h-2v-4h2v4z\"/>\n",
              "    </g>\n",
              "</svg>\n",
              "  </button>\n",
              "\n",
              "<style>\n",
              "  .colab-df-quickchart {\n",
              "      --bg-color: #E8F0FE;\n",
              "      --fill-color: #1967D2;\n",
              "      --hover-bg-color: #E2EBFA;\n",
              "      --hover-fill-color: #174EA6;\n",
              "      --disabled-fill-color: #AAA;\n",
              "      --disabled-bg-color: #DDD;\n",
              "  }\n",
              "\n",
              "  [theme=dark] .colab-df-quickchart {\n",
              "      --bg-color: #3B4455;\n",
              "      --fill-color: #D2E3FC;\n",
              "      --hover-bg-color: #434B5C;\n",
              "      --hover-fill-color: #FFFFFF;\n",
              "      --disabled-bg-color: #3B4455;\n",
              "      --disabled-fill-color: #666;\n",
              "  }\n",
              "\n",
              "  .colab-df-quickchart {\n",
              "    background-color: var(--bg-color);\n",
              "    border: none;\n",
              "    border-radius: 50%;\n",
              "    cursor: pointer;\n",
              "    display: none;\n",
              "    fill: var(--fill-color);\n",
              "    height: 32px;\n",
              "    padding: 0;\n",
              "    width: 32px;\n",
              "  }\n",
              "\n",
              "  .colab-df-quickchart:hover {\n",
              "    background-color: var(--hover-bg-color);\n",
              "    box-shadow: 0 1px 2px rgba(60, 64, 67, 0.3), 0 1px 3px 1px rgba(60, 64, 67, 0.15);\n",
              "    fill: var(--button-hover-fill-color);\n",
              "  }\n",
              "\n",
              "  .colab-df-quickchart-complete:disabled,\n",
              "  .colab-df-quickchart-complete:disabled:hover {\n",
              "    background-color: var(--disabled-bg-color);\n",
              "    fill: var(--disabled-fill-color);\n",
              "    box-shadow: none;\n",
              "  }\n",
              "\n",
              "  .colab-df-spinner {\n",
              "    border: 2px solid var(--fill-color);\n",
              "    border-color: transparent;\n",
              "    border-bottom-color: var(--fill-color);\n",
              "    animation:\n",
              "      spin 1s steps(1) infinite;\n",
              "  }\n",
              "\n",
              "  @keyframes spin {\n",
              "    0% {\n",
              "      border-color: transparent;\n",
              "      border-bottom-color: var(--fill-color);\n",
              "      border-left-color: var(--fill-color);\n",
              "    }\n",
              "    20% {\n",
              "      border-color: transparent;\n",
              "      border-left-color: var(--fill-color);\n",
              "      border-top-color: var(--fill-color);\n",
              "    }\n",
              "    30% {\n",
              "      border-color: transparent;\n",
              "      border-left-color: var(--fill-color);\n",
              "      border-top-color: var(--fill-color);\n",
              "      border-right-color: var(--fill-color);\n",
              "    }\n",
              "    40% {\n",
              "      border-color: transparent;\n",
              "      border-right-color: var(--fill-color);\n",
              "      border-top-color: var(--fill-color);\n",
              "    }\n",
              "    60% {\n",
              "      border-color: transparent;\n",
              "      border-right-color: var(--fill-color);\n",
              "    }\n",
              "    80% {\n",
              "      border-color: transparent;\n",
              "      border-right-color: var(--fill-color);\n",
              "      border-bottom-color: var(--fill-color);\n",
              "    }\n",
              "    90% {\n",
              "      border-color: transparent;\n",
              "      border-bottom-color: var(--fill-color);\n",
              "    }\n",
              "  }\n",
              "</style>\n",
              "\n",
              "  <script>\n",
              "    async function quickchart(key) {\n",
              "      const quickchartButtonEl =\n",
              "        document.querySelector('#' + key + ' button');\n",
              "      quickchartButtonEl.disabled = true;  // To prevent multiple clicks.\n",
              "      quickchartButtonEl.classList.add('colab-df-spinner');\n",
              "      try {\n",
              "        const charts = await google.colab.kernel.invokeFunction(\n",
              "            'suggestCharts', [key], {});\n",
              "      } catch (error) {\n",
              "        console.error('Error during call to suggestCharts:', error);\n",
              "      }\n",
              "      quickchartButtonEl.classList.remove('colab-df-spinner');\n",
              "      quickchartButtonEl.classList.add('colab-df-quickchart-complete');\n",
              "    }\n",
              "    (() => {\n",
              "      let quickchartButtonEl =\n",
              "        document.querySelector('#df-0abb5c9a-4e89-4ecd-8838-c6f4c92282fb button');\n",
              "      quickchartButtonEl.style.display =\n",
              "        google.colab.kernel.accessAllowed ? 'block' : 'none';\n",
              "    })();\n",
              "  </script>\n",
              "</div>\n",
              "    </div>\n",
              "  </div>\n"
            ]
          },
          "metadata": {},
          "execution_count": 53
        }
      ]
    },
    {
      "cell_type": "code",
      "source": [
        "df.isna().sum()"
      ],
      "metadata": {
        "colab": {
          "base_uri": "https://localhost:8080/"
        },
        "id": "SoLVwnD_TX2H",
        "outputId": "f2cf5b3f-bba3-4883-d4e9-6b34f52f5413"
      },
      "execution_count": null,
      "outputs": [
        {
          "output_type": "execute_result",
          "data": {
            "text/plain": [
              "id                     0\n",
              "gender                 0\n",
              "age                    0\n",
              "hypertension           0\n",
              "heart_disease          0\n",
              "ever_married           0\n",
              "work_type              0\n",
              "Residence_type         0\n",
              "avg_glucose_level      0\n",
              "bmi                  201\n",
              "smoking_status         0\n",
              "stroke                 0\n",
              "dtype: int64"
            ]
          },
          "metadata": {},
          "execution_count": 54
        }
      ]
    },
    {
      "cell_type": "code",
      "source": [
        "from sklearn.impute import KNNImputer\n",
        "\n",
        "imputer = KNNImputer(n_neighbors=2, weights=\"uniform\")\n",
        "df['bmi'] = imputer.fit_transform(df[['bmi']])  # impute missing bmi values"
      ],
      "metadata": {
        "id": "3VBoTzMDWWxm"
      },
      "execution_count": null,
      "outputs": []
    },
    {
      "cell_type": "code",
      "source": [
        "df.isna().sum()"
      ],
      "metadata": {
        "colab": {
          "base_uri": "https://localhost:8080/"
        },
        "id": "YdYKhIalT9Ld",
        "outputId": "a0b8f66a-899d-4716-9e87-07f397e2c137"
      },
      "execution_count": null,
      "outputs": [
        {
          "output_type": "execute_result",
          "data": {
            "text/plain": [
              "id                   0\n",
              "gender               0\n",
              "age                  0\n",
              "hypertension         0\n",
              "heart_disease        0\n",
              "ever_married         0\n",
              "work_type            0\n",
              "Residence_type       0\n",
              "avg_glucose_level    0\n",
              "bmi                  0\n",
              "smoking_status       0\n",
              "stroke               0\n",
              "dtype: int64"
            ]
          },
          "metadata": {},
          "execution_count": 58
        }
      ]
    },
    {
      "cell_type": "code",
      "source": [
        "X = df.drop('stroke', axis=1)\n",
        "y = df['stroke']\n",
        "\n",
        "print(f'X.shape: {X.shape}')\n",
        "\n",
        "y.value_counts()"
      ],
      "metadata": {
        "colab": {
          "base_uri": "https://localhost:8080/"
        },
        "id": "trt3CmW_Tih9",
        "outputId": "a906ff45-4d09-447f-ac81-9c26476d4ea2"
      },
      "execution_count": null,
      "outputs": [
        {
          "output_type": "stream",
          "name": "stdout",
          "text": [
            "X.shape: (5110, 11)\n"
          ]
        },
        {
          "output_type": "execute_result",
          "data": {
            "text/plain": [
              "0    4861\n",
              "1     249\n",
              "Name: stroke, dtype: int64"
            ]
          },
          "metadata": {},
          "execution_count": 59
        }
      ]
    },
    {
      "cell_type": "code",
      "source": [
        "###1. KFold Cross Validation\n",
        "kf = KFold(n_splits=5)\n",
        "\n",
        "print(f'Count in each split: {5110/5}')\n",
        "print(f'Count in n-1 splits: {(5110/5)*4}\\n\\n')\n",
        "\n",
        "i = 1\n",
        "for train_set, test_set in kf.split(X=X):\n",
        "    print(\"iteration \", i)\n",
        "    print(train_set, \" having :\" , len(train_set))\n",
        "    print(test_set, \" having :\" , len(test_set))\n",
        "    print(\"-------------------------\")\n",
        "    i += 1"
      ],
      "metadata": {
        "colab": {
          "base_uri": "https://localhost:8080/"
        },
        "id": "0utPlFNFUEs0",
        "outputId": "fb3b77ce-943c-4899-fdf2-3ba2a204cb2e"
      },
      "execution_count": null,
      "outputs": [
        {
          "output_type": "stream",
          "name": "stdout",
          "text": [
            "Count in each split: 1022.0\n",
            "Count in n-1 splits: 4088.0\n",
            "\n",
            "\n",
            "iteration  1\n",
            "[1022 1023 1024 ... 5107 5108 5109]  having : 4088\n",
            "[   0    1    2 ... 1019 1020 1021]  having : 1022\n",
            "-------------------------\n",
            "iteration  2\n",
            "[   0    1    2 ... 5107 5108 5109]  having : 4088\n",
            "[1022 1023 1024 ... 2041 2042 2043]  having : 1022\n",
            "-------------------------\n",
            "iteration  3\n",
            "[   0    1    2 ... 5107 5108 5109]  having : 4088\n",
            "[2044 2045 2046 ... 3063 3064 3065]  having : 1022\n",
            "-------------------------\n",
            "iteration  4\n",
            "[   0    1    2 ... 5107 5108 5109]  having : 4088\n",
            "[3066 3067 3068 ... 4085 4086 4087]  having : 1022\n",
            "-------------------------\n",
            "iteration  5\n",
            "[   0    1    2 ... 4085 4086 4087]  having : 4088\n",
            "[4088 4089 4090 ... 5107 5108 5109]  having : 1022\n",
            "-------------------------\n"
          ]
        }
      ]
    },
    {
      "cell_type": "code",
      "source": [
        "num_cols = X.select_dtypes(include=np.number).columns\n",
        "print(f'Numeric Columns: \\n{num_cols}\\n\\n')\n",
        "\n",
        "cat_cols = X.select_dtypes(exclude=np.number).columns\n",
        "print(f'Categorical Columns: \\n{cat_cols}\\n\\n')\n",
        "\n",
        "\n",
        "ct = ColumnTransformer([\n",
        "    ('rob', RobustScaler(), num_cols),\n",
        "    ('ohe', OneHotEncoder(sparse_output=False, handle_unknown='ignore'), cat_cols)\n",
        "])"
      ],
      "metadata": {
        "colab": {
          "base_uri": "https://localhost:8080/"
        },
        "id": "mVc1tXFwUlVo",
        "outputId": "8cd1166d-c4b2-487c-c273-99c20113f352"
      },
      "execution_count": null,
      "outputs": [
        {
          "output_type": "stream",
          "name": "stdout",
          "text": [
            "Numeric Columns: \n",
            "Index(['id', 'age', 'hypertension', 'heart_disease', 'avg_glucose_level',\n",
            "       'bmi'],\n",
            "      dtype='object')\n",
            "\n",
            "\n",
            "Categorical Columns: \n",
            "Index(['gender', 'ever_married', 'work_type', 'Residence_type',\n",
            "       'smoking_status'],\n",
            "      dtype='object')\n",
            "\n",
            "\n"
          ]
        }
      ]
    },
    {
      "cell_type": "code",
      "source": [
        "pipe = Pipeline([\n",
        "    ('ct_step', ct),\n",
        "    ('model', RandomForestClassifier(n_estimators=10, random_state=0))\n",
        "])\n",
        "\n",
        "X.loc[1022:].head()"
      ],
      "metadata": {
        "colab": {
          "base_uri": "https://localhost:8080/",
          "height": 206
        },
        "id": "oMmdozt1U-PL",
        "outputId": "14c4854f-463b-4e05-e07f-69dbfae78526"
      },
      "execution_count": null,
      "outputs": [
        {
          "output_type": "execute_result",
          "data": {
            "text/plain": [
              "         id  gender   age  hypertension  heart_disease ever_married work_type  \\\n",
              "1022  60047    Male  22.0             0              0           No   Private   \n",
              "1023  16542  Female  60.0             0              0          Yes  Govt_job   \n",
              "1024  18805    Male  39.0             0              0          Yes   Private   \n",
              "1025  17869  Female  53.0             0              0          Yes   Private   \n",
              "1026   6793  Female  55.0             0              0          Yes   Private   \n",
              "\n",
              "     Residence_type  avg_glucose_level   bmi   smoking_status  \n",
              "1022          Rural              58.38  36.0     never smoked  \n",
              "1023          Urban              86.34  22.1     never smoked  \n",
              "1024          Urban              95.44  38.4     never smoked  \n",
              "1025          Urban              94.78  30.1          Unknown  \n",
              "1026          Rural             109.59  26.2  formerly smoked  "
            ],
            "text/html": [
              "\n",
              "  <div id=\"df-5cb94d66-26c5-4701-9a7d-466f87f67cae\" class=\"colab-df-container\">\n",
              "    <div>\n",
              "<style scoped>\n",
              "    .dataframe tbody tr th:only-of-type {\n",
              "        vertical-align: middle;\n",
              "    }\n",
              "\n",
              "    .dataframe tbody tr th {\n",
              "        vertical-align: top;\n",
              "    }\n",
              "\n",
              "    .dataframe thead th {\n",
              "        text-align: right;\n",
              "    }\n",
              "</style>\n",
              "<table border=\"1\" class=\"dataframe\">\n",
              "  <thead>\n",
              "    <tr style=\"text-align: right;\">\n",
              "      <th></th>\n",
              "      <th>id</th>\n",
              "      <th>gender</th>\n",
              "      <th>age</th>\n",
              "      <th>hypertension</th>\n",
              "      <th>heart_disease</th>\n",
              "      <th>ever_married</th>\n",
              "      <th>work_type</th>\n",
              "      <th>Residence_type</th>\n",
              "      <th>avg_glucose_level</th>\n",
              "      <th>bmi</th>\n",
              "      <th>smoking_status</th>\n",
              "    </tr>\n",
              "  </thead>\n",
              "  <tbody>\n",
              "    <tr>\n",
              "      <th>1022</th>\n",
              "      <td>60047</td>\n",
              "      <td>Male</td>\n",
              "      <td>22.0</td>\n",
              "      <td>0</td>\n",
              "      <td>0</td>\n",
              "      <td>No</td>\n",
              "      <td>Private</td>\n",
              "      <td>Rural</td>\n",
              "      <td>58.38</td>\n",
              "      <td>36.0</td>\n",
              "      <td>never smoked</td>\n",
              "    </tr>\n",
              "    <tr>\n",
              "      <th>1023</th>\n",
              "      <td>16542</td>\n",
              "      <td>Female</td>\n",
              "      <td>60.0</td>\n",
              "      <td>0</td>\n",
              "      <td>0</td>\n",
              "      <td>Yes</td>\n",
              "      <td>Govt_job</td>\n",
              "      <td>Urban</td>\n",
              "      <td>86.34</td>\n",
              "      <td>22.1</td>\n",
              "      <td>never smoked</td>\n",
              "    </tr>\n",
              "    <tr>\n",
              "      <th>1024</th>\n",
              "      <td>18805</td>\n",
              "      <td>Male</td>\n",
              "      <td>39.0</td>\n",
              "      <td>0</td>\n",
              "      <td>0</td>\n",
              "      <td>Yes</td>\n",
              "      <td>Private</td>\n",
              "      <td>Urban</td>\n",
              "      <td>95.44</td>\n",
              "      <td>38.4</td>\n",
              "      <td>never smoked</td>\n",
              "    </tr>\n",
              "    <tr>\n",
              "      <th>1025</th>\n",
              "      <td>17869</td>\n",
              "      <td>Female</td>\n",
              "      <td>53.0</td>\n",
              "      <td>0</td>\n",
              "      <td>0</td>\n",
              "      <td>Yes</td>\n",
              "      <td>Private</td>\n",
              "      <td>Urban</td>\n",
              "      <td>94.78</td>\n",
              "      <td>30.1</td>\n",
              "      <td>Unknown</td>\n",
              "    </tr>\n",
              "    <tr>\n",
              "      <th>1026</th>\n",
              "      <td>6793</td>\n",
              "      <td>Female</td>\n",
              "      <td>55.0</td>\n",
              "      <td>0</td>\n",
              "      <td>0</td>\n",
              "      <td>Yes</td>\n",
              "      <td>Private</td>\n",
              "      <td>Rural</td>\n",
              "      <td>109.59</td>\n",
              "      <td>26.2</td>\n",
              "      <td>formerly smoked</td>\n",
              "    </tr>\n",
              "  </tbody>\n",
              "</table>\n",
              "</div>\n",
              "    <div class=\"colab-df-buttons\">\n",
              "\n",
              "  <div class=\"colab-df-container\">\n",
              "    <button class=\"colab-df-convert\" onclick=\"convertToInteractive('df-5cb94d66-26c5-4701-9a7d-466f87f67cae')\"\n",
              "            title=\"Convert this dataframe to an interactive table.\"\n",
              "            style=\"display:none;\">\n",
              "\n",
              "  <svg xmlns=\"http://www.w3.org/2000/svg\" height=\"24px\" viewBox=\"0 -960 960 960\">\n",
              "    <path d=\"M120-120v-720h720v720H120Zm60-500h600v-160H180v160Zm220 220h160v-160H400v160Zm0 220h160v-160H400v160ZM180-400h160v-160H180v160Zm440 0h160v-160H620v160ZM180-180h160v-160H180v160Zm440 0h160v-160H620v160Z\"/>\n",
              "  </svg>\n",
              "    </button>\n",
              "\n",
              "  <style>\n",
              "    .colab-df-container {\n",
              "      display:flex;\n",
              "      gap: 12px;\n",
              "    }\n",
              "\n",
              "    .colab-df-convert {\n",
              "      background-color: #E8F0FE;\n",
              "      border: none;\n",
              "      border-radius: 50%;\n",
              "      cursor: pointer;\n",
              "      display: none;\n",
              "      fill: #1967D2;\n",
              "      height: 32px;\n",
              "      padding: 0 0 0 0;\n",
              "      width: 32px;\n",
              "    }\n",
              "\n",
              "    .colab-df-convert:hover {\n",
              "      background-color: #E2EBFA;\n",
              "      box-shadow: 0px 1px 2px rgba(60, 64, 67, 0.3), 0px 1px 3px 1px rgba(60, 64, 67, 0.15);\n",
              "      fill: #174EA6;\n",
              "    }\n",
              "\n",
              "    .colab-df-buttons div {\n",
              "      margin-bottom: 4px;\n",
              "    }\n",
              "\n",
              "    [theme=dark] .colab-df-convert {\n",
              "      background-color: #3B4455;\n",
              "      fill: #D2E3FC;\n",
              "    }\n",
              "\n",
              "    [theme=dark] .colab-df-convert:hover {\n",
              "      background-color: #434B5C;\n",
              "      box-shadow: 0px 1px 3px 1px rgba(0, 0, 0, 0.15);\n",
              "      filter: drop-shadow(0px 1px 2px rgba(0, 0, 0, 0.3));\n",
              "      fill: #FFFFFF;\n",
              "    }\n",
              "  </style>\n",
              "\n",
              "    <script>\n",
              "      const buttonEl =\n",
              "        document.querySelector('#df-5cb94d66-26c5-4701-9a7d-466f87f67cae button.colab-df-convert');\n",
              "      buttonEl.style.display =\n",
              "        google.colab.kernel.accessAllowed ? 'block' : 'none';\n",
              "\n",
              "      async function convertToInteractive(key) {\n",
              "        const element = document.querySelector('#df-5cb94d66-26c5-4701-9a7d-466f87f67cae');\n",
              "        const dataTable =\n",
              "          await google.colab.kernel.invokeFunction('convertToInteractive',\n",
              "                                                    [key], {});\n",
              "        if (!dataTable) return;\n",
              "\n",
              "        const docLinkHtml = 'Like what you see? Visit the ' +\n",
              "          '<a target=\"_blank\" href=https://colab.research.google.com/notebooks/data_table.ipynb>data table notebook</a>'\n",
              "          + ' to learn more about interactive tables.';\n",
              "        element.innerHTML = '';\n",
              "        dataTable['output_type'] = 'display_data';\n",
              "        await google.colab.output.renderOutput(dataTable, element);\n",
              "        const docLink = document.createElement('div');\n",
              "        docLink.innerHTML = docLinkHtml;\n",
              "        element.appendChild(docLink);\n",
              "      }\n",
              "    </script>\n",
              "  </div>\n",
              "\n",
              "\n",
              "<div id=\"df-a2303174-58cd-4e3d-b361-7e21cf35a875\">\n",
              "  <button class=\"colab-df-quickchart\" onclick=\"quickchart('df-a2303174-58cd-4e3d-b361-7e21cf35a875')\"\n",
              "            title=\"Suggest charts\"\n",
              "            style=\"display:none;\">\n",
              "\n",
              "<svg xmlns=\"http://www.w3.org/2000/svg\" height=\"24px\"viewBox=\"0 0 24 24\"\n",
              "     width=\"24px\">\n",
              "    <g>\n",
              "        <path d=\"M19 3H5c-1.1 0-2 .9-2 2v14c0 1.1.9 2 2 2h14c1.1 0 2-.9 2-2V5c0-1.1-.9-2-2-2zM9 17H7v-7h2v7zm4 0h-2V7h2v10zm4 0h-2v-4h2v4z\"/>\n",
              "    </g>\n",
              "</svg>\n",
              "  </button>\n",
              "\n",
              "<style>\n",
              "  .colab-df-quickchart {\n",
              "      --bg-color: #E8F0FE;\n",
              "      --fill-color: #1967D2;\n",
              "      --hover-bg-color: #E2EBFA;\n",
              "      --hover-fill-color: #174EA6;\n",
              "      --disabled-fill-color: #AAA;\n",
              "      --disabled-bg-color: #DDD;\n",
              "  }\n",
              "\n",
              "  [theme=dark] .colab-df-quickchart {\n",
              "      --bg-color: #3B4455;\n",
              "      --fill-color: #D2E3FC;\n",
              "      --hover-bg-color: #434B5C;\n",
              "      --hover-fill-color: #FFFFFF;\n",
              "      --disabled-bg-color: #3B4455;\n",
              "      --disabled-fill-color: #666;\n",
              "  }\n",
              "\n",
              "  .colab-df-quickchart {\n",
              "    background-color: var(--bg-color);\n",
              "    border: none;\n",
              "    border-radius: 50%;\n",
              "    cursor: pointer;\n",
              "    display: none;\n",
              "    fill: var(--fill-color);\n",
              "    height: 32px;\n",
              "    padding: 0;\n",
              "    width: 32px;\n",
              "  }\n",
              "\n",
              "  .colab-df-quickchart:hover {\n",
              "    background-color: var(--hover-bg-color);\n",
              "    box-shadow: 0 1px 2px rgba(60, 64, 67, 0.3), 0 1px 3px 1px rgba(60, 64, 67, 0.15);\n",
              "    fill: var(--button-hover-fill-color);\n",
              "  }\n",
              "\n",
              "  .colab-df-quickchart-complete:disabled,\n",
              "  .colab-df-quickchart-complete:disabled:hover {\n",
              "    background-color: var(--disabled-bg-color);\n",
              "    fill: var(--disabled-fill-color);\n",
              "    box-shadow: none;\n",
              "  }\n",
              "\n",
              "  .colab-df-spinner {\n",
              "    border: 2px solid var(--fill-color);\n",
              "    border-color: transparent;\n",
              "    border-bottom-color: var(--fill-color);\n",
              "    animation:\n",
              "      spin 1s steps(1) infinite;\n",
              "  }\n",
              "\n",
              "  @keyframes spin {\n",
              "    0% {\n",
              "      border-color: transparent;\n",
              "      border-bottom-color: var(--fill-color);\n",
              "      border-left-color: var(--fill-color);\n",
              "    }\n",
              "    20% {\n",
              "      border-color: transparent;\n",
              "      border-left-color: var(--fill-color);\n",
              "      border-top-color: var(--fill-color);\n",
              "    }\n",
              "    30% {\n",
              "      border-color: transparent;\n",
              "      border-left-color: var(--fill-color);\n",
              "      border-top-color: var(--fill-color);\n",
              "      border-right-color: var(--fill-color);\n",
              "    }\n",
              "    40% {\n",
              "      border-color: transparent;\n",
              "      border-right-color: var(--fill-color);\n",
              "      border-top-color: var(--fill-color);\n",
              "    }\n",
              "    60% {\n",
              "      border-color: transparent;\n",
              "      border-right-color: var(--fill-color);\n",
              "    }\n",
              "    80% {\n",
              "      border-color: transparent;\n",
              "      border-right-color: var(--fill-color);\n",
              "      border-bottom-color: var(--fill-color);\n",
              "    }\n",
              "    90% {\n",
              "      border-color: transparent;\n",
              "      border-bottom-color: var(--fill-color);\n",
              "    }\n",
              "  }\n",
              "</style>\n",
              "\n",
              "  <script>\n",
              "    async function quickchart(key) {\n",
              "      const quickchartButtonEl =\n",
              "        document.querySelector('#' + key + ' button');\n",
              "      quickchartButtonEl.disabled = true;  // To prevent multiple clicks.\n",
              "      quickchartButtonEl.classList.add('colab-df-spinner');\n",
              "      try {\n",
              "        const charts = await google.colab.kernel.invokeFunction(\n",
              "            'suggestCharts', [key], {});\n",
              "      } catch (error) {\n",
              "        console.error('Error during call to suggestCharts:', error);\n",
              "      }\n",
              "      quickchartButtonEl.classList.remove('colab-df-spinner');\n",
              "      quickchartButtonEl.classList.add('colab-df-quickchart-complete');\n",
              "    }\n",
              "    (() => {\n",
              "      let quickchartButtonEl =\n",
              "        document.querySelector('#df-a2303174-58cd-4e3d-b361-7e21cf35a875 button');\n",
              "      quickchartButtonEl.style.display =\n",
              "        google.colab.kernel.accessAllowed ? 'block' : 'none';\n",
              "    })();\n",
              "  </script>\n",
              "</div>\n",
              "    </div>\n",
              "  </div>\n"
            ]
          },
          "metadata": {},
          "execution_count": 62
        }
      ]
    },
    {
      "cell_type": "code",
      "source": [
        "X"
      ],
      "metadata": {
        "colab": {
          "base_uri": "https://localhost:8080/",
          "height": 424
        },
        "id": "JoNtHMjAV3_x",
        "outputId": "291971a9-85ac-422c-95e1-436ce5c3fb18"
      },
      "execution_count": null,
      "outputs": [
        {
          "output_type": "execute_result",
          "data": {
            "text/plain": [
              "         id  gender   age  hypertension  heart_disease ever_married  \\\n",
              "0      9046    Male  67.0             0              1          Yes   \n",
              "1     51676  Female  61.0             0              0          Yes   \n",
              "2     31112    Male  80.0             0              1          Yes   \n",
              "3     60182  Female  49.0             0              0          Yes   \n",
              "4      1665  Female  79.0             1              0          Yes   \n",
              "...     ...     ...   ...           ...            ...          ...   \n",
              "5105  18234  Female  80.0             1              0          Yes   \n",
              "5106  44873  Female  81.0             0              0          Yes   \n",
              "5107  19723  Female  35.0             0              0          Yes   \n",
              "5108  37544    Male  51.0             0              0          Yes   \n",
              "5109  44679  Female  44.0             0              0          Yes   \n",
              "\n",
              "          work_type Residence_type  avg_glucose_level        bmi  \\\n",
              "0           Private          Urban             228.69  36.600000   \n",
              "1     Self-employed          Rural             202.21  28.893237   \n",
              "2           Private          Rural             105.92  32.500000   \n",
              "3           Private          Urban             171.23  34.400000   \n",
              "4     Self-employed          Rural             174.12  24.000000   \n",
              "...             ...            ...                ...        ...   \n",
              "5105        Private          Urban              83.75  28.893237   \n",
              "5106  Self-employed          Urban             125.20  40.000000   \n",
              "5107  Self-employed          Rural              82.99  30.600000   \n",
              "5108        Private          Rural             166.29  25.600000   \n",
              "5109       Govt_job          Urban              85.28  26.200000   \n",
              "\n",
              "       smoking_status  \n",
              "0     formerly smoked  \n",
              "1        never smoked  \n",
              "2        never smoked  \n",
              "3              smokes  \n",
              "4        never smoked  \n",
              "...               ...  \n",
              "5105     never smoked  \n",
              "5106     never smoked  \n",
              "5107     never smoked  \n",
              "5108  formerly smoked  \n",
              "5109          Unknown  \n",
              "\n",
              "[5110 rows x 11 columns]"
            ],
            "text/html": [
              "\n",
              "  <div id=\"df-1de541dd-bfde-48f0-bc0c-87624fb3e4b8\" class=\"colab-df-container\">\n",
              "    <div>\n",
              "<style scoped>\n",
              "    .dataframe tbody tr th:only-of-type {\n",
              "        vertical-align: middle;\n",
              "    }\n",
              "\n",
              "    .dataframe tbody tr th {\n",
              "        vertical-align: top;\n",
              "    }\n",
              "\n",
              "    .dataframe thead th {\n",
              "        text-align: right;\n",
              "    }\n",
              "</style>\n",
              "<table border=\"1\" class=\"dataframe\">\n",
              "  <thead>\n",
              "    <tr style=\"text-align: right;\">\n",
              "      <th></th>\n",
              "      <th>id</th>\n",
              "      <th>gender</th>\n",
              "      <th>age</th>\n",
              "      <th>hypertension</th>\n",
              "      <th>heart_disease</th>\n",
              "      <th>ever_married</th>\n",
              "      <th>work_type</th>\n",
              "      <th>Residence_type</th>\n",
              "      <th>avg_glucose_level</th>\n",
              "      <th>bmi</th>\n",
              "      <th>smoking_status</th>\n",
              "    </tr>\n",
              "  </thead>\n",
              "  <tbody>\n",
              "    <tr>\n",
              "      <th>0</th>\n",
              "      <td>9046</td>\n",
              "      <td>Male</td>\n",
              "      <td>67.0</td>\n",
              "      <td>0</td>\n",
              "      <td>1</td>\n",
              "      <td>Yes</td>\n",
              "      <td>Private</td>\n",
              "      <td>Urban</td>\n",
              "      <td>228.69</td>\n",
              "      <td>36.600000</td>\n",
              "      <td>formerly smoked</td>\n",
              "    </tr>\n",
              "    <tr>\n",
              "      <th>1</th>\n",
              "      <td>51676</td>\n",
              "      <td>Female</td>\n",
              "      <td>61.0</td>\n",
              "      <td>0</td>\n",
              "      <td>0</td>\n",
              "      <td>Yes</td>\n",
              "      <td>Self-employed</td>\n",
              "      <td>Rural</td>\n",
              "      <td>202.21</td>\n",
              "      <td>28.893237</td>\n",
              "      <td>never smoked</td>\n",
              "    </tr>\n",
              "    <tr>\n",
              "      <th>2</th>\n",
              "      <td>31112</td>\n",
              "      <td>Male</td>\n",
              "      <td>80.0</td>\n",
              "      <td>0</td>\n",
              "      <td>1</td>\n",
              "      <td>Yes</td>\n",
              "      <td>Private</td>\n",
              "      <td>Rural</td>\n",
              "      <td>105.92</td>\n",
              "      <td>32.500000</td>\n",
              "      <td>never smoked</td>\n",
              "    </tr>\n",
              "    <tr>\n",
              "      <th>3</th>\n",
              "      <td>60182</td>\n",
              "      <td>Female</td>\n",
              "      <td>49.0</td>\n",
              "      <td>0</td>\n",
              "      <td>0</td>\n",
              "      <td>Yes</td>\n",
              "      <td>Private</td>\n",
              "      <td>Urban</td>\n",
              "      <td>171.23</td>\n",
              "      <td>34.400000</td>\n",
              "      <td>smokes</td>\n",
              "    </tr>\n",
              "    <tr>\n",
              "      <th>4</th>\n",
              "      <td>1665</td>\n",
              "      <td>Female</td>\n",
              "      <td>79.0</td>\n",
              "      <td>1</td>\n",
              "      <td>0</td>\n",
              "      <td>Yes</td>\n",
              "      <td>Self-employed</td>\n",
              "      <td>Rural</td>\n",
              "      <td>174.12</td>\n",
              "      <td>24.000000</td>\n",
              "      <td>never smoked</td>\n",
              "    </tr>\n",
              "    <tr>\n",
              "      <th>...</th>\n",
              "      <td>...</td>\n",
              "      <td>...</td>\n",
              "      <td>...</td>\n",
              "      <td>...</td>\n",
              "      <td>...</td>\n",
              "      <td>...</td>\n",
              "      <td>...</td>\n",
              "      <td>...</td>\n",
              "      <td>...</td>\n",
              "      <td>...</td>\n",
              "      <td>...</td>\n",
              "    </tr>\n",
              "    <tr>\n",
              "      <th>5105</th>\n",
              "      <td>18234</td>\n",
              "      <td>Female</td>\n",
              "      <td>80.0</td>\n",
              "      <td>1</td>\n",
              "      <td>0</td>\n",
              "      <td>Yes</td>\n",
              "      <td>Private</td>\n",
              "      <td>Urban</td>\n",
              "      <td>83.75</td>\n",
              "      <td>28.893237</td>\n",
              "      <td>never smoked</td>\n",
              "    </tr>\n",
              "    <tr>\n",
              "      <th>5106</th>\n",
              "      <td>44873</td>\n",
              "      <td>Female</td>\n",
              "      <td>81.0</td>\n",
              "      <td>0</td>\n",
              "      <td>0</td>\n",
              "      <td>Yes</td>\n",
              "      <td>Self-employed</td>\n",
              "      <td>Urban</td>\n",
              "      <td>125.20</td>\n",
              "      <td>40.000000</td>\n",
              "      <td>never smoked</td>\n",
              "    </tr>\n",
              "    <tr>\n",
              "      <th>5107</th>\n",
              "      <td>19723</td>\n",
              "      <td>Female</td>\n",
              "      <td>35.0</td>\n",
              "      <td>0</td>\n",
              "      <td>0</td>\n",
              "      <td>Yes</td>\n",
              "      <td>Self-employed</td>\n",
              "      <td>Rural</td>\n",
              "      <td>82.99</td>\n",
              "      <td>30.600000</td>\n",
              "      <td>never smoked</td>\n",
              "    </tr>\n",
              "    <tr>\n",
              "      <th>5108</th>\n",
              "      <td>37544</td>\n",
              "      <td>Male</td>\n",
              "      <td>51.0</td>\n",
              "      <td>0</td>\n",
              "      <td>0</td>\n",
              "      <td>Yes</td>\n",
              "      <td>Private</td>\n",
              "      <td>Rural</td>\n",
              "      <td>166.29</td>\n",
              "      <td>25.600000</td>\n",
              "      <td>formerly smoked</td>\n",
              "    </tr>\n",
              "    <tr>\n",
              "      <th>5109</th>\n",
              "      <td>44679</td>\n",
              "      <td>Female</td>\n",
              "      <td>44.0</td>\n",
              "      <td>0</td>\n",
              "      <td>0</td>\n",
              "      <td>Yes</td>\n",
              "      <td>Govt_job</td>\n",
              "      <td>Urban</td>\n",
              "      <td>85.28</td>\n",
              "      <td>26.200000</td>\n",
              "      <td>Unknown</td>\n",
              "    </tr>\n",
              "  </tbody>\n",
              "</table>\n",
              "<p>5110 rows × 11 columns</p>\n",
              "</div>\n",
              "    <div class=\"colab-df-buttons\">\n",
              "\n",
              "  <div class=\"colab-df-container\">\n",
              "    <button class=\"colab-df-convert\" onclick=\"convertToInteractive('df-1de541dd-bfde-48f0-bc0c-87624fb3e4b8')\"\n",
              "            title=\"Convert this dataframe to an interactive table.\"\n",
              "            style=\"display:none;\">\n",
              "\n",
              "  <svg xmlns=\"http://www.w3.org/2000/svg\" height=\"24px\" viewBox=\"0 -960 960 960\">\n",
              "    <path d=\"M120-120v-720h720v720H120Zm60-500h600v-160H180v160Zm220 220h160v-160H400v160Zm0 220h160v-160H400v160ZM180-400h160v-160H180v160Zm440 0h160v-160H620v160ZM180-180h160v-160H180v160Zm440 0h160v-160H620v160Z\"/>\n",
              "  </svg>\n",
              "    </button>\n",
              "\n",
              "  <style>\n",
              "    .colab-df-container {\n",
              "      display:flex;\n",
              "      gap: 12px;\n",
              "    }\n",
              "\n",
              "    .colab-df-convert {\n",
              "      background-color: #E8F0FE;\n",
              "      border: none;\n",
              "      border-radius: 50%;\n",
              "      cursor: pointer;\n",
              "      display: none;\n",
              "      fill: #1967D2;\n",
              "      height: 32px;\n",
              "      padding: 0 0 0 0;\n",
              "      width: 32px;\n",
              "    }\n",
              "\n",
              "    .colab-df-convert:hover {\n",
              "      background-color: #E2EBFA;\n",
              "      box-shadow: 0px 1px 2px rgba(60, 64, 67, 0.3), 0px 1px 3px 1px rgba(60, 64, 67, 0.15);\n",
              "      fill: #174EA6;\n",
              "    }\n",
              "\n",
              "    .colab-df-buttons div {\n",
              "      margin-bottom: 4px;\n",
              "    }\n",
              "\n",
              "    [theme=dark] .colab-df-convert {\n",
              "      background-color: #3B4455;\n",
              "      fill: #D2E3FC;\n",
              "    }\n",
              "\n",
              "    [theme=dark] .colab-df-convert:hover {\n",
              "      background-color: #434B5C;\n",
              "      box-shadow: 0px 1px 3px 1px rgba(0, 0, 0, 0.15);\n",
              "      filter: drop-shadow(0px 1px 2px rgba(0, 0, 0, 0.3));\n",
              "      fill: #FFFFFF;\n",
              "    }\n",
              "  </style>\n",
              "\n",
              "    <script>\n",
              "      const buttonEl =\n",
              "        document.querySelector('#df-1de541dd-bfde-48f0-bc0c-87624fb3e4b8 button.colab-df-convert');\n",
              "      buttonEl.style.display =\n",
              "        google.colab.kernel.accessAllowed ? 'block' : 'none';\n",
              "\n",
              "      async function convertToInteractive(key) {\n",
              "        const element = document.querySelector('#df-1de541dd-bfde-48f0-bc0c-87624fb3e4b8');\n",
              "        const dataTable =\n",
              "          await google.colab.kernel.invokeFunction('convertToInteractive',\n",
              "                                                    [key], {});\n",
              "        if (!dataTable) return;\n",
              "\n",
              "        const docLinkHtml = 'Like what you see? Visit the ' +\n",
              "          '<a target=\"_blank\" href=https://colab.research.google.com/notebooks/data_table.ipynb>data table notebook</a>'\n",
              "          + ' to learn more about interactive tables.';\n",
              "        element.innerHTML = '';\n",
              "        dataTable['output_type'] = 'display_data';\n",
              "        await google.colab.output.renderOutput(dataTable, element);\n",
              "        const docLink = document.createElement('div');\n",
              "        docLink.innerHTML = docLinkHtml;\n",
              "        element.appendChild(docLink);\n",
              "      }\n",
              "    </script>\n",
              "  </div>\n",
              "\n",
              "\n",
              "<div id=\"df-74b536de-74b8-433c-81b7-d287dbdbe5e8\">\n",
              "  <button class=\"colab-df-quickchart\" onclick=\"quickchart('df-74b536de-74b8-433c-81b7-d287dbdbe5e8')\"\n",
              "            title=\"Suggest charts\"\n",
              "            style=\"display:none;\">\n",
              "\n",
              "<svg xmlns=\"http://www.w3.org/2000/svg\" height=\"24px\"viewBox=\"0 0 24 24\"\n",
              "     width=\"24px\">\n",
              "    <g>\n",
              "        <path d=\"M19 3H5c-1.1 0-2 .9-2 2v14c0 1.1.9 2 2 2h14c1.1 0 2-.9 2-2V5c0-1.1-.9-2-2-2zM9 17H7v-7h2v7zm4 0h-2V7h2v10zm4 0h-2v-4h2v4z\"/>\n",
              "    </g>\n",
              "</svg>\n",
              "  </button>\n",
              "\n",
              "<style>\n",
              "  .colab-df-quickchart {\n",
              "      --bg-color: #E8F0FE;\n",
              "      --fill-color: #1967D2;\n",
              "      --hover-bg-color: #E2EBFA;\n",
              "      --hover-fill-color: #174EA6;\n",
              "      --disabled-fill-color: #AAA;\n",
              "      --disabled-bg-color: #DDD;\n",
              "  }\n",
              "\n",
              "  [theme=dark] .colab-df-quickchart {\n",
              "      --bg-color: #3B4455;\n",
              "      --fill-color: #D2E3FC;\n",
              "      --hover-bg-color: #434B5C;\n",
              "      --hover-fill-color: #FFFFFF;\n",
              "      --disabled-bg-color: #3B4455;\n",
              "      --disabled-fill-color: #666;\n",
              "  }\n",
              "\n",
              "  .colab-df-quickchart {\n",
              "    background-color: var(--bg-color);\n",
              "    border: none;\n",
              "    border-radius: 50%;\n",
              "    cursor: pointer;\n",
              "    display: none;\n",
              "    fill: var(--fill-color);\n",
              "    height: 32px;\n",
              "    padding: 0;\n",
              "    width: 32px;\n",
              "  }\n",
              "\n",
              "  .colab-df-quickchart:hover {\n",
              "    background-color: var(--hover-bg-color);\n",
              "    box-shadow: 0 1px 2px rgba(60, 64, 67, 0.3), 0 1px 3px 1px rgba(60, 64, 67, 0.15);\n",
              "    fill: var(--button-hover-fill-color);\n",
              "  }\n",
              "\n",
              "  .colab-df-quickchart-complete:disabled,\n",
              "  .colab-df-quickchart-complete:disabled:hover {\n",
              "    background-color: var(--disabled-bg-color);\n",
              "    fill: var(--disabled-fill-color);\n",
              "    box-shadow: none;\n",
              "  }\n",
              "\n",
              "  .colab-df-spinner {\n",
              "    border: 2px solid var(--fill-color);\n",
              "    border-color: transparent;\n",
              "    border-bottom-color: var(--fill-color);\n",
              "    animation:\n",
              "      spin 1s steps(1) infinite;\n",
              "  }\n",
              "\n",
              "  @keyframes spin {\n",
              "    0% {\n",
              "      border-color: transparent;\n",
              "      border-bottom-color: var(--fill-color);\n",
              "      border-left-color: var(--fill-color);\n",
              "    }\n",
              "    20% {\n",
              "      border-color: transparent;\n",
              "      border-left-color: var(--fill-color);\n",
              "      border-top-color: var(--fill-color);\n",
              "    }\n",
              "    30% {\n",
              "      border-color: transparent;\n",
              "      border-left-color: var(--fill-color);\n",
              "      border-top-color: var(--fill-color);\n",
              "      border-right-color: var(--fill-color);\n",
              "    }\n",
              "    40% {\n",
              "      border-color: transparent;\n",
              "      border-right-color: var(--fill-color);\n",
              "      border-top-color: var(--fill-color);\n",
              "    }\n",
              "    60% {\n",
              "      border-color: transparent;\n",
              "      border-right-color: var(--fill-color);\n",
              "    }\n",
              "    80% {\n",
              "      border-color: transparent;\n",
              "      border-right-color: var(--fill-color);\n",
              "      border-bottom-color: var(--fill-color);\n",
              "    }\n",
              "    90% {\n",
              "      border-color: transparent;\n",
              "      border-bottom-color: var(--fill-color);\n",
              "    }\n",
              "  }\n",
              "</style>\n",
              "\n",
              "  <script>\n",
              "    async function quickchart(key) {\n",
              "      const quickchartButtonEl =\n",
              "        document.querySelector('#' + key + ' button');\n",
              "      quickchartButtonEl.disabled = true;  // To prevent multiple clicks.\n",
              "      quickchartButtonEl.classList.add('colab-df-spinner');\n",
              "      try {\n",
              "        const charts = await google.colab.kernel.invokeFunction(\n",
              "            'suggestCharts', [key], {});\n",
              "      } catch (error) {\n",
              "        console.error('Error during call to suggestCharts:', error);\n",
              "      }\n",
              "      quickchartButtonEl.classList.remove('colab-df-spinner');\n",
              "      quickchartButtonEl.classList.add('colab-df-quickchart-complete');\n",
              "    }\n",
              "    (() => {\n",
              "      let quickchartButtonEl =\n",
              "        document.querySelector('#df-74b536de-74b8-433c-81b7-d287dbdbe5e8 button');\n",
              "      quickchartButtonEl.style.display =\n",
              "        google.colab.kernel.accessAllowed ? 'block' : 'none';\n",
              "    })();\n",
              "  </script>\n",
              "</div>\n",
              "    </div>\n",
              "  </div>\n"
            ]
          },
          "metadata": {},
          "execution_count": 63
        }
      ]
    },
    {
      "cell_type": "code",
      "source": [
        "scores = []\n",
        "i = 1\n",
        "for train_set, test_set in kf.split(X):\n",
        "    pipe.fit(X.loc[train_set], y[train_set])\n",
        "    sco = pipe.score(X.loc[test_set], y[test_set])\n",
        "    scores.append(sco)\n",
        "    print(\"iteration \", i)\n",
        "    i += 1\n",
        "\n",
        "\n",
        "print(f'\\n\\nScores: \\n{np.array(scores)}\\n\\n')\n",
        "\n",
        "\n",
        "print(f'Mean of Scores: \\n{np.array(scores).mean()}\\n\\n')\n",
        "\n",
        "\n",
        "print(f'Standard Deviation of Scores: \\n{np.array(scores).std()}\\n\\n')\n"
      ],
      "metadata": {
        "colab": {
          "base_uri": "https://localhost:8080/"
        },
        "id": "c2KIXwgiVYMZ",
        "outputId": "12a5627e-a2c5-4b2b-c357-64d7ceed1442"
      },
      "execution_count": null,
      "outputs": [
        {
          "output_type": "stream",
          "name": "stdout",
          "text": [
            "iteration  1\n",
            "iteration  2\n",
            "iteration  3\n",
            "iteration  4\n",
            "iteration  5\n",
            "\n",
            "\n",
            "Scores: \n",
            "[0.75636008 0.99706458 0.99412916 0.99217221 0.99315068]\n",
            "\n",
            "\n",
            "Mean of Scores: \n",
            "0.9465753424657535\n",
            "\n",
            "\n",
            "Standard Deviation of Scores: \n",
            "0.09512172429078737\n",
            "\n",
            "\n"
          ]
        }
      ]
    },
    {
      "cell_type": "code",
      "source": [
        "###2. Stratified KFold Cross Validation\n",
        "y.value_counts()"
      ],
      "metadata": {
        "colab": {
          "base_uri": "https://localhost:8080/"
        },
        "id": "8f1CV85GXf2Q",
        "outputId": "9e692a53-6986-4f19-c28b-c29330c91abb"
      },
      "execution_count": null,
      "outputs": [
        {
          "output_type": "execute_result",
          "data": {
            "text/plain": [
              "0    4861\n",
              "1     249\n",
              "Name: stroke, dtype: int64"
            ]
          },
          "metadata": {},
          "execution_count": 65
        }
      ]
    },
    {
      "cell_type": "code",
      "source": [
        "print(f'Count of class 1 in each split: {y.value_counts()[1]/5}')\n",
        "print(f'Count of class 1 in n-1 splits: {(y.value_counts()[1]/5)*4}\\n')\n",
        "\n",
        "print(f'Count of class 0 in each split: {y.value_counts()[0]/5}')\n",
        "print(f'Count of class 0 in n-1 splits: {(y.value_counts()[0]/5)*4}')"
      ],
      "metadata": {
        "colab": {
          "base_uri": "https://localhost:8080/"
        },
        "id": "H5GGm22QYTP1",
        "outputId": "3ccc5da2-00a3-41cd-cecd-ef3586878fdc"
      },
      "execution_count": null,
      "outputs": [
        {
          "output_type": "stream",
          "name": "stdout",
          "text": [
            "Count of class 1 in each split: 49.8\n",
            "Count of class 1 in n-1 splits: 199.2\n",
            "\n",
            "Count of class 0 in each split: 972.2\n",
            "Count of class 0 in n-1 splits: 3888.8\n"
          ]
        }
      ]
    },
    {
      "cell_type": "code",
      "source": [
        "skf = StratifiedKFold(n_splits=5)\n",
        "\n",
        "scores_skf = []\n",
        "i = 1\n",
        "for train_set, test_set in skf.split(X, y):\n",
        "    pipe.fit(X.loc[train_set], y[train_set])\n",
        "    sco = pipe.score(X.loc[test_set], y[test_set])\n",
        "    scores_skf.append(sco)\n",
        "    print(\"iteration \", i)\n",
        "    i += 1\n"
      ],
      "metadata": {
        "colab": {
          "base_uri": "https://localhost:8080/"
        },
        "id": "8BcZ1bMuY31x",
        "outputId": "0444bb81-34bf-4a61-9315-4ef54118848d"
      },
      "execution_count": null,
      "outputs": [
        {
          "output_type": "stream",
          "name": "stdout",
          "text": [
            "iteration  1\n",
            "iteration  2\n",
            "iteration  3\n",
            "iteration  4\n",
            "iteration  5\n"
          ]
        }
      ]
    },
    {
      "cell_type": "code",
      "source": [
        "scores_skf"
      ],
      "metadata": {
        "colab": {
          "base_uri": "https://localhost:8080/"
        },
        "id": "ejkrNPZ2Y7_q",
        "outputId": "a658d0ae-d0b0-44ba-d354-a1591156ed1a"
      },
      "execution_count": null,
      "outputs": [
        {
          "output_type": "execute_result",
          "data": {
            "text/plain": [
              "[0.9481409001956947,\n",
              " 0.9500978473581213,\n",
              " 0.9432485322896281,\n",
              " 0.9471624266144814,\n",
              " 0.952054794520548]"
            ]
          },
          "metadata": {},
          "execution_count": 68
        }
      ]
    },
    {
      "cell_type": "code",
      "source": [
        "i = 1\n",
        "for train_set, test_set in skf.split(X=X, y=y):\n",
        "    print(\"iteration \", i)\n",
        "    print(train_set, \" having :\" , len(train_set))\n",
        "    print(test_set, \" having :\" , len(test_set))\n",
        "    print()\n",
        "    print(\"y train counts: \\n\", y[train_set].value_counts())\n",
        "    print(\"y test counts: \\n\", y[test_set].value_counts())\n",
        "    print(\"-------------------------\")\n",
        "    i += 1"
      ],
      "metadata": {
        "colab": {
          "base_uri": "https://localhost:8080/"
        },
        "id": "oO6ayb-wY_fc",
        "outputId": "cf5f082a-c4c5-4956-8699-3d110487cdc0"
      },
      "execution_count": null,
      "outputs": [
        {
          "output_type": "stream",
          "name": "stdout",
          "text": [
            "iteration  1\n",
            "[  50   51   52 ... 5107 5108 5109]  having : 4088\n",
            "[   0    1    2 ... 1218 1219 1220]  having : 1022\n",
            "\n",
            "y train counts: \n",
            " 0    3889\n",
            "1     199\n",
            "Name: stroke, dtype: int64\n",
            "y test counts: \n",
            " 0    972\n",
            "1     50\n",
            "Name: stroke, dtype: int64\n",
            "-------------------------\n",
            "iteration  2\n",
            "[   0    1    2 ... 5107 5108 5109]  having : 4088\n",
            "[  50   51   52 ... 2190 2191 2192]  having : 1022\n",
            "\n",
            "y train counts: \n",
            " 0    3889\n",
            "1     199\n",
            "Name: stroke, dtype: int64\n",
            "y test counts: \n",
            " 0    972\n",
            "1     50\n",
            "Name: stroke, dtype: int64\n",
            "-------------------------\n",
            "iteration  3\n",
            "[   0    1    2 ... 5107 5108 5109]  having : 4088\n",
            "[ 100  101  102 ... 3162 3163 3164]  having : 1022\n",
            "\n",
            "y train counts: \n",
            " 0    3889\n",
            "1     199\n",
            "Name: stroke, dtype: int64\n",
            "y test counts: \n",
            " 0    972\n",
            "1     50\n",
            "Name: stroke, dtype: int64\n",
            "-------------------------\n",
            "iteration  4\n",
            "[   0    1    2 ... 5107 5108 5109]  having : 4088\n",
            "[ 150  151  152 ... 4134 4135 4136]  having : 1022\n",
            "\n",
            "y train counts: \n",
            " 0    3889\n",
            "1     199\n",
            "Name: stroke, dtype: int64\n",
            "y test counts: \n",
            " 0    972\n",
            "1     50\n",
            "Name: stroke, dtype: int64\n",
            "-------------------------\n",
            "iteration  5\n",
            "[   0    1    2 ... 4134 4135 4136]  having : 4088\n",
            "[ 200  201  202 ... 5107 5108 5109]  having : 1022\n",
            "\n",
            "y train counts: \n",
            " 0    3888\n",
            "1     200\n",
            "Name: stroke, dtype: int64\n",
            "y test counts: \n",
            " 0    973\n",
            "1     49\n",
            "Name: stroke, dtype: int64\n",
            "-------------------------\n"
          ]
        }
      ]
    },
    {
      "cell_type": "code",
      "source": [
        "result_kf = cross_val_score(estimator=pipe, X=X, y=y, scoring='accuracy', cv=5)\n",
        "result_kf"
      ],
      "metadata": {
        "colab": {
          "base_uri": "https://localhost:8080/"
        },
        "id": "GnTH7wAXZerA",
        "outputId": "61dbfd59-eb6a-421f-d9fa-01ed2db5197a"
      },
      "execution_count": null,
      "outputs": [
        {
          "output_type": "execute_result",
          "data": {
            "text/plain": [
              "array([0.9481409 , 0.95009785, 0.94324853, 0.94716243, 0.95205479])"
            ]
          },
          "metadata": {},
          "execution_count": 70
        }
      ]
    },
    {
      "cell_type": "code",
      "source": [],
      "metadata": {
        "id": "OxDgWYC-ZiwA"
      },
      "execution_count": null,
      "outputs": []
    },
    {
      "cell_type": "code",
      "source": [
        "###3. Leave one out Cross Validation\n",
        "\n",
        "start = time.time()\n",
        "result_kf10 = cross_val_score(estimator=pipe, X=X, y=y, scoring='accuracy', cv=KFold(n_splits=10))\n",
        "result_kf10\n",
        "print(\"time taken: \", time.time()-start)"
      ],
      "metadata": {
        "colab": {
          "base_uri": "https://localhost:8080/"
        },
        "id": "Zc0ZS1FdZg55",
        "outputId": "30c5b6a6-a906-4c5e-c1d6-fefe7807f5b4"
      },
      "execution_count": null,
      "outputs": [
        {
          "output_type": "stream",
          "name": "stdout",
          "text": [
            "time taken:  0.7834956645965576\n"
          ]
        }
      ]
    },
    {
      "cell_type": "code",
      "source": [
        "result_kf10"
      ],
      "metadata": {
        "colab": {
          "base_uri": "https://localhost:8080/"
        },
        "id": "zFsFoiJ2ZlPV",
        "outputId": "d270ac69-7ce7-4cbb-e35a-5a864d48817b"
      },
      "execution_count": null,
      "outputs": [
        {
          "output_type": "execute_result",
          "data": {
            "text/plain": [
              "array([0.51272016, 0.99608611, 0.99021526, 1.        , 0.99217221,\n",
              "       0.99608611, 0.99217221, 0.99804305, 0.99412916, 1.        ])"
            ]
          },
          "metadata": {},
          "execution_count": 72
        }
      ]
    },
    {
      "cell_type": "code",
      "source": [
        "start = time.time()\n",
        "result_loocv = cross_val_score(estimator=pipe, X=X.head(100), y=y.head(100),\n",
        "                               scoring='accuracy', cv=LeaveOneOut())\n",
        "print(\"time taken: \", time.time()-start)"
      ],
      "metadata": {
        "colab": {
          "base_uri": "https://localhost:8080/"
        },
        "id": "clUISc0qZ14p",
        "outputId": "d661d17c-4145-4139-c43d-975f4ae3e683"
      },
      "execution_count": null,
      "outputs": [
        {
          "output_type": "stream",
          "name": "stdout",
          "text": [
            "time taken:  3.650752544403076\n"
          ]
        }
      ]
    },
    {
      "cell_type": "code",
      "source": [
        "((X.shape[0]/100)*8)/60"
      ],
      "metadata": {
        "colab": {
          "base_uri": "https://localhost:8080/"
        },
        "id": "YhtsSOCNaI1c",
        "outputId": "ce7b636a-91f4-4c67-cf2c-a3ba665b1bab"
      },
      "execution_count": null,
      "outputs": [
        {
          "output_type": "execute_result",
          "data": {
            "text/plain": [
              "6.8133333333333335"
            ]
          },
          "metadata": {},
          "execution_count": 74
        }
      ]
    },
    {
      "cell_type": "code",
      "source": [
        "result_loocv"
      ],
      "metadata": {
        "colab": {
          "base_uri": "https://localhost:8080/"
        },
        "id": "SpkshEirZ6Ba",
        "outputId": "fdc2f9a6-9a84-44a7-e9cd-d42401accad3"
      },
      "execution_count": null,
      "outputs": [
        {
          "output_type": "execute_result",
          "data": {
            "text/plain": [
              "array([1., 1., 1., 1., 1., 1., 1., 1., 1., 1., 1., 1., 1., 1., 1., 1., 1.,\n",
              "       1., 1., 1., 1., 1., 1., 1., 1., 1., 1., 1., 1., 1., 1., 1., 1., 1.,\n",
              "       1., 1., 1., 1., 1., 1., 1., 1., 1., 1., 1., 1., 1., 1., 1., 1., 1.,\n",
              "       1., 1., 1., 1., 1., 1., 1., 1., 1., 1., 1., 1., 1., 1., 1., 1., 1.,\n",
              "       1., 1., 1., 1., 1., 1., 1., 1., 1., 1., 1., 1., 1., 1., 1., 1., 1.,\n",
              "       1., 1., 1., 1., 1., 1., 1., 1., 1., 1., 1., 1., 1., 1., 1.])"
            ]
          },
          "metadata": {},
          "execution_count": 75
        }
      ]
    },
    {
      "cell_type": "code",
      "source": [
        "result_loocv.mean()"
      ],
      "metadata": {
        "colab": {
          "base_uri": "https://localhost:8080/"
        },
        "id": "k8hOpiLjZ7KY",
        "outputId": "07278fbd-92cc-48f2-dbf2-22da7cfee1cb"
      },
      "execution_count": null,
      "outputs": [
        {
          "output_type": "execute_result",
          "data": {
            "text/plain": [
              "1.0"
            ]
          },
          "metadata": {},
          "execution_count": 78
        }
      ]
    },
    {
      "cell_type": "code",
      "source": [],
      "metadata": {
        "id": "74OpeUnTaUlq"
      },
      "execution_count": null,
      "outputs": []
    },
    {
      "cell_type": "code",
      "source": [
        "###4. Repeated KFold Cross Validation\n",
        "\n",
        "start = time.time()\n",
        "result_rkf = cross_val_score(estimator=pipe, X=X, y=y, scoring='accuracy',\n",
        "                              cv=RepeatedKFold(n_splits=5, n_repeats=5))\n",
        "result_rkf\n",
        "print(\"time taken: \", time.time()-start)\n",
        "\n"
      ],
      "metadata": {
        "colab": {
          "base_uri": "https://localhost:8080/"
        },
        "id": "f_mPI2YUaV_p",
        "outputId": "4b88a43d-cf92-4462-ad4b-9865789eabc9"
      },
      "execution_count": null,
      "outputs": [
        {
          "output_type": "stream",
          "name": "stdout",
          "text": [
            "time taken:  2.65730357170105\n"
          ]
        }
      ]
    },
    {
      "cell_type": "code",
      "source": [
        "result_rkf"
      ],
      "metadata": {
        "colab": {
          "base_uri": "https://localhost:8080/"
        },
        "id": "eMM7A4M2aW_7",
        "outputId": "99b05a75-9353-44be-825c-5644b376e19e"
      },
      "execution_count": null,
      "outputs": [
        {
          "output_type": "execute_result",
          "data": {
            "text/plain": [
              "array([0.95401174, 0.94520548, 0.94520548, 0.94520548, 0.95107632,\n",
              "       0.94227006, 0.95303327, 0.94911937, 0.96086106, 0.94129159,\n",
              "       0.94911937, 0.94324853, 0.95009785, 0.94911937, 0.94911937,\n",
              "       0.94618395, 0.95205479, 0.95009785, 0.94520548, 0.95303327,\n",
              "       0.94911937, 0.9481409 , 0.95401174, 0.95205479, 0.94031311])"
            ]
          },
          "metadata": {},
          "execution_count": 80
        }
      ]
    },
    {
      "cell_type": "code",
      "source": [],
      "metadata": {
        "id": "WBozPXo-axE8"
      },
      "execution_count": null,
      "outputs": []
    },
    {
      "cell_type": "code",
      "source": [
        "###5. Performing Cross validation on a training set, and then verifying our results on a seperate testset to generalize our results.\n",
        "\n",
        "X_train, X_test, y_train, y_test = train_test_split(X, y, test_size=0.2, random_state=0)\n",
        "\n",
        "start = time.time()\n",
        "result_tts = cross_val_score(estimator=pipe, X=X_train, y=y_train,\n",
        "                              scoring='accuracy', cv=KFold(n_splits=5))\n",
        "print(\"time taken: \", time.time()-start)"
      ],
      "metadata": {
        "colab": {
          "base_uri": "https://localhost:8080/"
        },
        "id": "0vTxqNI1aw82",
        "outputId": "9054a542-69e0-458e-fe68-cc2b4abc08ad"
      },
      "execution_count": null,
      "outputs": [
        {
          "output_type": "stream",
          "name": "stdout",
          "text": [
            "time taken:  0.3511331081390381\n"
          ]
        }
      ]
    },
    {
      "cell_type": "code",
      "source": [
        "result_tts"
      ],
      "metadata": {
        "colab": {
          "base_uri": "https://localhost:8080/"
        },
        "id": "cuYYVtDea2GZ",
        "outputId": "ef03b0a1-67b4-459d-f425-9b4276442977"
      },
      "execution_count": null,
      "outputs": [
        {
          "output_type": "execute_result",
          "data": {
            "text/plain": [
              "array([0.95843521, 0.94987775, 0.95354523, 0.94614443, 0.94492044])"
            ]
          },
          "metadata": {},
          "execution_count": 82
        }
      ]
    },
    {
      "cell_type": "code",
      "source": [
        "pipe.fit(X_train, y_train)"
      ],
      "metadata": {
        "colab": {
          "base_uri": "https://localhost:8080/",
          "height": 192
        },
        "id": "zVfzEvB2a4jC",
        "outputId": "880f3b41-d039-48ea-b281-2b31c2dc73c5"
      },
      "execution_count": null,
      "outputs": [
        {
          "output_type": "execute_result",
          "data": {
            "text/plain": [
              "Pipeline(steps=[('ct_step',\n",
              "                 ColumnTransformer(transformers=[('rob', RobustScaler(),\n",
              "                                                  Index(['id', 'age', 'hypertension', 'heart_disease', 'avg_glucose_level',\n",
              "       'bmi'],\n",
              "      dtype='object')),\n",
              "                                                 ('ohe',\n",
              "                                                  OneHotEncoder(handle_unknown='ignore',\n",
              "                                                                sparse_output=False),\n",
              "                                                  Index(['gender', 'ever_married', 'work_type', 'Residence_type',\n",
              "       'smoking_status'],\n",
              "      dtype='object'))])),\n",
              "                ('model',\n",
              "                 RandomForestClassifier(n_estimators=10, random_state=0))])"
            ],
            "text/html": [
              "<style>#sk-container-id-2 {color: black;background-color: white;}#sk-container-id-2 pre{padding: 0;}#sk-container-id-2 div.sk-toggleable {background-color: white;}#sk-container-id-2 label.sk-toggleable__label {cursor: pointer;display: block;width: 100%;margin-bottom: 0;padding: 0.3em;box-sizing: border-box;text-align: center;}#sk-container-id-2 label.sk-toggleable__label-arrow:before {content: \"▸\";float: left;margin-right: 0.25em;color: #696969;}#sk-container-id-2 label.sk-toggleable__label-arrow:hover:before {color: black;}#sk-container-id-2 div.sk-estimator:hover label.sk-toggleable__label-arrow:before {color: black;}#sk-container-id-2 div.sk-toggleable__content {max-height: 0;max-width: 0;overflow: hidden;text-align: left;background-color: #f0f8ff;}#sk-container-id-2 div.sk-toggleable__content pre {margin: 0.2em;color: black;border-radius: 0.25em;background-color: #f0f8ff;}#sk-container-id-2 input.sk-toggleable__control:checked~div.sk-toggleable__content {max-height: 200px;max-width: 100%;overflow: auto;}#sk-container-id-2 input.sk-toggleable__control:checked~label.sk-toggleable__label-arrow:before {content: \"▾\";}#sk-container-id-2 div.sk-estimator input.sk-toggleable__control:checked~label.sk-toggleable__label {background-color: #d4ebff;}#sk-container-id-2 div.sk-label input.sk-toggleable__control:checked~label.sk-toggleable__label {background-color: #d4ebff;}#sk-container-id-2 input.sk-hidden--visually {border: 0;clip: rect(1px 1px 1px 1px);clip: rect(1px, 1px, 1px, 1px);height: 1px;margin: -1px;overflow: hidden;padding: 0;position: absolute;width: 1px;}#sk-container-id-2 div.sk-estimator {font-family: monospace;background-color: #f0f8ff;border: 1px dotted black;border-radius: 0.25em;box-sizing: border-box;margin-bottom: 0.5em;}#sk-container-id-2 div.sk-estimator:hover {background-color: #d4ebff;}#sk-container-id-2 div.sk-parallel-item::after {content: \"\";width: 100%;border-bottom: 1px solid gray;flex-grow: 1;}#sk-container-id-2 div.sk-label:hover label.sk-toggleable__label {background-color: #d4ebff;}#sk-container-id-2 div.sk-serial::before {content: \"\";position: absolute;border-left: 1px solid gray;box-sizing: border-box;top: 0;bottom: 0;left: 50%;z-index: 0;}#sk-container-id-2 div.sk-serial {display: flex;flex-direction: column;align-items: center;background-color: white;padding-right: 0.2em;padding-left: 0.2em;position: relative;}#sk-container-id-2 div.sk-item {position: relative;z-index: 1;}#sk-container-id-2 div.sk-parallel {display: flex;align-items: stretch;justify-content: center;background-color: white;position: relative;}#sk-container-id-2 div.sk-item::before, #sk-container-id-2 div.sk-parallel-item::before {content: \"\";position: absolute;border-left: 1px solid gray;box-sizing: border-box;top: 0;bottom: 0;left: 50%;z-index: -1;}#sk-container-id-2 div.sk-parallel-item {display: flex;flex-direction: column;z-index: 1;position: relative;background-color: white;}#sk-container-id-2 div.sk-parallel-item:first-child::after {align-self: flex-end;width: 50%;}#sk-container-id-2 div.sk-parallel-item:last-child::after {align-self: flex-start;width: 50%;}#sk-container-id-2 div.sk-parallel-item:only-child::after {width: 0;}#sk-container-id-2 div.sk-dashed-wrapped {border: 1px dashed gray;margin: 0 0.4em 0.5em 0.4em;box-sizing: border-box;padding-bottom: 0.4em;background-color: white;}#sk-container-id-2 div.sk-label label {font-family: monospace;font-weight: bold;display: inline-block;line-height: 1.2em;}#sk-container-id-2 div.sk-label-container {text-align: center;}#sk-container-id-2 div.sk-container {/* jupyter's `normalize.less` sets `[hidden] { display: none; }` but bootstrap.min.css set `[hidden] { display: none !important; }` so we also need the `!important` here to be able to override the default hidden behavior on the sphinx rendered scikit-learn.org. See: https://github.com/scikit-learn/scikit-learn/issues/21755 */display: inline-block !important;position: relative;}#sk-container-id-2 div.sk-text-repr-fallback {display: none;}</style><div id=\"sk-container-id-2\" class=\"sk-top-container\"><div class=\"sk-text-repr-fallback\"><pre>Pipeline(steps=[(&#x27;ct_step&#x27;,\n",
              "                 ColumnTransformer(transformers=[(&#x27;rob&#x27;, RobustScaler(),\n",
              "                                                  Index([&#x27;id&#x27;, &#x27;age&#x27;, &#x27;hypertension&#x27;, &#x27;heart_disease&#x27;, &#x27;avg_glucose_level&#x27;,\n",
              "       &#x27;bmi&#x27;],\n",
              "      dtype=&#x27;object&#x27;)),\n",
              "                                                 (&#x27;ohe&#x27;,\n",
              "                                                  OneHotEncoder(handle_unknown=&#x27;ignore&#x27;,\n",
              "                                                                sparse_output=False),\n",
              "                                                  Index([&#x27;gender&#x27;, &#x27;ever_married&#x27;, &#x27;work_type&#x27;, &#x27;Residence_type&#x27;,\n",
              "       &#x27;smoking_status&#x27;],\n",
              "      dtype=&#x27;object&#x27;))])),\n",
              "                (&#x27;model&#x27;,\n",
              "                 RandomForestClassifier(n_estimators=10, random_state=0))])</pre><b>In a Jupyter environment, please rerun this cell to show the HTML representation or trust the notebook. <br />On GitHub, the HTML representation is unable to render, please try loading this page with nbviewer.org.</b></div><div class=\"sk-container\" hidden><div class=\"sk-item sk-dashed-wrapped\"><div class=\"sk-label-container\"><div class=\"sk-label sk-toggleable\"><input class=\"sk-toggleable__control sk-hidden--visually\" id=\"sk-estimator-id-8\" type=\"checkbox\" ><label for=\"sk-estimator-id-8\" class=\"sk-toggleable__label sk-toggleable__label-arrow\">Pipeline</label><div class=\"sk-toggleable__content\"><pre>Pipeline(steps=[(&#x27;ct_step&#x27;,\n",
              "                 ColumnTransformer(transformers=[(&#x27;rob&#x27;, RobustScaler(),\n",
              "                                                  Index([&#x27;id&#x27;, &#x27;age&#x27;, &#x27;hypertension&#x27;, &#x27;heart_disease&#x27;, &#x27;avg_glucose_level&#x27;,\n",
              "       &#x27;bmi&#x27;],\n",
              "      dtype=&#x27;object&#x27;)),\n",
              "                                                 (&#x27;ohe&#x27;,\n",
              "                                                  OneHotEncoder(handle_unknown=&#x27;ignore&#x27;,\n",
              "                                                                sparse_output=False),\n",
              "                                                  Index([&#x27;gender&#x27;, &#x27;ever_married&#x27;, &#x27;work_type&#x27;, &#x27;Residence_type&#x27;,\n",
              "       &#x27;smoking_status&#x27;],\n",
              "      dtype=&#x27;object&#x27;))])),\n",
              "                (&#x27;model&#x27;,\n",
              "                 RandomForestClassifier(n_estimators=10, random_state=0))])</pre></div></div></div><div class=\"sk-serial\"><div class=\"sk-item sk-dashed-wrapped\"><div class=\"sk-label-container\"><div class=\"sk-label sk-toggleable\"><input class=\"sk-toggleable__control sk-hidden--visually\" id=\"sk-estimator-id-9\" type=\"checkbox\" ><label for=\"sk-estimator-id-9\" class=\"sk-toggleable__label sk-toggleable__label-arrow\">ct_step: ColumnTransformer</label><div class=\"sk-toggleable__content\"><pre>ColumnTransformer(transformers=[(&#x27;rob&#x27;, RobustScaler(),\n",
              "                                 Index([&#x27;id&#x27;, &#x27;age&#x27;, &#x27;hypertension&#x27;, &#x27;heart_disease&#x27;, &#x27;avg_glucose_level&#x27;,\n",
              "       &#x27;bmi&#x27;],\n",
              "      dtype=&#x27;object&#x27;)),\n",
              "                                (&#x27;ohe&#x27;,\n",
              "                                 OneHotEncoder(handle_unknown=&#x27;ignore&#x27;,\n",
              "                                               sparse_output=False),\n",
              "                                 Index([&#x27;gender&#x27;, &#x27;ever_married&#x27;, &#x27;work_type&#x27;, &#x27;Residence_type&#x27;,\n",
              "       &#x27;smoking_status&#x27;],\n",
              "      dtype=&#x27;object&#x27;))])</pre></div></div></div><div class=\"sk-parallel\"><div class=\"sk-parallel-item\"><div class=\"sk-item\"><div class=\"sk-label-container\"><div class=\"sk-label sk-toggleable\"><input class=\"sk-toggleable__control sk-hidden--visually\" id=\"sk-estimator-id-10\" type=\"checkbox\" ><label for=\"sk-estimator-id-10\" class=\"sk-toggleable__label sk-toggleable__label-arrow\">rob</label><div class=\"sk-toggleable__content\"><pre>Index([&#x27;id&#x27;, &#x27;age&#x27;, &#x27;hypertension&#x27;, &#x27;heart_disease&#x27;, &#x27;avg_glucose_level&#x27;,\n",
              "       &#x27;bmi&#x27;],\n",
              "      dtype=&#x27;object&#x27;)</pre></div></div></div><div class=\"sk-serial\"><div class=\"sk-item\"><div class=\"sk-estimator sk-toggleable\"><input class=\"sk-toggleable__control sk-hidden--visually\" id=\"sk-estimator-id-11\" type=\"checkbox\" ><label for=\"sk-estimator-id-11\" class=\"sk-toggleable__label sk-toggleable__label-arrow\">RobustScaler</label><div class=\"sk-toggleable__content\"><pre>RobustScaler()</pre></div></div></div></div></div></div><div class=\"sk-parallel-item\"><div class=\"sk-item\"><div class=\"sk-label-container\"><div class=\"sk-label sk-toggleable\"><input class=\"sk-toggleable__control sk-hidden--visually\" id=\"sk-estimator-id-12\" type=\"checkbox\" ><label for=\"sk-estimator-id-12\" class=\"sk-toggleable__label sk-toggleable__label-arrow\">ohe</label><div class=\"sk-toggleable__content\"><pre>Index([&#x27;gender&#x27;, &#x27;ever_married&#x27;, &#x27;work_type&#x27;, &#x27;Residence_type&#x27;,\n",
              "       &#x27;smoking_status&#x27;],\n",
              "      dtype=&#x27;object&#x27;)</pre></div></div></div><div class=\"sk-serial\"><div class=\"sk-item\"><div class=\"sk-estimator sk-toggleable\"><input class=\"sk-toggleable__control sk-hidden--visually\" id=\"sk-estimator-id-13\" type=\"checkbox\" ><label for=\"sk-estimator-id-13\" class=\"sk-toggleable__label sk-toggleable__label-arrow\">OneHotEncoder</label><div class=\"sk-toggleable__content\"><pre>OneHotEncoder(handle_unknown=&#x27;ignore&#x27;, sparse_output=False)</pre></div></div></div></div></div></div></div></div><div class=\"sk-item\"><div class=\"sk-estimator sk-toggleable\"><input class=\"sk-toggleable__control sk-hidden--visually\" id=\"sk-estimator-id-14\" type=\"checkbox\" ><label for=\"sk-estimator-id-14\" class=\"sk-toggleable__label sk-toggleable__label-arrow\">RandomForestClassifier</label><div class=\"sk-toggleable__content\"><pre>RandomForestClassifier(n_estimators=10, random_state=0)</pre></div></div></div></div></div></div></div>"
            ]
          },
          "metadata": {},
          "execution_count": 83
        }
      ]
    },
    {
      "cell_type": "code",
      "source": [
        "pipe.score(X_test, y_test)"
      ],
      "metadata": {
        "colab": {
          "base_uri": "https://localhost:8080/"
        },
        "id": "sl6PeGm9a57U",
        "outputId": "4d1e0025-f419-4971-c9ae-4f44de68ed3b"
      },
      "execution_count": null,
      "outputs": [
        {
          "output_type": "execute_result",
          "data": {
            "text/plain": [
              "0.9452054794520548"
            ]
          },
          "metadata": {},
          "execution_count": 84
        }
      ]
    },
    {
      "cell_type": "code",
      "source": [
        "cross_val_score(estimator=pipe, X=X_train, y=y_train,\n",
        "                              scoring='f1_macro', cv=KFold(n_splits=5))\n"
      ],
      "metadata": {
        "colab": {
          "base_uri": "https://localhost:8080/"
        },
        "id": "3qRmx2uiNcgS",
        "outputId": "caebbb66-057d-4508-d136-bd1e7cff4409"
      },
      "execution_count": null,
      "outputs": [
        {
          "output_type": "execute_result",
          "data": {
            "text/plain": [
              "array([0.48938826, 0.48714734, 0.51309524, 0.48616352, 0.52662074])"
            ]
          },
          "metadata": {},
          "execution_count": 85
        }
      ]
    },
    {
      "cell_type": "code",
      "source": [
        "cross_val_score(estimator=pipe, X=X_train, y=y_train,\n",
        "                              scoring='roc_auc', cv=KFold(n_splits=5))"
      ],
      "metadata": {
        "colab": {
          "base_uri": "https://localhost:8080/"
        },
        "id": "_QXkafhKNbAy",
        "outputId": "87b63dff-ba1c-4359-f312-a4fe31d4ced5"
      },
      "execution_count": null,
      "outputs": [
        {
          "output_type": "execute_result",
          "data": {
            "text/plain": [
              "array([0.67362436, 0.72774743, 0.75544174, 0.73926641, 0.71053541])"
            ]
          },
          "metadata": {},
          "execution_count": 86
        }
      ]
    },
    {
      "cell_type": "code",
      "source": [],
      "metadata": {
        "id": "-jopQ_yuNZkM"
      },
      "execution_count": null,
      "outputs": []
    },
    {
      "cell_type": "markdown",
      "source": [
        "**Observations:**\n",
        "\n",
        "I have executed tutorial on a different dataset from the healthcare domain using features to predict stroke (1/0 classification).\n",
        "\n",
        "One additional step added during EDA is KNN Imputer for null values in the BMI feature. As BMI is not a categorical feature, we can not replace null values with 'missing', hence using KNN Imputer with 2 neighbors. Rest steps are as same as tutorial, practicing k-fold, stratified, repeated and leave one out cross validation techniques with random forest classifier ML model.\n"
      ],
      "metadata": {
        "id": "DyQXVn-B4GLJ"
      }
    },
    {
      "cell_type": "markdown",
      "source": [
        "###Tutorial"
      ],
      "metadata": {
        "id": "O1tQBNGcLi8J"
      }
    },
    {
      "cell_type": "code",
      "source": [
        "from sklearn.datasets import load_iris\n",
        "from sklearn.model_selection import train_test_split\n",
        "from sklearn.linear_model import LogisticRegression\n",
        "from sklearn.metrics import accuracy_score\n",
        "iris=load_iris()\n",
        "X=iris.data\n",
        "Y=iris.target\n",
        "# print(\"Size of Dataset {}\".format(len(X)))\n",
        "# logreg=LogisticRegression()\n",
        "# x_train,x_test,y_train,y_test=train_test_split(X,Y,test_size=0.3,random_state=42)\n",
        "# logreg.fit(x_train,y_train)\n",
        "# predict=logreg.predict(x_test)\n",
        "# print(\"Accuracy score on training set is {}\".format(accuracy_score(logreg.predict(x_train),y_train)))\n",
        "# print(\"Accuracy score on test set is {}\".format(accuracy_score(predict,y_test)))"
      ],
      "metadata": {
        "id": "2rdH8yr9figt"
      },
      "execution_count": null,
      "outputs": []
    },
    {
      "cell_type": "markdown",
      "source": [
        "####Monte Carlo Cross Validation"
      ],
      "metadata": {
        "id": "knQJwmrZ3UzM"
      }
    },
    {
      "cell_type": "code",
      "source": [
        "from sklearn.model_selection import ShuffleSplit,cross_val_score\n",
        "from sklearn.datasets import load_iris\n",
        "from sklearn.linear_model import LogisticRegression"
      ],
      "metadata": {
        "id": "iDbffaJWfJLo"
      },
      "execution_count": null,
      "outputs": []
    },
    {
      "cell_type": "code",
      "source": [
        "logreg=LogisticRegression(max_iter=200)\n",
        "shuffle_split=ShuffleSplit(test_size=0.3,train_size=0.5,n_splits=10)"
      ],
      "metadata": {
        "id": "CCZqsw7JfKcp"
      },
      "execution_count": null,
      "outputs": []
    },
    {
      "cell_type": "code",
      "source": [
        "scores=cross_val_score(logreg,iris.data,iris.target,cv=shuffle_split)"
      ],
      "metadata": {
        "id": "BKmylSJ6fNkC"
      },
      "execution_count": null,
      "outputs": []
    },
    {
      "cell_type": "code",
      "source": [
        "print(\"cross Validation scores: {}\\n\\n\".format(scores))\n",
        "print(\"Average Cross Validation score :{}\".format(scores.mean()))"
      ],
      "metadata": {
        "colab": {
          "base_uri": "https://localhost:8080/"
        },
        "id": "YE_DHX9mfliK",
        "outputId": "ea20f188-c3d3-49b7-8bb9-c6db7d6dfbfb"
      },
      "execution_count": null,
      "outputs": [
        {
          "output_type": "stream",
          "name": "stdout",
          "text": [
            "cross Validation scores: [0.95555556 0.97777778 1.         0.93333333 0.97777778 1.\n",
            " 0.93333333 0.97777778 0.97777778 0.93333333]\n",
            "\n",
            "\n",
            "Average Cross Validation score :0.9666666666666666\n"
          ]
        }
      ]
    },
    {
      "cell_type": "markdown",
      "source": [
        "**Observations:**\n",
        "\n",
        "In this tutorial we have used iris dataset from sklearn performing logistic regression on features using shuffle split i.e. Random permutation cross-validator from the same sklearn library as a cross validation technique, followed by a cross validation score to measure the performance."
      ],
      "metadata": {
        "id": "UDTmmTz96gcW"
      }
    },
    {
      "cell_type": "markdown",
      "source": [
        "####Time Series Cross Validation"
      ],
      "metadata": {
        "id": "Ew0LtBg63ors"
      }
    },
    {
      "cell_type": "code",
      "source": [
        "import numpy as np\n",
        "from sklearn.model_selection import TimeSeriesSplit\n",
        "X = np.array([[1, 2], [3, 4], [1, 2], [3, 4], [1, 2], [3, 4]])\n",
        "y = np.array([1, 2, 3, 4, 5, 6])\n",
        "time_series = TimeSeriesSplit()\n",
        "print(time_series)\n",
        "print('\\n\\n')\n",
        "for train_index, test_index in time_series.split(X):\n",
        "    print(\"TRAIN:\", train_index, \"TEST:\", test_index)\n",
        "    X_train, X_test = X[train_index], X[test_index]\n",
        "    y_train, y_test = y[train_index], y[test_index]"
      ],
      "metadata": {
        "colab": {
          "base_uri": "https://localhost:8080/"
        },
        "id": "XxN4JHX8lNlL",
        "outputId": "aaede63d-d25d-4891-f7c0-0736acf0ac6f"
      },
      "execution_count": null,
      "outputs": [
        {
          "output_type": "stream",
          "name": "stdout",
          "text": [
            "TimeSeriesSplit(gap=0, max_train_size=None, n_splits=5, test_size=None)\n",
            "\n",
            "\n",
            "\n",
            "TRAIN: [0] TEST: [1]\n",
            "TRAIN: [0 1] TEST: [2]\n",
            "TRAIN: [0 1 2] TEST: [3]\n",
            "TRAIN: [0 1 2 3] TEST: [4]\n",
            "TRAIN: [0 1 2 3 4] TEST: [5]\n"
          ]
        }
      ]
    },
    {
      "cell_type": "markdown",
      "source": [
        "**Observations:**\n",
        "\n",
        "Above tutorial covers the time-series cross validation part. As order is really important in time series based predictions, we can not simply split our dataset in train and test sets, we must follow the order. Hence, for time series cross validation we have to follow different techniques where we can choose the number of splits and test sizes as well, however, they must be in a sequence which can be seen in above output."
      ],
      "metadata": {
        "id": "mV-puf2G7z8S"
      }
    },
    {
      "cell_type": "markdown",
      "source": [
        "###**Task-2(25%)**\n",
        "###Question-2(a)  **(15)%**\n",
        "####Explain the types of cross validation techniques. Also write the pros and cons of each validation technique in detail.(7 types)."
      ],
      "metadata": {
        "id": "mhLdTe65MUPq"
      }
    },
    {
      "cell_type": "markdown",
      "source": [
        "There are multiple techniques available for cross validation and many of those we have covered in this exercise like k-fold, stratified k-fold, repeated k-fold, leave one out, shuffle split and time series cross validation.\n",
        "\n",
        "The purpose of using cross validation is to assess the performance of the model, how well it generalizes data points for better prediction on unseen data, and also to reduce overfitting and train hyperparameters.\n",
        "\n",
        "These techniques overall divide the training set in small chunks and use some for training and others for validation.\n",
        "\n",
        "We can simply divide the dataset into 2 parts, one for training and another for validation, that's holdout cross validation.\n",
        "Instead of 2, we can divide into n parts, let's say 5 parts where we use n-1 (4) for training and 1 for validation, that's k-fold cross validation.\n",
        "\n",
        "In case we want to maintain the distribution of classes in target, we can use stratified k-fold CV, also can repeat k-folds multiple times with random splits which is repeat k-fold CV.\n",
        "\n",
        "In a special case of k-fold, if we only use one data point for validation and rest for training, that's Leave One Out cross validation (LOOCV). Instead of exactly one, we can leave p samples also out for validation, that's Leave P out cross validation.\n",
        "\n",
        "We can also randomly shuffle and split on any defined portion of the dataset, which is shuffle split CV.\n",
        "\n",
        "As mentioned earlier, we need to handle time series differently hence, we have time series cross validation technique.\n",
        "\n",
        "When to use which technique, as each has its own pros and cons associated, highly depends on the dataset. Few of the advantages and disadvantages are mentioned:\n",
        "\n",
        "Hold out CV is easy to implement and has less cost, but might not produce better performance and also may result in high variance due to randomness during the split.\n",
        "\n",
        "k-fold is really helpful as it uses multiple folds and tries to generalize using average of all folds to reduce random impact, however costly for large datasets and won't help with time series.\n",
        "\n",
        "\n",
        "Stratified k-fold maintains the target class and is really helpful for imbalanced datasets, however time complexity is worse than k-fold due to additional computation. Similar issues for repeated k-fold CV.\n",
        "\n",
        "\n",
        "LOOCV produces better results for small datasets with low bais, but as the dataset grows, computational cost increases dramatically due to the nature of implementation. Also, as we are leaving only one data point for validation, outliers can heavily impact the performance.\n",
        "\n",
        "Shuffle split is faster for larger datasets, but random splits can impact the resulting performance.\n",
        "\n",
        "Time series cross validation helps with time series based datasets as order is important there, however, it requires extra caution for implementation and might not work for some datasets without some tuning."
      ],
      "metadata": {
        "id": "UdKveZBy-S0T"
      }
    },
    {
      "cell_type": "markdown",
      "source": [
        "###Question-2(b)  **(10%)**\n",
        "####Provide some examples of real-world problems that require cross validation techniques?"
      ],
      "metadata": {
        "id": "_r3Yv2ycRPDy"
      }
    },
    {
      "cell_type": "markdown",
      "source": [
        "In the real world, cross validation helps to generalize the training of models which results in better model performance while predicting unseen data points. In both the cases where the dataset is large or small, one or the other technique will be of real use.\n",
        "\n",
        "For example, if the dataset is imbalanced, mostly **medical diagnosis** where majority points belong to one specific class. I have used a stroke prediction dataset in this exercise where the majority (92%) data points belong to non-stroke or class 0 while learning class-1 or stroke patient is really important. k-fold or stratified k-fold comes really handy here and the model learns well with CV's help.\n",
        "\n",
        "For large datasets, with the help of cross validation, we can get the indication of performance of the model at the training phase itself. Hence, one needs not to wait till the end for testing. Large datasets like the **image classification** task might take a long time to complete and without cross validation we need to wait till the end for checking the model performance. Using cross validation here can save lots of iterations and time.\n",
        "\n",
        "In each industry or market segment, cross validation can help learning datasets better which can save computational cost, time and can derive faster less biased results.\n"
      ],
      "metadata": {
        "id": "TZXrtbh8D5F4"
      }
    },
    {
      "cell_type": "markdown",
      "source": [
        "###**Task-3(30%)**\n",
        "###Question-3(a)\n",
        "Consider a dataset with 4 samples. Perform KFold, repeated KFold and LOO Cross validations."
      ],
      "metadata": {
        "id": "52LI48UWPkYB"
      }
    },
    {
      "cell_type": "code",
      "source": [
        "#Write your code here"
      ],
      "metadata": {
        "id": "uylkxQykP9T0"
      },
      "execution_count": null,
      "outputs": []
    },
    {
      "cell_type": "code",
      "source": [
        "from numpy import array\n",
        "from sklearn.model_selection import KFold\n",
        "from sklearn.model_selection import RepeatedKFold\n",
        "from sklearn.model_selection import LeaveOneOut\n",
        "\n",
        "X = np.array([1, 2, 3, 4])\n",
        "\n",
        "##KFold Cross Validation\n",
        "print('KFold Cross Validation:')\n",
        "kf = KFold(n_splits=4, shuffle=False, random_state=None)\n",
        "\n",
        "i = 1\n",
        "for train_set, test_set in kf.split(X=X):\n",
        "  print(\"iteration \", i)\n",
        "  print('train: %s, test: %s' % (X[train_set], X[test_set]))\n",
        "  i+=1\n",
        "\n",
        "\n",
        "\n",
        "\n",
        "\n",
        "\n",
        "##Repeated KFold Cross Validation\n",
        "X = np.array([1, 2, 3, 4])\n",
        "print('\\n\\nRepeated KFold Cross Validation:')\n",
        "\n",
        "rkf = RepeatedKFold(n_splits=4, n_repeats=2, random_state=None)\n",
        "print(f'#Splits: {rkf.get_n_splits(X)}')\n",
        "\n",
        "print(rkf)\n",
        "#RepeatedKFold(n_repeats=2, n_splits=2, random_state=2652124)\n",
        "\n",
        "i = 1\n",
        "for train_set, test_set in rkf.split(X=X):\n",
        "  print(\"iteration \", i)\n",
        "  print('train: %s, test: %s' % (X[train_set], X[test_set]))\n",
        "  i+=1\n",
        "\n",
        "\n",
        "\n",
        "##LOO Cross validations\n",
        "X = np.array([1, 2, 3, 4])\n",
        "print('\\n\\nLOO Cross validations:')\n",
        "loocv = LeaveOneOut()\n",
        "print(f'#Splits: {loocv.get_n_splits(X)}')\n",
        "print(loocv)\n",
        "\n",
        "i=1\n",
        "for train_set, test_set in loocv.split(X):\n",
        "  print(f\"iteration {i}:\")\n",
        "  print('train: %s, test: %s' % (X[train_set], X[test_set]))\n",
        "  i+=1\n",
        "\n",
        "\n"
      ],
      "metadata": {
        "colab": {
          "base_uri": "https://localhost:8080/"
        },
        "id": "ijmIMPYLScGc",
        "outputId": "3a78ed4c-2920-41fe-803a-6bd2854f7929"
      },
      "execution_count": null,
      "outputs": [
        {
          "output_type": "stream",
          "name": "stdout",
          "text": [
            "KFold Cross Validation:\n",
            "iteration  1\n",
            "train: [2 3 4], test: [1]\n",
            "iteration  2\n",
            "train: [1 3 4], test: [2]\n",
            "iteration  3\n",
            "train: [1 2 4], test: [3]\n",
            "iteration  4\n",
            "train: [1 2 3], test: [4]\n",
            "\n",
            "\n",
            "Repeated KFold Cross Validation:\n",
            "#Splits: 8\n",
            "RepeatedKFold(n_repeats=2, n_splits=4, random_state=None)\n",
            "iteration  1\n",
            "train: [2 3 4], test: [1]\n",
            "iteration  2\n",
            "train: [1 3 4], test: [2]\n",
            "iteration  3\n",
            "train: [1 2 4], test: [3]\n",
            "iteration  4\n",
            "train: [1 2 3], test: [4]\n",
            "iteration  5\n",
            "train: [1 2 3], test: [4]\n",
            "iteration  6\n",
            "train: [2 3 4], test: [1]\n",
            "iteration  7\n",
            "train: [1 3 4], test: [2]\n",
            "iteration  8\n",
            "train: [1 2 4], test: [3]\n",
            "\n",
            "\n",
            "LOO Cross validations:\n",
            "#Splits: 4\n",
            "LeaveOneOut()\n",
            "iteration 1:\n",
            "train: [2 3 4], test: [1]\n",
            "iteration 2:\n",
            "train: [1 3 4], test: [2]\n",
            "iteration 3:\n",
            "train: [1 2 4], test: [3]\n",
            "iteration 4:\n",
            "train: [1 2 3], test: [4]\n"
          ]
        }
      ]
    },
    {
      "cell_type": "markdown",
      "source": [
        "###Question-3(b)\n",
        "Consider a dataset with 6 samples and perform 3 split time-series cross validation"
      ],
      "metadata": {
        "id": "L2IVz5y-QXv4"
      }
    },
    {
      "cell_type": "code",
      "source": [
        "#Write your code here"
      ],
      "metadata": {
        "id": "pEE6m3jiQlHb"
      },
      "execution_count": null,
      "outputs": []
    },
    {
      "cell_type": "code",
      "source": [
        "import numpy as np\n",
        "from sklearn.model_selection import TimeSeriesSplit\n",
        "\n",
        "print(\"Time-series CV with 6 samples and 3 splits:\\n\")\n",
        "X = np.array([[1, 2], [3, 4], [1, 2], [3, 4], [1, 2], [3, 4]])\n",
        "y = np.array([1, 2, 3, 4, 5, 6])\n",
        "\n",
        "time_series = TimeSeriesSplit(n_splits=3)\n",
        "print(time_series)\n",
        "print('\\n')\n",
        "\n",
        "i=1\n",
        "for train_index, test_index in time_series.split(X):\n",
        "    print(\"TRAIN:\", train_index, \"TEST:\", test_index)\n",
        "    #X_train, X_test = X[train_index], X[test_index]\n",
        "    #y_train, y_test = y[train_index], y[test_index]\n",
        "    i+=1\n",
        "\n",
        "\n"
      ],
      "metadata": {
        "colab": {
          "base_uri": "https://localhost:8080/"
        },
        "id": "pr1N6RyIc9Xs",
        "outputId": "4ef144f4-6f26-4431-fabc-231b19d926ca"
      },
      "execution_count": null,
      "outputs": [
        {
          "output_type": "stream",
          "name": "stdout",
          "text": [
            "Time-series CV with 6 samples and 3 splits:\n",
            "\n",
            "TimeSeriesSplit(gap=0, max_train_size=None, n_splits=3, test_size=None)\n",
            "\n",
            "\n",
            "TRAIN: [0 1 2] TEST: [3]\n",
            "TRAIN: [0 1 2 3] TEST: [4]\n",
            "TRAIN: [0 1 2 3 4] TEST: [5]\n"
          ]
        }
      ]
    },
    {
      "cell_type": "code",
      "source": [
        "# Fix test_size to 2 with 12 samples & #splits as 3\n",
        "X = np.random.randn(12, 2)\n",
        "y = np.random.randint(0, 2, 12)\n",
        "\n",
        "print(\"Time-series CV with 12 samples, 3 splits and a test size of 2:\")\n",
        "time_series = TimeSeriesSplit(n_splits=3, test_size=2)\n",
        "print(time_series)\n",
        "print('\\n')\n",
        "\n",
        "i=1\n",
        "for train_index, test_index in time_series.split(X):\n",
        "  print(f\"iteration {i}:\")\n",
        "  print(\"TRAIN:\", train_index, \"TEST:\", test_index, '\\n')\n",
        "  i+=1\n"
      ],
      "metadata": {
        "colab": {
          "base_uri": "https://localhost:8080/"
        },
        "id": "UG25__dGi-mI",
        "outputId": "fec067fe-4abf-4f3d-b580-65cb1962f16d"
      },
      "execution_count": null,
      "outputs": [
        {
          "output_type": "stream",
          "name": "stdout",
          "text": [
            "Time-series CV with 12 samples, 3 splits and a test size of 2:\n",
            "TimeSeriesSplit(gap=0, max_train_size=None, n_splits=3, test_size=2)\n",
            "\n",
            "\n",
            "iteration 1:\n",
            "TRAIN: [0 1 2 3 4 5] TEST: [6 7] \n",
            "\n",
            "iteration 2:\n",
            "TRAIN: [0 1 2 3 4 5 6 7] TEST: [8 9] \n",
            "\n",
            "iteration 3:\n",
            "TRAIN: [0 1 2 3 4 5 6 7 8 9] TEST: [10 11] \n",
            "\n"
          ]
        }
      ]
    },
    {
      "cell_type": "code",
      "source": [],
      "metadata": {
        "id": "VHUdHDbo9OJ8"
      },
      "execution_count": null,
      "outputs": []
    },
    {
      "cell_type": "markdown",
      "source": [
        "**Observations:**\n",
        "\n",
        "In task 3, we covered k-fold, repeated k-fold and leave one out cross validation on a simple dataset of array of values to develop a better and deep understanding with the inner workings of cross validation techniques.\n",
        "\n",
        "Also touched upon the time-series cross validation with few samples using different numbers of splits and test sizes to check the impact on training samples which will be given to models for learning.\n"
      ],
      "metadata": {
        "id": "nuofp5-B9Old"
      }
    }
  ]
}