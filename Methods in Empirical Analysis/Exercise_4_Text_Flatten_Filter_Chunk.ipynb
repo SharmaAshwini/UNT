{
  "cells": [
    {
      "cell_type": "markdown",
      "metadata": {
        "id": "view-in-github",
        "colab_type": "text"
      },
      "source": [
        "<a href=\"https://colab.research.google.com/github/SharmaAshwini/UNT/blob/main/Methods%20in%20Empirical%20Analysis/Exercise_4_Text_Flatten_Filter_Chunk.ipynb\" target=\"_parent\"><img src=\"https://colab.research.google.com/assets/colab-badge.svg\" alt=\"Open In Colab\"/></a>"
      ]
    },
    {
      "cell_type": "markdown",
      "id": "270f1245",
      "metadata": {
        "id": "270f1245"
      },
      "source": [
        "# ICE-4 Text Data: Flattening, Filtering, and Chunking"
      ]
    },
    {
      "cell_type": "markdown",
      "id": "831c5ffe",
      "metadata": {
        "id": "831c5ffe"
      },
      "source": [
        "## (Tutorial) Bag of X\n",
        "Following is a sample of applying bag of n-grams to Yelp academic dataset review, please download it with following link:\n",
        "\n",
        "https://github.com/knowitall/yelp-dataset-challenge/blob/master/data/yelp_phoenix_academic_dataset/yelp_academic_dataset_review.json"
      ]
    },
    {
      "cell_type": "code",
      "execution_count": null,
      "id": "1b3147f5",
      "metadata": {
        "id": "1b3147f5"
      },
      "outputs": [],
      "source": [
        "import pandas as pd\n",
        "import json"
      ]
    },
    {
      "cell_type": "code",
      "source": [
        "!gdown '1xQfCXyLriRv0Uxolq66ByXKHjcludtl1'"
      ],
      "metadata": {
        "colab": {
          "base_uri": "https://localhost:8080/"
        },
        "id": "85Sg2ROmaWDv",
        "outputId": "95ab011e-a861-4f43-8c20-a4e22413ba2c"
      },
      "id": "85Sg2ROmaWDv",
      "execution_count": null,
      "outputs": [
        {
          "output_type": "stream",
          "name": "stdout",
          "text": [
            "Downloading...\n",
            "From: https://drive.google.com/uc?id=1xQfCXyLriRv0Uxolq66ByXKHjcludtl1\n",
            "To: /content/yelp_academic_dataset_review.json\n",
            "100% 216M/216M [00:04<00:00, 52.2MB/s]\n"
          ]
        }
      ]
    },
    {
      "cell_type": "code",
      "execution_count": null,
      "id": "81d4eda8",
      "metadata": {
        "id": "81d4eda8",
        "outputId": "c2eebdc1-a8f5-4656-90d0-0d93f4e7fb92",
        "colab": {
          "base_uri": "https://localhost:8080/"
        }
      },
      "outputs": [
        {
          "output_type": "execute_result",
          "data": {
            "text/plain": [
              "(10000, 8)"
            ]
          },
          "metadata": {},
          "execution_count": 3
        }
      ],
      "source": [
        "f = open('yelp_academic_dataset_review.json')\n",
        "js = []\n",
        "for i in range(10000):\n",
        "    js.append(json.loads(f.readline()))\n",
        "f.close()\n",
        "review_df = pd.DataFrame(js)\n",
        "review_df.shape"
      ]
    },
    {
      "cell_type": "code",
      "execution_count": null,
      "id": "778b99ab",
      "metadata": {
        "id": "778b99ab",
        "outputId": "c3bbd5ff-ca2a-4bd6-ce40-455c7b66d1f0",
        "colab": {
          "base_uri": "https://localhost:8080/",
          "height": 337
        }
      },
      "outputs": [
        {
          "output_type": "execute_result",
          "data": {
            "text/plain": [
              "                                  votes                 user_id  \\\n",
              "0  {'funny': 0, 'useful': 5, 'cool': 2}  rLtl8ZkDX5vH5nAx9C3q5Q   \n",
              "1  {'funny': 0, 'useful': 0, 'cool': 0}  0a2KyEL0d3Yb1V6aivbIuQ   \n",
              "2  {'funny': 0, 'useful': 1, 'cool': 0}  0hT2KtfLiobPvh6cDC8JQg   \n",
              "3  {'funny': 0, 'useful': 2, 'cool': 1}  uZetl9T0NcROGOyFfughhg   \n",
              "4  {'funny': 0, 'useful': 0, 'cool': 0}  vYmM4KTsC8ZfQBg-j5MWkw   \n",
              "\n",
              "                review_id  stars        date  \\\n",
              "0  fWKvX83p0-ka4JS3dc6E5A      5  2011-01-26   \n",
              "1  IjZ33sJrzXqU-0X6U8NwyA      5  2011-07-27   \n",
              "2  IESLBzqUCLdSzSqm0eCSxQ      4  2012-06-14   \n",
              "3  G-WvGaISbqqaMHlNnByodA      5  2010-05-27   \n",
              "4  1uJFq2r5QfJG_6ExMRCaGw      5  2012-01-05   \n",
              "\n",
              "                                                text    type  \\\n",
              "0  My wife took me here on my birthday for breakf...  review   \n",
              "1  I have no idea why some people give bad review...  review   \n",
              "2  love the gyro plate. Rice is so good and I als...  review   \n",
              "3  Rosie, Dakota, and I LOVE Chaparral Dog Park!!...  review   \n",
              "4  General Manager Scott Petello is a good egg!!!...  review   \n",
              "\n",
              "              business_id  \n",
              "0  9yKzy9PApeiPPOUJEtnvkg  \n",
              "1  ZRJwVLyzEJq1VAihDhYiow  \n",
              "2  6oRAC4uyJCsJl1X0WZpVSA  \n",
              "3  _1QQZuf4zZOyFCvXc0o6Vg  \n",
              "4  6ozycU1RpktNG2-1BroVtw  "
            ],
            "text/html": [
              "\n",
              "  <div id=\"df-b2a870da-8457-4b56-bb5a-507e2a352021\">\n",
              "    <div class=\"colab-df-container\">\n",
              "      <div>\n",
              "<style scoped>\n",
              "    .dataframe tbody tr th:only-of-type {\n",
              "        vertical-align: middle;\n",
              "    }\n",
              "\n",
              "    .dataframe tbody tr th {\n",
              "        vertical-align: top;\n",
              "    }\n",
              "\n",
              "    .dataframe thead th {\n",
              "        text-align: right;\n",
              "    }\n",
              "</style>\n",
              "<table border=\"1\" class=\"dataframe\">\n",
              "  <thead>\n",
              "    <tr style=\"text-align: right;\">\n",
              "      <th></th>\n",
              "      <th>votes</th>\n",
              "      <th>user_id</th>\n",
              "      <th>review_id</th>\n",
              "      <th>stars</th>\n",
              "      <th>date</th>\n",
              "      <th>text</th>\n",
              "      <th>type</th>\n",
              "      <th>business_id</th>\n",
              "    </tr>\n",
              "  </thead>\n",
              "  <tbody>\n",
              "    <tr>\n",
              "      <th>0</th>\n",
              "      <td>{'funny': 0, 'useful': 5, 'cool': 2}</td>\n",
              "      <td>rLtl8ZkDX5vH5nAx9C3q5Q</td>\n",
              "      <td>fWKvX83p0-ka4JS3dc6E5A</td>\n",
              "      <td>5</td>\n",
              "      <td>2011-01-26</td>\n",
              "      <td>My wife took me here on my birthday for breakf...</td>\n",
              "      <td>review</td>\n",
              "      <td>9yKzy9PApeiPPOUJEtnvkg</td>\n",
              "    </tr>\n",
              "    <tr>\n",
              "      <th>1</th>\n",
              "      <td>{'funny': 0, 'useful': 0, 'cool': 0}</td>\n",
              "      <td>0a2KyEL0d3Yb1V6aivbIuQ</td>\n",
              "      <td>IjZ33sJrzXqU-0X6U8NwyA</td>\n",
              "      <td>5</td>\n",
              "      <td>2011-07-27</td>\n",
              "      <td>I have no idea why some people give bad review...</td>\n",
              "      <td>review</td>\n",
              "      <td>ZRJwVLyzEJq1VAihDhYiow</td>\n",
              "    </tr>\n",
              "    <tr>\n",
              "      <th>2</th>\n",
              "      <td>{'funny': 0, 'useful': 1, 'cool': 0}</td>\n",
              "      <td>0hT2KtfLiobPvh6cDC8JQg</td>\n",
              "      <td>IESLBzqUCLdSzSqm0eCSxQ</td>\n",
              "      <td>4</td>\n",
              "      <td>2012-06-14</td>\n",
              "      <td>love the gyro plate. Rice is so good and I als...</td>\n",
              "      <td>review</td>\n",
              "      <td>6oRAC4uyJCsJl1X0WZpVSA</td>\n",
              "    </tr>\n",
              "    <tr>\n",
              "      <th>3</th>\n",
              "      <td>{'funny': 0, 'useful': 2, 'cool': 1}</td>\n",
              "      <td>uZetl9T0NcROGOyFfughhg</td>\n",
              "      <td>G-WvGaISbqqaMHlNnByodA</td>\n",
              "      <td>5</td>\n",
              "      <td>2010-05-27</td>\n",
              "      <td>Rosie, Dakota, and I LOVE Chaparral Dog Park!!...</td>\n",
              "      <td>review</td>\n",
              "      <td>_1QQZuf4zZOyFCvXc0o6Vg</td>\n",
              "    </tr>\n",
              "    <tr>\n",
              "      <th>4</th>\n",
              "      <td>{'funny': 0, 'useful': 0, 'cool': 0}</td>\n",
              "      <td>vYmM4KTsC8ZfQBg-j5MWkw</td>\n",
              "      <td>1uJFq2r5QfJG_6ExMRCaGw</td>\n",
              "      <td>5</td>\n",
              "      <td>2012-01-05</td>\n",
              "      <td>General Manager Scott Petello is a good egg!!!...</td>\n",
              "      <td>review</td>\n",
              "      <td>6ozycU1RpktNG2-1BroVtw</td>\n",
              "    </tr>\n",
              "  </tbody>\n",
              "</table>\n",
              "</div>\n",
              "      <button class=\"colab-df-convert\" onclick=\"convertToInteractive('df-b2a870da-8457-4b56-bb5a-507e2a352021')\"\n",
              "              title=\"Convert this dataframe to an interactive table.\"\n",
              "              style=\"display:none;\">\n",
              "        \n",
              "  <svg xmlns=\"http://www.w3.org/2000/svg\" height=\"24px\"viewBox=\"0 0 24 24\"\n",
              "       width=\"24px\">\n",
              "    <path d=\"M0 0h24v24H0V0z\" fill=\"none\"/>\n",
              "    <path d=\"M18.56 5.44l.94 2.06.94-2.06 2.06-.94-2.06-.94-.94-2.06-.94 2.06-2.06.94zm-11 1L8.5 8.5l.94-2.06 2.06-.94-2.06-.94L8.5 2.5l-.94 2.06-2.06.94zm10 10l.94 2.06.94-2.06 2.06-.94-2.06-.94-.94-2.06-.94 2.06-2.06.94z\"/><path d=\"M17.41 7.96l-1.37-1.37c-.4-.4-.92-.59-1.43-.59-.52 0-1.04.2-1.43.59L10.3 9.45l-7.72 7.72c-.78.78-.78 2.05 0 2.83L4 21.41c.39.39.9.59 1.41.59.51 0 1.02-.2 1.41-.59l7.78-7.78 2.81-2.81c.8-.78.8-2.07 0-2.86zM5.41 20L4 18.59l7.72-7.72 1.47 1.35L5.41 20z\"/>\n",
              "  </svg>\n",
              "      </button>\n",
              "      \n",
              "  <style>\n",
              "    .colab-df-container {\n",
              "      display:flex;\n",
              "      flex-wrap:wrap;\n",
              "      gap: 12px;\n",
              "    }\n",
              "\n",
              "    .colab-df-convert {\n",
              "      background-color: #E8F0FE;\n",
              "      border: none;\n",
              "      border-radius: 50%;\n",
              "      cursor: pointer;\n",
              "      display: none;\n",
              "      fill: #1967D2;\n",
              "      height: 32px;\n",
              "      padding: 0 0 0 0;\n",
              "      width: 32px;\n",
              "    }\n",
              "\n",
              "    .colab-df-convert:hover {\n",
              "      background-color: #E2EBFA;\n",
              "      box-shadow: 0px 1px 2px rgba(60, 64, 67, 0.3), 0px 1px 3px 1px rgba(60, 64, 67, 0.15);\n",
              "      fill: #174EA6;\n",
              "    }\n",
              "\n",
              "    [theme=dark] .colab-df-convert {\n",
              "      background-color: #3B4455;\n",
              "      fill: #D2E3FC;\n",
              "    }\n",
              "\n",
              "    [theme=dark] .colab-df-convert:hover {\n",
              "      background-color: #434B5C;\n",
              "      box-shadow: 0px 1px 3px 1px rgba(0, 0, 0, 0.15);\n",
              "      filter: drop-shadow(0px 1px 2px rgba(0, 0, 0, 0.3));\n",
              "      fill: #FFFFFF;\n",
              "    }\n",
              "  </style>\n",
              "\n",
              "      <script>\n",
              "        const buttonEl =\n",
              "          document.querySelector('#df-b2a870da-8457-4b56-bb5a-507e2a352021 button.colab-df-convert');\n",
              "        buttonEl.style.display =\n",
              "          google.colab.kernel.accessAllowed ? 'block' : 'none';\n",
              "\n",
              "        async function convertToInteractive(key) {\n",
              "          const element = document.querySelector('#df-b2a870da-8457-4b56-bb5a-507e2a352021');\n",
              "          const dataTable =\n",
              "            await google.colab.kernel.invokeFunction('convertToInteractive',\n",
              "                                                     [key], {});\n",
              "          if (!dataTable) return;\n",
              "\n",
              "          const docLinkHtml = 'Like what you see? Visit the ' +\n",
              "            '<a target=\"_blank\" href=https://colab.research.google.com/notebooks/data_table.ipynb>data table notebook</a>'\n",
              "            + ' to learn more about interactive tables.';\n",
              "          element.innerHTML = '';\n",
              "          dataTable['output_type'] = 'display_data';\n",
              "          await google.colab.output.renderOutput(dataTable, element);\n",
              "          const docLink = document.createElement('div');\n",
              "          docLink.innerHTML = docLinkHtml;\n",
              "          element.appendChild(docLink);\n",
              "        }\n",
              "      </script>\n",
              "    </div>\n",
              "  </div>\n",
              "  "
            ]
          },
          "metadata": {},
          "execution_count": 4
        }
      ],
      "source": [
        "review_df.head()"
      ]
    },
    {
      "cell_type": "markdown",
      "id": "83dd8d91",
      "metadata": {
        "id": "83dd8d91"
      },
      "source": [
        "note: in the default settings of CountVectorizer, the token_pattern = '(?u)\\\\b\\\\w\\\\w+\\\\b', which ignores single-character words. Whe employ the token_pattern = '(?u)\\\\b\\\\w+\\\\b' to include the single-character words."
      ]
    },
    {
      "cell_type": "code",
      "execution_count": null,
      "id": "41af94dc",
      "metadata": {
        "id": "41af94dc"
      },
      "outputs": [],
      "source": [
        "from sklearn.feature_extraction.text import CountVectorizer\n",
        "bow_converter = CountVectorizer(token_pattern='(?u)\\\\b\\\\w+\\\\b')\n",
        "x = bow_converter.fit_transform(review_df['text'])"
      ]
    },
    {
      "cell_type": "code",
      "execution_count": null,
      "id": "f2b766ee",
      "metadata": {
        "id": "f2b766ee"
      },
      "outputs": [],
      "source": [
        "unigram = bow_converter.get_feature_names_out()"
      ]
    },
    {
      "cell_type": "code",
      "execution_count": null,
      "id": "50bbec20",
      "metadata": {
        "id": "50bbec20"
      },
      "outputs": [],
      "source": [
        "bigram_converter = CountVectorizer(ngram_range=(2,2), token_pattern='(?u)\\\\b\\\\w+\\\\b')\n",
        "x2 = bigram_converter.fit_transform(review_df['text'])"
      ]
    },
    {
      "cell_type": "code",
      "execution_count": null,
      "id": "b48445d1",
      "metadata": {
        "id": "b48445d1"
      },
      "outputs": [],
      "source": [
        "bigram = bigram_converter.get_feature_names_out()"
      ]
    },
    {
      "cell_type": "code",
      "execution_count": null,
      "id": "a69ad254",
      "metadata": {
        "id": "a69ad254"
      },
      "outputs": [],
      "source": [
        "trigram_converter = CountVectorizer(ngram_range=(3,3), token_pattern='(?u)\\\\b\\\\w+\\\\b')\n",
        "x3 = trigram_converter.fit_transform(review_df['text'])"
      ]
    },
    {
      "cell_type": "code",
      "execution_count": null,
      "id": "f6f589e9",
      "metadata": {
        "id": "f6f589e9"
      },
      "outputs": [],
      "source": [
        "trigram = trigram_converter.get_feature_names_out()"
      ]
    },
    {
      "cell_type": "code",
      "execution_count": null,
      "id": "074f4366",
      "metadata": {
        "id": "074f4366",
        "outputId": "d239cdcd-5d99-4f5c-c824-3cbf14aacda1",
        "colab": {
          "base_uri": "https://localhost:8080/"
        }
      },
      "outputs": [
        {
          "output_type": "execute_result",
          "data": {
            "text/plain": [
              "array(['0', '00', '000', ..., 'école', 'ém', 'òc'], dtype=object)"
            ]
          },
          "metadata": {},
          "execution_count": 11
        }
      ],
      "source": [
        "unigram"
      ]
    },
    {
      "cell_type": "code",
      "execution_count": null,
      "id": "b5115acf",
      "metadata": {
        "id": "b5115acf",
        "outputId": "15f6e40b-05f7-4721-ca74-4065b32905a2",
        "colab": {
          "base_uri": "https://localhost:8080/"
        }
      },
      "outputs": [
        {
          "output_type": "execute_result",
          "data": {
            "text/plain": [
              "array(['0 0', '0 20', '0 39', ..., 'école lenôtre', 'ém all', 'òc châm'],\n",
              "      dtype=object)"
            ]
          },
          "metadata": {},
          "execution_count": 12
        }
      ],
      "source": [
        "bigram"
      ]
    },
    {
      "cell_type": "code",
      "execution_count": null,
      "id": "b01ae08d",
      "metadata": {
        "id": "b01ae08d",
        "outputId": "75409884-aa13-4c91-cdd6-8091c226d16b",
        "colab": {
          "base_uri": "https://localhost:8080/"
        }
      },
      "outputs": [
        {
          "output_type": "execute_result",
          "data": {
            "text/plain": [
              "array(['0 0 eye', '0 20 less', '0 39 oz', ..., 'école lenôtre trained',\n",
              "       'ém all they', 'òc châm a'], dtype=object)"
            ]
          },
          "metadata": {},
          "execution_count": 13
        }
      ],
      "source": [
        "trigram"
      ]
    },
    {
      "cell_type": "code",
      "execution_count": null,
      "id": "6055c823",
      "metadata": {
        "id": "6055c823",
        "outputId": "28b920e5-efae-4c3e-85a6-a19a79539963",
        "colab": {
          "base_uri": "https://localhost:8080/"
        }
      },
      "outputs": [
        {
          "output_type": "stream",
          "name": "stdout",
          "text": [
            "29222 368943 881620\n"
          ]
        }
      ],
      "source": [
        "print (len(unigram), len(bigram), len(trigram))"
      ]
    },
    {
      "cell_type": "code",
      "execution_count": null,
      "id": "5fa90148",
      "metadata": {
        "id": "5fa90148"
      },
      "outputs": [],
      "source": [
        "#%matplotlib notebook\n",
        "import matplotlib.pyplot as plt\n",
        "import seaborn as sns"
      ]
    },
    {
      "cell_type": "code",
      "execution_count": null,
      "id": "c081c74f",
      "metadata": {
        "id": "c081c74f",
        "outputId": "4e791cc4-87a3-40f1-a185-25b43ecab858",
        "colab": {
          "base_uri": "https://localhost:8080/",
          "height": 459
        }
      },
      "outputs": [
        {
          "output_type": "display_data",
          "data": {
            "text/plain": [
              "<Figure size 640x480 with 1 Axes>"
            ],
            "image/png": "[encoded data removed]"
          },
          "metadata": {}
        }
      ],
      "source": [
        "sns.set_style(\"darkgrid\")\n",
        "counts = [len(unigram), len(bigram), len(trigram)]\n",
        "plt.plot(counts, color='cornflowerblue')\n",
        "plt.plot(counts, 'bo')\n",
        "plt.margins(0.1)\n",
        "plt.xticks(range(3), ['unigram', 'bigram', 'trigram'])\n",
        "plt.tick_params(labelsize=14)\n",
        "plt.title('Number of ngrams in the first 10,000 reviews of the Yelp dataset', {'fontsize':16})\n",
        "plt.show()"
      ]
    },
    {
      "cell_type": "markdown",
      "id": "17766f19",
      "metadata": {
        "id": "17766f19"
      },
      "source": [
        "## Task 1. 1 Applying the unigram, bigram, and trigram tokenization methods to the given text below."
      ]
    },
    {
      "cell_type": "code",
      "execution_count": null,
      "id": "26c7b44d",
      "metadata": {
        "id": "26c7b44d"
      },
      "outputs": [],
      "source": [
        "train_text = \"\"\"My wife took me here on my birthday for breakfast and it was excellent.  The weather was perfect which made sitting outside overlooking their grounds an absolute pleasure.\n",
        "Our waitress was excellent and our food arrived quickly on the semi-busy Saturday morning.  It looked like the place fills up pretty quickly so the earlier you get here the better.\\n\\nDo yourself a favor and get their Bloody Mary.  It was phenomenal and simply the best I\\'ve ever had.\n",
        "I\\'m pretty sure they only use ingredients from their garden and blend them fresh when you order it.  It was amazing.\\n\\nWhile EVERYTHING on the menu looks excellent, I had the white truffle scrambled eggs vegetable skillet and it was tasty and delicious.\n",
        "It came with 2 pieces of their griddled bread with was amazing and it absolutely made the meal complete.\n",
        "It was the best \"toast\" I\\'ve ever had.\\n\\nAnyway, I can\\'t wait to go back!\"\"\"\n",
        "\n",
        "# write your code here\n",
        "\n",
        "data_text = [train_text]"
      ]
    },
    {
      "cell_type": "code",
      "source": [
        "print(type(data_text))\n",
        "print(data_text)"
      ],
      "metadata": {
        "colab": {
          "base_uri": "https://localhost:8080/"
        },
        "id": "dfE5kxoETzRb",
        "outputId": "1fd87897-6184-40e3-8e02-a9b33cba3224"
      },
      "id": "dfE5kxoETzRb",
      "execution_count": null,
      "outputs": [
        {
          "output_type": "stream",
          "name": "stdout",
          "text": [
            "<class 'list'>\n",
            "['My wife took me here on my birthday for breakfast and it was excellent.  The weather was perfect which made sitting outside overlooking their grounds an absolute pleasure.  \\nOur waitress was excellent and our food arrived quickly on the semi-busy Saturday morning.  It looked like the place fills up pretty quickly so the earlier you get here the better.\\n\\nDo yourself a favor and get their Bloody Mary.  It was phenomenal and simply the best I\\'ve ever had.  \\nI\\'m pretty sure they only use ingredients from their garden and blend them fresh when you order it.  It was amazing.\\n\\nWhile EVERYTHING on the menu looks excellent, I had the white truffle scrambled eggs vegetable skillet and it was tasty and delicious.  \\nIt came with 2 pieces of their griddled bread with was amazing and it absolutely made the meal complete.  \\nIt was the best \"toast\" I\\'ve ever had.\\n\\nAnyway, I can\\'t wait to go back!']\n"
          ]
        }
      ]
    },
    {
      "cell_type": "code",
      "source": [
        "bow_converter = CountVectorizer(token_pattern='(?u)\\\\b\\\\w+\\\\b')\n",
        "x = bow_converter.fit_transform(data_text)\n",
        "\n",
        "unigram = bow_converter.get_feature_names_out()"
      ],
      "metadata": {
        "id": "GkTkfXa9SyFN"
      },
      "id": "GkTkfXa9SyFN",
      "execution_count": null,
      "outputs": []
    },
    {
      "cell_type": "code",
      "source": [
        "bigram_converter = CountVectorizer(ngram_range=(2,2), token_pattern='(?u)\\\\b\\\\w+\\\\b')\n",
        "x2 = bigram_converter.fit_transform(data_text)\n",
        "\n",
        "bigram = bigram_converter.get_feature_names_out()"
      ],
      "metadata": {
        "id": "GKrbAao7S1J0"
      },
      "id": "GKrbAao7S1J0",
      "execution_count": null,
      "outputs": []
    },
    {
      "cell_type": "code",
      "source": [
        "trigram_converter = CountVectorizer(ngram_range=(3,3), token_pattern='(?u)\\\\b\\\\w+\\\\b')\n",
        "x3 = trigram_converter.fit_transform(data_text)\n",
        "\n",
        "trigram = trigram_converter.get_feature_names_out()"
      ],
      "metadata": {
        "id": "nr4DN8YYS3Zi"
      },
      "id": "nr4DN8YYS3Zi",
      "execution_count": null,
      "outputs": []
    },
    {
      "cell_type": "code",
      "source": [
        "print(unigram)"
      ],
      "metadata": {
        "colab": {
          "base_uri": "https://localhost:8080/"
        },
        "id": "ym3uMpe9S41r",
        "outputId": "1c97a0ad-7722-4220-9675-df18ccaa3818"
      },
      "id": "ym3uMpe9S41r",
      "execution_count": null,
      "outputs": [
        {
          "output_type": "stream",
          "name": "stdout",
          "text": [
            "['2' 'a' 'absolute' 'absolutely' 'amazing' 'an' 'and' 'anyway' 'arrived'\n",
            " 'back' 'best' 'better' 'birthday' 'blend' 'bloody' 'bread' 'breakfast'\n",
            " 'busy' 'came' 'can' 'complete' 'delicious' 'do' 'earlier' 'eggs' 'ever'\n",
            " 'everything' 'excellent' 'favor' 'fills' 'food' 'for' 'fresh' 'from'\n",
            " 'garden' 'get' 'go' 'griddled' 'grounds' 'had' 'here' 'i' 'ingredients'\n",
            " 'it' 'like' 'looked' 'looks' 'm' 'made' 'mary' 'me' 'meal' 'menu'\n",
            " 'morning' 'my' 'of' 'on' 'only' 'order' 'our' 'outside' 'overlooking'\n",
            " 'perfect' 'phenomenal' 'pieces' 'place' 'pleasure' 'pretty' 'quickly'\n",
            " 'saturday' 'scrambled' 'semi' 'simply' 'sitting' 'skillet' 'so' 'sure'\n",
            " 't' 'tasty' 'the' 'their' 'them' 'they' 'to' 'toast' 'took' 'truffle'\n",
            " 'up' 'use' 've' 'vegetable' 'wait' 'waitress' 'was' 'weather' 'when'\n",
            " 'which' 'while' 'white' 'wife' 'with' 'you' 'yourself']\n"
          ]
        }
      ]
    },
    {
      "cell_type": "code",
      "source": [
        "print(bigram)"
      ],
      "metadata": {
        "colab": {
          "base_uri": "https://localhost:8080/"
        },
        "id": "KHakJU25S-vG",
        "outputId": "6c7b1635-3e1c-4273-c25d-c8d6f90b3b8c"
      },
      "id": "KHakJU25S-vG",
      "execution_count": null,
      "outputs": [
        {
          "output_type": "stream",
          "name": "stdout",
          "text": [
            "['2 pieces' 'a favor' 'absolute pleasure' 'absolutely made' 'amazing and'\n",
            " 'amazing while' 'an absolute' 'and blend' 'and delicious' 'and get'\n",
            " 'and it' 'and our' 'and simply' 'anyway i' 'arrived quickly' 'best i'\n",
            " 'best toast' 'better do' 'birthday for' 'blend them' 'bloody mary'\n",
            " 'bread with' 'breakfast and' 'busy saturday' 'came with' 'can t'\n",
            " 'complete it' 'delicious it' 'do yourself' 'earlier you' 'eggs vegetable'\n",
            " 'ever had' 'everything on' 'excellent and' 'excellent i' 'excellent the'\n",
            " 'favor and' 'fills up' 'food arrived' 'for breakfast' 'fresh when'\n",
            " 'from their' 'garden and' 'get here' 'get their' 'go back'\n",
            " 'griddled bread' 'grounds an' 'had anyway' 'had i' 'had the' 'here on'\n",
            " 'here the' 'i can' 'i had' 'i m' 'i ve' 'ingredients from'\n",
            " 'it absolutely' 'it came' 'it it' 'it looked' 'it was' 'like the'\n",
            " 'looked like' 'looks excellent' 'm pretty' 'made sitting' 'made the'\n",
            " 'mary it' 'me here' 'meal complete' 'menu looks' 'morning it'\n",
            " 'my birthday' 'my wife' 'of their' 'on my' 'on the' 'only use' 'order it'\n",
            " 'our food' 'our waitress' 'outside overlooking' 'overlooking their'\n",
            " 'perfect which' 'phenomenal and' 'pieces of' 'place fills' 'pleasure our'\n",
            " 'pretty quickly' 'pretty sure' 'quickly on' 'quickly so'\n",
            " 'saturday morning' 'scrambled eggs' 'semi busy' 'simply the'\n",
            " 'sitting outside' 'skillet and' 'so the' 'sure they' 't wait' 'tasty and'\n",
            " 'the best' 'the better' 'the earlier' 'the meal' 'the menu' 'the place'\n",
            " 'the semi' 'the weather' 'the white' 'their bloody' 'their garden'\n",
            " 'their griddled' 'their grounds' 'them fresh' 'they only' 'to go'\n",
            " 'toast i' 'took me' 'truffle scrambled' 'up pretty' 'use ingredients'\n",
            " 've ever' 'vegetable skillet' 'wait to' 'waitress was' 'was amazing'\n",
            " 'was excellent' 'was perfect' 'was phenomenal' 'was tasty' 'was the'\n",
            " 'weather was' 'when you' 'which made' 'while everything' 'white truffle'\n",
            " 'wife took' 'with 2' 'with was' 'you get' 'you order' 'yourself a']\n"
          ]
        }
      ]
    },
    {
      "cell_type": "code",
      "source": [
        "print(trigram)"
      ],
      "metadata": {
        "colab": {
          "base_uri": "https://localhost:8080/"
        },
        "id": "Ifh8VYZNS_1C",
        "outputId": "9dafaa14-f8e0-4bc6-af99-58abfdf2feb1"
      },
      "id": "Ifh8VYZNS_1C",
      "execution_count": null,
      "outputs": [
        {
          "output_type": "stream",
          "name": "stdout",
          "text": [
            "['2 pieces of' 'a favor and' 'absolute pleasure our' 'absolutely made the'\n",
            " 'amazing and it' 'amazing while everything' 'an absolute pleasure'\n",
            " 'and blend them' 'and delicious it' 'and get their' 'and it absolutely'\n",
            " 'and it was' 'and our food' 'and simply the' 'anyway i can'\n",
            " 'arrived quickly on' 'best i ve' 'best toast i' 'better do yourself'\n",
            " 'birthday for breakfast' 'blend them fresh' 'bloody mary it'\n",
            " 'bread with was' 'breakfast and it' 'busy saturday morning' 'came with 2'\n",
            " 'can t wait' 'complete it was' 'delicious it came' 'do yourself a'\n",
            " 'earlier you get' 'eggs vegetable skillet' 'ever had anyway' 'ever had i'\n",
            " 'everything on the' 'excellent and our' 'excellent i had'\n",
            " 'excellent the weather' 'favor and get' 'fills up pretty'\n",
            " 'food arrived quickly' 'for breakfast and' 'fresh when you'\n",
            " 'from their garden' 'garden and blend' 'get here the' 'get their bloody'\n",
            " 'griddled bread with' 'grounds an absolute' 'had anyway i' 'had i m'\n",
            " 'had the white' 'here on my' 'here the better' 'i can t' 'i had the'\n",
            " 'i m pretty' 'i ve ever' 'ingredients from their' 'it absolutely made'\n",
            " 'it came with' 'it it was' 'it looked like' 'it was amazing'\n",
            " 'it was excellent' 'it was phenomenal' 'it was tasty' 'it was the'\n",
            " 'like the place' 'looked like the' 'looks excellent i' 'm pretty sure'\n",
            " 'made sitting outside' 'made the meal' 'mary it was' 'me here on'\n",
            " 'meal complete it' 'menu looks excellent' 'morning it looked'\n",
            " 'my birthday for' 'my wife took' 'of their griddled' 'on my birthday'\n",
            " 'on the menu' 'on the semi' 'only use ingredients' 'order it it'\n",
            " 'our food arrived' 'our waitress was' 'outside overlooking their'\n",
            " 'overlooking their grounds' 'perfect which made' 'phenomenal and simply'\n",
            " 'pieces of their' 'place fills up' 'pleasure our waitress'\n",
            " 'pretty quickly so' 'pretty sure they' 'quickly on the' 'quickly so the'\n",
            " 'saturday morning it' 'scrambled eggs vegetable' 'semi busy saturday'\n",
            " 'simply the best' 'sitting outside overlooking' 'skillet and it'\n",
            " 'so the earlier' 'sure they only' 't wait to' 'tasty and delicious'\n",
            " 'the best i' 'the best toast' 'the better do' 'the earlier you'\n",
            " 'the meal complete' 'the menu looks' 'the place fills' 'the semi busy'\n",
            " 'the weather was' 'the white truffle' 'their bloody mary'\n",
            " 'their garden and' 'their griddled bread' 'their grounds an'\n",
            " 'them fresh when' 'they only use' 'to go back' 'toast i ve'\n",
            " 'took me here' 'truffle scrambled eggs' 'up pretty quickly'\n",
            " 'use ingredients from' 've ever had' 'vegetable skillet and' 'wait to go'\n",
            " 'waitress was excellent' 'was amazing and' 'was amazing while'\n",
            " 'was excellent and' 'was excellent the' 'was perfect which'\n",
            " 'was phenomenal and' 'was tasty and' 'was the best' 'weather was perfect'\n",
            " 'when you order' 'which made sitting' 'while everything on'\n",
            " 'white truffle scrambled' 'wife took me' 'with 2 pieces'\n",
            " 'with was amazing' 'you get here' 'you order it' 'yourself a favor']\n"
          ]
        }
      ]
    },
    {
      "cell_type": "code",
      "source": [
        "print (len(unigram), len(bigram), len(trigram))"
      ],
      "metadata": {
        "colab": {
          "base_uri": "https://localhost:8080/"
        },
        "id": "_bUnreWMTBan",
        "outputId": "065658d6-0d42-4792-a363-0b409617f795"
      },
      "id": "_bUnreWMTBan",
      "execution_count": null,
      "outputs": [
        {
          "output_type": "stream",
          "name": "stdout",
          "text": [
            "103 146 155\n"
          ]
        }
      ]
    },
    {
      "cell_type": "code",
      "source": [
        "sns.set_style(\"darkgrid\")\n",
        "counts = [len(unigram), len(bigram), len(trigram)]\n",
        "plt.plot(counts, color='cornflowerblue')\n",
        "plt.plot(counts, 'bo')\n",
        "plt.margins(0.1)\n",
        "plt.xticks(range(3), ['unigram', 'bigram', 'trigram'])\n",
        "plt.tick_params(labelsize=14)\n",
        "plt.title('Number of ngrams in the first 10,000 reviews of the Yelp dataset', {'fontsize':16})\n",
        "plt.show()"
      ],
      "metadata": {
        "colab": {
          "base_uri": "https://localhost:8080/",
          "height": 459
        },
        "id": "xEhqn5tGSc63",
        "outputId": "82b90263-f2ad-4e42-c5d8-e48cb4589919"
      },
      "id": "xEhqn5tGSc63",
      "execution_count": null,
      "outputs": [
        {
          "output_type": "display_data",
          "data": {
            "text/plain": [
              "<Figure size 640x480 with 1 Axes>"
            ],
            "image/png": "[encoded data removed]"
          },
          "metadata": {}
        }
      ]
    },
    {
      "cell_type": "markdown",
      "id": "7d9bc618",
      "metadata": {
        "id": "7d9bc618"
      },
      "source": [
        "## Task 1.2 Create your own naive tokenization method (whitespace-based), and apply it to the text given in the task 1.1\n",
        "note: 1. do not use the existing togkenization methods given by NLP; 2. split the words by whitespace character, the output is more likely as the unigram; 3. no repeating elements in the output."
      ]
    },
    {
      "cell_type": "code",
      "execution_count": null,
      "id": "2c40457a",
      "metadata": {
        "id": "2c40457a",
        "colab": {
          "base_uri": "https://localhost:8080/"
        },
        "outputId": "0695132c-4b57-4854-b7ce-a7df53dee024"
      },
      "outputs": [
        {
          "output_type": "stream",
          "name": "stdout",
          "text": [
            "160\n",
            "110\n",
            "['', \"\\nI'm\", '\\nIt', '\\nOur', '\"toast\"', '2', 'Bloody', 'EVERYTHING', 'I', \"I've\", 'It', 'Mary.', 'My', 'Saturday', 'The', 'a', 'absolute', 'absolutely', 'amazing', 'amazing.\\n\\nWhile', 'an', 'and', 'arrived', 'back!', 'best', 'better.\\n\\nDo', 'birthday', 'blend', 'bread', 'breakfast', 'came', \"can't\", 'complete.', 'delicious.', 'earlier', 'eggs', 'ever', 'excellent', 'excellent,', 'excellent.', 'favor', 'fills', 'food', 'for', 'fresh', 'from', 'garden', 'get', 'go', 'griddled', 'grounds', 'had', 'had.', 'had.\\n\\nAnyway,', 'here', 'ingredients', 'it', 'it.', 'like', 'looked', 'looks', 'made', 'me', 'meal', 'menu', 'morning.', 'my', 'of', 'on', 'only', 'order', 'our', 'outside', 'overlooking', 'perfect', 'phenomenal', 'pieces', 'place', 'pleasure.', 'pretty', 'quickly', 'scrambled', 'semi-busy', 'simply', 'sitting', 'skillet', 'so', 'sure', 'tasty', 'the', 'their', 'them', 'they', 'to', 'took', 'truffle', 'up', 'use', 'vegetable', 'wait', 'waitress', 'was', 'weather', 'when', 'which', 'white', 'wife', 'with', 'you', 'yourself']\n"
          ]
        }
      ],
      "source": [
        "# write you code here\n",
        "new_text_list = train_text.split(' ')\n",
        "print(len(new_text_list))\n",
        "\n",
        "token_text_list = []\n",
        "\n",
        "for i in range(len(new_text_list)):\n",
        "  #print(new_text_list[i])\n",
        "  if new_text_list[i] in token_text_list:\n",
        "    continue\n",
        "  else:\n",
        "    token_text_list.append(new_text_list[i])\n",
        "\n",
        "print(len(token_text_list))\n",
        "token_text_list.sort()\n",
        "print(token_text_list)\n",
        "\n",
        "#as it's naive based only on whitespace, it's repeating words like 'excellent', 'excellent,', 'excellent.' as they are 3 different words (with ',' & '.')"
      ]
    },
    {
      "cell_type": "markdown",
      "id": "e0bb5c1b",
      "metadata": {
        "id": "e0bb5c1b"
      },
      "source": [
        "## **Question 1**. Given a sentence \"He likes cat\". In unigram representation, it could be \"He\", \"likes\", \"cat\". In bigram representation, it could be \"He likes\", \"likes cat\". In trigram representation, it could be \"He likes cat\". Explain why the storage and computation cost increase with the growth of n in n-gram methods."
      ]
    },
    {
      "cell_type": "markdown",
      "id": "83eb139d",
      "metadata": {
        "id": "83eb139d"
      },
      "source": [
        "Answer to Q1: type your answer here:"
      ]
    },
    {
      "cell_type": "markdown",
      "id": "3f07a909",
      "metadata": {
        "id": "3f07a909"
      },
      "source": [
        "---"
      ]
    },
    {
      "cell_type": "markdown",
      "id": "4ee9bd1f",
      "metadata": {
        "id": "4ee9bd1f"
      },
      "source": [
        "## (Tutorial) Stemming and Lemmatization"
      ]
    },
    {
      "cell_type": "code",
      "execution_count": null,
      "id": "0c0ac9b0",
      "metadata": {
        "id": "0c0ac9b0",
        "outputId": "4a63a815-a3b3-41b2-d010-df2e236772a8",
        "colab": {
          "base_uri": "https://localhost:8080/"
        }
      },
      "outputs": [
        {
          "output_type": "stream",
          "name": "stdout",
          "text": [
            "'flowers' after stemming: flower\n",
            "'zeroes' after stemming: zero\n",
            "'better' after stemming: better\n",
            "'sixties' after stemming: sixti\n",
            "'goes' after stemming: goe\n",
            "'go' after stemming: go\n"
          ]
        }
      ],
      "source": [
        "# import PorterStemmer class form nltk.stem.porter module\n",
        "from nltk.stem.porter import PorterStemmer\n",
        "stemmer = PorterStemmer()\n",
        "\n",
        "stem = stemmer.stem('flowers')\n",
        "print(f\"'flowers' after stemming: {stem}\")\n",
        "\n",
        "stem = stemmer.stem('zeroes')\n",
        "print(f\"'zeroes' after stemming: {stem}\")\n",
        "\n",
        "stem = stemmer.stem('better')\n",
        "print(f\"'better' after stemming: {stem}\")\n",
        "\n",
        "stem = stemmer.stem('sixties')\n",
        "print(f\"'sixties' after stemming: {stem}\")\n",
        "\n",
        "stem = stemmer.stem('goes')\n",
        "print(f\"'goes' after stemming: {stem}\")\n",
        "\n",
        "stem = stemmer.stem('go')\n",
        "print(f\"'go' after stemming: {stem}\")"
      ]
    },
    {
      "cell_type": "code",
      "source": [
        "import nltk\n",
        "nltk.download('wordnet')"
      ],
      "metadata": {
        "colab": {
          "base_uri": "https://localhost:8080/"
        },
        "id": "2oAAUmWbZ59V",
        "outputId": "9d10ddef-97bd-4426-effc-ed000f3988ec"
      },
      "id": "2oAAUmWbZ59V",
      "execution_count": null,
      "outputs": [
        {
          "output_type": "stream",
          "name": "stderr",
          "text": [
            "[nltk_data] Downloading package wordnet to /root/nltk_data...\n",
            "[nltk_data]   Package wordnet is already up-to-date!\n"
          ]
        },
        {
          "output_type": "execute_result",
          "data": {
            "text/plain": [
              "True"
            ]
          },
          "metadata": {},
          "execution_count": 29
        }
      ]
    },
    {
      "cell_type": "code",
      "execution_count": null,
      "id": "0c4d270f",
      "metadata": {
        "id": "0c4d270f",
        "outputId": "277421c4-0228-46b6-9407-4d6f7c078292",
        "colab": {
          "base_uri": "https://localhost:8080/"
        }
      },
      "outputs": [
        {
          "output_type": "stream",
          "name": "stdout",
          "text": [
            "'flowers' after lemmatization: flower\n",
            "'zeros' after lemmatization: zero\n",
            "'better' after lemmatization: better\n",
            "'sixties' after lemmatization: sixty\n",
            "'goes' after lemmatization: go\n",
            "'go' after lemmatization: go\n",
            "\n",
            "\n",
            "\n",
            "'better' (as an adjective) after lemmatization: good\n"
          ]
        }
      ],
      "source": [
        "# import lemmatizer class from nltk.stem module\n",
        "from nltk.stem import WordNetLemmatizer\n",
        "lemmatizer = WordNetLemmatizer()\n",
        "\n",
        "lemma = lemmatizer.lemmatize('flowers')\n",
        "print(f\"'flowers' after lemmatization: {lemma}\")\n",
        "\n",
        "lemma = lemmatizer.lemmatize('zeros')\n",
        "print(f\"'zeros' after lemmatization: {lemma}\")\n",
        "\n",
        "lemma = lemmatizer.lemmatize('better')\n",
        "print(f\"'better' after lemmatization: {lemma}\")\n",
        "\n",
        "lemma = lemmatizer.lemmatize('sixties')\n",
        "print(f\"'sixties' after lemmatization: {lemma}\")\n",
        "\n",
        "lemma = lemmatizer.lemmatize('goes')\n",
        "print(f\"'goes' after lemmatization: {lemma}\")\n",
        "\n",
        "lemma = lemmatizer.lemmatize('go')\n",
        "print(f\"'go' after lemmatization: {lemma}\")\n",
        "\n",
        "print(\"\\n\\n\")\n",
        "lemma = lemmatizer.lemmatize('better', pos='a')   # 'a' denoted ADJECTIVE part-of-speech\n",
        "print(f\"'better' (as an adjective) after lemmatization: {lemma}\")"
      ]
    },
    {
      "cell_type": "markdown",
      "id": "dc7f2000",
      "metadata": {
        "id": "dc7f2000"
      },
      "source": [
        "## Task 2. Text filtering for cleaner feature\n",
        "1. clean the text used in the task 1; 2. remove all punctuations; 3. convert all characters to their lowercase; 4. remove all words in \"stopwords\"; 5. remove all relatively meaningless words like \" 've \", \" 's \", etc. 6. after finishing the above operations, apply stemming and lemmatization to the cleaned text respectively."
      ]
    },
    {
      "cell_type": "code",
      "execution_count": null,
      "id": "df6ce9d4",
      "metadata": {
        "id": "df6ce9d4"
      },
      "outputs": [],
      "source": [
        "# write your code here\n",
        "\n",
        "train_text = \"\"\"My wife took me here on my birthday for breakfast and it was excellent.  The weather was perfect which made sitting outside overlooking their grounds an absolute pleasure.\n",
        "Our waitress was excellent and our food arrived quickly on the semi-busy Saturday morning.  It looked like the place fills up pretty quickly so the earlier you get here the better.\\n\\nDo yourself a favor and get their Bloody Mary.  It was phenomenal and simply the best I\\'ve ever had.\n",
        "I\\'m pretty sure they only use ingredients from their garden and blend them fresh when you order it.  It was amazing.\\n\\nWhile EVERYTHING on the menu looks excellent, I had the white truffle scrambled eggs vegetable skillet and it was tasty and delicious.\n",
        "It came with 2 pieces of their griddled bread with was amazing and it absolutely made the meal complete.\n",
        "It was the best \"toast\" I\\'ve ever had.\\n\\nAnyway, I can\\'t wait to go back!\"\"\"\n"
      ]
    },
    {
      "cell_type": "code",
      "source": [
        "train_text_1 = train_text.replace(\"\\r\", \" \")\n",
        "print(train_text_1)"
      ],
      "metadata": {
        "colab": {
          "base_uri": "https://localhost:8080/"
        },
        "id": "_yiQ0ySEaIBS",
        "outputId": "59d97e12-8127-44b4-9bec-b899af69e9e0"
      },
      "id": "_yiQ0ySEaIBS",
      "execution_count": null,
      "outputs": [
        {
          "output_type": "stream",
          "name": "stdout",
          "text": [
            "My wife took me here on my birthday for breakfast and it was excellent.  The weather was perfect which made sitting outside overlooking their grounds an absolute pleasure.  \n",
            "Our waitress was excellent and our food arrived quickly on the semi-busy Saturday morning.  It looked like the place fills up pretty quickly so the earlier you get here the better.\n",
            "\n",
            "Do yourself a favor and get their Bloody Mary.  It was phenomenal and simply the best I've ever had.  \n",
            "I'm pretty sure they only use ingredients from their garden and blend them fresh when you order it.  It was amazing.\n",
            "\n",
            "While EVERYTHING on the menu looks excellent, I had the white truffle scrambled eggs vegetable skillet and it was tasty and delicious.  \n",
            "It came with 2 pieces of their griddled bread with was amazing and it absolutely made the meal complete.  \n",
            "It was the best \"toast\" I've ever had.\n",
            "\n",
            "Anyway, I can't wait to go back!\n"
          ]
        }
      ]
    },
    {
      "cell_type": "code",
      "source": [
        "train_text_2 = train_text_1.replace(\"\\n\", \" \")\n",
        "print(train_text_2)"
      ],
      "metadata": {
        "colab": {
          "base_uri": "https://localhost:8080/"
        },
        "id": "2QU7HnRganWK",
        "outputId": "19025ace-9c06-492a-b053-acae5f62e89e"
      },
      "id": "2QU7HnRganWK",
      "execution_count": null,
      "outputs": [
        {
          "output_type": "stream",
          "name": "stdout",
          "text": [
            "My wife took me here on my birthday for breakfast and it was excellent.  The weather was perfect which made sitting outside overlooking their grounds an absolute pleasure.   Our waitress was excellent and our food arrived quickly on the semi-busy Saturday morning.  It looked like the place fills up pretty quickly so the earlier you get here the better.  Do yourself a favor and get their Bloody Mary.  It was phenomenal and simply the best I've ever had.   I'm pretty sure they only use ingredients from their garden and blend them fresh when you order it.  It was amazing.  While EVERYTHING on the menu looks excellent, I had the white truffle scrambled eggs vegetable skillet and it was tasty and delicious.   It came with 2 pieces of their griddled bread with was amazing and it absolutely made the meal complete.   It was the best \"toast\" I've ever had.  Anyway, I can't wait to go back!\n"
          ]
        }
      ]
    },
    {
      "cell_type": "code",
      "source": [
        "train_text_3 = train_text_2.replace(\"    \", \" \")\n",
        "print(train_text_3)"
      ],
      "metadata": {
        "colab": {
          "base_uri": "https://localhost:8080/"
        },
        "id": "Aw2S_LWWaoiY",
        "outputId": "b8ee62ca-47c0-4d2b-eb2f-2da469601ec0"
      },
      "id": "Aw2S_LWWaoiY",
      "execution_count": null,
      "outputs": [
        {
          "output_type": "stream",
          "name": "stdout",
          "text": [
            "My wife took me here on my birthday for breakfast and it was excellent.  The weather was perfect which made sitting outside overlooking their grounds an absolute pleasure.   Our waitress was excellent and our food arrived quickly on the semi-busy Saturday morning.  It looked like the place fills up pretty quickly so the earlier you get here the better.  Do yourself a favor and get their Bloody Mary.  It was phenomenal and simply the best I've ever had.   I'm pretty sure they only use ingredients from their garden and blend them fresh when you order it.  It was amazing.  While EVERYTHING on the menu looks excellent, I had the white truffle scrambled eggs vegetable skillet and it was tasty and delicious.   It came with 2 pieces of their griddled bread with was amazing and it absolutely made the meal complete.   It was the best \"toast\" I've ever had.  Anyway, I can't wait to go back!\n"
          ]
        }
      ]
    },
    {
      "cell_type": "code",
      "source": [
        "train_text_4 = train_text_3.replace('\"', '')\n",
        "print(train_text_4)"
      ],
      "metadata": {
        "colab": {
          "base_uri": "https://localhost:8080/"
        },
        "id": "5UX7ep4GapeV",
        "outputId": "beae49d6-d786-4cf3-c603-c7bc65bad369"
      },
      "id": "5UX7ep4GapeV",
      "execution_count": null,
      "outputs": [
        {
          "output_type": "stream",
          "name": "stdout",
          "text": [
            "My wife took me here on my birthday for breakfast and it was excellent.  The weather was perfect which made sitting outside overlooking their grounds an absolute pleasure.   Our waitress was excellent and our food arrived quickly on the semi-busy Saturday morning.  It looked like the place fills up pretty quickly so the earlier you get here the better.  Do yourself a favor and get their Bloody Mary.  It was phenomenal and simply the best I've ever had.   I'm pretty sure they only use ingredients from their garden and blend them fresh when you order it.  It was amazing.  While EVERYTHING on the menu looks excellent, I had the white truffle scrambled eggs vegetable skillet and it was tasty and delicious.   It came with 2 pieces of their griddled bread with was amazing and it absolutely made the meal complete.   It was the best toast I've ever had.  Anyway, I can't wait to go back!\n"
          ]
        }
      ]
    },
    {
      "cell_type": "code",
      "source": [
        "train_text_4_lower = train_text_4.lower()\n",
        "print(train_text_4_lower)"
      ],
      "metadata": {
        "colab": {
          "base_uri": "https://localhost:8080/"
        },
        "id": "wP-YEFkjYsfH",
        "outputId": "eb45cc47-63b5-4688-f37b-64d56f28121c"
      },
      "id": "wP-YEFkjYsfH",
      "execution_count": null,
      "outputs": [
        {
          "output_type": "stream",
          "name": "stdout",
          "text": [
            "my wife took me here on my birthday for breakfast and it was excellent.  the weather was perfect which made sitting outside overlooking their grounds an absolute pleasure.   our waitress was excellent and our food arrived quickly on the semi-busy saturday morning.  it looked like the place fills up pretty quickly so the earlier you get here the better.  do yourself a favor and get their bloody mary.  it was phenomenal and simply the best i've ever had.   i'm pretty sure they only use ingredients from their garden and blend them fresh when you order it.  it was amazing.  while everything on the menu looks excellent, i had the white truffle scrambled eggs vegetable skillet and it was tasty and delicious.   it came with 2 pieces of their griddled bread with was amazing and it absolutely made the meal complete.   it was the best toast i've ever had.  anyway, i can't wait to go back!\n"
          ]
        }
      ]
    },
    {
      "cell_type": "code",
      "source": [
        "tt_4_lower_punct = train_text_4_lower\n",
        "punctuation_signs = list(\"?:!.,;\")\n",
        "for punct_sign in punctuation_signs:\n",
        "  tt_4_lower_punct = tt_4_lower_punct.replace(punct_sign, '')\n",
        "\n",
        "print(tt_4_lower_punct)"
      ],
      "metadata": {
        "colab": {
          "base_uri": "https://localhost:8080/"
        },
        "id": "spIHPLoHYz7q",
        "outputId": "fa61fdde-3f00-472e-8d36-c5bc89f3220b"
      },
      "id": "spIHPLoHYz7q",
      "execution_count": null,
      "outputs": [
        {
          "output_type": "stream",
          "name": "stdout",
          "text": [
            "my wife took me here on my birthday for breakfast and it was excellent  the weather was perfect which made sitting outside overlooking their grounds an absolute pleasure   our waitress was excellent and our food arrived quickly on the semi-busy saturday morning  it looked like the place fills up pretty quickly so the earlier you get here the better  do yourself a favor and get their bloody mary  it was phenomenal and simply the best i've ever had   i'm pretty sure they only use ingredients from their garden and blend them fresh when you order it  it was amazing  while everything on the menu looks excellent i had the white truffle scrambled eggs vegetable skillet and it was tasty and delicious   it came with 2 pieces of their griddled bread with was amazing and it absolutely made the meal complete   it was the best toast i've ever had  anyway i can't wait to go back\n"
          ]
        }
      ]
    },
    {
      "cell_type": "code",
      "source": [
        "tt_lower_punct_5 = tt_4_lower_punct.replace(\"'s\", \"\")\n",
        "tt_lower_punct_5 = tt_lower_punct_5.replace(\"'ve\", \"\")\n",
        "tt_lower_punct_6 = tt_lower_punct_5.replace(\"'m\", \"\")\n",
        "print(tt_lower_punct_6)"
      ],
      "metadata": {
        "colab": {
          "base_uri": "https://localhost:8080/"
        },
        "id": "cLwmBfzwYg2d",
        "outputId": "424141ae-8be8-4d20-b71c-67d18ca44be0"
      },
      "id": "cLwmBfzwYg2d",
      "execution_count": null,
      "outputs": [
        {
          "output_type": "stream",
          "name": "stdout",
          "text": [
            "my wife took me here on my birthday for breakfast and it was excellent  the weather was perfect which made sitting outside overlooking their grounds an absolute pleasure   our waitress was excellent and our food arrived quickly on the semi-busy saturday morning  it looked like the place fills up pretty quickly so the earlier you get here the better  do yourself a favor and get their bloody mary  it was phenomenal and simply the best i ever had   i pretty sure they only use ingredients from their garden and blend them fresh when you order it  it was amazing  while everything on the menu looks excellent i had the white truffle scrambled eggs vegetable skillet and it was tasty and delicious   it came with 2 pieces of their griddled bread with was amazing and it absolutely made the meal complete   it was the best toast i ever had  anyway i can't wait to go back\n"
          ]
        }
      ]
    },
    {
      "cell_type": "code",
      "source": [
        "from nltk.corpus import stopwords\n",
        "import re\n",
        "import nltk\n",
        "nltk.download('stopwords')\n"
      ],
      "metadata": {
        "colab": {
          "base_uri": "https://localhost:8080/"
        },
        "id": "xw3H-vRXaAet",
        "outputId": "e08d04f6-9f15-40d9-8056-1861c3004539"
      },
      "id": "xw3H-vRXaAet",
      "execution_count": null,
      "outputs": [
        {
          "output_type": "stream",
          "name": "stderr",
          "text": [
            "[nltk_data] Downloading package stopwords to /root/nltk_data...\n",
            "[nltk_data]   Package stopwords is already up-to-date!\n"
          ]
        },
        {
          "output_type": "execute_result",
          "data": {
            "text/plain": [
              "True"
            ]
          },
          "metadata": {},
          "execution_count": 39
        }
      ]
    },
    {
      "cell_type": "code",
      "source": [
        "stop_words = list(stopwords.words('english'))\n",
        "stop_words[0:10]"
      ],
      "metadata": {
        "colab": {
          "base_uri": "https://localhost:8080/"
        },
        "id": "RC40PfuJa-P-",
        "outputId": "4979c31b-0fda-4ea1-a06d-249c909e8916"
      },
      "id": "RC40PfuJa-P-",
      "execution_count": null,
      "outputs": [
        {
          "output_type": "execute_result",
          "data": {
            "text/plain": [
              "['i', 'me', 'my', 'myself', 'we', 'our', 'ours', 'ourselves', 'you', \"you're\"]"
            ]
          },
          "metadata": {},
          "execution_count": 40
        }
      ]
    },
    {
      "cell_type": "code",
      "source": [
        "tt_lower_punct_sp_7 = tt_lower_punct_6\n",
        "\n",
        "for stop_word in stop_words:\n",
        "  tt_lower_punct_sp_7 = re.sub(r\"\\b%s\\b\" % stop_word, '', tt_lower_punct_sp_7)\n",
        "\n",
        "print(tt_lower_punct_sp_7)"
      ],
      "metadata": {
        "colab": {
          "base_uri": "https://localhost:8080/"
        },
        "id": "C8wAkqC3bv2y",
        "outputId": "1a5a08d3-8495-4873-de16-f525afab6d2a"
      },
      "id": "C8wAkqC3bv2y",
      "execution_count": null,
      "outputs": [
        {
          "output_type": "stream",
          "name": "stdout",
          "text": [
            " wife took     birthday  breakfast    excellent   weather  perfect  made sitting outside overlooking  grounds  absolute pleasure    waitress  excellent   food arrived quickly   semi-busy saturday morning   looked like  place fills  pretty quickly   earlier  get   better     favor  get  bloody mary    phenomenal  simply  best  ever     pretty sure   use ingredients   garden  blend  fresh   order     amazing   everything   menu looks excellent    white truffle scrambled eggs vegetable skillet    tasty  delicious    came  2 pieces   griddled bread   amazing   absolutely made  meal complete      best toast  ever   anyway  ' wait  go back\n"
          ]
        }
      ]
    },
    {
      "cell_type": "code",
      "source": [
        "tt_lower_punct_sp_7 = tt_lower_punct_sp_7.replace(\"'\", \"\")"
      ],
      "metadata": {
        "id": "YSp1BXaaneZv"
      },
      "id": "YSp1BXaaneZv",
      "execution_count": null,
      "outputs": []
    },
    {
      "cell_type": "code",
      "source": [
        "new_text_list_1 = tt_lower_punct_sp_7.split(' ')\n",
        "\n",
        "token_text_list_1 = []\n",
        "\n",
        "while(\"\" in new_text_list_1) :\n",
        "    new_text_list_1.remove(\"\")\n",
        "print(new_text_list_1)\n",
        "\n",
        "for i in range(len(new_text_list_1)):\n",
        "  #print(new_text_list[i])\n",
        "  if new_text_list_1[i] in token_text_list_1:\n",
        "    continue\n",
        "  else:\n",
        "    token_text_list_1.append(new_text_list_1[i])\n",
        "\n",
        "token_text_list_1.sort()\n",
        "print(token_text_list_1)"
      ],
      "metadata": {
        "colab": {
          "base_uri": "https://localhost:8080/"
        },
        "id": "Aemakvtwhylg",
        "outputId": "320b11f0-7dbc-464f-9319-7fbe95d8abe9"
      },
      "id": "Aemakvtwhylg",
      "execution_count": null,
      "outputs": [
        {
          "output_type": "stream",
          "name": "stdout",
          "text": [
            "['wife', 'took', 'birthday', 'breakfast', 'excellent', 'weather', 'perfect', 'made', 'sitting', 'outside', 'overlooking', 'grounds', 'absolute', 'pleasure', 'waitress', 'excellent', 'food', 'arrived', 'quickly', 'semi-busy', 'saturday', 'morning', 'looked', 'like', 'place', 'fills', 'pretty', 'quickly', 'earlier', 'get', 'better', 'favor', 'get', 'bloody', 'mary', 'phenomenal', 'simply', 'best', 'ever', 'pretty', 'sure', 'use', 'ingredients', 'garden', 'blend', 'fresh', 'order', 'amazing', 'everything', 'menu', 'looks', 'excellent', 'white', 'truffle', 'scrambled', 'eggs', 'vegetable', 'skillet', 'tasty', 'delicious', 'came', '2', 'pieces', 'griddled', 'bread', 'amazing', 'absolutely', 'made', 'meal', 'complete', 'best', 'toast', 'ever', 'anyway', 'wait', 'go', 'back']\n",
            "['2', 'absolute', 'absolutely', 'amazing', 'anyway', 'arrived', 'back', 'best', 'better', 'birthday', 'blend', 'bloody', 'bread', 'breakfast', 'came', 'complete', 'delicious', 'earlier', 'eggs', 'ever', 'everything', 'excellent', 'favor', 'fills', 'food', 'fresh', 'garden', 'get', 'go', 'griddled', 'grounds', 'ingredients', 'like', 'looked', 'looks', 'made', 'mary', 'meal', 'menu', 'morning', 'order', 'outside', 'overlooking', 'perfect', 'phenomenal', 'pieces', 'place', 'pleasure', 'pretty', 'quickly', 'saturday', 'scrambled', 'semi-busy', 'simply', 'sitting', 'skillet', 'sure', 'tasty', 'toast', 'took', 'truffle', 'use', 'vegetable', 'wait', 'waitress', 'weather', 'white', 'wife']\n"
          ]
        }
      ]
    },
    {
      "cell_type": "code",
      "source": [
        "#stemming\n",
        "from nltk.stem.porter import PorterStemmer\n",
        "stemmer = PorterStemmer()\n",
        "\n",
        "stemming_list = []\n",
        "\n",
        "for i in range(len(token_text_list_1)):\n",
        "  stem = stemmer.stem(token_text_list_1[i])\n",
        "  stemming_list.append(stem)\n"
      ],
      "metadata": {
        "id": "PEjxeaPckBLO"
      },
      "id": "PEjxeaPckBLO",
      "execution_count": null,
      "outputs": []
    },
    {
      "cell_type": "code",
      "source": [
        "import nltk\n",
        "nltk.download('wordnet')"
      ],
      "metadata": {
        "colab": {
          "base_uri": "https://localhost:8080/"
        },
        "id": "JHkk4gwBhNy5",
        "outputId": "be1dd10b-9359-4659-97f8-6022a0f52fd7"
      },
      "id": "JHkk4gwBhNy5",
      "execution_count": null,
      "outputs": [
        {
          "output_type": "stream",
          "name": "stderr",
          "text": [
            "[nltk_data] Downloading package wordnet to /root/nltk_data...\n",
            "[nltk_data]   Package wordnet is already up-to-date!\n"
          ]
        },
        {
          "output_type": "execute_result",
          "data": {
            "text/plain": [
              "True"
            ]
          },
          "metadata": {},
          "execution_count": 45
        }
      ]
    },
    {
      "cell_type": "code",
      "source": [
        "#lemmetization\n",
        "from nltk.stem import WordNetLemmatizer\n",
        "lemmatizer = WordNetLemmatizer()\n",
        "\n",
        "lemma_list = []\n",
        "\n",
        "for i in range(len(token_text_list_1)):\n",
        "  lemma = lemmatizer.lemmatize(token_text_list_1[i])\n",
        "  lemma_list.append(lemma)\n"
      ],
      "metadata": {
        "id": "EgmI5w17gMnQ"
      },
      "id": "EgmI5w17gMnQ",
      "execution_count": null,
      "outputs": []
    },
    {
      "cell_type": "code",
      "source": [
        "print('Clean Tokens:')\n",
        "print(token_text_list_1)\n",
        "\n",
        "print('\\nAfter Stemming:')\n",
        "print(stemming_list)\n",
        "\n",
        "print('\\nAfter Lemmatization:')\n",
        "print(lemma_list)"
      ],
      "metadata": {
        "colab": {
          "base_uri": "https://localhost:8080/"
        },
        "id": "SVI6chpQYZ5u",
        "outputId": "5b185083-0ee2-4263-f60a-c9bb44361d4f"
      },
      "id": "SVI6chpQYZ5u",
      "execution_count": null,
      "outputs": [
        {
          "output_type": "stream",
          "name": "stdout",
          "text": [
            "Clean Tokens:\n",
            "['2', 'absolute', 'absolutely', 'amazing', 'anyway', 'arrived', 'back', 'best', 'better', 'birthday', 'blend', 'bloody', 'bread', 'breakfast', 'came', 'complete', 'delicious', 'earlier', 'eggs', 'ever', 'everything', 'excellent', 'favor', 'fills', 'food', 'fresh', 'garden', 'get', 'go', 'griddled', 'grounds', 'ingredients', 'like', 'looked', 'looks', 'made', 'mary', 'meal', 'menu', 'morning', 'order', 'outside', 'overlooking', 'perfect', 'phenomenal', 'pieces', 'place', 'pleasure', 'pretty', 'quickly', 'saturday', 'scrambled', 'semi-busy', 'simply', 'sitting', 'skillet', 'sure', 'tasty', 'toast', 'took', 'truffle', 'use', 'vegetable', 'wait', 'waitress', 'weather', 'white', 'wife']\n",
            "\n",
            "After Stemming:\n",
            "['2', 'absolut', 'absolut', 'amaz', 'anyway', 'arriv', 'back', 'best', 'better', 'birthday', 'blend', 'bloodi', 'bread', 'breakfast', 'came', 'complet', 'delici', 'earlier', 'egg', 'ever', 'everyth', 'excel', 'favor', 'fill', 'food', 'fresh', 'garden', 'get', 'go', 'griddl', 'ground', 'ingredi', 'like', 'look', 'look', 'made', 'mari', 'meal', 'menu', 'morn', 'order', 'outsid', 'overlook', 'perfect', 'phenomen', 'piec', 'place', 'pleasur', 'pretti', 'quickli', 'saturday', 'scrambl', 'semi-busi', 'simpli', 'sit', 'skillet', 'sure', 'tasti', 'toast', 'took', 'truffl', 'use', 'veget', 'wait', 'waitress', 'weather', 'white', 'wife']\n",
            "\n",
            "After Lemmatization:\n",
            "['2', 'absolute', 'absolutely', 'amazing', 'anyway', 'arrived', 'back', 'best', 'better', 'birthday', 'blend', 'bloody', 'bread', 'breakfast', 'came', 'complete', 'delicious', 'earlier', 'egg', 'ever', 'everything', 'excellent', 'favor', 'fill', 'food', 'fresh', 'garden', 'get', 'go', 'griddled', 'ground', 'ingredient', 'like', 'looked', 'look', 'made', 'mary', 'meal', 'menu', 'morning', 'order', 'outside', 'overlooking', 'perfect', 'phenomenal', 'piece', 'place', 'pleasure', 'pretty', 'quickly', 'saturday', 'scrambled', 'semi-busy', 'simply', 'sitting', 'skillet', 'sure', 'tasty', 'toast', 'took', 'truffle', 'use', 'vegetable', 'wait', 'waitress', 'weather', 'white', 'wife']\n"
          ]
        }
      ]
    },
    {
      "cell_type": "markdown",
      "id": "79309e44",
      "metadata": {
        "id": "79309e44"
      },
      "source": [
        "## **Question 2.** Based on the examples and the output of your code, which one has the better performance, Stemming or Lemmatization? Try to analyze it."
      ]
    },
    {
      "cell_type": "markdown",
      "id": "104ee6dd",
      "metadata": {
        "id": "104ee6dd"
      },
      "source": [
        "**Answer to Q2**: type your answer here"
      ]
    },
    {
      "cell_type": "markdown",
      "id": "5b1d86bb",
      "metadata": {
        "id": "5b1d86bb"
      },
      "source": [
        "---"
      ]
    },
    {
      "cell_type": "markdown",
      "id": "67eaf458",
      "metadata": {
        "id": "67eaf458"
      },
      "source": [
        "## (Tutorial) PoS tagging and chunking"
      ]
    },
    {
      "cell_type": "markdown",
      "id": "fb32f14c",
      "metadata": {
        "id": "fb32f14c"
      },
      "source": [
        "**note:** you need to install spacy and textblob modules first for the following codes\n",
        "If you have problem to install spacy module, try to follow the instruction in the following link:\n",
        "https://stackoverflow.com/questions/66149878/e053-could-not-read-config-cfg-resumeparser\n",
        "If you have problem to use textblob module, try to install nltk libraries as shown in the following link:\n",
        "http://www.nltk.org/data.html"
      ]
    },
    {
      "cell_type": "code",
      "execution_count": null,
      "id": "6bcfb6e6",
      "metadata": {
        "id": "6bcfb6e6",
        "outputId": "d517c68b-b4a1-42e8-cd69-097c2dcd9c74",
        "colab": {
          "base_uri": "https://localhost:8080/"
        }
      },
      "outputs": [
        {
          "output_type": "execute_result",
          "data": {
            "text/plain": [
              "(10, 8)"
            ]
          },
          "metadata": {},
          "execution_count": 48
        }
      ],
      "source": [
        "# Load the first 10 reviews\n",
        "f = open('yelp_academic_dataset_review.json')\n",
        "js = []\n",
        "for i in range(10):\n",
        "    js.append(json.loads(f.readline()))\n",
        "f.close()\n",
        "review_df = pd.DataFrame(js)\n",
        "review_df.shape"
      ]
    },
    {
      "cell_type": "code",
      "execution_count": null,
      "id": "589eb7b2",
      "metadata": {
        "id": "589eb7b2",
        "outputId": "3b2312ea-59c7-4af9-b5bc-c5deda79e991",
        "colab": {
          "base_uri": "https://localhost:8080/"
        }
      },
      "outputs": [
        {
          "output_type": "execute_result",
          "data": {
            "text/plain": [
              "{'lang': 'en',\n",
              " 'name': 'core_web_sm',\n",
              " 'version': '3.5.0',\n",
              " 'description': 'English pipeline optimized for CPU. Components: tok2vec, tagger, parser, senter, ner, attribute_ruler, lemmatizer.',\n",
              " 'author': 'Explosion',\n",
              " 'email': 'contact@explosion.ai',\n",
              " 'url': 'https://explosion.ai',\n",
              " 'license': 'MIT',\n",
              " 'spacy_version': '>=3.5.0,<3.6.0',\n",
              " 'spacy_git_version': '9e0322de1',\n",
              " 'vectors': {'width': 0, 'vectors': 0, 'keys': 0, 'name': None},\n",
              " 'labels': {'tok2vec': [],\n",
              "  'tagger': ['$',\n",
              "   \"''\",\n",
              "   ',',\n",
              "   '-LRB-',\n",
              "   '-RRB-',\n",
              "   '.',\n",
              "   ':',\n",
              "   'ADD',\n",
              "   'AFX',\n",
              "   'CC',\n",
              "   'CD',\n",
              "   'DT',\n",
              "   'EX',\n",
              "   'FW',\n",
              "   'HYPH',\n",
              "   'IN',\n",
              "   'JJ',\n",
              "   'JJR',\n",
              "   'JJS',\n",
              "   'LS',\n",
              "   'MD',\n",
              "   'NFP',\n",
              "   'NN',\n",
              "   'NNP',\n",
              "   'NNPS',\n",
              "   'NNS',\n",
              "   'PDT',\n",
              "   'POS',\n",
              "   'PRP',\n",
              "   'PRP$',\n",
              "   'RB',\n",
              "   'RBR',\n",
              "   'RBS',\n",
              "   'RP',\n",
              "   'SYM',\n",
              "   'TO',\n",
              "   'UH',\n",
              "   'VB',\n",
              "   'VBD',\n",
              "   'VBG',\n",
              "   'VBN',\n",
              "   'VBP',\n",
              "   'VBZ',\n",
              "   'WDT',\n",
              "   'WP',\n",
              "   'WP$',\n",
              "   'WRB',\n",
              "   'XX',\n",
              "   '_SP',\n",
              "   '``'],\n",
              "  'parser': ['ROOT',\n",
              "   'acl',\n",
              "   'acomp',\n",
              "   'advcl',\n",
              "   'advmod',\n",
              "   'agent',\n",
              "   'amod',\n",
              "   'appos',\n",
              "   'attr',\n",
              "   'aux',\n",
              "   'auxpass',\n",
              "   'case',\n",
              "   'cc',\n",
              "   'ccomp',\n",
              "   'compound',\n",
              "   'conj',\n",
              "   'csubj',\n",
              "   'csubjpass',\n",
              "   'dative',\n",
              "   'dep',\n",
              "   'det',\n",
              "   'dobj',\n",
              "   'expl',\n",
              "   'intj',\n",
              "   'mark',\n",
              "   'meta',\n",
              "   'neg',\n",
              "   'nmod',\n",
              "   'npadvmod',\n",
              "   'nsubj',\n",
              "   'nsubjpass',\n",
              "   'nummod',\n",
              "   'oprd',\n",
              "   'parataxis',\n",
              "   'pcomp',\n",
              "   'pobj',\n",
              "   'poss',\n",
              "   'preconj',\n",
              "   'predet',\n",
              "   'prep',\n",
              "   'prt',\n",
              "   'punct',\n",
              "   'quantmod',\n",
              "   'relcl',\n",
              "   'xcomp'],\n",
              "  'attribute_ruler': [],\n",
              "  'lemmatizer': [],\n",
              "  'ner': ['CARDINAL',\n",
              "   'DATE',\n",
              "   'EVENT',\n",
              "   'FAC',\n",
              "   'GPE',\n",
              "   'LANGUAGE',\n",
              "   'LAW',\n",
              "   'LOC',\n",
              "   'MONEY',\n",
              "   'NORP',\n",
              "   'ORDINAL',\n",
              "   'ORG',\n",
              "   'PERCENT',\n",
              "   'PERSON',\n",
              "   'PRODUCT',\n",
              "   'QUANTITY',\n",
              "   'TIME',\n",
              "   'WORK_OF_ART']},\n",
              " 'pipeline': ['tok2vec',\n",
              "  'tagger',\n",
              "  'parser',\n",
              "  'attribute_ruler',\n",
              "  'lemmatizer',\n",
              "  'ner'],\n",
              " 'components': ['tok2vec',\n",
              "  'tagger',\n",
              "  'parser',\n",
              "  'senter',\n",
              "  'attribute_ruler',\n",
              "  'lemmatizer',\n",
              "  'ner'],\n",
              " 'disabled': ['senter'],\n",
              " 'sources': [{'name': 'OntoNotes 5',\n",
              "   'url': 'https://catalog.ldc.upenn.edu/LDC2013T19',\n",
              "   'license': 'commercial (licensed by Explosion)',\n",
              "   'author': 'Ralph Weischedel, Martha Palmer, Mitchell Marcus, Eduard Hovy, Sameer Pradhan, Lance Ramshaw, Nianwen Xue, Ann Taylor, Jeff Kaufman, Michelle Franchini, Mohammed El-Bachouti, Robert Belvin, Ann Houston'},\n",
              "  {'name': 'ClearNLP Constituent-to-Dependency Conversion',\n",
              "   'url': 'https://github.com/clir/clearnlp-guidelines/blob/master/md/components/dependency_conversion.md',\n",
              "   'license': 'Citation provided for reference, no code packaged with model',\n",
              "   'author': 'Emory University'},\n",
              "  {'name': 'WordNet 3.0',\n",
              "   'url': 'https://wordnet.princeton.edu/',\n",
              "   'author': 'Princeton University',\n",
              "   'license': 'WordNet 3.0 License'}],\n",
              " 'requirements': [],\n",
              " 'source': '/usr/local/lib/python3.10/dist-packages/en_core_web_sm',\n",
              " 'download_url': 'https://github.com/explosion/spacy-models/releases/download/en_core_web_sm-3.5.0/en_core_web_sm-3.5.0-py3-none-any.whl'}"
            ]
          },
          "metadata": {},
          "execution_count": 49
        }
      ],
      "source": [
        "# chunking in spaCy\n",
        "import spacy\n",
        "spacy.info('en_core_web_sm')"
      ]
    },
    {
      "cell_type": "code",
      "execution_count": null,
      "id": "e21fc5d1",
      "metadata": {
        "id": "e21fc5d1",
        "outputId": "46a4354f-6924-41b0-b31f-493c3f638a9f",
        "colab": {
          "base_uri": "https://localhost:8080/"
        }
      },
      "outputs": [
        {
          "output_type": "execute_result",
          "data": {
            "text/plain": [
              "pandas.core.series.Series"
            ]
          },
          "metadata": {},
          "execution_count": 50
        }
      ],
      "source": [
        "nlp = spacy.load(\"en_core_web_sm\")\n",
        "doc_df = review_df['text'].apply(nlp)\n",
        "type(doc_df)"
      ]
    },
    {
      "cell_type": "code",
      "execution_count": null,
      "id": "39951f32",
      "metadata": {
        "id": "39951f32",
        "outputId": "909b5635-6a6d-4d31-d8aa-5d6af79abfcc",
        "colab": {
          "base_uri": "https://localhost:8080/"
        }
      },
      "outputs": [
        {
          "output_type": "execute_result",
          "data": {
            "text/plain": [
              "spacy.tokens.doc.Doc"
            ]
          },
          "metadata": {},
          "execution_count": 51
        }
      ],
      "source": [
        "type(doc_df[0])"
      ]
    },
    {
      "cell_type": "code",
      "execution_count": null,
      "id": "61da0362",
      "metadata": {
        "id": "61da0362",
        "outputId": "db9de35f-6791-4547-a9b1-31526183d6f2",
        "colab": {
          "base_uri": "https://localhost:8080/"
        }
      },
      "outputs": [
        {
          "output_type": "execute_result",
          "data": {
            "text/plain": [
              "General Manager Scott Petello is a good egg!!! Not to go into detail, but let me assure you if you have any issues (albeit rare) speak with Scott and treat the guy with some respect as you state your case and I'd be surprised if you don't walk out totally satisfied as I just did. Like I always say..... \"Mistakes are inevitable, it's how we recover from them that is important\"!!!\n",
              "\n",
              "Thanks to Scott and his awesome staff. You've got a customer for life!! .......... :^)"
            ]
          },
          "metadata": {},
          "execution_count": 52
        }
      ],
      "source": [
        "doc_df[4]"
      ]
    },
    {
      "cell_type": "code",
      "execution_count": null,
      "id": "67b329e8",
      "metadata": {
        "id": "67b329e8",
        "outputId": "66712836-b012-44d7-c77e-41f519ef565a",
        "colab": {
          "base_uri": "https://localhost:8080/"
        }
      },
      "outputs": [
        {
          "output_type": "stream",
          "name": "stdout",
          "text": [
            "General PROPN NNP\n",
            "Manager PROPN NNP\n",
            "Scott PROPN NNP\n",
            "Petello PROPN NNP\n",
            "is AUX VBZ\n",
            "a DET DT\n",
            "good ADJ JJ\n",
            "egg NOUN NN\n",
            "! PUNCT .\n",
            "! PUNCT .\n",
            "! PUNCT .\n",
            "Not PART RB\n",
            "to PART TO\n",
            "go VERB VB\n",
            "into ADP IN\n",
            "detail NOUN NN\n",
            ", PUNCT ,\n",
            "but CCONJ CC\n",
            "let VERB VB\n",
            "me PRON PRP\n",
            "assure VERB VB\n",
            "you PRON PRP\n",
            "if SCONJ IN\n",
            "you PRON PRP\n",
            "have VERB VBP\n",
            "any DET DT\n",
            "issues NOUN NNS\n",
            "( PUNCT -LRB-\n",
            "albeit ADV RB\n",
            "rare ADJ JJ\n",
            ") PUNCT -RRB-\n",
            "speak VERB VBP\n",
            "with ADP IN\n",
            "Scott PROPN NNP\n",
            "and CCONJ CC\n",
            "treat VERB VB\n",
            "the DET DT\n",
            "guy NOUN NN\n",
            "with ADP IN\n",
            "some DET DT\n",
            "respect NOUN NN\n",
            "as SCONJ IN\n",
            "you PRON PRP\n",
            "state VERB VBP\n",
            "your PRON PRP$\n",
            "case NOUN NN\n",
            "and CCONJ CC\n",
            "I PRON PRP\n",
            "'d AUX MD\n",
            "be AUX VB\n",
            "surprised ADJ JJ\n",
            "if SCONJ IN\n",
            "you PRON PRP\n",
            "do AUX VBP\n",
            "n't PART RB\n",
            "walk VERB VB\n",
            "out ADP RP\n",
            "totally ADV RB\n",
            "satisfied ADJ JJ\n",
            "as SCONJ IN\n",
            "I PRON PRP\n",
            "just ADV RB\n",
            "did VERB VBD\n",
            ". PUNCT .\n",
            "Like INTJ UH\n",
            "I PRON PRP\n",
            "always ADV RB\n",
            "say VERB VBP\n",
            "..... PUNCT :\n",
            "\" PUNCT ``\n",
            "Mistakes NOUN NNS\n",
            "are AUX VBP\n",
            "inevitable ADJ JJ\n",
            ", PUNCT ,\n",
            "it PRON PRP\n",
            "'s AUX VBZ\n",
            "how SCONJ WRB\n",
            "we PRON PRP\n",
            "recover VERB VBP\n",
            "from ADP IN\n",
            "them PRON PRP\n",
            "that PRON WDT\n",
            "is AUX VBZ\n",
            "important ADJ JJ\n",
            "\" PUNCT ''\n",
            "! PUNCT .\n",
            "! PUNCT .\n",
            "! PUNCT .\n",
            "\n",
            "\n",
            " SPACE _SP\n",
            "Thanks NOUN NNS\n",
            "to ADP IN\n",
            "Scott PROPN NNP\n",
            "and CCONJ CC\n",
            "his PRON PRP$\n",
            "awesome ADJ JJ\n",
            "staff NOUN NN\n",
            ". PUNCT .\n",
            "You PRON PRP\n",
            "'ve AUX VBP\n",
            "got VERB VBN\n",
            "a DET DT\n",
            "customer NOUN NN\n",
            "for ADP IN\n",
            "life NOUN NN\n",
            "! PUNCT .\n",
            "! PUNCT .\n",
            ".......... PUNCT NFP\n",
            ": PUNCT NFP\n",
            "^ X ADD\n",
            ") PUNCT -RRB-\n"
          ]
        }
      ],
      "source": [
        "for doc in doc_df[4]:\n",
        "    print(doc.text, doc.pos_, doc.tag_)"
      ]
    },
    {
      "cell_type": "code",
      "execution_count": null,
      "id": "4aba17d5",
      "metadata": {
        "id": "4aba17d5",
        "outputId": "06b2382b-ca15-4757-e5f2-5a4aa3182295",
        "colab": {
          "base_uri": "https://localhost:8080/"
        }
      },
      "outputs": [
        {
          "output_type": "stream",
          "name": "stdout",
          "text": [
            "[General Manager Scott Petello, a good egg, detail, me, you, you, any issues, Scott, the guy, some respect, you, your case, I, you, I, I, Mistakes, it, we, them, that, Thanks, Scott, his awesome staff, You, a customer, life]\n"
          ]
        }
      ],
      "source": [
        "# spaCy also does some basic noun chunking\n",
        "print([chunk for chunk in doc_df[4].noun_chunks])"
      ]
    },
    {
      "cell_type": "code",
      "execution_count": null,
      "id": "413d718f",
      "metadata": {
        "id": "413d718f",
        "outputId": "811fba16-7ff5-448f-917f-122cfc119a79",
        "colab": {
          "base_uri": "https://localhost:8080/"
        }
      },
      "outputs": [
        {
          "output_type": "execute_result",
          "data": {
            "text/plain": [
              "pandas.core.series.Series"
            ]
          },
          "metadata": {},
          "execution_count": 55
        }
      ],
      "source": [
        "# chunking in textblob\n",
        "\n",
        "from textblob import TextBlob\n",
        "blob_df = review_df['text'].apply(TextBlob)\n",
        "type(blob_df)"
      ]
    },
    {
      "cell_type": "code",
      "execution_count": null,
      "id": "9dd9f4fc",
      "metadata": {
        "id": "9dd9f4fc",
        "outputId": "d5487672-0909-4b9f-f4ac-ee565fe05c86",
        "colab": {
          "base_uri": "https://localhost:8080/"
        }
      },
      "outputs": [
        {
          "output_type": "execute_result",
          "data": {
            "text/plain": [
              "textblob.blob.TextBlob"
            ]
          },
          "metadata": {},
          "execution_count": 56
        }
      ],
      "source": [
        "type(blob_df[4])"
      ]
    },
    {
      "cell_type": "code",
      "source": [
        "import nltk\n",
        "nltk.download('punkt')\n",
        "nltk.download('averaged_perceptron_tagger')\n",
        "nltk.download('brown')"
      ],
      "metadata": {
        "colab": {
          "base_uri": "https://localhost:8080/"
        },
        "id": "FNDzANDcoJGx",
        "outputId": "2cff1dcb-a8fb-4947-c8ea-c85d7a03e9d6"
      },
      "id": "FNDzANDcoJGx",
      "execution_count": null,
      "outputs": [
        {
          "output_type": "stream",
          "name": "stderr",
          "text": [
            "[nltk_data] Downloading package punkt to /root/nltk_data...\n",
            "[nltk_data]   Package punkt is already up-to-date!\n",
            "[nltk_data] Downloading package averaged_perceptron_tagger to\n",
            "[nltk_data]     /root/nltk_data...\n",
            "[nltk_data]   Package averaged_perceptron_tagger is already up-to-\n",
            "[nltk_data]       date!\n",
            "[nltk_data] Downloading package brown to /root/nltk_data...\n",
            "[nltk_data]   Package brown is already up-to-date!\n"
          ]
        },
        {
          "output_type": "execute_result",
          "data": {
            "text/plain": [
              "True"
            ]
          },
          "metadata": {},
          "execution_count": 57
        }
      ]
    },
    {
      "cell_type": "code",
      "execution_count": null,
      "id": "1900e5b6",
      "metadata": {
        "id": "1900e5b6",
        "outputId": "ef2e953a-24e1-4308-efc5-9d1b7908eb0e",
        "colab": {
          "base_uri": "https://localhost:8080/"
        }
      },
      "outputs": [
        {
          "output_type": "execute_result",
          "data": {
            "text/plain": [
              "[('General', 'NNP'),\n",
              " ('Manager', 'NNP'),\n",
              " ('Scott', 'NNP'),\n",
              " ('Petello', 'NNP'),\n",
              " ('is', 'VBZ'),\n",
              " ('a', 'DT'),\n",
              " ('good', 'JJ'),\n",
              " ('egg', 'NN'),\n",
              " ('Not', 'RB'),\n",
              " ('to', 'TO'),\n",
              " ('go', 'VB'),\n",
              " ('into', 'IN'),\n",
              " ('detail', 'NN'),\n",
              " ('but', 'CC'),\n",
              " ('let', 'VB'),\n",
              " ('me', 'PRP'),\n",
              " ('assure', 'VB'),\n",
              " ('you', 'PRP'),\n",
              " ('if', 'IN'),\n",
              " ('you', 'PRP'),\n",
              " ('have', 'VBP'),\n",
              " ('any', 'DT'),\n",
              " ('issues', 'NNS'),\n",
              " ('albeit', 'IN'),\n",
              " ('rare', 'NN'),\n",
              " ('speak', 'NN'),\n",
              " ('with', 'IN'),\n",
              " ('Scott', 'NNP'),\n",
              " ('and', 'CC'),\n",
              " ('treat', 'VB'),\n",
              " ('the', 'DT'),\n",
              " ('guy', 'NN'),\n",
              " ('with', 'IN'),\n",
              " ('some', 'DT'),\n",
              " ('respect', 'NN'),\n",
              " ('as', 'IN'),\n",
              " ('you', 'PRP'),\n",
              " ('state', 'NN'),\n",
              " ('your', 'PRP$'),\n",
              " ('case', 'NN'),\n",
              " ('and', 'CC'),\n",
              " ('I', 'PRP'),\n",
              " (\"'d\", 'MD'),\n",
              " ('be', 'VB'),\n",
              " ('surprised', 'VBN'),\n",
              " ('if', 'IN'),\n",
              " ('you', 'PRP'),\n",
              " ('do', 'VBP'),\n",
              " (\"n't\", 'RB'),\n",
              " ('walk', 'VB'),\n",
              " ('out', 'RP'),\n",
              " ('totally', 'RB'),\n",
              " ('satisfied', 'JJ'),\n",
              " ('as', 'IN'),\n",
              " ('I', 'PRP'),\n",
              " ('just', 'RB'),\n",
              " ('did', 'VBD'),\n",
              " ('Like', 'IN'),\n",
              " ('I', 'PRP'),\n",
              " ('always', 'RB'),\n",
              " ('say', 'VBP'),\n",
              " ('.....', 'JJ'),\n",
              " ('Mistakes', 'NNS'),\n",
              " ('are', 'VBP'),\n",
              " ('inevitable', 'JJ'),\n",
              " ('it', 'PRP'),\n",
              " (\"'s\", 'VBZ'),\n",
              " ('how', 'WRB'),\n",
              " ('we', 'PRP'),\n",
              " ('recover', 'VBP'),\n",
              " ('from', 'IN'),\n",
              " ('them', 'PRP'),\n",
              " ('that', 'WDT'),\n",
              " ('is', 'VBZ'),\n",
              " ('important', 'JJ'),\n",
              " ('Thanks', 'NNS'),\n",
              " ('to', 'TO'),\n",
              " ('Scott', 'NNP'),\n",
              " ('and', 'CC'),\n",
              " ('his', 'PRP$'),\n",
              " ('awesome', 'JJ'),\n",
              " ('staff', 'NN'),\n",
              " ('You', 'PRP'),\n",
              " (\"'ve\", 'VBP'),\n",
              " ('got', 'VBN'),\n",
              " ('a', 'DT'),\n",
              " ('customer', 'NN'),\n",
              " ('for', 'IN'),\n",
              " ('life', 'NN'),\n",
              " ('..........', 'NN'),\n",
              " ('^', 'NN')]"
            ]
          },
          "metadata": {},
          "execution_count": 58
        }
      ],
      "source": [
        "blob_df[4].tags"
      ]
    },
    {
      "cell_type": "code",
      "execution_count": null,
      "id": "0e138c24",
      "metadata": {
        "id": "0e138c24",
        "outputId": "74bb982a-2e0d-46a8-bfe2-81f97fd9fe15",
        "colab": {
          "base_uri": "https://localhost:8080/"
        }
      },
      "outputs": [
        {
          "output_type": "stream",
          "name": "stdout",
          "text": [
            "['general manager', 'scott petello', 'good egg', 'scott', \"n't walk\", 'mistakes', 'thanks', 'scott', 'awesome staff']\n"
          ]
        }
      ],
      "source": [
        "# textblob can do some basic noun chunking\n",
        "print([np for np in blob_df[4].noun_phrases])"
      ]
    },
    {
      "cell_type": "markdown",
      "id": "04c5f7f2",
      "metadata": {
        "id": "04c5f7f2"
      },
      "source": [
        "## Task 3. Apply spacy and textblob chunking to the text used in tesk 1 respectively, and output the noun phrase chunking results"
      ]
    },
    {
      "cell_type": "code",
      "execution_count": null,
      "id": "c36282dc",
      "metadata": {
        "id": "c36282dc"
      },
      "outputs": [],
      "source": [
        "# write your code here\n",
        "\n",
        "train_text = \"\"\"My wife took me here on my birthday for breakfast and it was excellent.  The weather was perfect which made sitting outside overlooking their grounds an absolute pleasure.\n",
        "Our waitress was excellent and our food arrived quickly on the semi-busy Saturday morning.  It looked like the place fills up pretty quickly so the earlier you get here the better.\\n\\nDo yourself a favor and get their Bloody Mary.  It was phenomenal and simply the best I\\'ve ever had.\n",
        "I\\'m pretty sure they only use ingredients from their garden and blend them fresh when you order it.  It was amazing.\\n\\nWhile EVERYTHING on the menu looks excellent, I had the white truffle scrambled eggs vegetable skillet and it was tasty and delicious.\n",
        "It came with 2 pieces of their griddled bread with was amazing and it absolutely made the meal complete.\n",
        "It was the best \"toast\" I\\'ve ever had.\\n\\nAnyway, I can\\'t wait to go back!\"\"\"\n",
        "\n"
      ]
    },
    {
      "cell_type": "code",
      "source": [
        "doc = nlp(train_text)\n",
        "type(doc_df)\n",
        "for token in doc:\n",
        "    print(token.text, token.pos_, token.dep_, token.tag_)\n"
      ],
      "metadata": {
        "colab": {
          "base_uri": "https://localhost:8080/"
        },
        "id": "ckRrBRoCo1Lz",
        "outputId": "64fe914d-d39a-4c9a-c059-7c679b2906e0"
      },
      "id": "ckRrBRoCo1Lz",
      "execution_count": null,
      "outputs": [
        {
          "output_type": "stream",
          "name": "stdout",
          "text": [
            "My PRON poss PRP$\n",
            "wife NOUN nsubj NN\n",
            "took VERB ROOT VBD\n",
            "me PRON dobj PRP\n",
            "here ADV advmod RB\n",
            "on ADP prep IN\n",
            "my PRON poss PRP$\n",
            "birthday NOUN pobj NN\n",
            "for ADP prep IN\n",
            "breakfast NOUN pobj NN\n",
            "and CCONJ cc CC\n",
            "it PRON nsubj PRP\n",
            "was AUX conj VBD\n",
            "excellent ADJ acomp JJ\n",
            ". PUNCT punct .\n",
            "  SPACE dep _SP\n",
            "The DET det DT\n",
            "weather NOUN nsubj NN\n",
            "was AUX ROOT VBD\n",
            "perfect ADJ acomp JJ\n",
            "which PRON nsubj WDT\n",
            "made VERB advcl VBD\n",
            "sitting VERB xcomp VBG\n",
            "outside ADV advmod RB\n",
            "overlooking VERB advcl VBG\n",
            "their PRON poss PRP$\n",
            "grounds NOUN dobj NNS\n",
            "an DET det DT\n",
            "absolute ADJ amod JJ\n",
            "pleasure NOUN dobj NN\n",
            ". PUNCT punct .\n",
            " \n",
            " SPACE dep _SP\n",
            "Our PRON poss PRP$\n",
            "waitress NOUN nsubj NN\n",
            "was AUX ROOT VBD\n",
            "excellent ADJ acomp JJ\n",
            "and CCONJ cc CC\n",
            "our PRON poss PRP$\n",
            "food NOUN nsubj NN\n",
            "arrived VERB conj VBD\n",
            "quickly ADV advmod RB\n",
            "on ADP prep IN\n",
            "the DET det DT\n",
            "semi ADJ pobj JJ\n",
            "- ADJ pobj JJ\n",
            "busy ADJ amod JJ\n",
            "Saturday PROPN compound NNP\n",
            "morning NOUN pobj NN\n",
            ". PUNCT punct .\n",
            "  SPACE dep _SP\n",
            "It PRON nsubj PRP\n",
            "looked VERB ROOT VBD\n",
            "like SCONJ mark IN\n",
            "the DET det DT\n",
            "place NOUN nsubj NN\n",
            "fills VERB advcl VBZ\n",
            "up ADP prt RP\n",
            "pretty ADV advmod RB\n",
            "quickly ADV advmod RB\n",
            "so SCONJ advmod IN\n",
            "the DET det DT\n",
            "earlier ADV advmod RBR\n",
            "you PRON nsubj PRP\n",
            "get VERB advcl VBP\n",
            "here ADV advmod RB\n",
            "the DET det DT\n",
            "better ADJ advmod JJR\n",
            ". PUNCT punct .\n",
            "\n",
            "\n",
            " SPACE dep _SP\n",
            "Do VERB ROOT VBP\n",
            "yourself PRON dative PRP\n",
            "a DET det DT\n",
            "favor NOUN dobj NN\n",
            "and CCONJ cc CC\n",
            "get VERB conj VB\n",
            "their PRON poss PRP$\n",
            "Bloody PROPN compound NNP\n",
            "Mary PROPN dobj NNP\n",
            ". PUNCT punct .\n",
            "  SPACE dep _SP\n",
            "It PRON nsubj PRP\n",
            "was AUX ROOT VBD\n",
            "phenomenal ADJ acomp JJ\n",
            "and CCONJ cc CC\n",
            "simply ADV advmod RB\n",
            "the DET det DT\n",
            "best ADJ conj JJS\n",
            "I PRON nsubj PRP\n",
            "'ve AUX aux VBP\n",
            "ever ADV advmod RB\n",
            "had VERB relcl VBN\n",
            ". PUNCT punct .\n",
            " \n",
            " SPACE dep _SP\n",
            "I PRON nsubj PRP\n",
            "'m AUX ROOT VBP\n",
            "pretty ADV advmod RB\n",
            "sure ADJ acomp JJ\n",
            "they PRON nsubj PRP\n",
            "only ADV advmod RB\n",
            "use VERB ccomp VBP\n",
            "ingredients NOUN dobj NNS\n",
            "from ADP prep IN\n",
            "their PRON poss PRP$\n",
            "garden NOUN pobj NN\n",
            "and CCONJ cc CC\n",
            "blend VERB conj VB\n",
            "them PRON dobj PRP\n",
            "fresh ADJ acomp JJ\n",
            "when SCONJ advmod WRB\n",
            "you PRON nsubj PRP\n",
            "order VERB advcl VBP\n",
            "it PRON dobj PRP\n",
            ". PUNCT punct .\n",
            "  SPACE dep _SP\n",
            "It PRON nsubj PRP\n",
            "was AUX ROOT VBD\n",
            "amazing ADJ acomp JJ\n",
            ". PUNCT punct .\n",
            "\n",
            "\n",
            " SPACE dep _SP\n",
            "While SCONJ mark IN\n",
            "EVERYTHING PRON nsubj NN\n",
            "on ADP prep IN\n",
            "the DET det DT\n",
            "menu NOUN pobj NN\n",
            "looks VERB advcl VBZ\n",
            "excellent ADJ acomp JJ\n",
            ", PUNCT punct ,\n",
            "I PRON nsubj PRP\n",
            "had VERB ROOT VBD\n",
            "the DET det DT\n",
            "white PROPN compound NNP\n",
            "truffle PROPN npadvmod NNP\n",
            "scrambled VERB amod VBN\n",
            "eggs PROPN compound NNP\n",
            "vegetable NOUN compound NN\n",
            "skillet NOUN dobj NN\n",
            "and CCONJ cc CC\n",
            "it PRON nsubj PRP\n",
            "was AUX conj VBD\n",
            "tasty ADJ acomp JJ\n",
            "and CCONJ cc CC\n",
            "delicious ADJ conj JJ\n",
            ". PUNCT punct .\n",
            " \n",
            " SPACE dep _SP\n",
            "It PRON nsubj PRP\n",
            "came VERB ROOT VBD\n",
            "with ADP prep IN\n",
            "2 NUM nummod CD\n",
            "pieces NOUN pobj NNS\n",
            "of ADP prep IN\n",
            "their PRON poss PRP$\n",
            "griddled VERB amod VBN\n",
            "bread NOUN pobj NN\n",
            "with SCONJ mark IN\n",
            "was AUX advcl VBD\n",
            "amazing ADJ acomp JJ\n",
            "and CCONJ cc CC\n",
            "it PRON nsubj PRP\n",
            "absolutely ADV advmod RB\n",
            "made VERB conj VBD\n",
            "the DET det DT\n",
            "meal NOUN nsubj NN\n",
            "complete ADJ ccomp JJ\n",
            ". PUNCT punct .\n",
            " \n",
            " SPACE dep _SP\n",
            "It PRON nsubj PRP\n",
            "was AUX ROOT VBD\n",
            "the DET det DT\n",
            "best ADJ amod JJS\n",
            "\" PUNCT punct ``\n",
            "toast NOUN attr NN\n",
            "\" PUNCT punct ''\n",
            "I PRON nsubj PRP\n",
            "'ve AUX aux VBP\n",
            "ever ADV advmod RB\n",
            "had VERB relcl VBN\n",
            ". PUNCT punct .\n",
            "\n",
            "\n",
            " SPACE dep _SP\n",
            "Anyway ADV advmod RB\n",
            ", PUNCT punct ,\n",
            "I PRON nsubj PRP\n",
            "ca AUX aux MD\n",
            "n't PART neg RB\n",
            "wait VERB ROOT VB\n",
            "to PART aux TO\n",
            "go VERB xcomp VB\n",
            "back ADV advmod RB\n",
            "! PUNCT punct .\n"
          ]
        }
      ]
    },
    {
      "cell_type": "code",
      "source": [
        "# spaCy also does some basic noun chunking\n",
        "print([chunk for chunk in doc.noun_chunks])"
      ],
      "metadata": {
        "colab": {
          "base_uri": "https://localhost:8080/"
        },
        "id": "toTrstCvp890",
        "outputId": "c0b72d8f-69ae-47ec-d857-ac9a5fe7fccf"
      },
      "id": "toTrstCvp890",
      "execution_count": null,
      "outputs": [
        {
          "output_type": "stream",
          "name": "stdout",
          "text": [
            "[My wife, me, my birthday, breakfast, it, The weather, which, their grounds, an absolute pleasure, Our waitress, our food, busy Saturday morning, It, the place, you, yourself, a favor, their Bloody Mary, It, I, I, they, ingredients, their garden, them, you, it, It, EVERYTHING, the menu, I, the white truffle scrambled eggs vegetable skillet, it, It, 2 pieces, their griddled bread, it, the meal, It, the best \"toast, I, I]\n"
          ]
        }
      ]
    },
    {
      "cell_type": "code",
      "source": [
        "# chunking in textblob\n",
        "\n",
        "blob = TextBlob(train_text)\n",
        "type(blob)"
      ],
      "metadata": {
        "colab": {
          "base_uri": "https://localhost:8080/"
        },
        "id": "SqtaS1l8qUBe",
        "outputId": "fa2c5077-0173-4ba7-e757-4fe3cb5438bf"
      },
      "id": "SqtaS1l8qUBe",
      "execution_count": null,
      "outputs": [
        {
          "output_type": "execute_result",
          "data": {
            "text/plain": [
              "textblob.blob.TextBlob"
            ]
          },
          "metadata": {},
          "execution_count": 63
        }
      ]
    },
    {
      "cell_type": "code",
      "source": [
        "blob.tags"
      ],
      "metadata": {
        "colab": {
          "base_uri": "https://localhost:8080/"
        },
        "id": "5ekxX_Y6qzub",
        "outputId": "5e6d42cb-eac4-49ca-bc40-351305010df5"
      },
      "id": "5ekxX_Y6qzub",
      "execution_count": null,
      "outputs": [
        {
          "output_type": "execute_result",
          "data": {
            "text/plain": [
              "[('My', 'PRP$'),\n",
              " ('wife', 'NN'),\n",
              " ('took', 'VBD'),\n",
              " ('me', 'PRP'),\n",
              " ('here', 'RB'),\n",
              " ('on', 'IN'),\n",
              " ('my', 'PRP$'),\n",
              " ('birthday', 'NN'),\n",
              " ('for', 'IN'),\n",
              " ('breakfast', 'NN'),\n",
              " ('and', 'CC'),\n",
              " ('it', 'PRP'),\n",
              " ('was', 'VBD'),\n",
              " ('excellent', 'JJ'),\n",
              " ('The', 'DT'),\n",
              " ('weather', 'NN'),\n",
              " ('was', 'VBD'),\n",
              " ('perfect', 'JJ'),\n",
              " ('which', 'WDT'),\n",
              " ('made', 'VBD'),\n",
              " ('sitting', 'VBG'),\n",
              " ('outside', 'IN'),\n",
              " ('overlooking', 'VBG'),\n",
              " ('their', 'PRP$'),\n",
              " ('grounds', 'NNS'),\n",
              " ('an', 'DT'),\n",
              " ('absolute', 'JJ'),\n",
              " ('pleasure', 'NN'),\n",
              " ('Our', 'PRP$'),\n",
              " ('waitress', 'NN'),\n",
              " ('was', 'VBD'),\n",
              " ('excellent', 'JJ'),\n",
              " ('and', 'CC'),\n",
              " ('our', 'PRP$'),\n",
              " ('food', 'NN'),\n",
              " ('arrived', 'VBD'),\n",
              " ('quickly', 'RB'),\n",
              " ('on', 'IN'),\n",
              " ('the', 'DT'),\n",
              " ('semi-busy', 'JJ'),\n",
              " ('Saturday', 'NNP'),\n",
              " ('morning', 'NN'),\n",
              " ('It', 'PRP'),\n",
              " ('looked', 'VBD'),\n",
              " ('like', 'IN'),\n",
              " ('the', 'DT'),\n",
              " ('place', 'NN'),\n",
              " ('fills', 'VBZ'),\n",
              " ('up', 'RP'),\n",
              " ('pretty', 'RB'),\n",
              " ('quickly', 'RB'),\n",
              " ('so', 'IN'),\n",
              " ('the', 'DT'),\n",
              " ('earlier', 'JJR'),\n",
              " ('you', 'PRP'),\n",
              " ('get', 'VBP'),\n",
              " ('here', 'RB'),\n",
              " ('the', 'DT'),\n",
              " ('better', 'JJR'),\n",
              " ('Do', 'VB'),\n",
              " ('yourself', 'PRP'),\n",
              " ('a', 'DT'),\n",
              " ('favor', 'NN'),\n",
              " ('and', 'CC'),\n",
              " ('get', 'VB'),\n",
              " ('their', 'PRP$'),\n",
              " ('Bloody', 'NNP'),\n",
              " ('Mary', 'NNP'),\n",
              " ('It', 'PRP'),\n",
              " ('was', 'VBD'),\n",
              " ('phenomenal', 'JJ'),\n",
              " ('and', 'CC'),\n",
              " ('simply', 'RB'),\n",
              " ('the', 'DT'),\n",
              " ('best', 'JJS'),\n",
              " ('I', 'PRP'),\n",
              " (\"'ve\", 'VBP'),\n",
              " ('ever', 'RB'),\n",
              " ('had', 'VBN'),\n",
              " ('I', 'PRP'),\n",
              " (\"'m\", 'VBP'),\n",
              " ('pretty', 'JJ'),\n",
              " ('sure', 'NN'),\n",
              " ('they', 'PRP'),\n",
              " ('only', 'RB'),\n",
              " ('use', 'VBP'),\n",
              " ('ingredients', 'NNS'),\n",
              " ('from', 'IN'),\n",
              " ('their', 'PRP$'),\n",
              " ('garden', 'NN'),\n",
              " ('and', 'CC'),\n",
              " ('blend', 'VB'),\n",
              " ('them', 'PRP'),\n",
              " ('fresh', 'JJ'),\n",
              " ('when', 'WRB'),\n",
              " ('you', 'PRP'),\n",
              " ('order', 'NN'),\n",
              " ('it', 'PRP'),\n",
              " ('It', 'PRP'),\n",
              " ('was', 'VBD'),\n",
              " ('amazing', 'VBG'),\n",
              " ('While', 'IN'),\n",
              " ('EVERYTHING', 'NN'),\n",
              " ('on', 'IN'),\n",
              " ('the', 'DT'),\n",
              " ('menu', 'NN'),\n",
              " ('looks', 'VBZ'),\n",
              " ('excellent', 'JJ'),\n",
              " ('I', 'PRP'),\n",
              " ('had', 'VBD'),\n",
              " ('the', 'DT'),\n",
              " ('white', 'JJ'),\n",
              " ('truffle', 'NN'),\n",
              " ('scrambled', 'VBD'),\n",
              " ('eggs', 'NNS'),\n",
              " ('vegetable', 'JJ'),\n",
              " ('skillet', 'NN'),\n",
              " ('and', 'CC'),\n",
              " ('it', 'PRP'),\n",
              " ('was', 'VBD'),\n",
              " ('tasty', 'JJ'),\n",
              " ('and', 'CC'),\n",
              " ('delicious', 'JJ'),\n",
              " ('It', 'PRP'),\n",
              " ('came', 'VBD'),\n",
              " ('with', 'IN'),\n",
              " ('2', 'CD'),\n",
              " ('pieces', 'NNS'),\n",
              " ('of', 'IN'),\n",
              " ('their', 'PRP$'),\n",
              " ('griddled', 'VBN'),\n",
              " ('bread', 'NN'),\n",
              " ('with', 'IN'),\n",
              " ('was', 'VBD'),\n",
              " ('amazing', 'VBG'),\n",
              " ('and', 'CC'),\n",
              " ('it', 'PRP'),\n",
              " ('absolutely', 'RB'),\n",
              " ('made', 'VBD'),\n",
              " ('the', 'DT'),\n",
              " ('meal', 'JJ'),\n",
              " ('complete', 'JJ'),\n",
              " ('It', 'PRP'),\n",
              " ('was', 'VBD'),\n",
              " ('the', 'DT'),\n",
              " ('best', 'JJS'),\n",
              " ('toast', 'NN'),\n",
              " ('I', 'PRP'),\n",
              " (\"'ve\", 'VBP'),\n",
              " ('ever', 'RB'),\n",
              " ('had', 'VBN'),\n",
              " ('Anyway', 'RB'),\n",
              " ('I', 'PRP'),\n",
              " ('ca', 'MD'),\n",
              " (\"n't\", 'RB'),\n",
              " ('wait', 'VB'),\n",
              " ('to', 'TO'),\n",
              " ('go', 'VB'),\n",
              " ('back', 'RB')]"
            ]
          },
          "metadata": {},
          "execution_count": 64
        }
      ]
    },
    {
      "cell_type": "code",
      "source": [
        "# textblob can do some basic noun chunking\n",
        "print([np for np in blob.noun_phrases])"
      ],
      "metadata": {
        "colab": {
          "base_uri": "https://localhost:8080/"
        },
        "id": "TDlJuBZ3qvyE",
        "outputId": "4a7e070b-ba6a-4327-98f3-6711319f7647"
      },
      "id": "TDlJuBZ3qvyE",
      "execution_count": null,
      "outputs": [
        {
          "output_type": "stream",
          "name": "stdout",
          "text": [
            "['absolute pleasure', 'place fills', 'bloody mary', 'everything', 'white truffle', 'vegetable skillet', 'anyway', \"ca n't\"]\n"
          ]
        }
      ]
    },
    {
      "cell_type": "markdown",
      "id": "2eb0dad7",
      "metadata": {
        "id": "2eb0dad7"
      },
      "source": [
        "## **Question 3**. Comparing the outputs of spacy and textblob chunking in tast 3, which one would you like to use in your application? Explain it."
      ]
    },
    {
      "cell_type": "markdown",
      "id": "26db2d58",
      "metadata": {
        "id": "26db2d58"
      },
      "source": [
        "**Answer to Q3**: type your answer here"
      ]
    },
    {
      "cell_type": "markdown",
      "id": "aed4e604",
      "metadata": {
        "id": "aed4e604"
      },
      "source": [
        "---"
      ]
    },
    {
      "cell_type": "markdown",
      "id": "03f1d8aa",
      "metadata": {
        "id": "03f1d8aa"
      },
      "source": [
        "## Question 4. Whats the disadvantage in bag of words  . Please explain in your own words with an example .\n",
        "\n",
        "## Write code for the example."
      ]
    },
    {
      "cell_type": "markdown",
      "id": "2258397a",
      "metadata": {
        "id": "2258397a"
      },
      "source": [
        "### Answer to Q4: type your answer here and code in next block"
      ]
    },
    {
      "cell_type": "code",
      "execution_count": null,
      "id": "05d3b1a6",
      "metadata": {
        "id": "05d3b1a6"
      },
      "outputs": [],
      "source": []
    }
  ],
  "metadata": {
    "kernelspec": {
      "display_name": "Python 3 (ipykernel)",
      "language": "python",
      "name": "python3"
    },
    "language_info": {
      "codemirror_mode": {
        "name": "ipython",
        "version": 3
      },
      "file_extension": ".py",
      "mimetype": "text/x-python",
      "name": "python",
      "nbconvert_exporter": "python",
      "pygments_lexer": "ipython3",
      "version": "3.9.12"
    },
    "colab": {
      "provenance": [],
      "include_colab_link": true
    }
  },
  "nbformat": 4,
  "nbformat_minor": 5
}