{
  "cells": [
    {
      "cell_type": "markdown",
      "metadata": {
        "id": "view-in-github",
        "colab_type": "text"
      },
      "source": [
        "<a href=\"https://colab.research.google.com/github/SharmaAshwini/UNT/blob/main/Methods%20in%20Empirical%20Analysis/Exercise_3_Text_Binning_Quantizing_Scaling.ipynb\" target=\"_parent\"><img src=\"https://colab.research.google.com/assets/colab-badge.svg\" alt=\"Open In Colab\"/></a>"
      ]
    },
    {
      "cell_type": "code",
      "execution_count": null,
      "id": "1ae4434a",
      "metadata": {
        "id": "1ae4434a"
      },
      "outputs": [],
      "source": [
        "import pandas as pd\n",
        "import numpy as np\n",
        "%matplotlib inline\n",
        "import matplotlib.pyplot as plt\n",
        "import seaborn as sns\n",
        "sns.set()"
      ]
    },
    {
      "cell_type": "markdown",
      "id": "eba55f9a",
      "metadata": {
        "id": "eba55f9a"
      },
      "source": [
        "## **(Tutorial) Binarizing data**\n",
        "\n",
        "Following is a sample of binarizing listen counts in Million Song Dataset\n",
        "### The Echo Nest Taste Profile Subset\n",
        "http://labrosa.ee.columbia.edu/millionsong/sites/default/files/challenge/train_triplets.txt.zip"
      ]
    },
    {
      "cell_type": "code",
      "execution_count": null,
      "id": "44eaf33e",
      "metadata": {
        "id": "44eaf33e",
        "outputId": "9f84aa34-e568-4070-d013-8826c8db5f46",
        "colab": {
          "base_uri": "https://localhost:8080/",
          "height": 206
        }
      },
      "outputs": [
        {
          "output_type": "execute_result",
          "data": {
            "text/plain": [
              "                                          0                   1  2\n",
              "0  b80344d063b5ccb3212f76538f3d9e43d87dca9e  SOAKIMP12A8C130995  1\n",
              "1  b80344d063b5ccb3212f76538f3d9e43d87dca9e  SOAPDEY12A81C210A9  1\n",
              "2  b80344d063b5ccb3212f76538f3d9e43d87dca9e  SOBBMDR12A8C13253B  2\n",
              "3  b80344d063b5ccb3212f76538f3d9e43d87dca9e  SOBFNSP12AF72A0E22  1\n",
              "4  b80344d063b5ccb3212f76538f3d9e43d87dca9e  SOBFOVM12A58A7D494  1"
            ],
            "text/html": [
              "\n",
              "  <div id=\"df-16ffaef7-0160-40e4-a5ca-f4a3870ae7cd\">\n",
              "    <div class=\"colab-df-container\">\n",
              "      <div>\n",
              "<style scoped>\n",
              "    .dataframe tbody tr th:only-of-type {\n",
              "        vertical-align: middle;\n",
              "    }\n",
              "\n",
              "    .dataframe tbody tr th {\n",
              "        vertical-align: top;\n",
              "    }\n",
              "\n",
              "    .dataframe thead th {\n",
              "        text-align: right;\n",
              "    }\n",
              "</style>\n",
              "<table border=\"1\" class=\"dataframe\">\n",
              "  <thead>\n",
              "    <tr style=\"text-align: right;\">\n",
              "      <th></th>\n",
              "      <th>0</th>\n",
              "      <th>1</th>\n",
              "      <th>2</th>\n",
              "    </tr>\n",
              "  </thead>\n",
              "  <tbody>\n",
              "    <tr>\n",
              "      <th>0</th>\n",
              "      <td>b80344d063b5ccb3212f76538f3d9e43d87dca9e</td>\n",
              "      <td>SOAKIMP12A8C130995</td>\n",
              "      <td>1</td>\n",
              "    </tr>\n",
              "    <tr>\n",
              "      <th>1</th>\n",
              "      <td>b80344d063b5ccb3212f76538f3d9e43d87dca9e</td>\n",
              "      <td>SOAPDEY12A81C210A9</td>\n",
              "      <td>1</td>\n",
              "    </tr>\n",
              "    <tr>\n",
              "      <th>2</th>\n",
              "      <td>b80344d063b5ccb3212f76538f3d9e43d87dca9e</td>\n",
              "      <td>SOBBMDR12A8C13253B</td>\n",
              "      <td>2</td>\n",
              "    </tr>\n",
              "    <tr>\n",
              "      <th>3</th>\n",
              "      <td>b80344d063b5ccb3212f76538f3d9e43d87dca9e</td>\n",
              "      <td>SOBFNSP12AF72A0E22</td>\n",
              "      <td>1</td>\n",
              "    </tr>\n",
              "    <tr>\n",
              "      <th>4</th>\n",
              "      <td>b80344d063b5ccb3212f76538f3d9e43d87dca9e</td>\n",
              "      <td>SOBFOVM12A58A7D494</td>\n",
              "      <td>1</td>\n",
              "    </tr>\n",
              "  </tbody>\n",
              "</table>\n",
              "</div>\n",
              "      <button class=\"colab-df-convert\" onclick=\"convertToInteractive('df-16ffaef7-0160-40e4-a5ca-f4a3870ae7cd')\"\n",
              "              title=\"Convert this dataframe to an interactive table.\"\n",
              "              style=\"display:none;\">\n",
              "        \n",
              "  <svg xmlns=\"http://www.w3.org/2000/svg\" height=\"24px\"viewBox=\"0 0 24 24\"\n",
              "       width=\"24px\">\n",
              "    <path d=\"M0 0h24v24H0V0z\" fill=\"none\"/>\n",
              "    <path d=\"M18.56 5.44l.94 2.06.94-2.06 2.06-.94-2.06-.94-.94-2.06-.94 2.06-2.06.94zm-11 1L8.5 8.5l.94-2.06 2.06-.94-2.06-.94L8.5 2.5l-.94 2.06-2.06.94zm10 10l.94 2.06.94-2.06 2.06-.94-2.06-.94-.94-2.06-.94 2.06-2.06.94z\"/><path d=\"M17.41 7.96l-1.37-1.37c-.4-.4-.92-.59-1.43-.59-.52 0-1.04.2-1.43.59L10.3 9.45l-7.72 7.72c-.78.78-.78 2.05 0 2.83L4 21.41c.39.39.9.59 1.41.59.51 0 1.02-.2 1.41-.59l7.78-7.78 2.81-2.81c.8-.78.8-2.07 0-2.86zM5.41 20L4 18.59l7.72-7.72 1.47 1.35L5.41 20z\"/>\n",
              "  </svg>\n",
              "      </button>\n",
              "      \n",
              "  <style>\n",
              "    .colab-df-container {\n",
              "      display:flex;\n",
              "      flex-wrap:wrap;\n",
              "      gap: 12px;\n",
              "    }\n",
              "\n",
              "    .colab-df-convert {\n",
              "      background-color: #E8F0FE;\n",
              "      border: none;\n",
              "      border-radius: 50%;\n",
              "      cursor: pointer;\n",
              "      display: none;\n",
              "      fill: #1967D2;\n",
              "      height: 32px;\n",
              "      padding: 0 0 0 0;\n",
              "      width: 32px;\n",
              "    }\n",
              "\n",
              "    .colab-df-convert:hover {\n",
              "      background-color: #E2EBFA;\n",
              "      box-shadow: 0px 1px 2px rgba(60, 64, 67, 0.3), 0px 1px 3px 1px rgba(60, 64, 67, 0.15);\n",
              "      fill: #174EA6;\n",
              "    }\n",
              "\n",
              "    [theme=dark] .colab-df-convert {\n",
              "      background-color: #3B4455;\n",
              "      fill: #D2E3FC;\n",
              "    }\n",
              "\n",
              "    [theme=dark] .colab-df-convert:hover {\n",
              "      background-color: #434B5C;\n",
              "      box-shadow: 0px 1px 3px 1px rgba(0, 0, 0, 0.15);\n",
              "      filter: drop-shadow(0px 1px 2px rgba(0, 0, 0, 0.3));\n",
              "      fill: #FFFFFF;\n",
              "    }\n",
              "  </style>\n",
              "\n",
              "      <script>\n",
              "        const buttonEl =\n",
              "          document.querySelector('#df-16ffaef7-0160-40e4-a5ca-f4a3870ae7cd button.colab-df-convert');\n",
              "        buttonEl.style.display =\n",
              "          google.colab.kernel.accessAllowed ? 'block' : 'none';\n",
              "\n",
              "        async function convertToInteractive(key) {\n",
              "          const element = document.querySelector('#df-16ffaef7-0160-40e4-a5ca-f4a3870ae7cd');\n",
              "          const dataTable =\n",
              "            await google.colab.kernel.invokeFunction('convertToInteractive',\n",
              "                                                     [key], {});\n",
              "          if (!dataTable) return;\n",
              "\n",
              "          const docLinkHtml = 'Like what you see? Visit the ' +\n",
              "            '<a target=\"_blank\" href=https://colab.research.google.com/notebooks/data_table.ipynb>data table notebook</a>'\n",
              "            + ' to learn more about interactive tables.';\n",
              "          element.innerHTML = '';\n",
              "          dataTable['output_type'] = 'display_data';\n",
              "          await google.colab.output.renderOutput(dataTable, element);\n",
              "          const docLink = document.createElement('div');\n",
              "          docLink.innerHTML = docLinkHtml;\n",
              "          element.appendChild(docLink);\n",
              "        }\n",
              "      </script>\n",
              "    </div>\n",
              "  </div>\n",
              "  "
            ]
          },
          "metadata": {},
          "execution_count": 2
        }
      ],
      "source": [
        "listen_count = pd.read_csv('train_triplets.txt.zip', header=None, delimiter='\\t')\n",
        "listen_count.head()  # user - song - count"
      ]
    },
    {
      "cell_type": "code",
      "execution_count": null,
      "id": "bbfdf838",
      "metadata": {
        "id": "bbfdf838",
        "outputId": "07b7bf11-3bf3-44f2-abde-5fd2f0d50324",
        "colab": {
          "base_uri": "https://localhost:8080/"
        }
      },
      "outputs": [
        {
          "output_type": "execute_result",
          "data": {
            "text/plain": [
              "9667"
            ]
          },
          "metadata": {},
          "execution_count": 3
        }
      ],
      "source": [
        "np.max(listen_count[2])"
      ]
    },
    {
      "cell_type": "markdown",
      "id": "c67bc26b",
      "metadata": {
        "id": "c67bc26b"
      },
      "source": [
        "Binarizing and visualizing listen counts"
      ]
    },
    {
      "cell_type": "code",
      "execution_count": null,
      "id": "d9e2b2ce",
      "metadata": {
        "id": "d9e2b2ce",
        "outputId": "37e3650e-4c82-4e96-8ddf-6436b737fa54",
        "colab": {
          "base_uri": "https://localhost:8080/",
          "height": 634
        }
      },
      "outputs": [
        {
          "output_type": "display_data",
          "data": {
            "text/plain": [
              "<Figure size 1000x700 with 1 Axes>"
            ],
            "image/png": "[encoded data removed]"
          },
          "metadata": {}
        }
      ],
      "source": [
        "sns.set_style('whitegrid')\n",
        "plt.figure(figsize=(10, 7))\n",
        "plt.hist(listen_count[2], bins = 100, edgecolor='black')\n",
        "plt.yscale('log', nonpositive='clip')\n",
        "plt.tick_params(axis='both', which='major', labelsize=16)\n",
        "plt.xlim([0,10000])\n",
        "_ = plt.xlabel('Listen Count', fontsize=16)\n",
        "_ = plt.ylabel('Occurrence', fontsize=16)"
      ]
    },
    {
      "cell_type": "markdown",
      "id": "c6ae847c",
      "metadata": {
        "id": "c6ae847c"
      },
      "source": [
        "## **Task 1.1 Read data from Athletes.xlsx file and keep it in a proper type for the following operations**\n",
        "\n",
        "### The athletes information of 2021 Olympics in Tokyo\n",
        "https://www.kaggle.com/arjunprasadsarkhel/2021-olympics-in-tokyo/download"
      ]
    },
    {
      "cell_type": "code",
      "execution_count": null,
      "id": "5fac9616",
      "metadata": {
        "colab": {
          "base_uri": "https://localhost:8080/",
          "height": 206
        },
        "id": "5fac9616",
        "outputId": "3e68044e-9bd0-413f-dff5-b21c81812af5"
      },
      "outputs": [
        {
          "output_type": "execute_result",
          "data": {
            "text/plain": [
              "                Name     NOC           Discipline\n",
              "0    AALERUD Katrine  Norway         Cycling Road\n",
              "1        ABAD Nestor   Spain  Artistic Gymnastics\n",
              "2  ABAGNALE Giovanni   Italy               Rowing\n",
              "3     ABALDE Alberto   Spain           Basketball\n",
              "4      ABALDE Tamara   Spain           Basketball"
            ],
            "text/html": [
              "\n",
              "  <div id=\"df-232e683c-3848-4359-972a-9a1e0a209f04\">\n",
              "    <div class=\"colab-df-container\">\n",
              "      <div>\n",
              "<style scoped>\n",
              "    .dataframe tbody tr th:only-of-type {\n",
              "        vertical-align: middle;\n",
              "    }\n",
              "\n",
              "    .dataframe tbody tr th {\n",
              "        vertical-align: top;\n",
              "    }\n",
              "\n",
              "    .dataframe thead th {\n",
              "        text-align: right;\n",
              "    }\n",
              "</style>\n",
              "<table border=\"1\" class=\"dataframe\">\n",
              "  <thead>\n",
              "    <tr style=\"text-align: right;\">\n",
              "      <th></th>\n",
              "      <th>Name</th>\n",
              "      <th>NOC</th>\n",
              "      <th>Discipline</th>\n",
              "    </tr>\n",
              "  </thead>\n",
              "  <tbody>\n",
              "    <tr>\n",
              "      <th>0</th>\n",
              "      <td>AALERUD Katrine</td>\n",
              "      <td>Norway</td>\n",
              "      <td>Cycling Road</td>\n",
              "    </tr>\n",
              "    <tr>\n",
              "      <th>1</th>\n",
              "      <td>ABAD Nestor</td>\n",
              "      <td>Spain</td>\n",
              "      <td>Artistic Gymnastics</td>\n",
              "    </tr>\n",
              "    <tr>\n",
              "      <th>2</th>\n",
              "      <td>ABAGNALE Giovanni</td>\n",
              "      <td>Italy</td>\n",
              "      <td>Rowing</td>\n",
              "    </tr>\n",
              "    <tr>\n",
              "      <th>3</th>\n",
              "      <td>ABALDE Alberto</td>\n",
              "      <td>Spain</td>\n",
              "      <td>Basketball</td>\n",
              "    </tr>\n",
              "    <tr>\n",
              "      <th>4</th>\n",
              "      <td>ABALDE Tamara</td>\n",
              "      <td>Spain</td>\n",
              "      <td>Basketball</td>\n",
              "    </tr>\n",
              "  </tbody>\n",
              "</table>\n",
              "</div>\n",
              "      <button class=\"colab-df-convert\" onclick=\"convertToInteractive('df-232e683c-3848-4359-972a-9a1e0a209f04')\"\n",
              "              title=\"Convert this dataframe to an interactive table.\"\n",
              "              style=\"display:none;\">\n",
              "        \n",
              "  <svg xmlns=\"http://www.w3.org/2000/svg\" height=\"24px\"viewBox=\"0 0 24 24\"\n",
              "       width=\"24px\">\n",
              "    <path d=\"M0 0h24v24H0V0z\" fill=\"none\"/>\n",
              "    <path d=\"M18.56 5.44l.94 2.06.94-2.06 2.06-.94-2.06-.94-.94-2.06-.94 2.06-2.06.94zm-11 1L8.5 8.5l.94-2.06 2.06-.94-2.06-.94L8.5 2.5l-.94 2.06-2.06.94zm10 10l.94 2.06.94-2.06 2.06-.94-2.06-.94-.94-2.06-.94 2.06-2.06.94z\"/><path d=\"M17.41 7.96l-1.37-1.37c-.4-.4-.92-.59-1.43-.59-.52 0-1.04.2-1.43.59L10.3 9.45l-7.72 7.72c-.78.78-.78 2.05 0 2.83L4 21.41c.39.39.9.59 1.41.59.51 0 1.02-.2 1.41-.59l7.78-7.78 2.81-2.81c.8-.78.8-2.07 0-2.86zM5.41 20L4 18.59l7.72-7.72 1.47 1.35L5.41 20z\"/>\n",
              "  </svg>\n",
              "      </button>\n",
              "      \n",
              "  <style>\n",
              "    .colab-df-container {\n",
              "      display:flex;\n",
              "      flex-wrap:wrap;\n",
              "      gap: 12px;\n",
              "    }\n",
              "\n",
              "    .colab-df-convert {\n",
              "      background-color: #E8F0FE;\n",
              "      border: none;\n",
              "      border-radius: 50%;\n",
              "      cursor: pointer;\n",
              "      display: none;\n",
              "      fill: #1967D2;\n",
              "      height: 32px;\n",
              "      padding: 0 0 0 0;\n",
              "      width: 32px;\n",
              "    }\n",
              "\n",
              "    .colab-df-convert:hover {\n",
              "      background-color: #E2EBFA;\n",
              "      box-shadow: 0px 1px 2px rgba(60, 64, 67, 0.3), 0px 1px 3px 1px rgba(60, 64, 67, 0.15);\n",
              "      fill: #174EA6;\n",
              "    }\n",
              "\n",
              "    [theme=dark] .colab-df-convert {\n",
              "      background-color: #3B4455;\n",
              "      fill: #D2E3FC;\n",
              "    }\n",
              "\n",
              "    [theme=dark] .colab-df-convert:hover {\n",
              "      background-color: #434B5C;\n",
              "      box-shadow: 0px 1px 3px 1px rgba(0, 0, 0, 0.15);\n",
              "      filter: drop-shadow(0px 1px 2px rgba(0, 0, 0, 0.3));\n",
              "      fill: #FFFFFF;\n",
              "    }\n",
              "  </style>\n",
              "\n",
              "      <script>\n",
              "        const buttonEl =\n",
              "          document.querySelector('#df-232e683c-3848-4359-972a-9a1e0a209f04 button.colab-df-convert');\n",
              "        buttonEl.style.display =\n",
              "          google.colab.kernel.accessAllowed ? 'block' : 'none';\n",
              "\n",
              "        async function convertToInteractive(key) {\n",
              "          const element = document.querySelector('#df-232e683c-3848-4359-972a-9a1e0a209f04');\n",
              "          const dataTable =\n",
              "            await google.colab.kernel.invokeFunction('convertToInteractive',\n",
              "                                                     [key], {});\n",
              "          if (!dataTable) return;\n",
              "\n",
              "          const docLinkHtml = 'Like what you see? Visit the ' +\n",
              "            '<a target=\"_blank\" href=https://colab.research.google.com/notebooks/data_table.ipynb>data table notebook</a>'\n",
              "            + ' to learn more about interactive tables.';\n",
              "          element.innerHTML = '';\n",
              "          dataTable['output_type'] = 'display_data';\n",
              "          await google.colab.output.renderOutput(dataTable, element);\n",
              "          const docLink = document.createElement('div');\n",
              "          docLink.innerHTML = docLinkHtml;\n",
              "          element.appendChild(docLink);\n",
              "        }\n",
              "      </script>\n",
              "    </div>\n",
              "  </div>\n",
              "  "
            ]
          },
          "metadata": {},
          "execution_count": 5
        }
      ],
      "source": [
        "# write your code here\n",
        "athletes_count = pd.read_excel('Athletes.xlsx')\n",
        "athletes_count.head()  # Name - Noc - Discipline"
      ]
    },
    {
      "cell_type": "code",
      "source": [
        "print(athletes_count.groupby(['NOC']).size().sort_values())\n",
        "\n",
        "print('max value: ')\n",
        "print(athletes_count.groupby(['NOC']).size().max())"
      ],
      "metadata": {
        "colab": {
          "base_uri": "https://localhost:8080/"
        },
        "id": "G7QmpnKa7pPk",
        "outputId": "deed8aa7-7e49-4bc7-a9a0-a0fe3e86dbc5"
      },
      "id": "G7QmpnKa7pPk",
      "execution_count": null,
      "outputs": [
        {
          "output_type": "stream",
          "name": "stdout",
          "text": [
            "NOC\n",
            "Dominica                           2\n",
            "St Vincent and the Grenadines      2\n",
            "Lesotho                            2\n",
            "Brunei Darussalam                  2\n",
            "Saint Kitts and Nevis              2\n",
            "                                ... \n",
            "Germany                          400\n",
            "People's Republic of China       401\n",
            "Australia                        470\n",
            "Japan                            586\n",
            "United States of America         615\n",
            "Length: 206, dtype: int64\n",
            "max value: \n",
            "615\n"
          ]
        }
      ]
    },
    {
      "cell_type": "code",
      "source": [
        "print(athletes_count.groupby(['NOC']).size().reset_index(name='counts'))\n",
        "\n",
        "updated_df = athletes_count.groupby(['NOC']).size().reset_index(name='counts')\n",
        "\n",
        "print(updated_df['counts'])"
      ],
      "metadata": {
        "colab": {
          "base_uri": "https://localhost:8080/"
        },
        "id": "Y8gBNyNC9riZ",
        "outputId": "8e8da96b-0177-4cf8-8f33-f41ee8de6f7a"
      },
      "id": "Y8gBNyNC9riZ",
      "execution_count": null,
      "outputs": [
        {
          "output_type": "stream",
          "name": "stdout",
          "text": [
            "                         NOC  counts\n",
            "0                Afghanistan       5\n",
            "1                    Albania       8\n",
            "2                    Algeria      41\n",
            "3             American Samoa       5\n",
            "4                    Andorra       2\n",
            "..                       ...     ...\n",
            "201  Virgin Islands, British       3\n",
            "202       Virgin Islands, US       4\n",
            "203                    Yemen       3\n",
            "204                   Zambia      29\n",
            "205                 Zimbabwe       5\n",
            "\n",
            "[206 rows x 2 columns]\n",
            "0       5\n",
            "1       8\n",
            "2      41\n",
            "3       5\n",
            "4       2\n",
            "       ..\n",
            "201     3\n",
            "202     4\n",
            "203     3\n",
            "204    29\n",
            "205     5\n",
            "Name: counts, Length: 206, dtype: int64\n"
          ]
        }
      ]
    },
    {
      "cell_type": "markdown",
      "id": "60cea2a3",
      "metadata": {
        "id": "60cea2a3"
      },
      "source": [
        "## **Task 1.2 Extracting the data in column 'NOC' and encoding them, then binning and visualizing them (number of athletes on x-axis, number of countries on y-axis)**"
      ]
    },
    {
      "cell_type": "code",
      "execution_count": null,
      "id": "c8bc96c4",
      "metadata": {
        "colab": {
          "base_uri": "https://localhost:8080/",
          "height": 634
        },
        "id": "c8bc96c4",
        "outputId": "ae1baf6c-ac6d-44f8-c70b-d7eaa9ca6f2e"
      },
      "outputs": [
        {
          "output_type": "display_data",
          "data": {
            "text/plain": [
              "<Figure size 1000x700 with 1 Axes>"
            ],
            "image/png": "[encoded data removed]"
          },
          "metadata": {}
        }
      ],
      "source": [
        "# write you code here\n",
        "\n",
        "sns.set_style('whitegrid')\n",
        "plt.figure(figsize=(10, 7))\n",
        "plt.hist(updated_df['counts'], bins = 100, edgecolor='black')\n",
        "plt.yscale('log', nonpositive='clip')\n",
        "plt.tick_params(axis='both', which='major', labelsize=16)\n",
        "plt.xlim([0,700])\n",
        "_ = plt.xlabel('Athlete Count', fontsize=16)\n",
        "_ = plt.ylabel('Country Count', fontsize=16)"
      ]
    },
    {
      "cell_type": "markdown",
      "id": "d1d7f32f",
      "metadata": {
        "id": "d1d7f32f"
      },
      "source": [
        "## **(Tutorial) Quantizing data**"
      ]
    },
    {
      "cell_type": "code",
      "execution_count": null,
      "id": "c2c1feed",
      "metadata": {
        "colab": {
          "base_uri": "https://localhost:8080/"
        },
        "id": "c2c1feed",
        "outputId": "53e9f532-515a-4b25-f5a6-36a1b388792e"
      },
      "outputs": [
        {
          "output_type": "execute_result",
          "data": {
            "text/plain": [
              "array([66, 47, 94, 68, 13, 99, 41, 80, 17, 74,  5, 99, 47, 76, 37, 72, 16,\n",
              "       37, 13, 63])"
            ]
          },
          "metadata": {},
          "execution_count": 9
        }
      ],
      "source": [
        "# create 20 random numbers in the range (0,100)\n",
        "small_counts = np.random.randint(0, 100, 20)\n",
        "small_counts"
      ]
    },
    {
      "cell_type": "code",
      "execution_count": null,
      "id": "b7120034",
      "metadata": {
        "colab": {
          "base_uri": "https://localhost:8080/"
        },
        "id": "b7120034",
        "outputId": "82f3439d-972f-45f4-f349-b8b8c53f3340"
      },
      "outputs": [
        {
          "output_type": "execute_result",
          "data": {
            "text/plain": [
              "array([6, 4, 9, 6, 1, 9, 4, 8, 1, 7, 0, 9, 4, 7, 3, 7, 1, 3, 1, 6])"
            ]
          },
          "metadata": {},
          "execution_count": 10
        }
      ],
      "source": [
        "# divided by 10 to project digits into the range (0,10)\n",
        "np.floor_divide(small_counts, 10)"
      ]
    },
    {
      "cell_type": "code",
      "execution_count": null,
      "id": "76e409b1",
      "metadata": {
        "colab": {
          "base_uri": "https://localhost:8080/"
        },
        "id": "76e409b1",
        "outputId": "62bd9584-220d-4b47-f33d-230d645beef1"
      },
      "outputs": [
        {
          "output_type": "execute_result",
          "data": {
            "text/plain": [
              "array([2., 3., 4., 1., 0., 2., 2., 3., 3., 4., 4., 1., 1., 3., 2., 2., 4.])"
            ]
          },
          "metadata": {},
          "execution_count": 11
        }
      ],
      "source": [
        "large_counts = [296, 8286, 64011, 80, 3, 725, 867, 2215, 7689, 11495, 91897, 44, 28, 7971, 926, 122, 22222]\n",
        "np.floor(np.log10(large_counts))"
      ]
    },
    {
      "cell_type": "markdown",
      "id": "232eb9aa",
      "metadata": {
        "id": "232eb9aa"
      },
      "source": [
        "### Example: computing deciles of Yelp business review counts\n",
        "Yelp_academic_dataset_business\n",
        "https://github.com/melqkiades/yelp/blob/master/notebooks/yelp_academic_dataset_business.json"
      ]
    },
    {
      "cell_type": "code",
      "execution_count": null,
      "id": "e284bf82",
      "metadata": {
        "id": "e284bf82"
      },
      "outputs": [],
      "source": [
        "import json"
      ]
    },
    {
      "cell_type": "code",
      "execution_count": null,
      "id": "26c09a9d",
      "metadata": {
        "id": "26c09a9d"
      },
      "outputs": [],
      "source": [
        "def load_json_df(filename, num_bytes = -1):\n",
        "    '''Load the first `num_bytes` of the filename as a json blob, convert each line into a row in a Pandas data frame.'''\n",
        "    fs = open(filename, encoding='utf-8')\n",
        "    df = pd.DataFrame([json.loads(x) for x in fs.readlines(num_bytes)])\n",
        "    fs.close()\n",
        "    return df"
      ]
    },
    {
      "cell_type": "code",
      "source": [
        "#https://raw.githubusercontent.com/melqkiades/yelp/master/notebooks/yelp_academic_dataset_business.json"
      ],
      "metadata": {
        "id": "NK_fw4U5rtqd"
      },
      "id": "NK_fw4U5rtqd",
      "execution_count": null,
      "outputs": []
    },
    {
      "cell_type": "code",
      "execution_count": null,
      "id": "cc8ec237",
      "metadata": {
        "colab": {
          "base_uri": "https://localhost:8080/"
        },
        "id": "cc8ec237",
        "outputId": "3b14aa46-1133-4ce7-abee-c792709902b2"
      },
      "outputs": [
        {
          "output_type": "execute_result",
          "data": {
            "text/plain": [
              "(15585, 15)"
            ]
          },
          "metadata": {},
          "execution_count": 15
        }
      ],
      "source": [
        "biz_df = load_json_df('yelp_academic_dataset_business.json')\n",
        "biz_df.shape"
      ]
    },
    {
      "cell_type": "code",
      "execution_count": null,
      "id": "3bef9a9e",
      "metadata": {
        "colab": {
          "base_uri": "https://localhost:8080/",
          "height": 600
        },
        "id": "3bef9a9e",
        "outputId": "a4061af4-63c6-47ec-d3ac-15657b118d1d"
      },
      "outputs": [
        {
          "output_type": "execute_result",
          "data": {
            "text/plain": [
              "              business_id                                       full_address  \\\n",
              "0  O_X3PGhk3Y5JWVi866qlJg                  1501 W Bell Rd\\nPhoenix, AZ 85023   \n",
              "1  QbrM7wqtmoNncqjc6GtFaQ            18501 N 83rd Avenue\\nGlendale, AZ 85308   \n",
              "2  7lbvsGKzhjuX3oJtaXJvOg  5000 S Arizona Mills Cir\\nSte 590\\nTempe, AZ 8...   \n",
              "3  gjxoKVsRJwEoa8zd9XxlAw              912 W Sycamore Pl\\nChandler, AZ 85225   \n",
              "4  V28yjMqyZnbCtabroJN_aA             1745 W Glendale Ave\\nPhoenix, AZ 85021   \n",
              "\n",
              "                                               hours  open  \\\n",
              "0  {'Monday': {'close': '18:00', 'open': '11:00'}...  True   \n",
              "1                                                 {}  True   \n",
              "2  {'Monday': {'close': '21:00', 'open': '10:00'}...  True   \n",
              "3  {'Monday': {'close': '19:00', 'open': '06:00'}...  True   \n",
              "4                                                 {}  True   \n",
              "\n",
              "                                          categories      city  review_count  \\\n",
              "0  [Active Life, Arts & Entertainment, Stadiums &...   Phoenix            29   \n",
              "1  [Tires, Automotive, Fashion, Shopping, Departm...  Glendale             3   \n",
              "2  [Women's Clothing, Men's Clothing, Fashion, Sh...     Tempe             7   \n",
              "3     [Pet Services, Pet Boarding/Pet Sitting, Pets]  Chandler             4   \n",
              "4                              [Veterinarians, Pets]   Phoenix             3   \n",
              "\n",
              "                            name neighborhoods   longitude state  stars  \\\n",
              "0      Turf Paradise Race Course            [] -112.092329    AZ    4.0   \n",
              "1        Sam's Club Members Only            [] -112.234755    AZ    3.5   \n",
              "2                     Forever 21            [] -111.964485    AZ    3.5   \n",
              "3          Loving Hands Pet Care            [] -111.857818    AZ    5.0   \n",
              "4  Amec Mid-City Animal Hospital            [] -112.097232    AZ    5.0   \n",
              "\n",
              "    latitude                                         attributes      type  \n",
              "0  33.638573  {'Take-out': False, 'Wi-Fi': 'free', 'Good For...  business  \n",
              "1  33.648545  {'Parking': {'garage': False, 'street': False,...  business  \n",
              "2  33.383123  {'Parking': {'garage': False, 'street': False,...  business  \n",
              "3  33.356472                                                 {}  business  \n",
              "4  33.538493                                                 {}  business  "
            ],
            "text/html": [
              "\n",
              "  <div id=\"df-34ffc829-059c-4af8-8cfd-2b7872791316\">\n",
              "    <div class=\"colab-df-container\">\n",
              "      <div>\n",
              "<style scoped>\n",
              "    .dataframe tbody tr th:only-of-type {\n",
              "        vertical-align: middle;\n",
              "    }\n",
              "\n",
              "    .dataframe tbody tr th {\n",
              "        vertical-align: top;\n",
              "    }\n",
              "\n",
              "    .dataframe thead th {\n",
              "        text-align: right;\n",
              "    }\n",
              "</style>\n",
              "<table border=\"1\" class=\"dataframe\">\n",
              "  <thead>\n",
              "    <tr style=\"text-align: right;\">\n",
              "      <th></th>\n",
              "      <th>business_id</th>\n",
              "      <th>full_address</th>\n",
              "      <th>hours</th>\n",
              "      <th>open</th>\n",
              "      <th>categories</th>\n",
              "      <th>city</th>\n",
              "      <th>review_count</th>\n",
              "      <th>name</th>\n",
              "      <th>neighborhoods</th>\n",
              "      <th>longitude</th>\n",
              "      <th>state</th>\n",
              "      <th>stars</th>\n",
              "      <th>latitude</th>\n",
              "      <th>attributes</th>\n",
              "      <th>type</th>\n",
              "    </tr>\n",
              "  </thead>\n",
              "  <tbody>\n",
              "    <tr>\n",
              "      <th>0</th>\n",
              "      <td>O_X3PGhk3Y5JWVi866qlJg</td>\n",
              "      <td>1501 W Bell Rd\\nPhoenix, AZ 85023</td>\n",
              "      <td>{'Monday': {'close': '18:00', 'open': '11:00'}...</td>\n",
              "      <td>True</td>\n",
              "      <td>[Active Life, Arts &amp; Entertainment, Stadiums &amp;...</td>\n",
              "      <td>Phoenix</td>\n",
              "      <td>29</td>\n",
              "      <td>Turf Paradise Race Course</td>\n",
              "      <td>[]</td>\n",
              "      <td>-112.092329</td>\n",
              "      <td>AZ</td>\n",
              "      <td>4.0</td>\n",
              "      <td>33.638573</td>\n",
              "      <td>{'Take-out': False, 'Wi-Fi': 'free', 'Good For...</td>\n",
              "      <td>business</td>\n",
              "    </tr>\n",
              "    <tr>\n",
              "      <th>1</th>\n",
              "      <td>QbrM7wqtmoNncqjc6GtFaQ</td>\n",
              "      <td>18501 N 83rd Avenue\\nGlendale, AZ 85308</td>\n",
              "      <td>{}</td>\n",
              "      <td>True</td>\n",
              "      <td>[Tires, Automotive, Fashion, Shopping, Departm...</td>\n",
              "      <td>Glendale</td>\n",
              "      <td>3</td>\n",
              "      <td>Sam's Club Members Only</td>\n",
              "      <td>[]</td>\n",
              "      <td>-112.234755</td>\n",
              "      <td>AZ</td>\n",
              "      <td>3.5</td>\n",
              "      <td>33.648545</td>\n",
              "      <td>{'Parking': {'garage': False, 'street': False,...</td>\n",
              "      <td>business</td>\n",
              "    </tr>\n",
              "    <tr>\n",
              "      <th>2</th>\n",
              "      <td>7lbvsGKzhjuX3oJtaXJvOg</td>\n",
              "      <td>5000 S Arizona Mills Cir\\nSte 590\\nTempe, AZ 8...</td>\n",
              "      <td>{'Monday': {'close': '21:00', 'open': '10:00'}...</td>\n",
              "      <td>True</td>\n",
              "      <td>[Women's Clothing, Men's Clothing, Fashion, Sh...</td>\n",
              "      <td>Tempe</td>\n",
              "      <td>7</td>\n",
              "      <td>Forever 21</td>\n",
              "      <td>[]</td>\n",
              "      <td>-111.964485</td>\n",
              "      <td>AZ</td>\n",
              "      <td>3.5</td>\n",
              "      <td>33.383123</td>\n",
              "      <td>{'Parking': {'garage': False, 'street': False,...</td>\n",
              "      <td>business</td>\n",
              "    </tr>\n",
              "    <tr>\n",
              "      <th>3</th>\n",
              "      <td>gjxoKVsRJwEoa8zd9XxlAw</td>\n",
              "      <td>912 W Sycamore Pl\\nChandler, AZ 85225</td>\n",
              "      <td>{'Monday': {'close': '19:00', 'open': '06:00'}...</td>\n",
              "      <td>True</td>\n",
              "      <td>[Pet Services, Pet Boarding/Pet Sitting, Pets]</td>\n",
              "      <td>Chandler</td>\n",
              "      <td>4</td>\n",
              "      <td>Loving Hands Pet Care</td>\n",
              "      <td>[]</td>\n",
              "      <td>-111.857818</td>\n",
              "      <td>AZ</td>\n",
              "      <td>5.0</td>\n",
              "      <td>33.356472</td>\n",
              "      <td>{}</td>\n",
              "      <td>business</td>\n",
              "    </tr>\n",
              "    <tr>\n",
              "      <th>4</th>\n",
              "      <td>V28yjMqyZnbCtabroJN_aA</td>\n",
              "      <td>1745 W Glendale Ave\\nPhoenix, AZ 85021</td>\n",
              "      <td>{}</td>\n",
              "      <td>True</td>\n",
              "      <td>[Veterinarians, Pets]</td>\n",
              "      <td>Phoenix</td>\n",
              "      <td>3</td>\n",
              "      <td>Amec Mid-City Animal Hospital</td>\n",
              "      <td>[]</td>\n",
              "      <td>-112.097232</td>\n",
              "      <td>AZ</td>\n",
              "      <td>5.0</td>\n",
              "      <td>33.538493</td>\n",
              "      <td>{}</td>\n",
              "      <td>business</td>\n",
              "    </tr>\n",
              "  </tbody>\n",
              "</table>\n",
              "</div>\n",
              "      <button class=\"colab-df-convert\" onclick=\"convertToInteractive('df-34ffc829-059c-4af8-8cfd-2b7872791316')\"\n",
              "              title=\"Convert this dataframe to an interactive table.\"\n",
              "              style=\"display:none;\">\n",
              "        \n",
              "  <svg xmlns=\"http://www.w3.org/2000/svg\" height=\"24px\"viewBox=\"0 0 24 24\"\n",
              "       width=\"24px\">\n",
              "    <path d=\"M0 0h24v24H0V0z\" fill=\"none\"/>\n",
              "    <path d=\"M18.56 5.44l.94 2.06.94-2.06 2.06-.94-2.06-.94-.94-2.06-.94 2.06-2.06.94zm-11 1L8.5 8.5l.94-2.06 2.06-.94-2.06-.94L8.5 2.5l-.94 2.06-2.06.94zm10 10l.94 2.06.94-2.06 2.06-.94-2.06-.94-.94-2.06-.94 2.06-2.06.94z\"/><path d=\"M17.41 7.96l-1.37-1.37c-.4-.4-.92-.59-1.43-.59-.52 0-1.04.2-1.43.59L10.3 9.45l-7.72 7.72c-.78.78-.78 2.05 0 2.83L4 21.41c.39.39.9.59 1.41.59.51 0 1.02-.2 1.41-.59l7.78-7.78 2.81-2.81c.8-.78.8-2.07 0-2.86zM5.41 20L4 18.59l7.72-7.72 1.47 1.35L5.41 20z\"/>\n",
              "  </svg>\n",
              "      </button>\n",
              "      \n",
              "  <style>\n",
              "    .colab-df-container {\n",
              "      display:flex;\n",
              "      flex-wrap:wrap;\n",
              "      gap: 12px;\n",
              "    }\n",
              "\n",
              "    .colab-df-convert {\n",
              "      background-color: #E8F0FE;\n",
              "      border: none;\n",
              "      border-radius: 50%;\n",
              "      cursor: pointer;\n",
              "      display: none;\n",
              "      fill: #1967D2;\n",
              "      height: 32px;\n",
              "      padding: 0 0 0 0;\n",
              "      width: 32px;\n",
              "    }\n",
              "\n",
              "    .colab-df-convert:hover {\n",
              "      background-color: #E2EBFA;\n",
              "      box-shadow: 0px 1px 2px rgba(60, 64, 67, 0.3), 0px 1px 3px 1px rgba(60, 64, 67, 0.15);\n",
              "      fill: #174EA6;\n",
              "    }\n",
              "\n",
              "    [theme=dark] .colab-df-convert {\n",
              "      background-color: #3B4455;\n",
              "      fill: #D2E3FC;\n",
              "    }\n",
              "\n",
              "    [theme=dark] .colab-df-convert:hover {\n",
              "      background-color: #434B5C;\n",
              "      box-shadow: 0px 1px 3px 1px rgba(0, 0, 0, 0.15);\n",
              "      filter: drop-shadow(0px 1px 2px rgba(0, 0, 0, 0.3));\n",
              "      fill: #FFFFFF;\n",
              "    }\n",
              "  </style>\n",
              "\n",
              "      <script>\n",
              "        const buttonEl =\n",
              "          document.querySelector('#df-34ffc829-059c-4af8-8cfd-2b7872791316 button.colab-df-convert');\n",
              "        buttonEl.style.display =\n",
              "          google.colab.kernel.accessAllowed ? 'block' : 'none';\n",
              "\n",
              "        async function convertToInteractive(key) {\n",
              "          const element = document.querySelector('#df-34ffc829-059c-4af8-8cfd-2b7872791316');\n",
              "          const dataTable =\n",
              "            await google.colab.kernel.invokeFunction('convertToInteractive',\n",
              "                                                     [key], {});\n",
              "          if (!dataTable) return;\n",
              "\n",
              "          const docLinkHtml = 'Like what you see? Visit the ' +\n",
              "            '<a target=\"_blank\" href=https://colab.research.google.com/notebooks/data_table.ipynb>data table notebook</a>'\n",
              "            + ' to learn more about interactive tables.';\n",
              "          element.innerHTML = '';\n",
              "          dataTable['output_type'] = 'display_data';\n",
              "          await google.colab.output.renderOutput(dataTable, element);\n",
              "          const docLink = document.createElement('div');\n",
              "          docLink.innerHTML = docLinkHtml;\n",
              "          element.appendChild(docLink);\n",
              "        }\n",
              "      </script>\n",
              "    </div>\n",
              "  </div>\n",
              "  "
            ]
          },
          "metadata": {},
          "execution_count": 16
        }
      ],
      "source": [
        "biz_df.head()"
      ]
    },
    {
      "cell_type": "code",
      "execution_count": null,
      "id": "946187b6",
      "metadata": {
        "colab": {
          "base_uri": "https://localhost:8080/"
        },
        "id": "946187b6",
        "outputId": "e84beccb-23bc-4228-d138-9308179e0c22"
      },
      "outputs": [
        {
          "output_type": "execute_result",
          "data": {
            "text/plain": [
              "0.1     3.0\n",
              "0.2     3.0\n",
              "0.3     4.0\n",
              "0.4     5.0\n",
              "0.5     6.0\n",
              "0.6     8.0\n",
              "0.7    13.0\n",
              "0.8    24.0\n",
              "0.9    56.0\n",
              "Name: review_count, dtype: float64"
            ]
          },
          "metadata": {},
          "execution_count": 17
        }
      ],
      "source": [
        "deciles = biz_df['review_count'].quantile([.1, .2, .3, .4, .5, .6, .7, .8, .9])\n",
        "deciles"
      ]
    },
    {
      "cell_type": "code",
      "execution_count": null,
      "id": "8e47a9e3",
      "metadata": {
        "colab": {
          "base_uri": "https://localhost:8080/",
          "height": 639
        },
        "id": "8e47a9e3",
        "outputId": "1547372b-b02f-4e67-ae11-e3d8c63cb794"
      },
      "outputs": [
        {
          "output_type": "display_data",
          "data": {
            "text/plain": [
              "<Figure size 1000x700 with 1 Axes>"
            ],
            "image/png": "[encoded data removed]"
          },
          "metadata": {}
        }
      ],
      "source": [
        "sns.set_style('whitegrid')\n",
        "fig, ax = plt.subplots(figsize=(10, 7))\n",
        "biz_df['review_count'].hist(ax=ax, bins=100, edgecolor='black')\n",
        "for pos in deciles:\n",
        "    handle = plt.axvline(pos, color='r')\n",
        "ax.legend([handle], ['deciles'], fontsize=16)\n",
        "ax.set_xscale('log', nonpositive='clip')\n",
        "ax.set_yscale('log', nonpositive='clip')\n",
        "ax.tick_params(labelsize=16)\n",
        "_ = ax.set_xlabel('Review Count', fontsize=16)\n",
        "_ = ax.set_ylabel('Occurrence', fontsize=16)"
      ]
    },
    {
      "cell_type": "markdown",
      "id": "67f8d0d5",
      "metadata": {
        "id": "67f8d0d5"
      },
      "source": [
        "## Task 2. Computing the quantiles of the number of athletes from each country and visualizing the histogram (data was used in task 1). Applying log transform on the number of athletes and visualizing the histogram again."
      ]
    },
    {
      "cell_type": "code",
      "execution_count": null,
      "id": "0594fb11",
      "metadata": {
        "colab": {
          "base_uri": "https://localhost:8080/"
        },
        "id": "0594fb11",
        "outputId": "4c7188c4-9f13-4edd-c575-af18193fd91a"
      },
      "outputs": [
        {
          "output_type": "stream",
          "name": "stdout",
          "text": [
            "0.1      3.0\n",
            "0.2      4.0\n",
            "0.3      5.0\n",
            "0.4      7.0\n",
            "0.5     10.0\n",
            "0.6     23.0\n",
            "0.7     39.5\n",
            "0.8     67.0\n",
            "0.9    142.5\n",
            "Name: counts, dtype: float64\n"
          ]
        }
      ],
      "source": [
        "# write the code here\n",
        "\n",
        "athlete_deciles = updated_df['counts'].quantile([.1, .2, .3, .4, .5, .6, .7, .8, .9])\n",
        "print(athlete_deciles)"
      ]
    },
    {
      "cell_type": "code",
      "source": [
        "sns.set_style('whitegrid')\n",
        "fig, ax = plt.subplots(figsize=(10, 7))\n",
        "updated_df['counts'].hist(ax=ax, bins=100, edgecolor='black')\n",
        "for pos in athlete_deciles:\n",
        "    handle = plt.axvline(pos, color='r')\n",
        "ax.legend([handle], ['deciles'], fontsize=16)\n",
        "ax.set_xscale('log', nonpositive='clip')\n",
        "ax.set_yscale('log', nonpositive='clip')\n",
        "ax.tick_params(labelsize=16)\n",
        "_ = ax.set_xlabel('Athlete Count', fontsize=16)\n",
        "_ = ax.set_ylabel('Country Count', fontsize=16)"
      ],
      "metadata": {
        "colab": {
          "base_uri": "https://localhost:8080/",
          "height": 639
        },
        "id": "Hm5sY459suJW",
        "outputId": "051b1341-7f3f-4768-f3c1-2e13deb37804"
      },
      "id": "Hm5sY459suJW",
      "execution_count": null,
      "outputs": [
        {
          "output_type": "display_data",
          "data": {
            "text/plain": [
              "<Figure size 1000x700 with 1 Axes>"
            ],
            "image/png": "[encoded data removed]"
          },
          "metadata": {}
        }
      ]
    },
    {
      "cell_type": "markdown",
      "id": "e31cc688",
      "metadata": {
        "id": "e31cc688"
      },
      "source": [
        "## Question 1. Comparing the histograms before and after applying log transform and answer the question: why do we need to apply log transform on some data?"
      ]
    },
    {
      "cell_type": "markdown",
      "id": "37a6431d",
      "metadata": {
        "id": "37a6431d"
      },
      "source": [
        "**Answer to Q1**: Type your answer here"
      ]
    },
    {
      "cell_type": "markdown",
      "id": "3f63fa4e",
      "metadata": {
        "id": "3f63fa4e"
      },
      "source": [
        "---\n"
      ]
    },
    {
      "cell_type": "markdown",
      "id": "1eefd91e",
      "metadata": {
        "id": "1eefd91e"
      },
      "source": [
        "## **(Tutorial) Box-Cox transform**"
      ]
    },
    {
      "cell_type": "code",
      "execution_count": null,
      "id": "e4818c6c",
      "metadata": {
        "id": "e4818c6c"
      },
      "outputs": [],
      "source": [
        "x = np.arange(0.001, 3, 0.01)\n",
        "lambda0 = np.log(x)\n",
        "one_quarter = (x**0.25 - 1)/0.25\n",
        "square_root = (x**0.5 - 1)/0.5\n",
        "three_quarters = (x**0.75 - 1)/0.75\n",
        "one_point_five = (x**1.5 - 1)/1.5"
      ]
    },
    {
      "cell_type": "code",
      "execution_count": null,
      "id": "83a4d38a",
      "metadata": {
        "colab": {
          "base_uri": "https://localhost:8080/",
          "height": 674
        },
        "id": "83a4d38a",
        "outputId": "8e37265f-943e-4eee-9ccc-8cd4fe1b0bc2"
      },
      "outputs": [
        {
          "output_type": "execute_result",
          "data": {
            "text/plain": [
              "Text(0.5, 1.0, 'Box-Cox Transforms')"
            ]
          },
          "metadata": {},
          "execution_count": 22
        },
        {
          "output_type": "display_data",
          "data": {
            "text/plain": [
              "<Figure size 1000x700 with 1 Axes>"
            ],
            "image/png": "[encoded data removed]"
          },
          "metadata": {}
        }
      ],
      "source": [
        "fig, ax = plt.subplots(figsize=(10, 7))\n",
        "plt.plot(x, lambda0, 'c',\n",
        "         x, one_quarter, 'r--',\n",
        "         x, square_root, 'g-.',\n",
        "         x, three_quarters, 'b:',\n",
        "         x, one_point_five, 'k')\n",
        "plt.legend(['lambda = 0', 'lambda = 0.25', 'lambda = 0.5', 'lambda = 0.75', 'lambda = 1.5'],\n",
        "           loc='lower right',\n",
        "           prop={'size': 14})\n",
        "ax.tick_params(labelsize=14)\n",
        "ax.set_xlim([0.0,3.0])\n",
        "ax.set_xlabel('x', fontsize=14)\n",
        "ax.set_ylabel('y', fontsize=14)\n",
        "ax.set_title('Box-Cox Transforms', fontsize=14)"
      ]
    },
    {
      "cell_type": "markdown",
      "id": "add36310",
      "metadata": {
        "id": "add36310"
      },
      "source": [
        "## Example: Visualizing the histograms of original, log transformed, and Box-Cox transformed review counts"
      ]
    },
    {
      "cell_type": "code",
      "execution_count": null,
      "id": "b56a9763",
      "metadata": {
        "id": "b56a9763"
      },
      "outputs": [],
      "source": [
        "from scipy import stats"
      ]
    },
    {
      "cell_type": "code",
      "execution_count": null,
      "id": "714deac4",
      "metadata": {
        "id": "714deac4"
      },
      "outputs": [],
      "source": [
        "rc_log = stats.boxcox(biz_df['review_count'], lmbda=0)\n",
        "rc_bc, bc_params = stats.boxcox(biz_df['review_count'])\n",
        "biz_df['rc_bc'] = rc_bc\n",
        "biz_df['rc_log'] = rc_log"
      ]
    },
    {
      "cell_type": "code",
      "execution_count": null,
      "id": "77d11246",
      "metadata": {
        "colab": {
          "base_uri": "https://localhost:8080/",
          "height": 1000
        },
        "id": "77d11246",
        "outputId": "ee98592c-71d1-41c9-a3bb-fce22a57c56c"
      },
      "outputs": [
        {
          "output_type": "execute_result",
          "data": {
            "text/plain": [
              "Text(0, 0.5, 'Occurrence')"
            ]
          },
          "metadata": {},
          "execution_count": 25
        },
        {
          "output_type": "display_data",
          "data": {
            "text/plain": [
              "<Figure size 1000x1400 with 3 Axes>"
            ],
            "image/png": "[encoded data removed]"
          },
          "metadata": {}
        }
      ],
      "source": [
        "fig, (ax1, ax2, ax3) = plt.subplots(3,1, figsize=(10, 14))\n",
        "\n",
        "# 원본 리뷰 카운트 히스토그램\n",
        "biz_df['review_count'].hist(ax=ax1, bins=100)\n",
        "ax1.set_yscale('log', nonpositive='clip')\n",
        "ax1.tick_params(labelsize=14)\n",
        "ax1.set_title('Review Counts Histogram', fontsize=14)\n",
        "ax1.set_xlabel('')\n",
        "ax1.set_ylabel('Occurrence', fontsize=14)\n",
        "\n",
        "# 로그 변환된 리뷰 카운트\n",
        "biz_df['rc_log'].hist(ax=ax2, bins=100)\n",
        "ax2.set_yscale('log', nonpositive='clip')\n",
        "ax2.tick_params(labelsize=14)\n",
        "ax2.set_title('Log Transformed Counts Histogram', fontsize=14)\n",
        "ax2.set_xlabel('')\n",
        "ax2.set_ylabel('Occurrence', fontsize=14)\n",
        "\n",
        "# Box-Cox 변환된 리뷰 카운트\n",
        "biz_df['rc_bc'].hist(ax=ax3, bins=100)\n",
        "ax3.set_yscale('log', nonpositive='clip')\n",
        "ax3.tick_params(labelsize=14)\n",
        "ax3.set_title('Box-Cox Transformed Counts Histogram', fontsize=14)\n",
        "ax3.set_xlabel('')\n",
        "ax3.set_ylabel('Occurrence', fontsize=14)"
      ]
    },
    {
      "cell_type": "markdown",
      "id": "cb20c0ec",
      "metadata": {
        "id": "cb20c0ec"
      },
      "source": [
        "## **Task 3. Visualizing the histograms of original, log transformed, and Box-Cox transformed athletes numbers (data used in task 1 and task 2)**"
      ]
    },
    {
      "cell_type": "code",
      "execution_count": null,
      "id": "43df7081",
      "metadata": {
        "id": "43df7081"
      },
      "outputs": [],
      "source": [
        "# write your code here\n",
        "\n",
        "rc_log = stats.boxcox(updated_df['counts'], lmbda=0)\n",
        "rc_bc, bc_params = stats.boxcox(updated_df['counts'])\n",
        "updated_df['rc_bc'] = rc_bc\n",
        "updated_df['rc_log'] = rc_log\n"
      ]
    },
    {
      "cell_type": "code",
      "source": [
        "fig, (ax1, ax2, ax3) = plt.subplots(3,1, figsize=(10, 14))\n",
        "\n",
        "# 원본 리뷰 카운트 히스토그램\n",
        "updated_df['counts'].hist(ax=ax1, bins=100)\n",
        "ax1.set_yscale('log', nonpositive='clip')\n",
        "ax1.tick_params(labelsize=14)\n",
        "ax1.set_title('Athlete Counts Histogram', fontsize=14)\n",
        "ax1.set_xlabel('')\n",
        "ax1.set_ylabel('Occurrence', fontsize=14)\n",
        "\n",
        "# 로그 변환된 리뷰 카운트\n",
        "updated_df['rc_log'].hist(ax=ax2, bins=100)\n",
        "ax2.set_yscale('log', nonpositive='clip')\n",
        "ax2.tick_params(labelsize=14)\n",
        "ax2.set_title('Log Transformed Counts Histogram', fontsize=14)\n",
        "ax2.set_xlabel('')\n",
        "ax2.set_ylabel('Occurrence', fontsize=14)\n",
        "\n",
        "# Box-Cox 변환된 리뷰 카운트\n",
        "updated_df['rc_bc'].hist(ax=ax3, bins=100)\n",
        "ax3.set_yscale('log', nonpositive='clip')\n",
        "ax3.tick_params(labelsize=14)\n",
        "ax3.set_title('Box-Cox Transformed Counts Histogram', fontsize=14)\n",
        "ax3.set_xlabel('')\n",
        "ax3.set_ylabel('Occurrence', fontsize=14)"
      ],
      "metadata": {
        "colab": {
          "base_uri": "https://localhost:8080/",
          "height": 1000
        },
        "id": "elnmp4Wfusxh",
        "outputId": "9720043a-fae2-43f8-c489-7cb179595877"
      },
      "id": "elnmp4Wfusxh",
      "execution_count": null,
      "outputs": [
        {
          "output_type": "execute_result",
          "data": {
            "text/plain": [
              "Text(0, 0.5, 'Occurrence')"
            ]
          },
          "metadata": {},
          "execution_count": 27
        },
        {
          "output_type": "display_data",
          "data": {
            "text/plain": [
              "<Figure size 1000x1400 with 3 Axes>"
            ],
            "image/png": "[encoded data removed]"
          },
          "metadata": {}
        }
      ]
    },
    {
      "cell_type": "markdown",
      "id": "56bf63f7",
      "metadata": {
        "id": "56bf63f7"
      },
      "source": [
        "## Question 2. Listing another transform method other than log and box-cox transform. Explain when to use them."
      ]
    },
    {
      "cell_type": "markdown",
      "id": "31358ddf",
      "metadata": {
        "id": "31358ddf"
      },
      "source": [
        "**Answer to Q2:** write your answer here"
      ]
    },
    {
      "cell_type": "markdown",
      "id": "a3e74bfb",
      "metadata": {
        "id": "a3e74bfb"
      },
      "source": [
        "---\n"
      ]
    },
    {
      "cell_type": "markdown",
      "id": "11103c1f",
      "metadata": {
        "id": "11103c1f"
      },
      "source": [
        "## Feature scaling example\n",
        "**Online News Popularity Dataset**: https://archive.ics.uci.edu/ml/machine-learning-databases/00332/OnlineNewsPopularity.zip"
      ]
    },
    {
      "cell_type": "code",
      "execution_count": null,
      "id": "3e1609d4",
      "metadata": {
        "id": "3e1609d4"
      },
      "outputs": [],
      "source": [
        "import sklearn.preprocessing as preproc"
      ]
    },
    {
      "cell_type": "code",
      "source": [
        "#!unzip OnlineNewsPopularity.zip"
      ],
      "metadata": {
        "id": "ScPuu1eTvMtn"
      },
      "id": "ScPuu1eTvMtn",
      "execution_count": null,
      "outputs": []
    },
    {
      "cell_type": "code",
      "execution_count": null,
      "id": "f24edaa0",
      "metadata": {
        "colab": {
          "base_uri": "https://localhost:8080/",
          "height": 386
        },
        "id": "f24edaa0",
        "outputId": "0a811bf0-932d-4cbf-b4b7-7ac6bdfbdc50"
      },
      "outputs": [
        {
          "output_type": "execute_result",
          "data": {
            "text/plain": [
              "                                                 url  timedelta  \\\n",
              "0  http://mashable.com/2013/01/07/amazon-instant-...      731.0   \n",
              "1  http://mashable.com/2013/01/07/ap-samsung-spon...      731.0   \n",
              "2  http://mashable.com/2013/01/07/apple-40-billio...      731.0   \n",
              "3  http://mashable.com/2013/01/07/astronaut-notre...      731.0   \n",
              "4   http://mashable.com/2013/01/07/att-u-verse-apps/      731.0   \n",
              "\n",
              "   n_tokens_title  n_tokens_content  n_unique_tokens  n_non_stop_words  \\\n",
              "0            12.0             219.0         0.663594               1.0   \n",
              "1             9.0             255.0         0.604743               1.0   \n",
              "2             9.0             211.0         0.575130               1.0   \n",
              "3             9.0             531.0         0.503788               1.0   \n",
              "4            13.0            1072.0         0.415646               1.0   \n",
              "\n",
              "   n_non_stop_unique_tokens  num_hrefs  num_self_hrefs  num_imgs  ...  \\\n",
              "0                  0.815385        4.0             2.0       1.0  ...   \n",
              "1                  0.791946        3.0             1.0       1.0  ...   \n",
              "2                  0.663866        3.0             1.0       1.0  ...   \n",
              "3                  0.665635        9.0             0.0       1.0  ...   \n",
              "4                  0.540890       19.0            19.0      20.0  ...   \n",
              "\n",
              "   min_positive_polarity  max_positive_polarity  avg_negative_polarity  \\\n",
              "0               0.100000                    0.7              -0.350000   \n",
              "1               0.033333                    0.7              -0.118750   \n",
              "2               0.100000                    1.0              -0.466667   \n",
              "3               0.136364                    0.8              -0.369697   \n",
              "4               0.033333                    1.0              -0.220192   \n",
              "\n",
              "   min_negative_polarity  max_negative_polarity  title_subjectivity  \\\n",
              "0                 -0.600              -0.200000            0.500000   \n",
              "1                 -0.125              -0.100000            0.000000   \n",
              "2                 -0.800              -0.133333            0.000000   \n",
              "3                 -0.600              -0.166667            0.000000   \n",
              "4                 -0.500              -0.050000            0.454545   \n",
              "\n",
              "   title_sentiment_polarity  abs_title_subjectivity  \\\n",
              "0                 -0.187500                0.000000   \n",
              "1                  0.000000                0.500000   \n",
              "2                  0.000000                0.500000   \n",
              "3                  0.000000                0.500000   \n",
              "4                  0.136364                0.045455   \n",
              "\n",
              "   abs_title_sentiment_polarity  shares  \n",
              "0                      0.187500     593  \n",
              "1                      0.000000     711  \n",
              "2                      0.000000    1500  \n",
              "3                      0.000000    1200  \n",
              "4                      0.136364     505  \n",
              "\n",
              "[5 rows x 61 columns]"
            ],
            "text/html": [
              "\n",
              "  <div id=\"df-13f994bb-00cf-4b7b-a83f-487df80c6456\">\n",
              "    <div class=\"colab-df-container\">\n",
              "      <div>\n",
              "<style scoped>\n",
              "    .dataframe tbody tr th:only-of-type {\n",
              "        vertical-align: middle;\n",
              "    }\n",
              "\n",
              "    .dataframe tbody tr th {\n",
              "        vertical-align: top;\n",
              "    }\n",
              "\n",
              "    .dataframe thead th {\n",
              "        text-align: right;\n",
              "    }\n",
              "</style>\n",
              "<table border=\"1\" class=\"dataframe\">\n",
              "  <thead>\n",
              "    <tr style=\"text-align: right;\">\n",
              "      <th></th>\n",
              "      <th>url</th>\n",
              "      <th>timedelta</th>\n",
              "      <th>n_tokens_title</th>\n",
              "      <th>n_tokens_content</th>\n",
              "      <th>n_unique_tokens</th>\n",
              "      <th>n_non_stop_words</th>\n",
              "      <th>n_non_stop_unique_tokens</th>\n",
              "      <th>num_hrefs</th>\n",
              "      <th>num_self_hrefs</th>\n",
              "      <th>num_imgs</th>\n",
              "      <th>...</th>\n",
              "      <th>min_positive_polarity</th>\n",
              "      <th>max_positive_polarity</th>\n",
              "      <th>avg_negative_polarity</th>\n",
              "      <th>min_negative_polarity</th>\n",
              "      <th>max_negative_polarity</th>\n",
              "      <th>title_subjectivity</th>\n",
              "      <th>title_sentiment_polarity</th>\n",
              "      <th>abs_title_subjectivity</th>\n",
              "      <th>abs_title_sentiment_polarity</th>\n",
              "      <th>shares</th>\n",
              "    </tr>\n",
              "  </thead>\n",
              "  <tbody>\n",
              "    <tr>\n",
              "      <th>0</th>\n",
              "      <td>http://mashable.com/2013/01/07/amazon-instant-...</td>\n",
              "      <td>731.0</td>\n",
              "      <td>12.0</td>\n",
              "      <td>219.0</td>\n",
              "      <td>0.663594</td>\n",
              "      <td>1.0</td>\n",
              "      <td>0.815385</td>\n",
              "      <td>4.0</td>\n",
              "      <td>2.0</td>\n",
              "      <td>1.0</td>\n",
              "      <td>...</td>\n",
              "      <td>0.100000</td>\n",
              "      <td>0.7</td>\n",
              "      <td>-0.350000</td>\n",
              "      <td>-0.600</td>\n",
              "      <td>-0.200000</td>\n",
              "      <td>0.500000</td>\n",
              "      <td>-0.187500</td>\n",
              "      <td>0.000000</td>\n",
              "      <td>0.187500</td>\n",
              "      <td>593</td>\n",
              "    </tr>\n",
              "    <tr>\n",
              "      <th>1</th>\n",
              "      <td>http://mashable.com/2013/01/07/ap-samsung-spon...</td>\n",
              "      <td>731.0</td>\n",
              "      <td>9.0</td>\n",
              "      <td>255.0</td>\n",
              "      <td>0.604743</td>\n",
              "      <td>1.0</td>\n",
              "      <td>0.791946</td>\n",
              "      <td>3.0</td>\n",
              "      <td>1.0</td>\n",
              "      <td>1.0</td>\n",
              "      <td>...</td>\n",
              "      <td>0.033333</td>\n",
              "      <td>0.7</td>\n",
              "      <td>-0.118750</td>\n",
              "      <td>-0.125</td>\n",
              "      <td>-0.100000</td>\n",
              "      <td>0.000000</td>\n",
              "      <td>0.000000</td>\n",
              "      <td>0.500000</td>\n",
              "      <td>0.000000</td>\n",
              "      <td>711</td>\n",
              "    </tr>\n",
              "    <tr>\n",
              "      <th>2</th>\n",
              "      <td>http://mashable.com/2013/01/07/apple-40-billio...</td>\n",
              "      <td>731.0</td>\n",
              "      <td>9.0</td>\n",
              "      <td>211.0</td>\n",
              "      <td>0.575130</td>\n",
              "      <td>1.0</td>\n",
              "      <td>0.663866</td>\n",
              "      <td>3.0</td>\n",
              "      <td>1.0</td>\n",
              "      <td>1.0</td>\n",
              "      <td>...</td>\n",
              "      <td>0.100000</td>\n",
              "      <td>1.0</td>\n",
              "      <td>-0.466667</td>\n",
              "      <td>-0.800</td>\n",
              "      <td>-0.133333</td>\n",
              "      <td>0.000000</td>\n",
              "      <td>0.000000</td>\n",
              "      <td>0.500000</td>\n",
              "      <td>0.000000</td>\n",
              "      <td>1500</td>\n",
              "    </tr>\n",
              "    <tr>\n",
              "      <th>3</th>\n",
              "      <td>http://mashable.com/2013/01/07/astronaut-notre...</td>\n",
              "      <td>731.0</td>\n",
              "      <td>9.0</td>\n",
              "      <td>531.0</td>\n",
              "      <td>0.503788</td>\n",
              "      <td>1.0</td>\n",
              "      <td>0.665635</td>\n",
              "      <td>9.0</td>\n",
              "      <td>0.0</td>\n",
              "      <td>1.0</td>\n",
              "      <td>...</td>\n",
              "      <td>0.136364</td>\n",
              "      <td>0.8</td>\n",
              "      <td>-0.369697</td>\n",
              "      <td>-0.600</td>\n",
              "      <td>-0.166667</td>\n",
              "      <td>0.000000</td>\n",
              "      <td>0.000000</td>\n",
              "      <td>0.500000</td>\n",
              "      <td>0.000000</td>\n",
              "      <td>1200</td>\n",
              "    </tr>\n",
              "    <tr>\n",
              "      <th>4</th>\n",
              "      <td>http://mashable.com/2013/01/07/att-u-verse-apps/</td>\n",
              "      <td>731.0</td>\n",
              "      <td>13.0</td>\n",
              "      <td>1072.0</td>\n",
              "      <td>0.415646</td>\n",
              "      <td>1.0</td>\n",
              "      <td>0.540890</td>\n",
              "      <td>19.0</td>\n",
              "      <td>19.0</td>\n",
              "      <td>20.0</td>\n",
              "      <td>...</td>\n",
              "      <td>0.033333</td>\n",
              "      <td>1.0</td>\n",
              "      <td>-0.220192</td>\n",
              "      <td>-0.500</td>\n",
              "      <td>-0.050000</td>\n",
              "      <td>0.454545</td>\n",
              "      <td>0.136364</td>\n",
              "      <td>0.045455</td>\n",
              "      <td>0.136364</td>\n",
              "      <td>505</td>\n",
              "    </tr>\n",
              "  </tbody>\n",
              "</table>\n",
              "<p>5 rows × 61 columns</p>\n",
              "</div>\n",
              "      <button class=\"colab-df-convert\" onclick=\"convertToInteractive('df-13f994bb-00cf-4b7b-a83f-487df80c6456')\"\n",
              "              title=\"Convert this dataframe to an interactive table.\"\n",
              "              style=\"display:none;\">\n",
              "        \n",
              "  <svg xmlns=\"http://www.w3.org/2000/svg\" height=\"24px\"viewBox=\"0 0 24 24\"\n",
              "       width=\"24px\">\n",
              "    <path d=\"M0 0h24v24H0V0z\" fill=\"none\"/>\n",
              "    <path d=\"M18.56 5.44l.94 2.06.94-2.06 2.06-.94-2.06-.94-.94-2.06-.94 2.06-2.06.94zm-11 1L8.5 8.5l.94-2.06 2.06-.94-2.06-.94L8.5 2.5l-.94 2.06-2.06.94zm10 10l.94 2.06.94-2.06 2.06-.94-2.06-.94-.94-2.06-.94 2.06-2.06.94z\"/><path d=\"M17.41 7.96l-1.37-1.37c-.4-.4-.92-.59-1.43-.59-.52 0-1.04.2-1.43.59L10.3 9.45l-7.72 7.72c-.78.78-.78 2.05 0 2.83L4 21.41c.39.39.9.59 1.41.59.51 0 1.02-.2 1.41-.59l7.78-7.78 2.81-2.81c.8-.78.8-2.07 0-2.86zM5.41 20L4 18.59l7.72-7.72 1.47 1.35L5.41 20z\"/>\n",
              "  </svg>\n",
              "      </button>\n",
              "      \n",
              "  <style>\n",
              "    .colab-df-container {\n",
              "      display:flex;\n",
              "      flex-wrap:wrap;\n",
              "      gap: 12px;\n",
              "    }\n",
              "\n",
              "    .colab-df-convert {\n",
              "      background-color: #E8F0FE;\n",
              "      border: none;\n",
              "      border-radius: 50%;\n",
              "      cursor: pointer;\n",
              "      display: none;\n",
              "      fill: #1967D2;\n",
              "      height: 32px;\n",
              "      padding: 0 0 0 0;\n",
              "      width: 32px;\n",
              "    }\n",
              "\n",
              "    .colab-df-convert:hover {\n",
              "      background-color: #E2EBFA;\n",
              "      box-shadow: 0px 1px 2px rgba(60, 64, 67, 0.3), 0px 1px 3px 1px rgba(60, 64, 67, 0.15);\n",
              "      fill: #174EA6;\n",
              "    }\n",
              "\n",
              "    [theme=dark] .colab-df-convert {\n",
              "      background-color: #3B4455;\n",
              "      fill: #D2E3FC;\n",
              "    }\n",
              "\n",
              "    [theme=dark] .colab-df-convert:hover {\n",
              "      background-color: #434B5C;\n",
              "      box-shadow: 0px 1px 3px 1px rgba(0, 0, 0, 0.15);\n",
              "      filter: drop-shadow(0px 1px 2px rgba(0, 0, 0, 0.3));\n",
              "      fill: #FFFFFF;\n",
              "    }\n",
              "  </style>\n",
              "\n",
              "      <script>\n",
              "        const buttonEl =\n",
              "          document.querySelector('#df-13f994bb-00cf-4b7b-a83f-487df80c6456 button.colab-df-convert');\n",
              "        buttonEl.style.display =\n",
              "          google.colab.kernel.accessAllowed ? 'block' : 'none';\n",
              "\n",
              "        async function convertToInteractive(key) {\n",
              "          const element = document.querySelector('#df-13f994bb-00cf-4b7b-a83f-487df80c6456');\n",
              "          const dataTable =\n",
              "            await google.colab.kernel.invokeFunction('convertToInteractive',\n",
              "                                                     [key], {});\n",
              "          if (!dataTable) return;\n",
              "\n",
              "          const docLinkHtml = 'Like what you see? Visit the ' +\n",
              "            '<a target=\"_blank\" href=https://colab.research.google.com/notebooks/data_table.ipynb>data table notebook</a>'\n",
              "            + ' to learn more about interactive tables.';\n",
              "          element.innerHTML = '';\n",
              "          dataTable['output_type'] = 'display_data';\n",
              "          await google.colab.output.renderOutput(dataTable, element);\n",
              "          const docLink = document.createElement('div');\n",
              "          docLink.innerHTML = docLinkHtml;\n",
              "          element.appendChild(docLink);\n",
              "        }\n",
              "      </script>\n",
              "    </div>\n",
              "  </div>\n",
              "  "
            ]
          },
          "metadata": {},
          "execution_count": 30
        }
      ],
      "source": [
        "news_df = pd.read_csv('OnlineNewsPopularity.csv', delimiter=', ',engine = 'python')\n",
        "news_df.head()"
      ]
    },
    {
      "cell_type": "code",
      "execution_count": null,
      "id": "11bcb993",
      "metadata": {
        "colab": {
          "base_uri": "https://localhost:8080/"
        },
        "id": "11bcb993",
        "outputId": "27b0b340-ffd5-43e6-a5d7-4172b832d951"
      },
      "outputs": [
        {
          "output_type": "execute_result",
          "data": {
            "text/plain": [
              "array([0.02584376, 0.03009205, 0.02489969, ..., 0.05215955, 0.08048147,\n",
              "       0.01852726])"
            ]
          },
          "metadata": {},
          "execution_count": 31
        }
      ],
      "source": [
        "# Min-max scaling\n",
        "news_df['minmax'] = preproc.minmax_scale(news_df[['n_tokens_content']])\n",
        "news_df['minmax'].values"
      ]
    },
    {
      "cell_type": "code",
      "execution_count": null,
      "id": "977dacc1",
      "metadata": {
        "colab": {
          "base_uri": "https://localhost:8080/"
        },
        "id": "977dacc1",
        "outputId": "629dc33d-343b-4c6c-87fd-b96b405b6853"
      },
      "outputs": [
        {
          "output_type": "execute_result",
          "data": {
            "text/plain": [
              "array([-0.69521045, -0.61879381, -0.71219192, ..., -0.2218518 ,\n",
              "        0.28759248, -0.82681689])"
            ]
          },
          "metadata": {},
          "execution_count": 32
        }
      ],
      "source": [
        "# Standardization\n",
        "news_df['standardized'] = preproc.StandardScaler().fit_transform(news_df[['n_tokens_content']])\n",
        "news_df['standardized'].values"
      ]
    },
    {
      "cell_type": "code",
      "execution_count": null,
      "id": "7ecb5209",
      "metadata": {
        "colab": {
          "base_uri": "https://localhost:8080/"
        },
        "id": "7ecb5209",
        "outputId": "f9c4b7f4-9487-4019-f4c6-76cf85091ea8"
      },
      "outputs": [
        {
          "output_type": "execute_result",
          "data": {
            "text/plain": [
              "array([0.00152439, 0.00177498, 0.00146871, ..., 0.00307663, 0.0047472 ,\n",
              "       0.00109283])"
            ]
          },
          "metadata": {},
          "execution_count": 33
        }
      ],
      "source": [
        "# L2-normalization\n",
        "news_df['l2_normalized'] = preproc.normalize(news_df[['n_tokens_content']], axis=0)\n",
        "news_df['l2_normalized'].values"
      ]
    },
    {
      "cell_type": "code",
      "execution_count": null,
      "id": "202535cc",
      "metadata": {
        "colab": {
          "base_uri": "https://localhost:8080/",
          "height": 741
        },
        "id": "202535cc",
        "outputId": "ad79ba26-186e-4cf4-9f52-d1b7c91642f6"
      },
      "outputs": [
        {
          "output_type": "execute_result",
          "data": {
            "text/plain": [
              "Text(0.5, 43.249999999999986, 'L2-normalized word count')"
            ]
          },
          "metadata": {},
          "execution_count": 34
        },
        {
          "output_type": "display_data",
          "data": {
            "text/plain": [
              "<Figure size 800x700 with 4 Axes>"
            ],
            "image/png": "[encoded data removed]"
          },
          "metadata": {}
        }
      ],
      "source": [
        "fig, (ax1, ax2, ax3, ax4) = plt.subplots(4,1, figsize=(8, 7))\n",
        "fig.tight_layout(h_pad=2.0)\n",
        "\n",
        "news_df['n_tokens_content'].hist(ax=ax1, bins=100)\n",
        "ax1.tick_params(labelsize=14)\n",
        "ax1.set_xlabel('Article word count', fontsize=14)\n",
        "ax1.set_ylabel('Number of articles', fontsize=14)\n",
        "\n",
        "news_df['minmax'].hist(ax=ax2, bins=100)\n",
        "ax2.tick_params(labelsize=14)\n",
        "ax2.set_xlabel('Min-max scaled word count', fontsize=14)\n",
        "# ax2.set_ylabel('Number of articles', fontsize=14)\n",
        "\n",
        "news_df['standardized'].hist(ax=ax3, bins=100)\n",
        "ax3.tick_params(labelsize=14)\n",
        "ax3.set_xlabel('Standardized word count', fontsize=14)\n",
        "# ax3.set_ylabel('Number of articles', fontsize=14)\n",
        "\n",
        "news_df['l2_normalized'].hist(ax=ax4, bins=100)\n",
        "ax4.tick_params(labelsize=14)\n",
        "ax4.set_xlabel('L2-normalized word count', fontsize=14)\n",
        "# ax4.set_ylabel('Number of articles', fontsize=14)"
      ]
    },
    {
      "cell_type": "markdown",
      "id": "771b78a4",
      "metadata": {
        "id": "771b78a4"
      },
      "source": [
        "##  Task 4. Visualizing the histograms of original and scaled data (the data used in the previous tasks)"
      ]
    },
    {
      "cell_type": "code",
      "execution_count": null,
      "id": "c7c77032",
      "metadata": {
        "colab": {
          "base_uri": "https://localhost:8080/"
        },
        "id": "c7c77032",
        "outputId": "cb8da129-bcaa-4029-8e54-6aecc719b4e1"
      },
      "outputs": [
        {
          "output_type": "execute_result",
          "data": {
            "text/plain": [
              "array([0.00489396, 0.00978793, 0.06362153, 0.00489396, 0.        ,\n",
              "       0.02936378, 0.00652529, 0.2903752 , 0.0228385 , 0.00163132,\n",
              "       0.7634584 , 0.1141925 , 0.06362153, 0.0228385 , 0.04730832,\n",
              "       0.00652529, 0.00815661, 0.16639478, 0.20065253, 0.00163132,\n",
              "       0.00815661, 0.        , 0.00163132, 0.00489396, 0.00815661,\n",
              "       0.01794454, 0.47145188, 0.        , 0.06362153, 0.00815661,\n",
              "       0.00652529, 0.00163132, 0.01468189, 0.59706362, 0.00652529,\n",
              "       0.00489396, 0.        , 0.00163132, 0.08809135, 0.10603589,\n",
              "       0.10114192, 0.00163132, 0.00163132, 0.00652529, 0.01794454,\n",
              "       0.08972268, 0.10929853, 0.01957586, 0.18760196, 0.04404568,\n",
              "       0.00163132, 0.00815661, 0.16476346, 0.00326264, 0.        ,\n",
              "       0.09624796, 0.07177814, 0.2137031 , 0.00489396, 0.00163132,\n",
              "       0.01794454, 0.05057096, 0.00326264, 0.06525285, 0.00163132,\n",
              "       0.04241436, 0.07014682, 0.61174551, 0.00489396, 0.00163132,\n",
              "       0.05383361, 0.64926591, 0.01957586, 0.59380098, 0.11908646,\n",
              "       0.00652529, 0.00489396, 0.03262643, 0.00489396, 0.00326264,\n",
              "       0.00815661, 0.00652529, 0.03752039, 0.06199021, 0.24959217,\n",
              "       0.00326264, 0.18760196, 0.03915171, 0.00326264, 0.18597064,\n",
              "       0.10440457, 0.13539967, 0.57748777, 0.09461664, 0.95269168,\n",
              "       0.01468189, 0.14681892, 0.12398042, 0.00163132, 0.01305057,\n",
              "       0.01305057, 0.0228385 , 0.00326264, 0.04404568, 0.00652529,\n",
              "       0.        , 0.00163132, 0.00326264, 0.00489396, 0.05709625,\n",
              "       0.01468189, 0.00652529, 0.00489396, 0.04404568, 0.00326264,\n",
              "       0.00326264, 0.00652529, 0.        , 0.        , 0.00815661,\n",
              "       0.24959217, 0.00652529, 0.06688418, 0.05383361, 0.07504078,\n",
              "       0.00978793, 0.        , 0.01468189, 0.        , 0.00489396,\n",
              "       0.44371941, 0.32626427, 0.00978793, 0.00815661, 0.09298532,\n",
              "       0.00978793, 0.14681892, 0.00489396, 0.01305057, 0.00163132,\n",
              "       0.00326264, 0.01141925, 0.00815661, 0.00978793, 0.65089723,\n",
              "       0.05057096, 0.02610114, 0.31484502, 0.13539967, 0.05383361,\n",
              "       0.01957586, 0.51549755, 0.03915171, 0.36052202, 0.02773246,\n",
              "       0.15823817, 0.00489396, 0.        , 0.00489396, 0.00978793,\n",
              "       0.00326264, 0.00163132, 0.04893964, 0.01141925, 0.13213703,\n",
              "       0.00489396, 0.00326264, 0.03425775, 0.05872757, 0.07993475,\n",
              "       0.00163132, 0.        , 0.27569331, 0.        , 0.52528548,\n",
              "       0.01141925, 0.        , 0.00489396, 0.00163132, 0.20717781,\n",
              "       0.18433931, 0.00652529, 0.00978793, 0.06035889, 0.00326264,\n",
              "       0.00489396, 0.04730832, 0.08972268, 0.16313214, 0.00978793,\n",
              "       0.        , 0.03588907, 0.24469821, 0.00326264, 0.        ,\n",
              "       1.        , 0.01468189, 0.0995106 , 0.        , 0.06688418,\n",
              "       0.02446982, 0.00163132, 0.00326264, 0.00163132, 0.04404568,\n",
              "       0.00489396])"
            ]
          },
          "metadata": {},
          "execution_count": 35
        }
      ],
      "source": [
        "# write your code here\n",
        "\n",
        "#updated_df['counts']\n",
        "# Min-max scaling\n",
        "updated_df['minmax'] = preproc.minmax_scale(updated_df['counts'])\n",
        "updated_df['minmax'].values"
      ]
    },
    {
      "cell_type": "code",
      "source": [
        "# Standardization\n",
        "updated_df['standardized'] = preproc.StandardScaler().fit_transform(updated_df[['counts']])\n",
        "updated_df['standardized'].values"
      ],
      "metadata": {
        "colab": {
          "base_uri": "https://localhost:8080/"
        },
        "id": "sUPF0yg5v5yZ",
        "outputId": "6e157d56-f118-4899-992f-f1174cf87ff0"
      },
      "id": "sUPF0yg5v5yZ",
      "execution_count": null,
      "outputs": [
        {
          "output_type": "execute_result",
          "data": {
            "text/plain": [
              "array([-0.48070881, -0.45116351, -0.12616515, -0.48070881, -0.51025412,\n",
              "       -0.33298229, -0.47086038,  1.24276734, -0.37237603, -0.50040568,\n",
              "        4.09881354,  0.17913634, -0.12616515, -0.37237603, -0.2246495 ,\n",
              "       -0.47086038, -0.46101194,  0.49428627,  0.70110341, -0.50040568,\n",
              "       -0.46101194, -0.51025412, -0.50040568, -0.48070881, -0.46101194,\n",
              "       -0.40192133,  2.33594364, -0.51025412, -0.12616515, -0.46101194,\n",
              "       -0.47086038, -0.50040568, -0.4216182 ,  3.09427315, -0.47086038,\n",
              "       -0.48070881, -0.51025412, -0.50040568,  0.02156138,  0.12989417,\n",
              "        0.10034886, -0.50040568, -0.50040568, -0.47086038, -0.40192133,\n",
              "        0.03140982,  0.14959104, -0.3920729 ,  0.62231593, -0.24434637,\n",
              "       -0.50040568, -0.46101194,  0.48443783, -0.49055725, -0.51025412,\n",
              "        0.07080356, -0.07692297,  0.77989089, -0.48070881, -0.50040568,\n",
              "       -0.40192133, -0.20495263, -0.49055725, -0.11631671, -0.50040568,\n",
              "       -0.2541948 , -0.08677141,  3.18290907, -0.48070881, -0.50040568,\n",
              "       -0.18525576,  3.40942308, -0.3920729 ,  3.07457628,  0.20868165,\n",
              "       -0.47086038, -0.48070881, -0.31328542, -0.48070881, -0.49055725,\n",
              "       -0.46101194, -0.47086038, -0.28374011, -0.13601358,  0.99655646,\n",
              "       -0.49055725,  0.62231593, -0.27389168, -0.49055725,  0.61246749,\n",
              "        0.12004573,  0.307166  ,  2.97609193,  0.06095512,  5.24123202,\n",
              "       -0.4216182 ,  0.37610505,  0.23822695, -0.50040568, -0.43146664,\n",
              "       -0.43146664, -0.37237603, -0.49055725, -0.24434637, -0.47086038,\n",
              "       -0.51025412, -0.50040568, -0.49055725, -0.48070881, -0.16555889,\n",
              "       -0.4216182 , -0.47086038, -0.48070881, -0.24434637, -0.49055725,\n",
              "       -0.49055725, -0.47086038, -0.51025412, -0.51025412, -0.46101194,\n",
              "        0.99655646, -0.47086038, -0.10646828, -0.18525576, -0.0572261 ,\n",
              "       -0.45116351, -0.51025412, -0.4216182 , -0.51025412, -0.48070881,\n",
              "        2.16852025,  1.45943291, -0.45116351, -0.46101194,  0.05110669,\n",
              "       -0.45116351,  0.37610505, -0.48070881, -0.43146664, -0.50040568,\n",
              "       -0.49055725, -0.44131507, -0.46101194, -0.45116351,  3.41927151,\n",
              "       -0.20495263, -0.35267916,  1.39049387,  0.307166  , -0.18525576,\n",
              "       -0.3920729 ,  2.60185139, -0.27389168,  1.66625005, -0.34283072,\n",
              "        0.44504409, -0.48070881, -0.51025412, -0.48070881, -0.45116351,\n",
              "       -0.49055725, -0.50040568, -0.21480106, -0.44131507,  0.28746913,\n",
              "       -0.48070881, -0.49055725, -0.30343698, -0.15571045, -0.0276808 ,\n",
              "       -0.50040568, -0.51025412,  1.15413142, -0.51025412,  2.66094201,\n",
              "       -0.44131507, -0.51025412, -0.48070881, -0.50040568,  0.74049715,\n",
              "        0.60261905, -0.47086038, -0.45116351, -0.14586202, -0.49055725,\n",
              "       -0.48070881, -0.2246495 ,  0.03140982,  0.4745894 , -0.45116351,\n",
              "       -0.51025412, -0.29358855,  0.96701116, -0.49055725, -0.51025412,\n",
              "        5.52683664, -0.4216182 ,  0.09050043, -0.51025412, -0.10646828,\n",
              "       -0.36252759, -0.50040568, -0.49055725, -0.50040568, -0.24434637,\n",
              "       -0.48070881])"
            ]
          },
          "metadata": {},
          "execution_count": 36
        }
      ]
    },
    {
      "cell_type": "code",
      "source": [
        "# L2-normalization\n",
        "updated_df['l2_normalized'] = preproc.normalize(updated_df[['counts']], axis=0)\n",
        "updated_df['l2_normalized'].values"
      ],
      "metadata": {
        "colab": {
          "base_uri": "https://localhost:8080/"
        },
        "id": "_aW6qrdPv7lo",
        "outputId": "8f73fe81-1ba3-4dcc-aeea-f3370f62971c"
      },
      "id": "_aW6qrdPv7lo",
      "execution_count": null,
      "outputs": [
        {
          "output_type": "execute_result",
          "data": {
            "text/plain": [
              "array([0.00303148, 0.00485037, 0.02485814, 0.00303148, 0.00121259,\n",
              "       0.01212592, 0.00363778, 0.10913331, 0.00970074, 0.00181889,\n",
              "       0.28495919, 0.04365332, 0.02485814, 0.00970074, 0.01879518,\n",
              "       0.00363778, 0.00424407, 0.0630548 , 0.07578702, 0.00181889,\n",
              "       0.00424407, 0.00121259, 0.00181889, 0.00303148, 0.00424407,\n",
              "       0.00788185, 0.17643218, 0.00121259, 0.02485814, 0.00424407,\n",
              "       0.00363778, 0.00181889, 0.00666926, 0.22311699, 0.00363778,\n",
              "       0.00303148, 0.00121259, 0.00181889, 0.03395258, 0.04062184,\n",
              "       0.03880295, 0.00181889, 0.00181889, 0.00363778, 0.00788185,\n",
              "       0.03455888, 0.04183443, 0.00848815, 0.07093665, 0.01758259,\n",
              "       0.00181889, 0.00424407, 0.0624485 , 0.00242518, 0.00121259,\n",
              "       0.03698407, 0.02788962, 0.08063739, 0.00303148, 0.00181889,\n",
              "       0.00788185, 0.02000777, 0.00242518, 0.02546444, 0.00181889,\n",
              "       0.01697629, 0.02728333, 0.22857365, 0.00303148, 0.00181889,\n",
              "       0.02122037, 0.24251846, 0.00848815, 0.22190439, 0.04547221,\n",
              "       0.00363778, 0.00303148, 0.01333852, 0.00303148, 0.00242518,\n",
              "       0.00424407, 0.00363778, 0.0151574 , 0.02425185, 0.0939759 ,\n",
              "       0.00242518, 0.07093665, 0.0157637 , 0.00242518, 0.07033035,\n",
              "       0.04001555, 0.05153517, 0.21584143, 0.03637777, 0.35528955,\n",
              "       0.00666926, 0.05577925, 0.0472911 , 0.00181889, 0.00606296,\n",
              "       0.00606296, 0.00970074, 0.00242518, 0.01758259, 0.00363778,\n",
              "       0.00121259, 0.00181889, 0.00242518, 0.00303148, 0.02243296,\n",
              "       0.00666926, 0.00363778, 0.00303148, 0.01758259, 0.00242518,\n",
              "       0.00242518, 0.00363778, 0.00121259, 0.00121259, 0.00424407,\n",
              "       0.0939759 , 0.00363778, 0.02607073, 0.02122037, 0.02910222,\n",
              "       0.00485037, 0.00121259, 0.00666926, 0.00121259, 0.00303148,\n",
              "       0.16612515, 0.12247182, 0.00485037, 0.00424407, 0.03577147,\n",
              "       0.00485037, 0.05577925, 0.00303148, 0.00606296, 0.00181889,\n",
              "       0.00242518, 0.00545667, 0.00424407, 0.00485037, 0.24312476,\n",
              "       0.02000777, 0.01091333, 0.11822775, 0.05153517, 0.02122037,\n",
              "       0.00848815, 0.19280218, 0.0157637 , 0.13520404, 0.01151963,\n",
              "       0.06002332, 0.00303148, 0.00121259, 0.00303148, 0.00485037,\n",
              "       0.00242518, 0.00181889, 0.01940148, 0.00545667, 0.05032258,\n",
              "       0.00303148, 0.00242518, 0.01394481, 0.02303925, 0.0309211 ,\n",
              "       0.00181889, 0.00121259, 0.10367664, 0.00121259, 0.19643995,\n",
              "       0.00545667, 0.00121259, 0.00303148, 0.00181889, 0.0782122 ,\n",
              "       0.06972406, 0.00363778, 0.00485037, 0.02364555, 0.00242518,\n",
              "       0.00303148, 0.01879518, 0.03455888, 0.06184221, 0.00485037,\n",
              "       0.00121259, 0.01455111, 0.09215702, 0.00242518, 0.00121259,\n",
              "       0.37287214, 0.00666926, 0.03819666, 0.00121259, 0.02607073,\n",
              "       0.01030703, 0.00181889, 0.00242518, 0.00181889, 0.01758259,\n",
              "       0.00303148])"
            ]
          },
          "metadata": {},
          "execution_count": 37
        }
      ]
    },
    {
      "cell_type": "code",
      "source": [
        "fig, (ax1, ax2, ax3, ax4) = plt.subplots(4,1, figsize=(8, 7))\n",
        "fig.tight_layout(h_pad=2.0)\n",
        "\n",
        "updated_df['counts'].hist(ax=ax1, bins=100)\n",
        "ax1.tick_params(labelsize=14)\n",
        "ax1.set_xlabel('Athlete Count', fontsize=14)\n",
        "ax1.set_ylabel('Country Count', fontsize=14)\n",
        "\n",
        "updated_df['minmax'].hist(ax=ax2, bins=100)\n",
        "ax2.tick_params(labelsize=14)\n",
        "ax2.set_xlabel('Min-max scaled Athlete count', fontsize=14)\n",
        "# ax2.set_ylabel('Country Count', fontsize=14)\n",
        "\n",
        "updated_df['standardized'].hist(ax=ax3, bins=100)\n",
        "ax3.tick_params(labelsize=14)\n",
        "ax3.set_xlabel('Standardized Athlete count', fontsize=14)\n",
        "# ax3.set_ylabel('Country Count', fontsize=14)\n",
        "\n",
        "updated_df['l2_normalized'].hist(ax=ax4, bins=100)\n",
        "ax4.tick_params(labelsize=14)\n",
        "ax4.set_xlabel('L2-normalized Athlete count', fontsize=14)\n",
        "# ax4.set_ylabel('Country Count', fontsize=14)"
      ],
      "metadata": {
        "colab": {
          "base_uri": "https://localhost:8080/",
          "height": 746
        },
        "id": "0R9-8Hehv9cP",
        "outputId": "785741fd-a65c-46b0-9d7e-040feb677522"
      },
      "id": "0R9-8Hehv9cP",
      "execution_count": null,
      "outputs": [
        {
          "output_type": "execute_result",
          "data": {
            "text/plain": [
              "Text(0.5, 43.249999999999986, 'L2-normalized Athlete count')"
            ]
          },
          "metadata": {},
          "execution_count": 38
        },
        {
          "output_type": "display_data",
          "data": {
            "text/plain": [
              "<Figure size 800x700 with 4 Axes>"
            ],
            "image/png": "[encoded data removed]"
          },
          "metadata": {}
        }
      ]
    },
    {
      "cell_type": "markdown",
      "id": "0e00f7eb",
      "metadata": {
        "id": "0e00f7eb"
      },
      "source": [
        "## Question 3. Comparing the four histograms, listing the similarities and differences between them."
      ]
    },
    {
      "cell_type": "markdown",
      "id": "f081331a",
      "metadata": {
        "id": "f081331a"
      },
      "source": [
        "**Answer to Q3**: type your answer here"
      ]
    },
    {
      "cell_type": "markdown",
      "id": "001aa247",
      "metadata": {
        "id": "001aa247"
      },
      "source": [
        "---\n"
      ]
    },
    {
      "cell_type": "markdown",
      "id": "4fafb554",
      "metadata": {
        "id": "4fafb554"
      },
      "source": [
        "## Question 4. Comparing the histograms of feature scaling and the histograms of transforms, listing the main difference between them."
      ]
    },
    {
      "cell_type": "markdown",
      "id": "34f7ee8d",
      "metadata": {
        "id": "34f7ee8d"
      },
      "source": [
        "**Answer to Q4:** type your answer here"
      ]
    },
    {
      "cell_type": "markdown",
      "id": "08eeeec1",
      "metadata": {
        "id": "08eeeec1"
      },
      "source": [
        "---\n"
      ]
    },
    {
      "cell_type": "markdown",
      "id": "ecf02e94",
      "metadata": {
        "id": "ecf02e94"
      },
      "source": [
        "## Example of interaction features in prediction"
      ]
    },
    {
      "cell_type": "code",
      "execution_count": null,
      "id": "04bc1b8b",
      "metadata": {
        "id": "04bc1b8b"
      },
      "outputs": [],
      "source": [
        "from sklearn import linear_model\n",
        "from sklearn.model_selection import train_test_split\n",
        "import sklearn.preprocessing as preproc"
      ]
    },
    {
      "cell_type": "code",
      "execution_count": null,
      "id": "e733447d",
      "metadata": {
        "colab": {
          "base_uri": "https://localhost:8080/"
        },
        "id": "e733447d",
        "outputId": "43a24ad7-46bc-4423-b300-d90b5010d6f3"
      },
      "outputs": [
        {
          "output_type": "execute_result",
          "data": {
            "text/plain": [
              "Index(['url', 'timedelta', 'n_tokens_title', 'n_tokens_content',\n",
              "       'n_unique_tokens', 'n_non_stop_words', 'n_non_stop_unique_tokens',\n",
              "       'num_hrefs', 'num_self_hrefs', 'num_imgs', 'num_videos',\n",
              "       'average_token_length', 'num_keywords', 'data_channel_is_lifestyle',\n",
              "       'data_channel_is_entertainment', 'data_channel_is_bus',\n",
              "       'data_channel_is_socmed', 'data_channel_is_tech',\n",
              "       'data_channel_is_world', 'kw_min_min', 'kw_max_min', 'kw_avg_min',\n",
              "       'kw_min_max', 'kw_max_max', 'kw_avg_max', 'kw_min_avg', 'kw_max_avg',\n",
              "       'kw_avg_avg', 'self_reference_min_shares', 'self_reference_max_shares',\n",
              "       'self_reference_avg_sharess', 'weekday_is_monday', 'weekday_is_tuesday',\n",
              "       'weekday_is_wednesday', 'weekday_is_thursday', 'weekday_is_friday',\n",
              "       'weekday_is_saturday', 'weekday_is_sunday', 'is_weekend', 'LDA_00',\n",
              "       'LDA_01', 'LDA_02', 'LDA_03', 'LDA_04', 'global_subjectivity',\n",
              "       'global_sentiment_polarity', 'global_rate_positive_words',\n",
              "       'global_rate_negative_words', 'rate_positive_words',\n",
              "       'rate_negative_words', 'avg_positive_polarity', 'min_positive_polarity',\n",
              "       'max_positive_polarity', 'avg_negative_polarity',\n",
              "       'min_negative_polarity', 'max_negative_polarity', 'title_subjectivity',\n",
              "       'title_sentiment_polarity', 'abs_title_subjectivity',\n",
              "       'abs_title_sentiment_polarity', 'shares', 'minmax', 'standardized',\n",
              "       'l2_normalized'],\n",
              "      dtype='object')"
            ]
          },
          "metadata": {},
          "execution_count": 40
        }
      ],
      "source": [
        "news_df.columns"
      ]
    },
    {
      "cell_type": "code",
      "execution_count": null,
      "id": "e1c3b43e",
      "metadata": {
        "id": "e1c3b43e"
      },
      "outputs": [],
      "source": [
        "features = ['n_tokens_title', 'n_tokens_content', 'n_unique_tokens', 'n_non_stop_words', 'n_non_stop_unique_tokens',\n",
        "            'num_hrefs', 'num_self_hrefs', 'num_imgs', 'num_videos', 'average_token_length', 'num_keywords',\n",
        "            'data_channel_is_lifestyle', 'data_channel_is_entertainment', 'data_channel_is_bus',\n",
        "            'data_channel_is_socmed', 'data_channel_is_tech', 'data_channel_is_world']"
      ]
    },
    {
      "cell_type": "code",
      "execution_count": null,
      "id": "02676cce",
      "metadata": {
        "colab": {
          "base_uri": "https://localhost:8080/"
        },
        "id": "02676cce",
        "outputId": "4a33fd58-a050-433e-e5a1-4ed2dba2a12c"
      },
      "outputs": [
        {
          "output_type": "execute_result",
          "data": {
            "text/plain": [
              "(39644, 17)"
            ]
          },
          "metadata": {},
          "execution_count": 42
        }
      ],
      "source": [
        "X = news_df[features]\n",
        "y = news_df[['shares']]\n",
        "\n",
        "X.shape"
      ]
    },
    {
      "cell_type": "code",
      "execution_count": null,
      "id": "a8087eb9",
      "metadata": {
        "id": "a8087eb9"
      },
      "outputs": [],
      "source": [
        "X2 = preproc.PolynomialFeatures(include_bias=False).fit_transform(X)\n",
        "X1_train, X1_test, X2_train, X2_test, y_train, y_test = train_test_split(X, X2, y, test_size=0.3, random_state=123)"
      ]
    },
    {
      "cell_type": "code",
      "execution_count": null,
      "id": "5d39aa70",
      "metadata": {
        "id": "5d39aa70"
      },
      "outputs": [],
      "source": [
        "def evaluate_feature(X_train, X_test, y_train, y_test):\n",
        "    \"\"\"Fit a linear regression model on the training set and score on the test set\"\"\"\n",
        "    model = linear_model.LinearRegression().fit(X_train, y_train)\n",
        "    r_score = model.score(X_test, y_test)\n",
        "    return (model, r_score)"
      ]
    },
    {
      "cell_type": "code",
      "execution_count": null,
      "id": "2b1ce61d",
      "metadata": {
        "colab": {
          "base_uri": "https://localhost:8080/"
        },
        "id": "2b1ce61d",
        "outputId": "07e847ef-1c17-4c07-de8a-925d4efcc86b"
      },
      "outputs": [
        {
          "output_type": "stream",
          "name": "stdout",
          "text": [
            "R-squared score with singleton features: 0.00924\n",
            "R-squared score with pairwise features: 0.0113156994\n"
          ]
        }
      ],
      "source": [
        "(m1, r1) = evaluate_feature(X1_train, X1_test, y_train, y_test)\n",
        "print(\"R-squared score with singleton features: %0.5f\" % r1)\n",
        "\n",
        "(m2, r2) = evaluate_feature(X2_train, X2_test, y_train, y_test)\n",
        "print(\"R-squared score with pairwise features: %0.10f\" % r2)"
      ]
    },
    {
      "cell_type": "markdown",
      "id": "63e342c8",
      "metadata": {
        "id": "63e342c8"
      },
      "source": [
        "## Task 5. Interaction features in prediction with dry bean dataset\n",
        "**Dry bean dataset**: https://archive.ics.uci.edu/ml/machine-learning-databases/00602/DryBeanDataset.zip"
      ]
    },
    {
      "cell_type": "markdown",
      "id": "dcbd1011",
      "metadata": {
        "id": "dcbd1011"
      },
      "source": [
        "**note:** Try to encode categorical data into numeric data (the last column 'class') first.\n",
        "Then apply the interation features and compare the r-squared scores of the singleton features and the interaction features"
      ]
    },
    {
      "cell_type": "code",
      "execution_count": null,
      "id": "7a24ecbf",
      "metadata": {
        "colab": {
          "base_uri": "https://localhost:8080/",
          "height": 270
        },
        "id": "7a24ecbf",
        "outputId": "a9cc0c15-f276-4cb1-ccd5-c2e3f0308dd5"
      },
      "outputs": [
        {
          "output_type": "execute_result",
          "data": {
            "text/plain": [
              "    Area  Perimeter  MajorAxisLength  MinorAxisLength  AspectRation  \\\n",
              "0  28395    610.291       208.178117       173.888747      1.197191   \n",
              "1  28734    638.018       200.524796       182.734419      1.097356   \n",
              "2  29380    624.110       212.826130       175.931143      1.209713   \n",
              "3  30008    645.884       210.557999       182.516516      1.153638   \n",
              "4  30140    620.134       201.847882       190.279279      1.060798   \n",
              "\n",
              "   Eccentricity  ConvexArea  EquivDiameter    Extent  Solidity  roundness  \\\n",
              "0      0.549812       28715     190.141097  0.763923  0.988856   0.958027   \n",
              "1      0.411785       29172     191.272750  0.783968  0.984986   0.887034   \n",
              "2      0.562727       29690     193.410904  0.778113  0.989559   0.947849   \n",
              "3      0.498616       30724     195.467062  0.782681  0.976696   0.903936   \n",
              "4      0.333680       30417     195.896503  0.773098  0.990893   0.984877   \n",
              "\n",
              "   Compactness  ShapeFactor1  ShapeFactor2  ShapeFactor3  ShapeFactor4  Class  \n",
              "0     0.913358      0.007332      0.003147      0.834222      0.998724  SEKER  \n",
              "1     0.953861      0.006979      0.003564      0.909851      0.998430  SEKER  \n",
              "2     0.908774      0.007244      0.003048      0.825871      0.999066  SEKER  \n",
              "3     0.928329      0.007017      0.003215      0.861794      0.994199  SEKER  \n",
              "4     0.970516      0.006697      0.003665      0.941900      0.999166  SEKER  "
            ],
            "text/html": [
              "\n",
              "  <div id=\"df-f7e465a1-0c58-4939-a76e-d218384457eb\">\n",
              "    <div class=\"colab-df-container\">\n",
              "      <div>\n",
              "<style scoped>\n",
              "    .dataframe tbody tr th:only-of-type {\n",
              "        vertical-align: middle;\n",
              "    }\n",
              "\n",
              "    .dataframe tbody tr th {\n",
              "        vertical-align: top;\n",
              "    }\n",
              "\n",
              "    .dataframe thead th {\n",
              "        text-align: right;\n",
              "    }\n",
              "</style>\n",
              "<table border=\"1\" class=\"dataframe\">\n",
              "  <thead>\n",
              "    <tr style=\"text-align: right;\">\n",
              "      <th></th>\n",
              "      <th>Area</th>\n",
              "      <th>Perimeter</th>\n",
              "      <th>MajorAxisLength</th>\n",
              "      <th>MinorAxisLength</th>\n",
              "      <th>AspectRation</th>\n",
              "      <th>Eccentricity</th>\n",
              "      <th>ConvexArea</th>\n",
              "      <th>EquivDiameter</th>\n",
              "      <th>Extent</th>\n",
              "      <th>Solidity</th>\n",
              "      <th>roundness</th>\n",
              "      <th>Compactness</th>\n",
              "      <th>ShapeFactor1</th>\n",
              "      <th>ShapeFactor2</th>\n",
              "      <th>ShapeFactor3</th>\n",
              "      <th>ShapeFactor4</th>\n",
              "      <th>Class</th>\n",
              "    </tr>\n",
              "  </thead>\n",
              "  <tbody>\n",
              "    <tr>\n",
              "      <th>0</th>\n",
              "      <td>28395</td>\n",
              "      <td>610.291</td>\n",
              "      <td>208.178117</td>\n",
              "      <td>173.888747</td>\n",
              "      <td>1.197191</td>\n",
              "      <td>0.549812</td>\n",
              "      <td>28715</td>\n",
              "      <td>190.141097</td>\n",
              "      <td>0.763923</td>\n",
              "      <td>0.988856</td>\n",
              "      <td>0.958027</td>\n",
              "      <td>0.913358</td>\n",
              "      <td>0.007332</td>\n",
              "      <td>0.003147</td>\n",
              "      <td>0.834222</td>\n",
              "      <td>0.998724</td>\n",
              "      <td>SEKER</td>\n",
              "    </tr>\n",
              "    <tr>\n",
              "      <th>1</th>\n",
              "      <td>28734</td>\n",
              "      <td>638.018</td>\n",
              "      <td>200.524796</td>\n",
              "      <td>182.734419</td>\n",
              "      <td>1.097356</td>\n",
              "      <td>0.411785</td>\n",
              "      <td>29172</td>\n",
              "      <td>191.272750</td>\n",
              "      <td>0.783968</td>\n",
              "      <td>0.984986</td>\n",
              "      <td>0.887034</td>\n",
              "      <td>0.953861</td>\n",
              "      <td>0.006979</td>\n",
              "      <td>0.003564</td>\n",
              "      <td>0.909851</td>\n",
              "      <td>0.998430</td>\n",
              "      <td>SEKER</td>\n",
              "    </tr>\n",
              "    <tr>\n",
              "      <th>2</th>\n",
              "      <td>29380</td>\n",
              "      <td>624.110</td>\n",
              "      <td>212.826130</td>\n",
              "      <td>175.931143</td>\n",
              "      <td>1.209713</td>\n",
              "      <td>0.562727</td>\n",
              "      <td>29690</td>\n",
              "      <td>193.410904</td>\n",
              "      <td>0.778113</td>\n",
              "      <td>0.989559</td>\n",
              "      <td>0.947849</td>\n",
              "      <td>0.908774</td>\n",
              "      <td>0.007244</td>\n",
              "      <td>0.003048</td>\n",
              "      <td>0.825871</td>\n",
              "      <td>0.999066</td>\n",
              "      <td>SEKER</td>\n",
              "    </tr>\n",
              "    <tr>\n",
              "      <th>3</th>\n",
              "      <td>30008</td>\n",
              "      <td>645.884</td>\n",
              "      <td>210.557999</td>\n",
              "      <td>182.516516</td>\n",
              "      <td>1.153638</td>\n",
              "      <td>0.498616</td>\n",
              "      <td>30724</td>\n",
              "      <td>195.467062</td>\n",
              "      <td>0.782681</td>\n",
              "      <td>0.976696</td>\n",
              "      <td>0.903936</td>\n",
              "      <td>0.928329</td>\n",
              "      <td>0.007017</td>\n",
              "      <td>0.003215</td>\n",
              "      <td>0.861794</td>\n",
              "      <td>0.994199</td>\n",
              "      <td>SEKER</td>\n",
              "    </tr>\n",
              "    <tr>\n",
              "      <th>4</th>\n",
              "      <td>30140</td>\n",
              "      <td>620.134</td>\n",
              "      <td>201.847882</td>\n",
              "      <td>190.279279</td>\n",
              "      <td>1.060798</td>\n",
              "      <td>0.333680</td>\n",
              "      <td>30417</td>\n",
              "      <td>195.896503</td>\n",
              "      <td>0.773098</td>\n",
              "      <td>0.990893</td>\n",
              "      <td>0.984877</td>\n",
              "      <td>0.970516</td>\n",
              "      <td>0.006697</td>\n",
              "      <td>0.003665</td>\n",
              "      <td>0.941900</td>\n",
              "      <td>0.999166</td>\n",
              "      <td>SEKER</td>\n",
              "    </tr>\n",
              "  </tbody>\n",
              "</table>\n",
              "</div>\n",
              "      <button class=\"colab-df-convert\" onclick=\"convertToInteractive('df-f7e465a1-0c58-4939-a76e-d218384457eb')\"\n",
              "              title=\"Convert this dataframe to an interactive table.\"\n",
              "              style=\"display:none;\">\n",
              "        \n",
              "  <svg xmlns=\"http://www.w3.org/2000/svg\" height=\"24px\"viewBox=\"0 0 24 24\"\n",
              "       width=\"24px\">\n",
              "    <path d=\"M0 0h24v24H0V0z\" fill=\"none\"/>\n",
              "    <path d=\"M18.56 5.44l.94 2.06.94-2.06 2.06-.94-2.06-.94-.94-2.06-.94 2.06-2.06.94zm-11 1L8.5 8.5l.94-2.06 2.06-.94-2.06-.94L8.5 2.5l-.94 2.06-2.06.94zm10 10l.94 2.06.94-2.06 2.06-.94-2.06-.94-.94-2.06-.94 2.06-2.06.94z\"/><path d=\"M17.41 7.96l-1.37-1.37c-.4-.4-.92-.59-1.43-.59-.52 0-1.04.2-1.43.59L10.3 9.45l-7.72 7.72c-.78.78-.78 2.05 0 2.83L4 21.41c.39.39.9.59 1.41.59.51 0 1.02-.2 1.41-.59l7.78-7.78 2.81-2.81c.8-.78.8-2.07 0-2.86zM5.41 20L4 18.59l7.72-7.72 1.47 1.35L5.41 20z\"/>\n",
              "  </svg>\n",
              "      </button>\n",
              "      \n",
              "  <style>\n",
              "    .colab-df-container {\n",
              "      display:flex;\n",
              "      flex-wrap:wrap;\n",
              "      gap: 12px;\n",
              "    }\n",
              "\n",
              "    .colab-df-convert {\n",
              "      background-color: #E8F0FE;\n",
              "      border: none;\n",
              "      border-radius: 50%;\n",
              "      cursor: pointer;\n",
              "      display: none;\n",
              "      fill: #1967D2;\n",
              "      height: 32px;\n",
              "      padding: 0 0 0 0;\n",
              "      width: 32px;\n",
              "    }\n",
              "\n",
              "    .colab-df-convert:hover {\n",
              "      background-color: #E2EBFA;\n",
              "      box-shadow: 0px 1px 2px rgba(60, 64, 67, 0.3), 0px 1px 3px 1px rgba(60, 64, 67, 0.15);\n",
              "      fill: #174EA6;\n",
              "    }\n",
              "\n",
              "    [theme=dark] .colab-df-convert {\n",
              "      background-color: #3B4455;\n",
              "      fill: #D2E3FC;\n",
              "    }\n",
              "\n",
              "    [theme=dark] .colab-df-convert:hover {\n",
              "      background-color: #434B5C;\n",
              "      box-shadow: 0px 1px 3px 1px rgba(0, 0, 0, 0.15);\n",
              "      filter: drop-shadow(0px 1px 2px rgba(0, 0, 0, 0.3));\n",
              "      fill: #FFFFFF;\n",
              "    }\n",
              "  </style>\n",
              "\n",
              "      <script>\n",
              "        const buttonEl =\n",
              "          document.querySelector('#df-f7e465a1-0c58-4939-a76e-d218384457eb button.colab-df-convert');\n",
              "        buttonEl.style.display =\n",
              "          google.colab.kernel.accessAllowed ? 'block' : 'none';\n",
              "\n",
              "        async function convertToInteractive(key) {\n",
              "          const element = document.querySelector('#df-f7e465a1-0c58-4939-a76e-d218384457eb');\n",
              "          const dataTable =\n",
              "            await google.colab.kernel.invokeFunction('convertToInteractive',\n",
              "                                                     [key], {});\n",
              "          if (!dataTable) return;\n",
              "\n",
              "          const docLinkHtml = 'Like what you see? Visit the ' +\n",
              "            '<a target=\"_blank\" href=https://colab.research.google.com/notebooks/data_table.ipynb>data table notebook</a>'\n",
              "            + ' to learn more about interactive tables.';\n",
              "          element.innerHTML = '';\n",
              "          dataTable['output_type'] = 'display_data';\n",
              "          await google.colab.output.renderOutput(dataTable, element);\n",
              "          const docLink = document.createElement('div');\n",
              "          docLink.innerHTML = docLinkHtml;\n",
              "          element.appendChild(docLink);\n",
              "        }\n",
              "      </script>\n",
              "    </div>\n",
              "  </div>\n",
              "  "
            ]
          },
          "metadata": {},
          "execution_count": 46
        }
      ],
      "source": [
        "# write your code here\n",
        "\n",
        "drybean_df = pd.read_excel('Dry_Bean_Dataset.xlsx')\n",
        "drybean_df.head()"
      ]
    },
    {
      "cell_type": "code",
      "source": [
        "print(f\"Unique values of Class :: {drybean_df.Class.unique()} \\n\")"
      ],
      "metadata": {
        "colab": {
          "base_uri": "https://localhost:8080/"
        },
        "id": "SHX35Wzcz5E6",
        "outputId": "b67c76e4-eaa6-4df9-fa49-533d05eb6aed"
      },
      "id": "SHX35Wzcz5E6",
      "execution_count": null,
      "outputs": [
        {
          "output_type": "stream",
          "name": "stdout",
          "text": [
            "Unique values of Class :: ['SEKER' 'BARBUNYA' 'BOMBAY' 'CALI' 'HOROZ' 'SIRA' 'DERMASON'] \n",
            "\n"
          ]
        }
      ]
    },
    {
      "cell_type": "code",
      "source": [
        "temp_list = list(drybean_df['Class'].unique())\n",
        "temp_dict = dict(zip(temp_list,range(len(temp_list))))\n",
        "drybean_df['Class_New'] = drybean_df['Class'].map(temp_dict)\n",
        "print(temp_dict)"
      ],
      "metadata": {
        "colab": {
          "base_uri": "https://localhost:8080/"
        },
        "id": "k0xp_o0m0Ex8",
        "outputId": "51e7d6ef-fa79-478b-aa4e-59d1ac5e6917"
      },
      "id": "k0xp_o0m0Ex8",
      "execution_count": null,
      "outputs": [
        {
          "output_type": "stream",
          "name": "stdout",
          "text": [
            "{'SEKER': 0, 'BARBUNYA': 1, 'BOMBAY': 2, 'CALI': 3, 'HOROZ': 4, 'SIRA': 5, 'DERMASON': 6}\n"
          ]
        }
      ]
    },
    {
      "cell_type": "code",
      "source": [
        "drybean_df.head()"
      ],
      "metadata": {
        "colab": {
          "base_uri": "https://localhost:8080/",
          "height": 270
        },
        "id": "Ih6OnXaZ0ulJ",
        "outputId": "2aff999a-18a2-42e1-d01e-5754d3494fd9"
      },
      "id": "Ih6OnXaZ0ulJ",
      "execution_count": null,
      "outputs": [
        {
          "output_type": "execute_result",
          "data": {
            "text/plain": [
              "    Area  Perimeter  MajorAxisLength  MinorAxisLength  AspectRation  \\\n",
              "0  28395    610.291       208.178117       173.888747      1.197191   \n",
              "1  28734    638.018       200.524796       182.734419      1.097356   \n",
              "2  29380    624.110       212.826130       175.931143      1.209713   \n",
              "3  30008    645.884       210.557999       182.516516      1.153638   \n",
              "4  30140    620.134       201.847882       190.279279      1.060798   \n",
              "\n",
              "   Eccentricity  ConvexArea  EquivDiameter    Extent  Solidity  roundness  \\\n",
              "0      0.549812       28715     190.141097  0.763923  0.988856   0.958027   \n",
              "1      0.411785       29172     191.272750  0.783968  0.984986   0.887034   \n",
              "2      0.562727       29690     193.410904  0.778113  0.989559   0.947849   \n",
              "3      0.498616       30724     195.467062  0.782681  0.976696   0.903936   \n",
              "4      0.333680       30417     195.896503  0.773098  0.990893   0.984877   \n",
              "\n",
              "   Compactness  ShapeFactor1  ShapeFactor2  ShapeFactor3  ShapeFactor4  Class  \\\n",
              "0     0.913358      0.007332      0.003147      0.834222      0.998724  SEKER   \n",
              "1     0.953861      0.006979      0.003564      0.909851      0.998430  SEKER   \n",
              "2     0.908774      0.007244      0.003048      0.825871      0.999066  SEKER   \n",
              "3     0.928329      0.007017      0.003215      0.861794      0.994199  SEKER   \n",
              "4     0.970516      0.006697      0.003665      0.941900      0.999166  SEKER   \n",
              "\n",
              "   Class_New  \n",
              "0          0  \n",
              "1          0  \n",
              "2          0  \n",
              "3          0  \n",
              "4          0  "
            ],
            "text/html": [
              "\n",
              "  <div id=\"df-55a97eee-d15e-4080-b637-08bb3fefd587\">\n",
              "    <div class=\"colab-df-container\">\n",
              "      <div>\n",
              "<style scoped>\n",
              "    .dataframe tbody tr th:only-of-type {\n",
              "        vertical-align: middle;\n",
              "    }\n",
              "\n",
              "    .dataframe tbody tr th {\n",
              "        vertical-align: top;\n",
              "    }\n",
              "\n",
              "    .dataframe thead th {\n",
              "        text-align: right;\n",
              "    }\n",
              "</style>\n",
              "<table border=\"1\" class=\"dataframe\">\n",
              "  <thead>\n",
              "    <tr style=\"text-align: right;\">\n",
              "      <th></th>\n",
              "      <th>Area</th>\n",
              "      <th>Perimeter</th>\n",
              "      <th>MajorAxisLength</th>\n",
              "      <th>MinorAxisLength</th>\n",
              "      <th>AspectRation</th>\n",
              "      <th>Eccentricity</th>\n",
              "      <th>ConvexArea</th>\n",
              "      <th>EquivDiameter</th>\n",
              "      <th>Extent</th>\n",
              "      <th>Solidity</th>\n",
              "      <th>roundness</th>\n",
              "      <th>Compactness</th>\n",
              "      <th>ShapeFactor1</th>\n",
              "      <th>ShapeFactor2</th>\n",
              "      <th>ShapeFactor3</th>\n",
              "      <th>ShapeFactor4</th>\n",
              "      <th>Class</th>\n",
              "      <th>Class_New</th>\n",
              "    </tr>\n",
              "  </thead>\n",
              "  <tbody>\n",
              "    <tr>\n",
              "      <th>0</th>\n",
              "      <td>28395</td>\n",
              "      <td>610.291</td>\n",
              "      <td>208.178117</td>\n",
              "      <td>173.888747</td>\n",
              "      <td>1.197191</td>\n",
              "      <td>0.549812</td>\n",
              "      <td>28715</td>\n",
              "      <td>190.141097</td>\n",
              "      <td>0.763923</td>\n",
              "      <td>0.988856</td>\n",
              "      <td>0.958027</td>\n",
              "      <td>0.913358</td>\n",
              "      <td>0.007332</td>\n",
              "      <td>0.003147</td>\n",
              "      <td>0.834222</td>\n",
              "      <td>0.998724</td>\n",
              "      <td>SEKER</td>\n",
              "      <td>0</td>\n",
              "    </tr>\n",
              "    <tr>\n",
              "      <th>1</th>\n",
              "      <td>28734</td>\n",
              "      <td>638.018</td>\n",
              "      <td>200.524796</td>\n",
              "      <td>182.734419</td>\n",
              "      <td>1.097356</td>\n",
              "      <td>0.411785</td>\n",
              "      <td>29172</td>\n",
              "      <td>191.272750</td>\n",
              "      <td>0.783968</td>\n",
              "      <td>0.984986</td>\n",
              "      <td>0.887034</td>\n",
              "      <td>0.953861</td>\n",
              "      <td>0.006979</td>\n",
              "      <td>0.003564</td>\n",
              "      <td>0.909851</td>\n",
              "      <td>0.998430</td>\n",
              "      <td>SEKER</td>\n",
              "      <td>0</td>\n",
              "    </tr>\n",
              "    <tr>\n",
              "      <th>2</th>\n",
              "      <td>29380</td>\n",
              "      <td>624.110</td>\n",
              "      <td>212.826130</td>\n",
              "      <td>175.931143</td>\n",
              "      <td>1.209713</td>\n",
              "      <td>0.562727</td>\n",
              "      <td>29690</td>\n",
              "      <td>193.410904</td>\n",
              "      <td>0.778113</td>\n",
              "      <td>0.989559</td>\n",
              "      <td>0.947849</td>\n",
              "      <td>0.908774</td>\n",
              "      <td>0.007244</td>\n",
              "      <td>0.003048</td>\n",
              "      <td>0.825871</td>\n",
              "      <td>0.999066</td>\n",
              "      <td>SEKER</td>\n",
              "      <td>0</td>\n",
              "    </tr>\n",
              "    <tr>\n",
              "      <th>3</th>\n",
              "      <td>30008</td>\n",
              "      <td>645.884</td>\n",
              "      <td>210.557999</td>\n",
              "      <td>182.516516</td>\n",
              "      <td>1.153638</td>\n",
              "      <td>0.498616</td>\n",
              "      <td>30724</td>\n",
              "      <td>195.467062</td>\n",
              "      <td>0.782681</td>\n",
              "      <td>0.976696</td>\n",
              "      <td>0.903936</td>\n",
              "      <td>0.928329</td>\n",
              "      <td>0.007017</td>\n",
              "      <td>0.003215</td>\n",
              "      <td>0.861794</td>\n",
              "      <td>0.994199</td>\n",
              "      <td>SEKER</td>\n",
              "      <td>0</td>\n",
              "    </tr>\n",
              "    <tr>\n",
              "      <th>4</th>\n",
              "      <td>30140</td>\n",
              "      <td>620.134</td>\n",
              "      <td>201.847882</td>\n",
              "      <td>190.279279</td>\n",
              "      <td>1.060798</td>\n",
              "      <td>0.333680</td>\n",
              "      <td>30417</td>\n",
              "      <td>195.896503</td>\n",
              "      <td>0.773098</td>\n",
              "      <td>0.990893</td>\n",
              "      <td>0.984877</td>\n",
              "      <td>0.970516</td>\n",
              "      <td>0.006697</td>\n",
              "      <td>0.003665</td>\n",
              "      <td>0.941900</td>\n",
              "      <td>0.999166</td>\n",
              "      <td>SEKER</td>\n",
              "      <td>0</td>\n",
              "    </tr>\n",
              "  </tbody>\n",
              "</table>\n",
              "</div>\n",
              "      <button class=\"colab-df-convert\" onclick=\"convertToInteractive('df-55a97eee-d15e-4080-b637-08bb3fefd587')\"\n",
              "              title=\"Convert this dataframe to an interactive table.\"\n",
              "              style=\"display:none;\">\n",
              "        \n",
              "  <svg xmlns=\"http://www.w3.org/2000/svg\" height=\"24px\"viewBox=\"0 0 24 24\"\n",
              "       width=\"24px\">\n",
              "    <path d=\"M0 0h24v24H0V0z\" fill=\"none\"/>\n",
              "    <path d=\"M18.56 5.44l.94 2.06.94-2.06 2.06-.94-2.06-.94-.94-2.06-.94 2.06-2.06.94zm-11 1L8.5 8.5l.94-2.06 2.06-.94-2.06-.94L8.5 2.5l-.94 2.06-2.06.94zm10 10l.94 2.06.94-2.06 2.06-.94-2.06-.94-.94-2.06-.94 2.06-2.06.94z\"/><path d=\"M17.41 7.96l-1.37-1.37c-.4-.4-.92-.59-1.43-.59-.52 0-1.04.2-1.43.59L10.3 9.45l-7.72 7.72c-.78.78-.78 2.05 0 2.83L4 21.41c.39.39.9.59 1.41.59.51 0 1.02-.2 1.41-.59l7.78-7.78 2.81-2.81c.8-.78.8-2.07 0-2.86zM5.41 20L4 18.59l7.72-7.72 1.47 1.35L5.41 20z\"/>\n",
              "  </svg>\n",
              "      </button>\n",
              "      \n",
              "  <style>\n",
              "    .colab-df-container {\n",
              "      display:flex;\n",
              "      flex-wrap:wrap;\n",
              "      gap: 12px;\n",
              "    }\n",
              "\n",
              "    .colab-df-convert {\n",
              "      background-color: #E8F0FE;\n",
              "      border: none;\n",
              "      border-radius: 50%;\n",
              "      cursor: pointer;\n",
              "      display: none;\n",
              "      fill: #1967D2;\n",
              "      height: 32px;\n",
              "      padding: 0 0 0 0;\n",
              "      width: 32px;\n",
              "    }\n",
              "\n",
              "    .colab-df-convert:hover {\n",
              "      background-color: #E2EBFA;\n",
              "      box-shadow: 0px 1px 2px rgba(60, 64, 67, 0.3), 0px 1px 3px 1px rgba(60, 64, 67, 0.15);\n",
              "      fill: #174EA6;\n",
              "    }\n",
              "\n",
              "    [theme=dark] .colab-df-convert {\n",
              "      background-color: #3B4455;\n",
              "      fill: #D2E3FC;\n",
              "    }\n",
              "\n",
              "    [theme=dark] .colab-df-convert:hover {\n",
              "      background-color: #434B5C;\n",
              "      box-shadow: 0px 1px 3px 1px rgba(0, 0, 0, 0.15);\n",
              "      filter: drop-shadow(0px 1px 2px rgba(0, 0, 0, 0.3));\n",
              "      fill: #FFFFFF;\n",
              "    }\n",
              "  </style>\n",
              "\n",
              "      <script>\n",
              "        const buttonEl =\n",
              "          document.querySelector('#df-55a97eee-d15e-4080-b637-08bb3fefd587 button.colab-df-convert');\n",
              "        buttonEl.style.display =\n",
              "          google.colab.kernel.accessAllowed ? 'block' : 'none';\n",
              "\n",
              "        async function convertToInteractive(key) {\n",
              "          const element = document.querySelector('#df-55a97eee-d15e-4080-b637-08bb3fefd587');\n",
              "          const dataTable =\n",
              "            await google.colab.kernel.invokeFunction('convertToInteractive',\n",
              "                                                     [key], {});\n",
              "          if (!dataTable) return;\n",
              "\n",
              "          const docLinkHtml = 'Like what you see? Visit the ' +\n",
              "            '<a target=\"_blank\" href=https://colab.research.google.com/notebooks/data_table.ipynb>data table notebook</a>'\n",
              "            + ' to learn more about interactive tables.';\n",
              "          element.innerHTML = '';\n",
              "          dataTable['output_type'] = 'display_data';\n",
              "          await google.colab.output.renderOutput(dataTable, element);\n",
              "          const docLink = document.createElement('div');\n",
              "          docLink.innerHTML = docLinkHtml;\n",
              "          element.appendChild(docLink);\n",
              "        }\n",
              "      </script>\n",
              "    </div>\n",
              "  </div>\n",
              "  "
            ]
          },
          "metadata": {},
          "execution_count": 49
        }
      ]
    },
    {
      "cell_type": "code",
      "source": [
        "drybean_df.columns"
      ],
      "metadata": {
        "colab": {
          "base_uri": "https://localhost:8080/"
        },
        "id": "4ggjFMfh01A1",
        "outputId": "8048ced4-a124-443c-dea8-a8993dcacb09"
      },
      "id": "4ggjFMfh01A1",
      "execution_count": null,
      "outputs": [
        {
          "output_type": "execute_result",
          "data": {
            "text/plain": [
              "Index(['Area', 'Perimeter', 'MajorAxisLength', 'MinorAxisLength',\n",
              "       'AspectRation', 'Eccentricity', 'ConvexArea', 'EquivDiameter', 'Extent',\n",
              "       'Solidity', 'roundness', 'Compactness', 'ShapeFactor1', 'ShapeFactor2',\n",
              "       'ShapeFactor3', 'ShapeFactor4', 'Class', 'Class_New'],\n",
              "      dtype='object')"
            ]
          },
          "metadata": {},
          "execution_count": 50
        }
      ]
    },
    {
      "cell_type": "code",
      "source": [
        "features = ['Area', 'Perimeter', 'MajorAxisLength', 'MinorAxisLength',\n",
        "       'AspectRation', 'Eccentricity', 'ConvexArea', 'EquivDiameter', 'Extent',\n",
        "       'Solidity', 'roundness', 'Compactness']\n"
      ],
      "metadata": {
        "id": "YvEoE1t81BFa"
      },
      "id": "YvEoE1t81BFa",
      "execution_count": null,
      "outputs": []
    },
    {
      "cell_type": "code",
      "source": [
        "X = drybean_df[features]\n",
        "y = drybean_df[['Class_New']]\n",
        "\n",
        "X.shape"
      ],
      "metadata": {
        "colab": {
          "base_uri": "https://localhost:8080/"
        },
        "id": "xxagDTq11HeS",
        "outputId": "f2151375-8819-48ae-b5f8-5cf883c501d1"
      },
      "id": "xxagDTq11HeS",
      "execution_count": null,
      "outputs": [
        {
          "output_type": "execute_result",
          "data": {
            "text/plain": [
              "(13611, 12)"
            ]
          },
          "metadata": {},
          "execution_count": 52
        }
      ]
    },
    {
      "cell_type": "code",
      "source": [
        "X2 = preproc.PolynomialFeatures(include_bias=False).fit_transform(X)\n",
        "X1_train, X1_test, X2_train, X2_test, y_train, y_test = train_test_split(X, X2, y, test_size=0.3, random_state=123)"
      ],
      "metadata": {
        "id": "LVqKF6po1QiV"
      },
      "id": "LVqKF6po1QiV",
      "execution_count": null,
      "outputs": []
    },
    {
      "cell_type": "code",
      "source": [
        "(m1, r1) = evaluate_feature(X1_train, X1_test, y_train, y_test)\n",
        "print(\"R-squared score with singleton features: %0.5f\" % r1)\n",
        "\n",
        "(m2, r2) = evaluate_feature(X2_train, X2_test, y_train, y_test)\n",
        "print(\"R-squared score with pairwise features: %0.10f\" % r2)"
      ],
      "metadata": {
        "colab": {
          "base_uri": "https://localhost:8080/"
        },
        "id": "9iW87Cwa1WPQ",
        "outputId": "1c60bfcf-6b53-4309-880c-984db0c74b3f"
      },
      "id": "9iW87Cwa1WPQ",
      "execution_count": null,
      "outputs": [
        {
          "output_type": "stream",
          "name": "stdout",
          "text": [
            "R-squared score with singleton features: 0.72771\n",
            "R-squared score with pairwise features: 0.8240549812\n"
          ]
        }
      ]
    },
    {
      "cell_type": "markdown",
      "id": "ad87f470",
      "metadata": {
        "id": "ad87f470"
      },
      "source": []
    },
    {
      "cell_type": "code",
      "execution_count": null,
      "id": "80242122",
      "metadata": {
        "id": "80242122"
      },
      "outputs": [],
      "source": []
    },
    {
      "cell_type": "code",
      "execution_count": null,
      "id": "77f3ca0f",
      "metadata": {
        "id": "77f3ca0f"
      },
      "outputs": [],
      "source": []
    },
    {
      "cell_type": "code",
      "execution_count": null,
      "id": "67c0f8c7",
      "metadata": {
        "id": "67c0f8c7"
      },
      "outputs": [],
      "source": []
    },
    {
      "cell_type": "code",
      "execution_count": null,
      "id": "1f8bf455",
      "metadata": {
        "id": "1f8bf455"
      },
      "outputs": [],
      "source": []
    }
  ],
  "metadata": {
    "kernelspec": {
      "display_name": "Python 3",
      "language": "python",
      "name": "python3"
    },
    "language_info": {
      "codemirror_mode": {
        "name": "ipython",
        "version": 3
      },
      "file_extension": ".py",
      "mimetype": "text/x-python",
      "name": "python",
      "nbconvert_exporter": "python",
      "pygments_lexer": "ipython3",
      "version": "3.8.8"
    },
    "colab": {
      "provenance": [],
      "include_colab_link": true
    }
  },
  "nbformat": 4,
  "nbformat_minor": 5
}