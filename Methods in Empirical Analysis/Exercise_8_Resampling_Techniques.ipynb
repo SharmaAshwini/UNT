{
  "nbformat": 4,
  "nbformat_minor": 0,
  "metadata": {
    "colab": {
      "provenance": [],
      "include_colab_link": true
    },
    "kernelspec": {
      "name": "python3",
      "display_name": "Python 3"
    },
    "language_info": {
      "name": "python"
    }
  },
  "cells": [
    {
      "cell_type": "markdown",
      "metadata": {
        "id": "view-in-github",
        "colab_type": "text"
      },
      "source": [
        "<a href=\"https://colab.research.google.com/github/SharmaAshwini/UNT/blob/main/Methods%20in%20Empirical%20Analysis/Exercise_8_Resampling_Techniques.ipynb\" target=\"_parent\"><img src=\"https://colab.research.google.com/assets/colab-badge.svg\" alt=\"Open In Colab\"/></a>"
      ]
    },
    {
      "cell_type": "markdown",
      "source": [
        "#**ICE_8**: Resampling Techniques"
      ],
      "metadata": {
        "id": "79XaToGcQjxt"
      }
    },
    {
      "cell_type": "markdown",
      "source": [
        "**INSTRUCTIONS**\n",
        "####Provide your observation/summary for all tutorials and tasks. Marks will be deducted for those who dont write the summary.\n",
        "####Print this file as pdf and submit both pdf and .ipynb file(No screenshots). Not submitting any of these files will impact their grades."
      ],
      "metadata": {
        "id": "rKQwhKM8Qup6"
      }
    },
    {
      "cell_type": "markdown",
      "source": [
        "##Tutorial"
      ],
      "metadata": {
        "id": "wHl5EFQ62sqQ"
      }
    },
    {
      "cell_type": "markdown",
      "source": [
        "###Probability Example"
      ],
      "metadata": {
        "id": "AE58KoZLzcvl"
      }
    },
    {
      "cell_type": "markdown",
      "source": [
        "Here we will review the difference between sampling with and without replacement. We will calculate the probability of an event using simulation.Consider a bowl filled with colored candies - three blue, two green, and five yellow. Draw three candies at random, with replacement and without replacement. You want to know the probability of drawing a yellow candy on the third draw given that the first candy was blue and the second candy was green."
      ],
      "metadata": {
        "id": "S8k6T8fSzguh"
      }
    },
    {
      "cell_type": "code",
      "execution_count": null,
      "metadata": {
        "colab": {
          "base_uri": "https://localhost:8080/"
        },
        "id": "t8rjhKl_zLUK",
        "outputId": "169221b2-f032-4bbc-f356-3ceb917cef31"
      },
      "outputs": [
        {
          "output_type": "stream",
          "name": "stdout",
          "text": [
            "Probability with replacement = 0.0266, without replacement = 0.0415\n"
          ]
        }
      ],
      "source": [
        "import numpy as np\n",
        "np.random.seed(123)\n",
        "\n",
        "# Set up the bowl\n",
        "success_rep, success_no_rep, sims = 0, 0, 10000\n",
        "bowl = ['b', 'b', 'b', 'g', 'g', 'y', 'y', 'y', 'y', 'y']\n",
        "\n",
        "for i in range(sims):\n",
        "    # Sample with and without replacement & increment success counters\n",
        "    sample_rep = np.random.choice(bowl, size=3, replace=True)\n",
        "    sample_no_rep = np.random.choice(bowl, size=3, replace=False)\n",
        "    if (sample_rep[0] == 'b') & (sample_rep[1] == 'g') & (sample_rep[2] == 'y'):\n",
        "        success_rep += 1\n",
        "    if (sample_no_rep[0] == 'b') & (sample_no_rep[1] == 'g') & (sample_no_rep[2] == 'y'):\n",
        "        success_no_rep += 1\n",
        "\n",
        "# Calculate probabilities\n",
        "prob_with_replacement = success_rep / sims\n",
        "prob_without_replacement = success_no_rep / sims\n",
        "print(\"Probability with replacement = {}, without replacement = {}\".format(prob_with_replacement,\n",
        "                                                                           prob_without_replacement))"
      ]
    },
    {
      "cell_type": "markdown",
      "source": [
        "#Task 1:**(20%)**\n"
      ],
      "metadata": {
        "id": "ByI7vbCF1QY3"
      }
    },
    {
      "cell_type": "markdown",
      "source": [
        "####Question 1(a)"
      ],
      "metadata": {
        "id": "fX0Fa7SM11vV"
      }
    },
    {
      "cell_type": "markdown",
      "source": [
        "Calculate the probability using simulation. A box contains 10 white balls, 20 reds and 30 greens. Draw 5 balls with replacement. What is the probability that\n",
        "a. 3 white or 2 red\n",
        "b. All 5 are the same color"
      ],
      "metadata": {
        "id": "Yv1XYJ6w1Vic"
      }
    },
    {
      "cell_type": "code",
      "source": [
        "# Write your code here"
      ],
      "metadata": {
        "id": "QTczt4qc1xNv"
      },
      "execution_count": null,
      "outputs": []
    },
    {
      "cell_type": "code",
      "source": [
        "balls = ['white_ball', 'red_ball', 'green_ball']\n",
        "ball_counts = [10, 20, 30]\n",
        "box = []\n",
        "\n",
        "for ball_count in ball_counts:\n",
        "  for i in range(ball_count):\n",
        "    box.append(balls[ball_counts.index(ball_count)])\n",
        "\n",
        "print(box)"
      ],
      "metadata": {
        "colab": {
          "base_uri": "https://localhost:8080/"
        },
        "id": "8A1IGaBdy3kn",
        "outputId": "5bad1f8c-84ab-4a23-ace5-b3c3c5846e87"
      },
      "execution_count": null,
      "outputs": [
        {
          "output_type": "stream",
          "name": "stdout",
          "text": [
            "['white_ball', 'white_ball', 'white_ball', 'white_ball', 'white_ball', 'white_ball', 'white_ball', 'white_ball', 'white_ball', 'white_ball', 'red_ball', 'red_ball', 'red_ball', 'red_ball', 'red_ball', 'red_ball', 'red_ball', 'red_ball', 'red_ball', 'red_ball', 'red_ball', 'red_ball', 'red_ball', 'red_ball', 'red_ball', 'red_ball', 'red_ball', 'red_ball', 'red_ball', 'red_ball', 'green_ball', 'green_ball', 'green_ball', 'green_ball', 'green_ball', 'green_ball', 'green_ball', 'green_ball', 'green_ball', 'green_ball', 'green_ball', 'green_ball', 'green_ball', 'green_ball', 'green_ball', 'green_ball', 'green_ball', 'green_ball', 'green_ball', 'green_ball', 'green_ball', 'green_ball', 'green_ball', 'green_ball', 'green_ball', 'green_ball', 'green_ball', 'green_ball', 'green_ball', 'green_ball']\n"
          ]
        }
      ]
    },
    {
      "cell_type": "code",
      "source": [
        "from collections import Counter\n",
        "\n",
        "print(Counter(box).keys()) # equals to list(set(words))\n",
        "Counter(box).values() #"
      ],
      "metadata": {
        "colab": {
          "base_uri": "https://localhost:8080/"
        },
        "id": "3FZWViv200YP",
        "outputId": "df2e44bb-468a-4ece-90f6-534d617f0220"
      },
      "execution_count": null,
      "outputs": [
        {
          "output_type": "stream",
          "name": "stdout",
          "text": [
            "dict_keys(['white_ball', 'red_ball', 'green_ball'])\n"
          ]
        },
        {
          "output_type": "execute_result",
          "data": {
            "text/plain": [
              "dict_values([10, 20, 30])"
            ]
          },
          "metadata": {},
          "execution_count": 3
        }
      ]
    },
    {
      "cell_type": "code",
      "source": [
        "import numpy as np\n",
        "np.random.seed(123)\n",
        "\n",
        "# Set up the bowl\n",
        "success_rep_3w2r, success_rep_5same, sims = 0, 0, 10000\n",
        "\n",
        "success_rep_prob1 = 0\n",
        "success_rep_prob2 = 0\n",
        "\n",
        "for i in range(sims):\n",
        "    # Sample with and without replacement & increment success counters\n",
        "    success_rep_3w2r = np.random.choice(box, size=5, replace=True)\n",
        "    dict1 = Counter(success_rep_3w2r)\n",
        "\n",
        "    success_rep_5same = np.random.choice(box, size=5, replace=True)\n",
        "    dict2 = Counter(success_rep_5same)\n",
        "\n",
        "    if (dict1['white_ball'] == 3 & dict1['red_ball'] == 2):\n",
        "        success_rep_prob1 += 1\n",
        "    if (dict2['white_ball'] == 5 or dict2['red_ball'] == 5 or dict2['green_ball'] == 5):\n",
        "        success_rep_prob2 += 1\n",
        "\n",
        "# Calculate probabilities\n",
        "prob_case1 = success_rep_prob1 / sims\n",
        "prob_case2 = success_rep_prob2 / sims\n",
        "\n",
        "print(\"Probability of 3 white or 2 red = {}, Probability all 5 are the same color = {}\".format(prob_case1, prob_case2))"
      ],
      "metadata": {
        "colab": {
          "base_uri": "https://localhost:8080/"
        },
        "id": "xIowMEdcyzVu",
        "outputId": "ac0be658-ac2e-460d-afdf-632a6b1d2b95"
      },
      "execution_count": null,
      "outputs": [
        {
          "output_type": "stream",
          "name": "stdout",
          "text": [
            "Probability of 3 white or 2 red = 0.047, Probability all 5 are the same color = 0.0355\n"
          ]
        }
      ]
    },
    {
      "cell_type": "markdown",
      "source": [
        "####Question 1(b):"
      ],
      "metadata": {
        "id": "nWy1HwgE2fgS"
      }
    },
    {
      "cell_type": "markdown",
      "source": [
        "Two unbiased dice are thrown once and the total score is observed. Use a simulation to find the estimated probability that the total score is even or greater than 7."
      ],
      "metadata": {
        "id": "Eu2q4BdM1zxS"
      }
    },
    {
      "cell_type": "code",
      "source": [
        "#Write your code here"
      ],
      "metadata": {
        "id": "FCaZOzdb2kSX"
      },
      "execution_count": null,
      "outputs": []
    },
    {
      "cell_type": "code",
      "source": [
        "import numpy as np\n",
        "np.random.seed(20)\n",
        "\n",
        "# Set up the bowl\n",
        "success_gt_7_even, sims = 0, 10000\n",
        "\n",
        "\n",
        "for i in range(sims):\n",
        "\n",
        "    dice_1 = np.random.randint(1, 6)\n",
        "    dice_2 = np.random.randint(1, 6)\n",
        "\n",
        "    sum_dice = dice_1 + dice_2\n",
        "\n",
        "    if sum_dice > 7 or sum_dice % 2 == 0:\n",
        "        success_gt_7_even += 1\n",
        "\n",
        "# Calculate probabilities\n",
        "prob_case_gt_even = success_gt_7_even / sims\n",
        "print(\"Estimated probability of the total score is even or greater than 7: {}\".format(prob_case_gt_even))\n"
      ],
      "metadata": {
        "colab": {
          "base_uri": "https://localhost:8080/"
        },
        "id": "BYBJsdCJMf_U",
        "outputId": "a685eea1-fc71-4fdf-eca6-029e28754e49"
      },
      "execution_count": null,
      "outputs": [
        {
          "output_type": "stream",
          "name": "stdout",
          "text": [
            "Estimated probability of the total score is even or greater than 7: 0.5958\n"
          ]
        }
      ]
    },
    {
      "cell_type": "markdown",
      "source": [
        "**Observations:**\n",
        "\n",
        "In this tutorial of resampling, we simulated how to calculate probabilities of an event from a population. In example, we learnt the difference between sampling with and without replacement. Here, the probability of that event was higher without replacement as the population was shrinking after the test.\n",
        "\n",
        "There are 2 questions followed by this tutorial, in the first question we calculated probabilities of 2 different events using replacement technique learnt. In the second question, simulated the dice problem while considering even and sum of values from 2 dice.\n"
      ],
      "metadata": {
        "id": "uXZ2E3MFiTlP"
      }
    },
    {
      "cell_type": "markdown",
      "source": [
        "##Tutorial"
      ],
      "metadata": {
        "id": "KP8EKyDC6Dgh"
      }
    },
    {
      "cell_type": "markdown",
      "source": [
        "###BootStrapping"
      ],
      "metadata": {
        "id": "-qA0BGEo6IA-"
      }
    },
    {
      "cell_type": "code",
      "source": [
        "import glob\n",
        "import matplotlib.pyplot as plt\n",
        "import numpy as np\n",
        "import pandas as pd\n",
        "%matplotlib inline\n",
        "%precision 4\n",
        "plt.style.use('ggplot')"
      ],
      "metadata": {
        "id": "vcfxhvS65cLd"
      },
      "execution_count": null,
      "outputs": []
    },
    {
      "cell_type": "code",
      "source": [
        "# For example, what is the 95% confidence interval for\n",
        "# the mean of this data set if you didn't know how it was generated?\n",
        "\n",
        "x = np.concatenate([np.random.exponential(size=200), np.random.normal(size=100)])\n",
        "plt.hist(x, 25, histtype='step');"
      ],
      "metadata": {
        "colab": {
          "base_uri": "https://localhost:8080/",
          "height": 430
        },
        "id": "wPKYc1Mp5f91",
        "outputId": "6dc93aa8-4df0-4dfc-c803-94607dffc82d"
      },
      "execution_count": null,
      "outputs": [
        {
          "output_type": "display_data",
          "data": {
            "text/plain": [
              "<Figure size 640x480 with 1 Axes>"
            ],
            "image/png": "[encoded data removed]"
          },
          "metadata": {}
        }
      ]
    },
    {
      "cell_type": "code",
      "source": [
        "n = len(x)\n",
        "reps = 10000\n",
        "xb = np.random.choice(x, (n, reps))\n",
        "mb = xb.mean(axis=0)\n",
        "mb.sort()\n",
        "\n",
        "np.percentile(mb, [2.5, 97.5])"
      ],
      "metadata": {
        "colab": {
          "base_uri": "https://localhost:8080/"
        },
        "id": "RRErCrOK5jK8",
        "outputId": "eac131fa-b78c-4ccd-c54e-43d9f7028745"
      },
      "execution_count": null,
      "outputs": [
        {
          "output_type": "execute_result",
          "data": {
            "text/plain": [
              "array([0.438 , 0.6737])"
            ]
          },
          "metadata": {},
          "execution_count": 8
        }
      ]
    },
    {
      "cell_type": "markdown",
      "source": [
        "###Reprise of bootstrap example for Monte Carlo integration"
      ],
      "metadata": {
        "id": "3bSWR1NT6Ojl"
      }
    },
    {
      "cell_type": "code",
      "source": [
        "def f(x):\n",
        "    return x * np.cos(71*x) + np.sin(13*x)"
      ],
      "metadata": {
        "id": "Vfh5qjko5mWa"
      },
      "execution_count": null,
      "outputs": []
    },
    {
      "cell_type": "code",
      "source": [
        "# data sample for integration\n",
        "n = 100\n",
        "x = f(np.random.random(n))"
      ],
      "metadata": {
        "id": "iRzbm24T5rhR"
      },
      "execution_count": null,
      "outputs": []
    },
    {
      "cell_type": "code",
      "source": [
        "# bootstrap MC integration\n",
        "reps = 1000\n",
        "xb = np.random.choice(x, (n, reps), replace=True)\n",
        "yb = 1/np.arange(1, n+1)[:, None] * np.cumsum(xb, axis=0)\n",
        "upper, lower = np.percentile(yb, [2.5, 97.5], axis=1)"
      ],
      "metadata": {
        "id": "o0xqtA5I5spB"
      },
      "execution_count": null,
      "outputs": []
    },
    {
      "cell_type": "code",
      "source": [
        "plt.plot(np.arange(1, n+1)[:, None], yb, c='grey', alpha=0.02)\n",
        "plt.plot(np.arange(1, n+1), yb[:, 0], c='red', linewidth=1)\n",
        "plt.plot(np.arange(1, n+1), upper, 'b', np.arange(1, n+1), lower, 'b');"
      ],
      "metadata": {
        "colab": {
          "base_uri": "https://localhost:8080/",
          "height": 430
        },
        "id": "dFlwmDxF5wHk",
        "outputId": "91500779-d88f-4721-92e9-2035b047eb62"
      },
      "execution_count": null,
      "outputs": [
        {
          "output_type": "display_data",
          "data": {
            "text/plain": [
              "<Figure size 640x480 with 1 Axes>"
            ],
            "image/png": "[encoded data removed]"
          },
          "metadata": {}
        }
      ]
    },
    {
      "cell_type": "markdown",
      "source": [
        "###Write the observations of the above tutorial here.**(5%)**"
      ],
      "metadata": {
        "id": "QmG-jiWw7EB7"
      }
    },
    {
      "cell_type": "markdown",
      "source": [
        "**Observations**\n",
        "\n",
        "Bootstrapping is one of the resampling techniques, which uses with Bootstrapping is one of the resampling techniques, which is used with replacement flow learnt in the last section to estimate the sampling distribution. It basically creates multiple random resamples from the dataset which increases the sample space, helping us to perform statistical measures by analyzing each resample and conclude better.\n",
        "\n",
        "In this tutorial, first we create a dataset using a random number with exponential and normal distribution of some size (200 and 100). A histplot is also created to understand this generated dataset. Then we generate resamples of a certain size 10000 in this case, followed by a statistical measure like mean and finally find the 95% confidence interval for mean of the whole resampled dataset.\n",
        "\n",
        "In the next section of reprise for Monte carlo integration, while generating the sample dataset using 100 random numbers, we estimate definite integrals using a function of sin and cos (mentioned in tutorial). While resampling from this dataset, we are not only generating new samples, but also using cumulative sum from these resamples generated (xb to yb), arranging values from 1 to 100 (sample space=100) on x-axis and respective resampled values from the integral function on y-axis. upper and lower are the values used in plotting the 95% confidence interval.\n"
      ],
      "metadata": {
        "id": "easXdtPCciRa"
      }
    },
    {
      "cell_type": "markdown",
      "source": [
        "###BootStrap Example"
      ],
      "metadata": {
        "id": "l6s36BEZ7NhX"
      }
    },
    {
      "cell_type": "markdown",
      "source": [
        "###Running a Simple BootStrap"
      ],
      "metadata": {
        "id": "KRJr7vIA8sKS"
      }
    },
    {
      "cell_type": "markdown",
      "source": [
        "Suppose you own a factory that produces wrenches. You want to be able to characterize the average length of the wrenches and ensure that they meet some specifications. Your factory produces thousands of wrenches every day, but it's infeasible to measure the length of each wrench. However, you have access to a representative sample of 100 wrenches. Let's use bootstrapping to get the 95% confidence interval (CI) for the average lengths."
      ],
      "metadata": {
        "id": "7r32Xvvf8u0a"
      }
    },
    {
      "cell_type": "code",
      "source": [
        "wrench_lengths = np.array([ 8.9143694 , 10.99734545, 10.2829785 ,  8.49370529,  9.42139975,\n",
        "       11.65143654,  7.57332076,  9.57108737, 11.26593626,  9.1332596 ,\n",
        "        9.32111385,  9.90529103, 11.49138963,  9.361098  ,  9.55601804,\n",
        "        9.56564872, 12.20593008, 12.18678609, 11.0040539 , 10.3861864 ,\n",
        "       10.73736858, 11.49073203,  9.06416613, 11.17582904,  8.74611933,\n",
        "        9.3622485 , 10.9071052 ,  8.5713193 ,  9.85993128,  9.1382451 ,\n",
        "        9.74438063,  7.20141089,  8.2284669 ,  9.30012277, 10.92746243,\n",
        "        9.82636432, 10.00284592, 10.68822271,  9.12046366, 10.28362732,\n",
        "        9.19463348,  8.27233051,  9.60910021, 10.57380586, 10.33858905,\n",
        "        9.98816951, 12.39236527, 10.41291216, 10.97873601, 12.23814334,\n",
        "        8.70591468,  8.96121179, 11.74371223,  9.20193726, 10.02968323,\n",
        "       11.06931597, 10.89070639, 11.75488618, 11.49564414, 11.06939267,\n",
        "        9.22729129, 10.79486267, 10.31427199,  8.67373454, 11.41729905,\n",
        "       10.80723653, 10.04549008,  9.76690794,  8.80169886, 10.19952407,\n",
        "       10.46843912,  9.16884502, 11.16220405,  8.90279695,  7.87689965,\n",
        "       11.03972709,  9.59663396,  9.87397041,  9.16248328,  8.39403724,\n",
        "       11.25523737,  9.31113102, 11.66095249, 10.80730819,  9.68524185,\n",
        "        8.9140976 ,  9.26753801,  8.78747687, 12.08711336, 10.16444123,\n",
        "       11.15020554,  8.73264795, 10.18103513, 11.17786194,  9.66498924,\n",
        "       11.03111446,  8.91543209,  8.63652846, 10.37940061,  9.62082357])"
      ],
      "metadata": {
        "id": "h2vOyGEu83dS"
      },
      "execution_count": null,
      "outputs": []
    },
    {
      "cell_type": "code",
      "source": [
        "np.random.seed(123)\n",
        "\n",
        "# Draw some random sample with replacement and append mean to mean_lengths.\n",
        "mean_lengths, sims = [], 1000\n",
        "for i in range(sims):\n",
        "    temp_sample = np.random.choice(wrench_lengths, replace=True, size=len(wrench_lengths))\n",
        "    sample_mean = np.mean(temp_sample)\n",
        "    mean_lengths.append(sample_mean)\n",
        "\n",
        "# Calculate bootstrapped mean and 95% confidence interval.\n",
        "boot_mean = np.mean(mean_lengths)\n",
        "boot_95_ci = np.percentile(mean_lengths, [2.5, 97.5])\n",
        "print(\"Bootstrapped Mean Length = {}, 95% CI = {}\".format(boot_mean, boot_95_ci))"
      ],
      "metadata": {
        "colab": {
          "base_uri": "https://localhost:8080/"
        },
        "id": "Pexlb2Y-87kK",
        "outputId": "9ba4f716-3986-4c58-cea4-d49edf5a0423"
      },
      "execution_count": null,
      "outputs": [
        {
          "output_type": "stream",
          "name": "stdout",
          "text": [
            "Bootstrapped Mean Length = 10.0270443060217, 95% CI = [ 9.8045 10.2577]\n"
          ]
        }
      ]
    },
    {
      "cell_type": "markdown",
      "source": [
        "##Task 2:**(15%)**"
      ],
      "metadata": {
        "id": "M-O8gttt96VJ"
      }
    },
    {
      "cell_type": "markdown",
      "source": [
        "Calculate the 95% bootstrapped confidence interval for the median value.\n",
        "####data = [7, 9, 10, 10, 12, 14, 15, 16, 16, 17, 19, 20, 21, 21, 23]"
      ],
      "metadata": {
        "id": "Cob3RJKT8_vv"
      }
    },
    {
      "cell_type": "code",
      "source": [
        "np.random.seed(123)\n",
        "\n",
        "\n",
        "data = [7, 9, 10, 10, 12, 14, 15, 16, 16, 17, 19, 20, 21, 21, 23]\n",
        "\n",
        "# Draw some random sample with replacement and append mean to mean_lengths.\n",
        "median_value, sims = [], 1000\n",
        "for i in range(sims):\n",
        "    temp_sample = np.random.choice(data, replace=True, size=len(data))\n",
        "    sample_median = np.median(temp_sample)\n",
        "    median_value.append(sample_median)\n",
        "\n",
        "# Calculate bootstrapped mean for median values and 95% confidence interval.\n",
        "boot_mean = np.mean(median_value)\n",
        "boot_95_ci = np.percentile(median_value, [2.5, 97.5])\n",
        "print(\"Resampled using median value, now calculating statistical measure as mean for the resampled space\")\n",
        "print(\"Bootstrapped mean for median values of data = {}, 95% CI = {}\\n\".format(boot_mean, boot_95_ci))\n",
        "\n",
        "\n",
        "# Calculate bootstrapped median for median values and 95% confidence interval.\n",
        "boot_median = np.median(median_value)\n",
        "boot_95_ci = np.percentile(median_value, [2.5, 97.5])\n",
        "print(\"Resampled using median value, now calculating statistical measure as median for the resampled space\")\n",
        "print(\"Bootstrapped median for median values of data = {}, 95% CI = {}\".format(boot_median, boot_95_ci))"
      ],
      "metadata": {
        "colab": {
          "base_uri": "https://localhost:8080/"
        },
        "id": "5h5Ue99BVE3A",
        "outputId": "2c1e5ee5-7022-41f5-c142-ca39ee6396a7"
      },
      "execution_count": null,
      "outputs": [
        {
          "output_type": "stream",
          "name": "stdout",
          "text": [
            "Resampled using median value, now calculating statistical measure as mean for the resampled space\n",
            "Bootstrapped mean for median values of data = 15.647, 95% CI = [11.95 20.  ]\n",
            "\n",
            "Resampled using median value, now calculating statistical measure as median for the resampled space\n",
            "Bootstrapped median for median values of data = 16.0, 95% CI = [11.95 20.  ]\n"
          ]
        }
      ]
    },
    {
      "cell_type": "markdown",
      "source": [
        "###Tutorial"
      ],
      "metadata": {
        "id": "-JqC0G3vDdKb"
      }
    },
    {
      "cell_type": "markdown",
      "source": [
        "###Leave one out cross validation"
      ],
      "metadata": {
        "id": "kGyB2HZXG8au"
      }
    },
    {
      "cell_type": "markdown",
      "source": [
        "###1. import all the required libraries"
      ],
      "metadata": {
        "id": "gcUPcSrkHlFv"
      }
    },
    {
      "cell_type": "code",
      "source": [
        "from sklearn.model_selection import train_test_split\n",
        "from sklearn.model_selection import LeaveOneOut\n",
        "from sklearn.model_selection import cross_val_score\n",
        "from sklearn.linear_model import LinearRegression\n",
        "from numpy import mean\n",
        "from numpy import absolute\n",
        "from numpy import sqrt\n",
        "import pandas as pd"
      ],
      "metadata": {
        "id": "9w9DIJ6jHCRI"
      },
      "execution_count": null,
      "outputs": []
    },
    {
      "cell_type": "markdown",
      "source": [
        "###2. Create the data"
      ],
      "metadata": {
        "id": "9_aoI932Huw9"
      }
    },
    {
      "cell_type": "code",
      "source": [
        "df = pd.DataFrame({'y': [6, 8, 12, 14, 14, 15, 17, 22, 24, 23],\n",
        "                   'x1': [2, 5, 4, 3, 4, 6, 7, 5, 8, 9],\n",
        "                   'x2': [14, 12, 12, 13, 7, 8, 7, 4, 6, 5]})"
      ],
      "metadata": {
        "id": "asNMSsAWHF2n"
      },
      "execution_count": null,
      "outputs": []
    },
    {
      "cell_type": "markdown",
      "source": [
        "###3. Performing leave one out cross validation to evaluate the performance"
      ],
      "metadata": {
        "id": "RTGXQAh7H-D1"
      }
    },
    {
      "cell_type": "code",
      "source": [
        "#define predictor and response variables\n",
        "X = df[['x1', 'x2']]\n",
        "y = df['y']\n",
        "\n",
        "#define cross-validation method to use\n",
        "cv = LeaveOneOut()\n",
        "\n",
        "#build multiple linear regression model\n",
        "model = LinearRegression()\n",
        "\n",
        "#use LOOCV to evaluate model\n",
        "scores = cross_val_score(model, X, y, scoring='neg_mean_absolute_error',\n",
        "                         cv=cv, n_jobs=-1)\n",
        "\n",
        "#view mean absolute error\n",
        "mean(absolute(scores))"
      ],
      "metadata": {
        "colab": {
          "base_uri": "https://localhost:8080/"
        },
        "id": "Pw-qJofVHJA6",
        "outputId": "dc3d1589-86b8-4e6a-a67a-63ce7461c60f"
      },
      "execution_count": null,
      "outputs": [
        {
          "output_type": "execute_result",
          "data": {
            "text/plain": [
              "3.1461548083469726"
            ]
          },
          "metadata": {},
          "execution_count": 20
        }
      ]
    },
    {
      "cell_type": "markdown",
      "source": [
        "###4. Evaluating the models performance using root mean squared error(RMSE)"
      ],
      "metadata": {
        "id": "PUSUkxOFIysO"
      }
    },
    {
      "cell_type": "code",
      "source": [
        "#define predictor and response variables\n",
        "X = df[['x1', 'x2']]\n",
        "y = df['y']\n",
        "\n",
        "#define cross-validation method to use\n",
        "cv = LeaveOneOut()\n",
        "\n",
        "#build multiple linear regression model\n",
        "model = LinearRegression()\n",
        "\n",
        "#use LOOCV to evaluate model\n",
        "scores = cross_val_score(model, X, y, scoring='neg_mean_squared_error',\n",
        "                         cv=cv, n_jobs=-1)\n",
        "\n",
        "#view RMSE\n",
        "sqrt(mean(absolute(scores)))\n"
      ],
      "metadata": {
        "colab": {
          "base_uri": "https://localhost:8080/"
        },
        "id": "vKnPgWWYHRAt",
        "outputId": "5e8e5408-583f-4ffa-dc5e-e9e74fc59af7"
      },
      "execution_count": null,
      "outputs": [
        {
          "output_type": "execute_result",
          "data": {
            "text/plain": [
              "3.619456476385567"
            ]
          },
          "metadata": {},
          "execution_count": 21
        }
      ]
    },
    {
      "cell_type": "markdown",
      "source": [
        "**Observations:**\n",
        "\n",
        "Cross validation is another resampling technique, mostly used for assessment and hyperparameter tuning for any model. Leave one out cross validation is one of the techniques in CV (like k-fold CV), where we just leave one sample for cross validation. Here we are using the sklearn library for implementing this technique.\n",
        "Created a dummy dataframe where using LinearRegression model with LeaveOneOut() as cross validation scheme. Used mean absolute error and root mean squared error for evaluation purpose.\n"
      ],
      "metadata": {
        "id": "qO6CHDMrtExH"
      }
    },
    {
      "cell_type": "markdown",
      "source": [
        "##Task 3: **(20%)**\n",
        "Create the data of your own. Perform leave one out cross validation (LOOCV) and calculate mean absolute Error and Root mean Squared Error. Also write your analysis in detail."
      ],
      "metadata": {
        "id": "VxAS4hHwJFkl"
      }
    },
    {
      "cell_type": "code",
      "source": [
        "sales_df = pd.DataFrame({'y': [5.5512, 4.2717, 1.168, 1.3583, 3.0814, 5.3392, -53.2856, 65.978, 28.5984, 6.4864, -23.716, 181.9818],\n",
        "                   'x1': [16.448, 11.784, 9.344, 2.89, 9.94, 11.36, 61.96, 149.95, 127.104, 64.864, 32.34, 699.93],\n",
        "                   'x2': [2, 3, 2, 1, 2, 2, 4, 5, 6, 4, 10, 7]})\n",
        "\n",
        "\n",
        "#define predictor and response variables\n",
        "X = sales_df[['x1', 'x2']]\n",
        "y = sales_df['y']\n",
        "\n",
        "#define cross-validation method to use\n",
        "cv = LeaveOneOut()\n",
        "\n",
        "#build multiple linear regression model\n",
        "model = LinearRegression()\n",
        "\n",
        "#use LOOCV to evaluate model\n",
        "scores = cross_val_score(model, X, y, scoring='neg_mean_absolute_error',\n",
        "                         cv=cv, n_jobs=-1)\n",
        "\n",
        "#view mean absolute error\n",
        "print(f'Mean absolute error: {mean(absolute(scores))}')\n",
        "\n",
        "\n",
        "#build multiple linear regression model\n",
        "model = LinearRegression()\n",
        "\n",
        "#use LOOCV to evaluate model\n",
        "scores = cross_val_score(model, X, y, scoring='neg_mean_squared_error',\n",
        "                         cv=cv, n_jobs=-1)\n",
        "\n",
        "#view RMSE\n",
        "print(f'Root mean squared error: {sqrt(mean(absolute(scores)))}')\n"
      ],
      "metadata": {
        "colab": {
          "base_uri": "https://localhost:8080/"
        },
        "id": "zeAJmO5aWU1Y",
        "outputId": "f7932fb0-6435-4e1f-a21e-d82346f1fb68"
      },
      "execution_count": null,
      "outputs": [
        {
          "output_type": "stream",
          "name": "stdout",
          "text": [
            "Mean absolute error: 19.34049149333725\n",
            "Root mean squared error: 33.42363394710746\n"
          ]
        }
      ]
    },
    {
      "cell_type": "markdown",
      "source": [
        "###Tutorial"
      ],
      "metadata": {
        "id": "HbBJJhkKLyvP"
      }
    },
    {
      "cell_type": "markdown",
      "source": [
        "###JackKnife Estimate of Parameters"
      ],
      "metadata": {
        "id": "ArgFaIlaL04u"
      }
    },
    {
      "cell_type": "code",
      "source": [
        "def jackknife(x, func):\n",
        "    \"\"\"Jackknife estimate of the estimator func\"\"\"\n",
        "    n = len(x)\n",
        "    idx = np.arange(n)\n",
        "    return sum(func(x[idx!=i]) for i in range(n))/float(n)"
      ],
      "metadata": {
        "id": "z8jw5LqfLBeZ"
      },
      "execution_count": null,
      "outputs": []
    },
    {
      "cell_type": "code",
      "source": [
        "# Jackknife estimate of standard deviation\n",
        "np.random.seed(20)\n",
        "\n",
        "x = np.random.normal(0, 2, 100)\n",
        "jackknife(x, np.std)"
      ],
      "metadata": {
        "colab": {
          "base_uri": "https://localhost:8080/"
        },
        "id": "w7wEr5lbLHRm",
        "outputId": "6c2394d0-a213-4bcd-dee0-fd171326d286"
      },
      "execution_count": null,
      "outputs": [
        {
          "output_type": "execute_result",
          "data": {
            "text/plain": [
              "2.144945269784631"
            ]
          },
          "metadata": {},
          "execution_count": 24
        }
      ]
    },
    {
      "cell_type": "code",
      "source": [
        "def jackknife_var(x, func):\n",
        "    \"\"\"Jackknife estiamte of the variance of the estimator func.\"\"\"\n",
        "    n = len(x)\n",
        "    idx = np.arange(n)\n",
        "    j_est = jackknife(x, func)\n",
        "    return (n-1)/(n + 0.0) * sum((func(x[idx!=i]) - j_est)**2.0\n",
        "                                    for i in range(n))"
      ],
      "metadata": {
        "id": "JUjWNfpILKNJ"
      },
      "execution_count": null,
      "outputs": []
    },
    {
      "cell_type": "code",
      "source": [
        "# estimate of the variance of an estimator\n",
        "jackknife_var(x, np.std)"
      ],
      "metadata": {
        "colab": {
          "base_uri": "https://localhost:8080/"
        },
        "id": "djWpfKo_LLVX",
        "outputId": "c0c85b91-9ea1-4eae-f56e-a417a7d6874b"
      },
      "execution_count": null,
      "outputs": [
        {
          "output_type": "execute_result",
          "data": {
            "text/plain": [
              "0.021524979137744423"
            ]
          },
          "metadata": {},
          "execution_count": 26
        }
      ]
    },
    {
      "cell_type": "markdown",
      "source": [
        "Observation:\n",
        "\n",
        "Jackknife estimate follows a different approach for resampling. It uses leave one out method and excludes a particular observation while doing the statistical analysis like mean or variance on complete dataset.\n",
        "In this tutorial we learn about estimator function and variance of estimator function.\n",
        "\n",
        "In the first function, we left one variable and calculated standard deviation for rest observations followed by sum and division by number of observations (taking an average).\n",
        "\n",
        "In the second function, we checked the variance on top of the first function.\n"
      ],
      "metadata": {
        "id": "B1vQdlEsvxLZ"
      }
    },
    {
      "cell_type": "markdown",
      "source": [
        "##Example"
      ],
      "metadata": {
        "id": "KODsJKtVMDAV"
      }
    },
    {
      "cell_type": "markdown",
      "source": [
        "####Jackknife confidence interval for the median"
      ],
      "metadata": {
        "id": "6dMQar84MGgu"
      }
    },
    {
      "cell_type": "markdown",
      "source": [
        "In this exercise, we will calculate the jackknife 95% CI for a non-standard estimator. Here, we will look at the median. Keep in mind that the variance of a jackknife estimator is n-1 times the variance of the individual jackknife sample estimates where n is the number of observations in the original sample. Here, you are now estimating the median length of the wrenches along with a 95% CI to ensure that the wrenches are within tolerance.**(Using the data of wrench_lengths provided in the bootstrap example)**"
      ],
      "metadata": {
        "id": "1esrLrB_MN4F"
      }
    },
    {
      "cell_type": "code",
      "source": [
        "np.random.seed(123)\n",
        "\n",
        "# Leave one observation out to get the jackknife sample and store the median length\n",
        "median_lengths = []\n",
        "index = np.arange(n)\n",
        "for i in range(n):\n",
        "    jk_sample = wrench_lengths[index != i]\n",
        "    median_lengths.append(np.median(jk_sample))\n",
        "\n",
        "median_lengths = np.array(median_lengths)\n",
        "\n",
        "# Calculate jackknife estimate and it's variance\n",
        "jk_median_length = np.mean(median_lengths)\n",
        "jk_var = (n-1)*np.var(median_lengths)\n",
        "\n",
        "# Assuming normality, calculate lower and upper 95% confidence intervals\n",
        "jk_lower_ci = jk_median_length - 1.96 * np.sqrt(jk_var)\n",
        "jk_upper_ci = jk_median_length + 1.96 * np.sqrt(jk_var)\n",
        "print(\"Jackknife 95% CI lower = {}, upper = {}\".format(jk_lower_ci, jk_upper_ci))"
      ],
      "metadata": {
        "colab": {
          "base_uri": "https://localhost:8080/"
        },
        "id": "NgXiwq9lMubE",
        "outputId": "a424eef2-82b3-42f3-94fe-bda28e3e8d7f"
      },
      "execution_count": null,
      "outputs": [
        {
          "output_type": "stream",
          "name": "stdout",
          "text": [
            "Jackknife 95% CI lower = 9.138592415216381, upper = 10.754868124783625\n"
          ]
        }
      ]
    },
    {
      "cell_type": "markdown",
      "source": [
        "##Task 4:**(20%)**\n",
        "Basic Jackknife estimation - mean\n",
        "\n"
      ],
      "metadata": {
        "id": "Y3k-CJlrNxAD"
      }
    },
    {
      "cell_type": "markdown",
      "source": [
        "Calculate jackknife estimate for the mean. You own a wrench factory and want to measure the average length of the wrenches to ensure that they meet some specifications. Your factory produces thousands of wrenches every day, but it's infeasible to measure the length of each wrench. However, you have access to a representative sample of 100 wrenches. Let's use jackknife estimation to get the average lengths.**(Use the data of wrench lengths provided in the bootstrap example)**."
      ],
      "metadata": {
        "id": "Jf1gMoyIOB83"
      }
    },
    {
      "cell_type": "code",
      "source": [
        "np.random.seed(123)\n",
        "\n",
        "# Leave one observation out to get the jackknife sample and store the median length\n",
        "mean_lengths = []\n",
        "index = np.arange(n)\n",
        "for i in range(n):\n",
        "    jk_sample = wrench_lengths[index != i]\n",
        "    mean_lengths.append(np.mean(jk_sample))\n",
        "\n",
        "mean_lengths = np.array(mean_lengths)\n",
        "\n",
        "# Calculate jackknife estimate and it's variance\n",
        "jk_mean_length = np.mean(mean_lengths)\n",
        "jk_var = (n-1)*np.var(mean_lengths)\n",
        "\n",
        "# Assuming normality, calculate lower and upper 95% confidence intervals\n",
        "jk_lower_ci = jk_mean_length - 1.96 * np.sqrt(jk_var)\n",
        "jk_upper_ci = jk_mean_length + 1.96 * np.sqrt(jk_var)\n",
        "print(\"Jackknife 95% CI lower = {}, upper = {}\".format(jk_lower_ci, jk_upper_ci))"
      ],
      "metadata": {
        "colab": {
          "base_uri": "https://localhost:8080/"
        },
        "id": "XpS339RmZPIq",
        "outputId": "f3d97996-9dc8-4cbc-90f1-776960405ef3"
      },
      "execution_count": null,
      "outputs": [
        {
          "output_type": "stream",
          "name": "stdout",
          "text": [
            "Jackknife 95% CI lower = 9.804859903949128, upper = 10.24935824425087\n"
          ]
        }
      ]
    },
    {
      "cell_type": "markdown",
      "source": [
        "###Task 5: **(20%)**\n",
        "\n",
        "####Question 5(a):\n",
        "\n",
        "Explain the work flow of resampling in detail. Also write the advantages and drawbacks of resampling.\n",
        "\n",
        "####Question 5(b):\n",
        "What are the types of resampling methods. Explain them."
      ],
      "metadata": {
        "id": "H52pVTZ0OvPq"
      }
    },
    {
      "cell_type": "markdown",
      "source": [
        "**Answer 5(a):**\n",
        "\n",
        "As mentioned in the earlier section, resampling workflow helps to perform statistical analysis over parameters when we have limited observations in the dataset. We create multiple resamples from the original dataset and then perform statistical methods for each sample from this population in order to summarize/predict.\n",
        "\n",
        "In order to understand it better, we can divide the process in certain steps, where we start from data collection i.e. the original dataset. Followed by finalizing an appropriate method which is covered in different sections of this workbook like bootstrapping or cross-validation. Like in bootstrapping we create multiple resamples and add to the original population which increases the size of the dataset and then we can perform the statistical operations on each observation to conclude.\n",
        "\n",
        "We can use different statistical methods like mean, median, standard deviation to summarize and also can use confidence intervals to develop a better understanding (covered in tutorial).\n",
        "\n",
        "Finally, can use this population and understanding for enhancing the model performance and can use different evaluation techniques to measure improvements.\n",
        "\n",
        "\n",
        "**Advantages:**\n",
        "Resampling really comes handy when dealing with biased or unbalanced datasets, for example, a dataset with very few observations in a certain class. Which makes it harder for models to train in that class. A dataset to train models to predict fraudulent subscribers while having very few observations covering fraudulent patterns.\n",
        "\n",
        "Cross validation techniques like k-fold or leave one out helps understand how a model is performing, also helpful for fine tuning model hyperparameters.\n",
        "\n",
        "**Drawbacks:**\n",
        "Some techniques like leave one out cross validation, are computationally intensive as it requires computing N fits, in case N (observations) are more which can make it expensive with growing observation space.\n",
        "\n",
        "Cross validation might lead towards overfitting as well.\n",
        "\n",
        "Choosing a right technique for a given dataset is equally important, for example resampling can help datasets with unbalanced classes, however leave one out can cause serious harms for training and predictions.\n"
      ],
      "metadata": {
        "id": "Gz7zLsBYcuER"
      }
    },
    {
      "cell_type": "markdown",
      "source": [
        "**Answer 5(b):**\n",
        "\n",
        "We have covered a few of the resampling methods in this tutorial like Bootstrapping, Cross validation, and Jackknife estimates.\n",
        "\n",
        "**Bootstrapping** generates resamples from the original datasets with replacement (initial section) and generates a bigger population to perform the statistical measures to analyze and summarize.\n",
        "\n",
        "**Cross validation** like leave one out, helps in better training the model by assessing and validating during the training process. Model can assess performance on unseen data with the help of LOO and can improve by learning coefficients better. Also hyperparameters can be tuned with the help of this technique. For example, tuning L1 or L2 regularization strength.\n",
        "\n",
        "**Jackknife** estimates the parameter importance by using LOO internally. It helps to understand importance of that observation against rest all data points.\n"
      ],
      "metadata": {
        "id": "9lhy5pF7czmj"
      }
    }
  ]
}